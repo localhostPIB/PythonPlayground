{
 "cells": [
  {
   "cell_type": "code",
   "execution_count": 1,
   "id": "c637c50b",
   "metadata": {},
   "outputs": [],
   "source": [
    "import pandas as pd\n",
    "import numpy as np\n",
    "%matplotlib inline"
   ]
  },
  {
   "cell_type": "code",
   "execution_count": 2,
   "id": "9cc830e9",
   "metadata": {},
   "outputs": [],
   "source": [
    "from plotly import __version__"
   ]
  },
  {
   "cell_type": "code",
   "execution_count": 3,
   "id": "b3bd8da3",
   "metadata": {},
   "outputs": [
    {
     "name": "stdout",
     "output_type": "stream",
     "text": [
      "5.9.0\n"
     ]
    }
   ],
   "source": [
    "print(__version__)"
   ]
  },
  {
   "cell_type": "code",
   "execution_count": 4,
   "id": "74461659",
   "metadata": {},
   "outputs": [],
   "source": [
    "from plotly.offline import download_plotlyjs,  init_notebook_mode, plot, iplot"
   ]
  },
  {
   "cell_type": "code",
   "execution_count": 5,
   "id": "044f5a1d",
   "metadata": {},
   "outputs": [],
   "source": [
    "import cufflinks as cf"
   ]
  },
  {
   "cell_type": "code",
   "execution_count": 6,
   "id": "6a9910c8",
   "metadata": {},
   "outputs": [
    {
     "data": {
      "text/html": [
       "        <script type=\"text/javascript\">\n",
       "        window.PlotlyConfig = {MathJaxConfig: 'local'};\n",
       "        if (window.MathJax && window.MathJax.Hub && window.MathJax.Hub.Config) {window.MathJax.Hub.Config({SVG: {font: \"STIX-Web\"}});}\n",
       "        if (typeof require !== 'undefined') {\n",
       "        require.undef(\"plotly\");\n",
       "        requirejs.config({\n",
       "            paths: {\n",
       "                'plotly': ['https://cdn.plot.ly/plotly-2.12.1.min']\n",
       "            }\n",
       "        });\n",
       "        require(['plotly'], function(Plotly) {\n",
       "            window._Plotly = Plotly;\n",
       "        });\n",
       "        }\n",
       "        </script>\n",
       "        "
      ]
     },
     "metadata": {},
     "output_type": "display_data"
    }
   ],
   "source": [
    "init_notebook_mode(connected=True)"
   ]
  },
  {
   "cell_type": "code",
   "execution_count": 7,
   "id": "1391ded4",
   "metadata": {},
   "outputs": [
    {
     "data": {
      "text/html": [
       "        <script type=\"text/javascript\">\n",
       "        window.PlotlyConfig = {MathJaxConfig: 'local'};\n",
       "        if (window.MathJax && window.MathJax.Hub && window.MathJax.Hub.Config) {window.MathJax.Hub.Config({SVG: {font: \"STIX-Web\"}});}\n",
       "        if (typeof require !== 'undefined') {\n",
       "        require.undef(\"plotly\");\n",
       "        requirejs.config({\n",
       "            paths: {\n",
       "                'plotly': ['https://cdn.plot.ly/plotly-2.12.1.min']\n",
       "            }\n",
       "        });\n",
       "        require(['plotly'], function(Plotly) {\n",
       "            window._Plotly = Plotly;\n",
       "        });\n",
       "        }\n",
       "        </script>\n",
       "        "
      ]
     },
     "metadata": {},
     "output_type": "display_data"
    }
   ],
   "source": [
    "cf.go_offline()"
   ]
  },
  {
   "cell_type": "code",
   "execution_count": 8,
   "id": "b841931d",
   "metadata": {},
   "outputs": [],
   "source": [
    "df = pd.DataFrame(np.random.randn(100, 4), columns=\"A B C D\".split())"
   ]
  },
  {
   "cell_type": "code",
   "execution_count": 9,
   "id": "406e9ac8",
   "metadata": {},
   "outputs": [
    {
     "data": {
      "text/html": [
       "<div>\n",
       "<style scoped>\n",
       "    .dataframe tbody tr th:only-of-type {\n",
       "        vertical-align: middle;\n",
       "    }\n",
       "\n",
       "    .dataframe tbody tr th {\n",
       "        vertical-align: top;\n",
       "    }\n",
       "\n",
       "    .dataframe thead th {\n",
       "        text-align: right;\n",
       "    }\n",
       "</style>\n",
       "<table border=\"1\" class=\"dataframe\">\n",
       "  <thead>\n",
       "    <tr style=\"text-align: right;\">\n",
       "      <th></th>\n",
       "      <th>A</th>\n",
       "      <th>B</th>\n",
       "      <th>C</th>\n",
       "      <th>D</th>\n",
       "    </tr>\n",
       "  </thead>\n",
       "  <tbody>\n",
       "    <tr>\n",
       "      <th>0</th>\n",
       "      <td>-0.629400</td>\n",
       "      <td>0.410345</td>\n",
       "      <td>-0.326744</td>\n",
       "      <td>-0.424956</td>\n",
       "    </tr>\n",
       "    <tr>\n",
       "      <th>1</th>\n",
       "      <td>-0.390251</td>\n",
       "      <td>-0.232779</td>\n",
       "      <td>0.402447</td>\n",
       "      <td>0.832527</td>\n",
       "    </tr>\n",
       "    <tr>\n",
       "      <th>2</th>\n",
       "      <td>-0.559170</td>\n",
       "      <td>-0.450861</td>\n",
       "      <td>0.244829</td>\n",
       "      <td>-0.419118</td>\n",
       "    </tr>\n",
       "    <tr>\n",
       "      <th>3</th>\n",
       "      <td>-0.501575</td>\n",
       "      <td>-0.083767</td>\n",
       "      <td>-0.493746</td>\n",
       "      <td>2.129091</td>\n",
       "    </tr>\n",
       "    <tr>\n",
       "      <th>4</th>\n",
       "      <td>-0.602825</td>\n",
       "      <td>0.013872</td>\n",
       "      <td>-1.220145</td>\n",
       "      <td>0.120681</td>\n",
       "    </tr>\n",
       "    <tr>\n",
       "      <th>...</th>\n",
       "      <td>...</td>\n",
       "      <td>...</td>\n",
       "      <td>...</td>\n",
       "      <td>...</td>\n",
       "    </tr>\n",
       "    <tr>\n",
       "      <th>95</th>\n",
       "      <td>-1.218749</td>\n",
       "      <td>-1.133348</td>\n",
       "      <td>0.150425</td>\n",
       "      <td>0.344027</td>\n",
       "    </tr>\n",
       "    <tr>\n",
       "      <th>96</th>\n",
       "      <td>0.025606</td>\n",
       "      <td>-1.287116</td>\n",
       "      <td>-0.659152</td>\n",
       "      <td>-1.152983</td>\n",
       "    </tr>\n",
       "    <tr>\n",
       "      <th>97</th>\n",
       "      <td>-0.657480</td>\n",
       "      <td>1.233322</td>\n",
       "      <td>-2.410161</td>\n",
       "      <td>0.950951</td>\n",
       "    </tr>\n",
       "    <tr>\n",
       "      <th>98</th>\n",
       "      <td>0.044051</td>\n",
       "      <td>0.286373</td>\n",
       "      <td>-0.159636</td>\n",
       "      <td>-1.635666</td>\n",
       "    </tr>\n",
       "    <tr>\n",
       "      <th>99</th>\n",
       "      <td>1.330183</td>\n",
       "      <td>-0.437919</td>\n",
       "      <td>-0.985804</td>\n",
       "      <td>-0.425934</td>\n",
       "    </tr>\n",
       "  </tbody>\n",
       "</table>\n",
       "<p>100 rows × 4 columns</p>\n",
       "</div>"
      ],
      "text/plain": [
       "           A         B         C         D\n",
       "0  -0.629400  0.410345 -0.326744 -0.424956\n",
       "1  -0.390251 -0.232779  0.402447  0.832527\n",
       "2  -0.559170 -0.450861  0.244829 -0.419118\n",
       "3  -0.501575 -0.083767 -0.493746  2.129091\n",
       "4  -0.602825  0.013872 -1.220145  0.120681\n",
       "..       ...       ...       ...       ...\n",
       "95 -1.218749 -1.133348  0.150425  0.344027\n",
       "96  0.025606 -1.287116 -0.659152 -1.152983\n",
       "97 -0.657480  1.233322 -2.410161  0.950951\n",
       "98  0.044051  0.286373 -0.159636 -1.635666\n",
       "99  1.330183 -0.437919 -0.985804 -0.425934\n",
       "\n",
       "[100 rows x 4 columns]"
      ]
     },
     "execution_count": 9,
     "metadata": {},
     "output_type": "execute_result"
    }
   ],
   "source": [
    "df"
   ]
  },
  {
   "cell_type": "code",
   "execution_count": 10,
   "id": "57dfb772",
   "metadata": {},
   "outputs": [
    {
     "data": {
      "text/html": [
       "<div>\n",
       "<style scoped>\n",
       "    .dataframe tbody tr th:only-of-type {\n",
       "        vertical-align: middle;\n",
       "    }\n",
       "\n",
       "    .dataframe tbody tr th {\n",
       "        vertical-align: top;\n",
       "    }\n",
       "\n",
       "    .dataframe thead th {\n",
       "        text-align: right;\n",
       "    }\n",
       "</style>\n",
       "<table border=\"1\" class=\"dataframe\">\n",
       "  <thead>\n",
       "    <tr style=\"text-align: right;\">\n",
       "      <th></th>\n",
       "      <th>A</th>\n",
       "      <th>B</th>\n",
       "      <th>C</th>\n",
       "      <th>D</th>\n",
       "    </tr>\n",
       "  </thead>\n",
       "  <tbody>\n",
       "    <tr>\n",
       "      <th>0</th>\n",
       "      <td>-0.629400</td>\n",
       "      <td>0.410345</td>\n",
       "      <td>-0.326744</td>\n",
       "      <td>-0.424956</td>\n",
       "    </tr>\n",
       "    <tr>\n",
       "      <th>1</th>\n",
       "      <td>-0.390251</td>\n",
       "      <td>-0.232779</td>\n",
       "      <td>0.402447</td>\n",
       "      <td>0.832527</td>\n",
       "    </tr>\n",
       "    <tr>\n",
       "      <th>2</th>\n",
       "      <td>-0.559170</td>\n",
       "      <td>-0.450861</td>\n",
       "      <td>0.244829</td>\n",
       "      <td>-0.419118</td>\n",
       "    </tr>\n",
       "    <tr>\n",
       "      <th>3</th>\n",
       "      <td>-0.501575</td>\n",
       "      <td>-0.083767</td>\n",
       "      <td>-0.493746</td>\n",
       "      <td>2.129091</td>\n",
       "    </tr>\n",
       "    <tr>\n",
       "      <th>4</th>\n",
       "      <td>-0.602825</td>\n",
       "      <td>0.013872</td>\n",
       "      <td>-1.220145</td>\n",
       "      <td>0.120681</td>\n",
       "    </tr>\n",
       "  </tbody>\n",
       "</table>\n",
       "</div>"
      ],
      "text/plain": [
       "          A         B         C         D\n",
       "0 -0.629400  0.410345 -0.326744 -0.424956\n",
       "1 -0.390251 -0.232779  0.402447  0.832527\n",
       "2 -0.559170 -0.450861  0.244829 -0.419118\n",
       "3 -0.501575 -0.083767 -0.493746  2.129091\n",
       "4 -0.602825  0.013872 -1.220145  0.120681"
      ]
     },
     "execution_count": 10,
     "metadata": {},
     "output_type": "execute_result"
    }
   ],
   "source": [
    "df.head()"
   ]
  },
  {
   "cell_type": "code",
   "execution_count": 11,
   "id": "63e59e74",
   "metadata": {},
   "outputs": [],
   "source": [
    "df2 = pd.DataFrame({\"Kategorie\": [\"A\", \"B\", \"C\"], \"Werte\": [32,43, 50]})"
   ]
  },
  {
   "cell_type": "code",
   "execution_count": 12,
   "id": "48435cd7",
   "metadata": {},
   "outputs": [
    {
     "data": {
      "text/html": [
       "<div>\n",
       "<style scoped>\n",
       "    .dataframe tbody tr th:only-of-type {\n",
       "        vertical-align: middle;\n",
       "    }\n",
       "\n",
       "    .dataframe tbody tr th {\n",
       "        vertical-align: top;\n",
       "    }\n",
       "\n",
       "    .dataframe thead th {\n",
       "        text-align: right;\n",
       "    }\n",
       "</style>\n",
       "<table border=\"1\" class=\"dataframe\">\n",
       "  <thead>\n",
       "    <tr style=\"text-align: right;\">\n",
       "      <th></th>\n",
       "      <th>Kategorie</th>\n",
       "      <th>Werte</th>\n",
       "    </tr>\n",
       "  </thead>\n",
       "  <tbody>\n",
       "    <tr>\n",
       "      <th>0</th>\n",
       "      <td>A</td>\n",
       "      <td>32</td>\n",
       "    </tr>\n",
       "    <tr>\n",
       "      <th>1</th>\n",
       "      <td>B</td>\n",
       "      <td>43</td>\n",
       "    </tr>\n",
       "    <tr>\n",
       "      <th>2</th>\n",
       "      <td>C</td>\n",
       "      <td>50</td>\n",
       "    </tr>\n",
       "  </tbody>\n",
       "</table>\n",
       "</div>"
      ],
      "text/plain": [
       "  Kategorie  Werte\n",
       "0         A     32\n",
       "1         B     43\n",
       "2         C     50"
      ]
     },
     "execution_count": 12,
     "metadata": {},
     "output_type": "execute_result"
    }
   ],
   "source": [
    "df2\n"
   ]
  },
  {
   "cell_type": "code",
   "execution_count": 13,
   "id": "fb14b315",
   "metadata": {},
   "outputs": [
    {
     "data": {
      "text/plain": [
       "<AxesSubplot:>"
      ]
     },
     "execution_count": 13,
     "metadata": {},
     "output_type": "execute_result"
    },
    {
     "data": {
      "image/png": "[encoded data removed]",
      "text/plain": [
       "<Figure size 640x480 with 1 Axes>"
      ]
     },
     "metadata": {},
     "output_type": "display_data"
    }
   ],
   "source": [
    "df[[\"A\",\"B\"]].plot()"
   ]
  },
  {
   "cell_type": "code",
   "execution_count": 14,
   "id": "71ec2e2d",
   "metadata": {},
   "outputs": [
    {
     "data": {
      "application/vnd.plotly.v1+json": {
       "config": {
        "linkText": "Export to plot.ly",
        "plotlyServerURL": "https://plot.ly",
        "showLink": true
       },
       "data": [
        {
         "line": {
          "color": "rgba(255, 153, 51, 1.0)",
          "dash": "solid",
          "shape": "linear",
          "width": 1.3
         },
         "mode": "lines",
         "name": "A",
         "text": "",
         "type": "scatter",
         "x": [
          0,
          1,
          2,
          3,
          4,
          5,
          6,
          7,
          8,
          9,
          10,
          11,
          12,
          13,
          14,
          15,
          16,
          17,
          18,
          19,
          20,
          21,
          22,
          23,
          24,
          25,
          26,
          27,
          28,
          29,
          30,
          31,
          32,
          33,
          34,
          35,
          36,
          37,
          38,
          39,
          40,
          41,
          42,
          43,
          44,
          45,
          46,
          47,
          48,
          49,
          50,
          51,
          52,
          53,
          54,
          55,
          56,
          57,
          58,
          59,
          60,
          61,
          62,
          63,
          64,
          65,
          66,
          67,
          68,
          69,
          70,
          71,
          72,
          73,
          74,
          75,
          76,
          77,
          78,
          79,
          80,
          81,
          82,
          83,
          84,
          85,
          86,
          87,
          88,
          89,
          90,
          91,
          92,
          93,
          94,
          95,
          96,
          97,
          98,
          99
         ],
         "y": [
          -0.629400460736606,
          -0.3902511837428377,
          -0.5591700478406222,
          -0.5015750659259559,
          -0.6028247757790585,
          -1.7552895707056984,
          0.3728303295489695,
          -0.9949058872060896,
          1.383786061209142,
          -0.7478723956059203,
          0.06816934594778336,
          0.3141341819011735,
          -1.4434647152951174,
          0.4279880196945129,
          -2.7094890740900803,
          0.13506963265460648,
          -0.3362772326824624,
          -1.003162479173856,
          -0.9417909848304834,
          0.12809221322659364,
          -0.9761844606375003,
          0.851597093857289,
          -0.2174753543117878,
          0.16923231361532318,
          -1.196108833893656,
          -1.4490166364502461,
          -0.43386109420639013,
          1.097856069838825,
          -0.3105310538314359,
          -0.3169866600355245,
          1.592962498055057,
          0.9758423831858871,
          -1.3671182139924076,
          0.7817958007205139,
          -1.3911274721075122,
          0.12975350981883296,
          1.13847634366471,
          1.8672274817233254,
          -0.7504577680021094,
          1.7846896247177337,
          1.0793488689838349,
          -1.0844765858716827,
          -0.3516404570166523,
          0.9227502103917912,
          0.3755932851618663,
          0.3778890996717057,
          1.680119511266985,
          -0.4599735982942427,
          1.5985393735185909,
          1.0563349091055834,
          -1.0911352575440694,
          1.7417271070535496,
          -1.3100266243771161,
          -0.3876135929450466,
          0.9025719152875156,
          1.401243501430797,
          -1.2969497206273086,
          -1.2048928883655137,
          1.3573070492269648,
          0.05766322435151034,
          0.29981192742332086,
          1.5170818674960982,
          2.155478704025667,
          0.8024742835998596,
          0.40266903970292495,
          -1.3623380036310104,
          -0.9347835030015103,
          -0.023410056738022517,
          -1.072457943276233,
          0.8831066668343588,
          1.8136193860509642,
          -0.18934701060634257,
          -0.7986253409908879,
          1.6043882256104582,
          -1.3412563333112506,
          -1.5577062645161655,
          -1.3566037510986833,
          0.04005495647472767,
          0.2708046082479397,
          -0.9634981045226241,
          0.8583993616190417,
          -0.6470050959406236,
          -0.5512575986366849,
          2.071338692577119,
          1.5052688721826468,
          -0.617246691643328,
          1.4552686037187066,
          0.5720417545278373,
          -1.1152513286714432,
          1.7410978052511834,
          0.8914819708996335,
          -0.6908395795783034,
          1.414032221853257,
          -1.2057589945974467,
          0.6833974114014549,
          -1.2187494324750037,
          0.025605567304754343,
          -0.6574804043471983,
          0.04405104857084567,
          1.33018346090302
         ]
        },
        {
         "line": {
          "color": "rgba(55, 128, 191, 1.0)",
          "dash": "solid",
          "shape": "linear",
          "width": 1.3
         },
         "mode": "lines",
         "name": "B",
         "text": "",
         "type": "scatter",
         "x": [
          0,
          1,
          2,
          3,
          4,
          5,
          6,
          7,
          8,
          9,
          10,
          11,
          12,
          13,
          14,
          15,
          16,
          17,
          18,
          19,
          20,
          21,
          22,
          23,
          24,
          25,
          26,
          27,
          28,
          29,
          30,
          31,
          32,
          33,
          34,
          35,
          36,
          37,
          38,
          39,
          40,
          41,
          42,
          43,
          44,
          45,
          46,
          47,
          48,
          49,
          50,
          51,
          52,
          53,
          54,
          55,
          56,
          57,
          58,
          59,
          60,
          61,
          62,
          63,
          64,
          65,
          66,
          67,
          68,
          69,
          70,
          71,
          72,
          73,
          74,
          75,
          76,
          77,
          78,
          79,
          80,
          81,
          82,
          83,
          84,
          85,
          86,
          87,
          88,
          89,
          90,
          91,
          92,
          93,
          94,
          95,
          96,
          97,
          98,
          99
         ],
         "y": [
          0.4103450482823756,
          -0.23277879634899593,
          -0.45086136540875726,
          -0.08376735759564617,
          0.013872231247996124,
          -0.07072690859130389,
          0.30681170864600404,
          1.2902872300683392,
          -0.3265296450613535,
          0.10747041706050438,
          -0.4891966860282878,
          0.1321546966645771,
          2.2002266533209984,
          2.827921795219644,
          1.4213390904822027,
          -0.40481684699662795,
          0.8777377019046946,
          -0.5915210626668627,
          0.23237752609932294,
          0.10802408268723265,
          -0.4989964964726072,
          -0.17693190406338596,
          0.31980787789478055,
          0.8585326836819313,
          -1.5714924413997264,
          -0.5285087993679705,
          0.4446605522951421,
          -0.4261044334302472,
          0.04041835504896138,
          -0.2102461439854402,
          0.8853158428254773,
          -0.9926023261355174,
          0.7837779223912771,
          1.6207142996018502,
          -0.31222240376226895,
          0.21669648190985635,
          -0.005778545670522539,
          0.2424273620179277,
          1.0604864388343094,
          0.5405949217925212,
          -0.028827349523677923,
          -0.19992850944368576,
          -0.07932311155494266,
          -1.487415209783587,
          0.25772607668232306,
          0.659067678454487,
          0.7764559512979428,
          1.1811473518576816,
          1.269253528510618,
          -0.10593976314056446,
          -2.2033948416823987,
          -0.26099399205439405,
          -0.035842618820022584,
          -0.436740003503195,
          -0.7347854957866872,
          -1.474470346831659,
          0.2856744360831367,
          -0.6987609147597583,
          0.25012931898644164,
          -1.3175865204408947,
          0.09478695458135028,
          1.8709144399634727,
          0.26797206469934276,
          -1.3953358629453787,
          -0.6945329566849582,
          1.555621068767977,
          0.8283772246580962,
          -0.8420550563881509,
          0.805777476671103,
          -1.1529198884152143,
          -0.13563746306624466,
          -0.24579363705319546,
          -0.846884195632001,
          -0.6643522082710484,
          0.7052085498958576,
          -1.6877108081600287,
          0.020389419260974217,
          -0.41756781346012556,
          -0.8676788986975928,
          -2.5653389961604987,
          -0.34799695926298335,
          0.7409356257488319,
          0.4199756934089848,
          -0.18905296451511472,
          -0.7275775921980504,
          -1.7658346002170116,
          -0.8494415212511488,
          0.06516189570040587,
          -1.0812781607038502,
          1.182463220527681,
          -0.1828465609009514,
          -1.6925573120184574,
          0.2528746913720982,
          1.2151401118568756,
          -0.49604662980129016,
          -1.1333482603578835,
          -1.2871159652833557,
          1.2333219879816024,
          0.2863728726007531,
          -0.4379191310630423
         ]
        }
       ],
       "layout": {
        "legend": {
         "bgcolor": "#F5F6F9",
         "font": {
          "color": "#4D5663"
         }
        },
        "paper_bgcolor": "#F5F6F9",
        "plot_bgcolor": "#F5F6F9",
        "template": {
         "data": {
          "bar": [
           {
            "error_x": {
             "color": "#2a3f5f"
            },
            "error_y": {
             "color": "#2a3f5f"
            },
            "marker": {
             "line": {
              "color": "#E5ECF6",
              "width": 0.5
             },
             "pattern": {
              "fillmode": "overlay",
              "size": 10,
              "solidity": 0.2
             }
            },
            "type": "bar"
           }
          ],
          "barpolar": [
           {
            "marker": {
             "line": {
              "color": "#E5ECF6",
              "width": 0.5
             },
             "pattern": {
              "fillmode": "overlay",
              "size": 10,
              "solidity": 0.2
             }
            },
            "type": "barpolar"
           }
          ],
          "carpet": [
           {
            "aaxis": {
             "endlinecolor": "#2a3f5f",
             "gridcolor": "white",
             "linecolor": "white",
             "minorgridcolor": "white",
             "startlinecolor": "#2a3f5f"
            },
            "baxis": {
             "endlinecolor": "#2a3f5f",
             "gridcolor": "white",
             "linecolor": "white",
             "minorgridcolor": "white",
             "startlinecolor": "#2a3f5f"
            },
            "type": "carpet"
           }
          ],
          "choropleth": [
           {
            "colorbar": {
             "outlinewidth": 0,
             "ticks": ""
            },
            "type": "choropleth"
           }
          ],
          "contour": [
           {
            "colorbar": {
             "outlinewidth": 0,
             "ticks": ""
            },
            "colorscale": [
             [
              0,
              "#0d0887"
             ],
             [
              0.1111111111111111,
              "#46039f"
             ],
             [
              0.2222222222222222,
              "#7201a8"
             ],
             [
              0.3333333333333333,
              "#9c179e"
             ],
             [
              0.4444444444444444,
              "#bd3786"
             ],
             [
              0.5555555555555556,
              "#d8576b"
             ],
             [
              0.6666666666666666,
              "#ed7953"
             ],
             [
              0.7777777777777778,
              "#fb9f3a"
             ],
             [
              0.8888888888888888,
              "#fdca26"
             ],
             [
              1,
              "#f0f921"
             ]
            ],
            "type": "contour"
           }
          ],
          "contourcarpet": [
           {
            "colorbar": {
             "outlinewidth": 0,
             "ticks": ""
            },
            "type": "contourcarpet"
           }
          ],
          "heatmap": [
           {
            "colorbar": {
             "outlinewidth": 0,
             "ticks": ""
            },
            "colorscale": [
             [
              0,
              "#0d0887"
             ],
             [
              0.1111111111111111,
              "#46039f"
             ],
             [
              0.2222222222222222,
              "#7201a8"
             ],
             [
              0.3333333333333333,
              "#9c179e"
             ],
             [
              0.4444444444444444,
              "#bd3786"
             ],
             [
              0.5555555555555556,
              "#d8576b"
             ],
             [
              0.6666666666666666,
              "#ed7953"
             ],
             [
              0.7777777777777778,
              "#fb9f3a"
             ],
             [
              0.8888888888888888,
              "#fdca26"
             ],
             [
              1,
              "#f0f921"
             ]
            ],
            "type": "heatmap"
           }
          ],
          "heatmapgl": [
           {
            "colorbar": {
             "outlinewidth": 0,
             "ticks": ""
            },
            "colorscale": [
             [
              0,
              "#0d0887"
             ],
             [
              0.1111111111111111,
              "#46039f"
             ],
             [
              0.2222222222222222,
              "#7201a8"
             ],
             [
              0.3333333333333333,
              "#9c179e"
             ],
             [
              0.4444444444444444,
              "#bd3786"
             ],
             [
              0.5555555555555556,
              "#d8576b"
             ],
             [
              0.6666666666666666,
              "#ed7953"
             ],
             [
              0.7777777777777778,
              "#fb9f3a"
             ],
             [
              0.8888888888888888,
              "#fdca26"
             ],
             [
              1,
              "#f0f921"
             ]
            ],
            "type": "heatmapgl"
           }
          ],
          "histogram": [
           {
            "marker": {
             "pattern": {
              "fillmode": "overlay",
              "size": 10,
              "solidity": 0.2
             }
            },
            "type": "histogram"
           }
          ],
          "histogram2d": [
           {
            "colorbar": {
             "outlinewidth": 0,
             "ticks": ""
            },
            "colorscale": [
             [
              0,
              "#0d0887"
             ],
             [
              0.1111111111111111,
              "#46039f"
             ],
             [
              0.2222222222222222,
              "#7201a8"
             ],
             [
              0.3333333333333333,
              "#9c179e"
             ],
             [
              0.4444444444444444,
              "#bd3786"
             ],
             [
              0.5555555555555556,
              "#d8576b"
             ],
             [
              0.6666666666666666,
              "#ed7953"
             ],
             [
              0.7777777777777778,
              "#fb9f3a"
             ],
             [
              0.8888888888888888,
              "#fdca26"
             ],
             [
              1,
              "#f0f921"
             ]
            ],
            "type": "histogram2d"
           }
          ],
          "histogram2dcontour": [
           {
            "colorbar": {
             "outlinewidth": 0,
             "ticks": ""
            },
            "colorscale": [
             [
              0,
              "#0d0887"
             ],
             [
              0.1111111111111111,
              "#46039f"
             ],
             [
              0.2222222222222222,
              "#7201a8"
             ],
             [
              0.3333333333333333,
              "#9c179e"
             ],
             [
              0.4444444444444444,
              "#bd3786"
             ],
             [
              0.5555555555555556,
              "#d8576b"
             ],
             [
              0.6666666666666666,
              "#ed7953"
             ],
             [
              0.7777777777777778,
              "#fb9f3a"
             ],
             [
              0.8888888888888888,
              "#fdca26"
             ],
             [
              1,
              "#f0f921"
             ]
            ],
            "type": "histogram2dcontour"
           }
          ],
          "mesh3d": [
           {
            "colorbar": {
             "outlinewidth": 0,
             "ticks": ""
            },
            "type": "mesh3d"
           }
          ],
          "parcoords": [
           {
            "line": {
             "colorbar": {
              "outlinewidth": 0,
              "ticks": ""
             }
            },
            "type": "parcoords"
           }
          ],
          "pie": [
           {
            "automargin": true,
            "type": "pie"
           }
          ],
          "scatter": [
           {
            "fillpattern": {
             "fillmode": "overlay",
             "size": 10,
             "solidity": 0.2
            },
            "type": "scatter"
           }
          ],
          "scatter3d": [
           {
            "line": {
             "colorbar": {
              "outlinewidth": 0,
              "ticks": ""
             }
            },
            "marker": {
             "colorbar": {
              "outlinewidth": 0,
              "ticks": ""
             }
            },
            "type": "scatter3d"
           }
          ],
          "scattercarpet": [
           {
            "marker": {
             "colorbar": {
              "outlinewidth": 0,
              "ticks": ""
             }
            },
            "type": "scattercarpet"
           }
          ],
          "scattergeo": [
           {
            "marker": {
             "colorbar": {
              "outlinewidth": 0,
              "ticks": ""
             }
            },
            "type": "scattergeo"
           }
          ],
          "scattergl": [
           {
            "marker": {
             "colorbar": {
              "outlinewidth": 0,
              "ticks": ""
             }
            },
            "type": "scattergl"
           }
          ],
          "scattermapbox": [
           {
            "marker": {
             "colorbar": {
              "outlinewidth": 0,
              "ticks": ""
             }
            },
            "type": "scattermapbox"
           }
          ],
          "scatterpolar": [
           {
            "marker": {
             "colorbar": {
              "outlinewidth": 0,
              "ticks": ""
             }
            },
            "type": "scatterpolar"
           }
          ],
          "scatterpolargl": [
           {
            "marker": {
             "colorbar": {
              "outlinewidth": 0,
              "ticks": ""
             }
            },
            "type": "scatterpolargl"
           }
          ],
          "scatterternary": [
           {
            "marker": {
             "colorbar": {
              "outlinewidth": 0,
              "ticks": ""
             }
            },
            "type": "scatterternary"
           }
          ],
          "surface": [
           {
            "colorbar": {
             "outlinewidth": 0,
             "ticks": ""
            },
            "colorscale": [
             [
              0,
              "#0d0887"
             ],
             [
              0.1111111111111111,
              "#46039f"
             ],
             [
              0.2222222222222222,
              "#7201a8"
             ],
             [
              0.3333333333333333,
              "#9c179e"
             ],
             [
              0.4444444444444444,
              "#bd3786"
             ],
             [
              0.5555555555555556,
              "#d8576b"
             ],
             [
              0.6666666666666666,
              "#ed7953"
             ],
             [
              0.7777777777777778,
              "#fb9f3a"
             ],
             [
              0.8888888888888888,
              "#fdca26"
             ],
             [
              1,
              "#f0f921"
             ]
            ],
            "type": "surface"
           }
          ],
          "table": [
           {
            "cells": {
             "fill": {
              "color": "#EBF0F8"
             },
             "line": {
              "color": "white"
             }
            },
            "header": {
             "fill": {
              "color": "#C8D4E3"
             },
             "line": {
              "color": "white"
             }
            },
            "type": "table"
           }
          ]
         },
         "layout": {
          "annotationdefaults": {
           "arrowcolor": "#2a3f5f",
           "arrowhead": 0,
           "arrowwidth": 1
          },
          "autotypenumbers": "strict",
          "coloraxis": {
           "colorbar": {
            "outlinewidth": 0,
            "ticks": ""
           }
          },
          "colorscale": {
           "diverging": [
            [
             0,
             "#8e0152"
            ],
            [
             0.1,
             "#c51b7d"
            ],
            [
             0.2,
             "#de77ae"
            ],
            [
             0.3,
             "#f1b6da"
            ],
            [
             0.4,
             "#fde0ef"
            ],
            [
             0.5,
             "#f7f7f7"
            ],
            [
             0.6,
             "#e6f5d0"
            ],
            [
             0.7,
             "#b8e186"
            ],
            [
             0.8,
             "#7fbc41"
            ],
            [
             0.9,
             "#4d9221"
            ],
            [
             1,
             "#276419"
            ]
           ],
           "sequential": [
            [
             0,
             "#0d0887"
            ],
            [
             0.1111111111111111,
             "#46039f"
            ],
            [
             0.2222222222222222,
             "#7201a8"
            ],
            [
             0.3333333333333333,
             "#9c179e"
            ],
            [
             0.4444444444444444,
             "#bd3786"
            ],
            [
             0.5555555555555556,
             "#d8576b"
            ],
            [
             0.6666666666666666,
             "#ed7953"
            ],
            [
             0.7777777777777778,
             "#fb9f3a"
            ],
            [
             0.8888888888888888,
             "#fdca26"
            ],
            [
             1,
             "#f0f921"
            ]
           ],
           "sequentialminus": [
            [
             0,
             "#0d0887"
            ],
            [
             0.1111111111111111,
             "#46039f"
            ],
            [
             0.2222222222222222,
             "#7201a8"
            ],
            [
             0.3333333333333333,
             "#9c179e"
            ],
            [
             0.4444444444444444,
             "#bd3786"
            ],
            [
             0.5555555555555556,
             "#d8576b"
            ],
            [
             0.6666666666666666,
             "#ed7953"
            ],
            [
             0.7777777777777778,
             "#fb9f3a"
            ],
            [
             0.8888888888888888,
             "#fdca26"
            ],
            [
             1,
             "#f0f921"
            ]
           ]
          },
          "colorway": [
           "#636efa",
           "#EF553B",
           "#00cc96",
           "#ab63fa",
           "#FFA15A",
           "#19d3f3",
           "#FF6692",
           "#B6E880",
           "#FF97FF",
           "#FECB52"
          ],
          "font": {
           "color": "#2a3f5f"
          },
          "geo": {
           "bgcolor": "white",
           "lakecolor": "white",
           "landcolor": "#E5ECF6",
           "showlakes": true,
           "showland": true,
           "subunitcolor": "white"
          },
          "hoverlabel": {
           "align": "left"
          },
          "hovermode": "closest",
          "mapbox": {
           "style": "light"
          },
          "paper_bgcolor": "white",
          "plot_bgcolor": "#E5ECF6",
          "polar": {
           "angularaxis": {
            "gridcolor": "white",
            "linecolor": "white",
            "ticks": ""
           },
           "bgcolor": "#E5ECF6",
           "radialaxis": {
            "gridcolor": "white",
            "linecolor": "white",
            "ticks": ""
           }
          },
          "scene": {
           "xaxis": {
            "backgroundcolor": "#E5ECF6",
            "gridcolor": "white",
            "gridwidth": 2,
            "linecolor": "white",
            "showbackground": true,
            "ticks": "",
            "zerolinecolor": "white"
           },
           "yaxis": {
            "backgroundcolor": "#E5ECF6",
            "gridcolor": "white",
            "gridwidth": 2,
            "linecolor": "white",
            "showbackground": true,
            "ticks": "",
            "zerolinecolor": "white"
           },
           "zaxis": {
            "backgroundcolor": "#E5ECF6",
            "gridcolor": "white",
            "gridwidth": 2,
            "linecolor": "white",
            "showbackground": true,
            "ticks": "",
            "zerolinecolor": "white"
           }
          },
          "shapedefaults": {
           "line": {
            "color": "#2a3f5f"
           }
          },
          "ternary": {
           "aaxis": {
            "gridcolor": "white",
            "linecolor": "white",
            "ticks": ""
           },
           "baxis": {
            "gridcolor": "white",
            "linecolor": "white",
            "ticks": ""
           },
           "bgcolor": "#E5ECF6",
           "caxis": {
            "gridcolor": "white",
            "linecolor": "white",
            "ticks": ""
           }
          },
          "title": {
           "x": 0.05
          },
          "xaxis": {
           "automargin": true,
           "gridcolor": "white",
           "linecolor": "white",
           "ticks": "",
           "title": {
            "standoff": 15
           },
           "zerolinecolor": "white",
           "zerolinewidth": 2
          },
          "yaxis": {
           "automargin": true,
           "gridcolor": "white",
           "linecolor": "white",
           "ticks": "",
           "title": {
            "standoff": 15
           },
           "zerolinecolor": "white",
           "zerolinewidth": 2
          }
         }
        },
        "title": {
         "font": {
          "color": "#4D5663"
         }
        },
        "xaxis": {
         "gridcolor": "#E1E5ED",
         "showgrid": true,
         "tickfont": {
          "color": "#4D5663"
         },
         "title": {
          "font": {
           "color": "#4D5663"
          },
          "text": ""
         },
         "zerolinecolor": "#E1E5ED"
        },
        "yaxis": {
         "gridcolor": "#E1E5ED",
         "showgrid": true,
         "tickfont": {
          "color": "#4D5663"
         },
         "title": {
          "font": {
           "color": "#4D5663"
          },
          "text": ""
         },
         "zerolinecolor": "#E1E5ED"
        }
       }
      },
      "text/html": [
       "<div>                            <div id=\"33466340-dfae-4c7c-9767-0add4f11779a\" class=\"plotly-graph-div\" style=\"height:525px; width:100%;\"></div>            <script type=\"text/javascript\">                require([\"plotly\"], function(Plotly) {                    window.PLOTLYENV=window.PLOTLYENV || {};\n",
       "                    window.PLOTLYENV.BASE_URL='https://plot.ly';                                    if (document.getElementById(\"33466340-dfae-4c7c-9767-0add4f11779a\")) {                    Plotly.newPlot(                        \"33466340-dfae-4c7c-9767-0add4f11779a\",                        [{\"line\":{\"color\":\"rgba(255, 153, 51, 1.0)\",\"dash\":\"solid\",\"shape\":\"linear\",\"width\":1.3},\"mode\":\"lines\",\"name\":\"A\",\"text\":\"\",\"x\":[0,1,2,3,4,5,6,7,8,9,10,11,12,13,14,15,16,17,18,19,20,21,22,23,24,25,26,27,28,29,30,31,32,33,34,35,36,37,38,39,40,41,42,43,44,45,46,47,48,49,50,51,52,53,54,55,56,57,58,59,60,61,62,63,64,65,66,67,68,69,70,71,72,73,74,75,76,77,78,79,80,81,82,83,84,85,86,87,88,89,90,91,92,93,94,95,96,97,98,99],\"y\":[-0.629400460736606,-0.3902511837428377,-0.5591700478406222,-0.5015750659259559,-0.6028247757790585,-1.7552895707056984,0.3728303295489695,-0.9949058872060896,1.383786061209142,-0.7478723956059203,0.06816934594778336,0.3141341819011735,-1.4434647152951174,0.4279880196945129,-2.7094890740900803,0.13506963265460648,-0.3362772326824624,-1.003162479173856,-0.9417909848304834,0.12809221322659364,-0.9761844606375003,0.851597093857289,-0.2174753543117878,0.16923231361532318,-1.196108833893656,-1.4490166364502461,-0.43386109420639013,1.097856069838825,-0.3105310538314359,-0.3169866600355245,1.592962498055057,0.9758423831858871,-1.3671182139924076,0.7817958007205139,-1.3911274721075122,0.12975350981883296,1.13847634366471,1.8672274817233254,-0.7504577680021094,1.7846896247177337,1.0793488689838349,-1.0844765858716827,-0.3516404570166523,0.9227502103917912,0.3755932851618663,0.3778890996717057,1.680119511266985,-0.4599735982942427,1.5985393735185909,1.0563349091055834,-1.0911352575440694,1.7417271070535496,-1.3100266243771161,-0.3876135929450466,0.9025719152875156,1.401243501430797,-1.2969497206273086,-1.2048928883655137,1.3573070492269648,0.05766322435151034,0.29981192742332086,1.5170818674960982,2.155478704025667,0.8024742835998596,0.40266903970292495,-1.3623380036310104,-0.9347835030015103,-0.023410056738022517,-1.072457943276233,0.8831066668343588,1.8136193860509642,-0.18934701060634257,-0.7986253409908879,1.6043882256104582,-1.3412563333112506,-1.5577062645161655,-1.3566037510986833,0.04005495647472767,0.2708046082479397,-0.9634981045226241,0.8583993616190417,-0.6470050959406236,-0.5512575986366849,2.071338692577119,1.5052688721826468,-0.617246691643328,1.4552686037187066,0.5720417545278373,-1.1152513286714432,1.7410978052511834,0.8914819708996335,-0.6908395795783034,1.414032221853257,-1.2057589945974467,0.6833974114014549,-1.2187494324750037,0.025605567304754343,-0.6574804043471983,0.04405104857084567,1.33018346090302],\"type\":\"scatter\"},{\"line\":{\"color\":\"rgba(55, 128, 191, 1.0)\",\"dash\":\"solid\",\"shape\":\"linear\",\"width\":1.3},\"mode\":\"lines\",\"name\":\"B\",\"text\":\"\",\"x\":[0,1,2,3,4,5,6,7,8,9,10,11,12,13,14,15,16,17,18,19,20,21,22,23,24,25,26,27,28,29,30,31,32,33,34,35,36,37,38,39,40,41,42,43,44,45,46,47,48,49,50,51,52,53,54,55,56,57,58,59,60,61,62,63,64,65,66,67,68,69,70,71,72,73,74,75,76,77,78,79,80,81,82,83,84,85,86,87,88,89,90,91,92,93,94,95,96,97,98,99],\"y\":[0.4103450482823756,-0.23277879634899593,-0.45086136540875726,-0.08376735759564617,0.013872231247996124,-0.07072690859130389,0.30681170864600404,1.2902872300683392,-0.3265296450613535,0.10747041706050438,-0.4891966860282878,0.1321546966645771,2.2002266533209984,2.827921795219644,1.4213390904822027,-0.40481684699662795,0.8777377019046946,-0.5915210626668627,0.23237752609932294,0.10802408268723265,-0.4989964964726072,-0.17693190406338596,0.31980787789478055,0.8585326836819313,-1.5714924413997264,-0.5285087993679705,0.4446605522951421,-0.4261044334302472,0.04041835504896138,-0.2102461439854402,0.8853158428254773,-0.9926023261355174,0.7837779223912771,1.6207142996018502,-0.31222240376226895,0.21669648190985635,-0.005778545670522539,0.2424273620179277,1.0604864388343094,0.5405949217925212,-0.028827349523677923,-0.19992850944368576,-0.07932311155494266,-1.487415209783587,0.25772607668232306,0.659067678454487,0.7764559512979428,1.1811473518576816,1.269253528510618,-0.10593976314056446,-2.2033948416823987,-0.26099399205439405,-0.035842618820022584,-0.436740003503195,-0.7347854957866872,-1.474470346831659,0.2856744360831367,-0.6987609147597583,0.25012931898644164,-1.3175865204408947,0.09478695458135028,1.8709144399634727,0.26797206469934276,-1.3953358629453787,-0.6945329566849582,1.555621068767977,0.8283772246580962,-0.8420550563881509,0.805777476671103,-1.1529198884152143,-0.13563746306624466,-0.24579363705319546,-0.846884195632001,-0.6643522082710484,0.7052085498958576,-1.6877108081600287,0.020389419260974217,-0.41756781346012556,-0.8676788986975928,-2.5653389961604987,-0.34799695926298335,0.7409356257488319,0.4199756934089848,-0.18905296451511472,-0.7275775921980504,-1.7658346002170116,-0.8494415212511488,0.06516189570040587,-1.0812781607038502,1.182463220527681,-0.1828465609009514,-1.6925573120184574,0.2528746913720982,1.2151401118568756,-0.49604662980129016,-1.1333482603578835,-1.2871159652833557,1.2333219879816024,0.2863728726007531,-0.4379191310630423],\"type\":\"scatter\"}],                        {\"legend\":{\"bgcolor\":\"#F5F6F9\",\"font\":{\"color\":\"#4D5663\"}},\"paper_bgcolor\":\"#F5F6F9\",\"plot_bgcolor\":\"#F5F6F9\",\"template\":{\"data\":{\"barpolar\":[{\"marker\":{\"line\":{\"color\":\"#E5ECF6\",\"width\":0.5},\"pattern\":{\"fillmode\":\"overlay\",\"size\":10,\"solidity\":0.2}},\"type\":\"barpolar\"}],\"bar\":[{\"error_x\":{\"color\":\"#2a3f5f\"},\"error_y\":{\"color\":\"#2a3f5f\"},\"marker\":{\"line\":{\"color\":\"#E5ECF6\",\"width\":0.5},\"pattern\":{\"fillmode\":\"overlay\",\"size\":10,\"solidity\":0.2}},\"type\":\"bar\"}],\"carpet\":[{\"aaxis\":{\"endlinecolor\":\"#2a3f5f\",\"gridcolor\":\"white\",\"linecolor\":\"white\",\"minorgridcolor\":\"white\",\"startlinecolor\":\"#2a3f5f\"},\"baxis\":{\"endlinecolor\":\"#2a3f5f\",\"gridcolor\":\"white\",\"linecolor\":\"white\",\"minorgridcolor\":\"white\",\"startlinecolor\":\"#2a3f5f\"},\"type\":\"carpet\"}],\"choropleth\":[{\"colorbar\":{\"outlinewidth\":0,\"ticks\":\"\"},\"type\":\"choropleth\"}],\"contourcarpet\":[{\"colorbar\":{\"outlinewidth\":0,\"ticks\":\"\"},\"type\":\"contourcarpet\"}],\"contour\":[{\"colorbar\":{\"outlinewidth\":0,\"ticks\":\"\"},\"colorscale\":[[0.0,\"#0d0887\"],[0.1111111111111111,\"#46039f\"],[0.2222222222222222,\"#7201a8\"],[0.3333333333333333,\"#9c179e\"],[0.4444444444444444,\"#bd3786\"],[0.5555555555555556,\"#d8576b\"],[0.6666666666666666,\"#ed7953\"],[0.7777777777777778,\"#fb9f3a\"],[0.8888888888888888,\"#fdca26\"],[1.0,\"#f0f921\"]],\"type\":\"contour\"}],\"heatmapgl\":[{\"colorbar\":{\"outlinewidth\":0,\"ticks\":\"\"},\"colorscale\":[[0.0,\"#0d0887\"],[0.1111111111111111,\"#46039f\"],[0.2222222222222222,\"#7201a8\"],[0.3333333333333333,\"#9c179e\"],[0.4444444444444444,\"#bd3786\"],[0.5555555555555556,\"#d8576b\"],[0.6666666666666666,\"#ed7953\"],[0.7777777777777778,\"#fb9f3a\"],[0.8888888888888888,\"#fdca26\"],[1.0,\"#f0f921\"]],\"type\":\"heatmapgl\"}],\"heatmap\":[{\"colorbar\":{\"outlinewidth\":0,\"ticks\":\"\"},\"colorscale\":[[0.0,\"#0d0887\"],[0.1111111111111111,\"#46039f\"],[0.2222222222222222,\"#7201a8\"],[0.3333333333333333,\"#9c179e\"],[0.4444444444444444,\"#bd3786\"],[0.5555555555555556,\"#d8576b\"],[0.6666666666666666,\"#ed7953\"],[0.7777777777777778,\"#fb9f3a\"],[0.8888888888888888,\"#fdca26\"],[1.0,\"#f0f921\"]],\"type\":\"heatmap\"}],\"histogram2dcontour\":[{\"colorbar\":{\"outlinewidth\":0,\"ticks\":\"\"},\"colorscale\":[[0.0,\"#0d0887\"],[0.1111111111111111,\"#46039f\"],[0.2222222222222222,\"#7201a8\"],[0.3333333333333333,\"#9c179e\"],[0.4444444444444444,\"#bd3786\"],[0.5555555555555556,\"#d8576b\"],[0.6666666666666666,\"#ed7953\"],[0.7777777777777778,\"#fb9f3a\"],[0.8888888888888888,\"#fdca26\"],[1.0,\"#f0f921\"]],\"type\":\"histogram2dcontour\"}],\"histogram2d\":[{\"colorbar\":{\"outlinewidth\":0,\"ticks\":\"\"},\"colorscale\":[[0.0,\"#0d0887\"],[0.1111111111111111,\"#46039f\"],[0.2222222222222222,\"#7201a8\"],[0.3333333333333333,\"#9c179e\"],[0.4444444444444444,\"#bd3786\"],[0.5555555555555556,\"#d8576b\"],[0.6666666666666666,\"#ed7953\"],[0.7777777777777778,\"#fb9f3a\"],[0.8888888888888888,\"#fdca26\"],[1.0,\"#f0f921\"]],\"type\":\"histogram2d\"}],\"histogram\":[{\"marker\":{\"pattern\":{\"fillmode\":\"overlay\",\"size\":10,\"solidity\":0.2}},\"type\":\"histogram\"}],\"mesh3d\":[{\"colorbar\":{\"outlinewidth\":0,\"ticks\":\"\"},\"type\":\"mesh3d\"}],\"parcoords\":[{\"line\":{\"colorbar\":{\"outlinewidth\":0,\"ticks\":\"\"}},\"type\":\"parcoords\"}],\"pie\":[{\"automargin\":true,\"type\":\"pie\"}],\"scatter3d\":[{\"line\":{\"colorbar\":{\"outlinewidth\":0,\"ticks\":\"\"}},\"marker\":{\"colorbar\":{\"outlinewidth\":0,\"ticks\":\"\"}},\"type\":\"scatter3d\"}],\"scattercarpet\":[{\"marker\":{\"colorbar\":{\"outlinewidth\":0,\"ticks\":\"\"}},\"type\":\"scattercarpet\"}],\"scattergeo\":[{\"marker\":{\"colorbar\":{\"outlinewidth\":0,\"ticks\":\"\"}},\"type\":\"scattergeo\"}],\"scattergl\":[{\"marker\":{\"colorbar\":{\"outlinewidth\":0,\"ticks\":\"\"}},\"type\":\"scattergl\"}],\"scattermapbox\":[{\"marker\":{\"colorbar\":{\"outlinewidth\":0,\"ticks\":\"\"}},\"type\":\"scattermapbox\"}],\"scatterpolargl\":[{\"marker\":{\"colorbar\":{\"outlinewidth\":0,\"ticks\":\"\"}},\"type\":\"scatterpolargl\"}],\"scatterpolar\":[{\"marker\":{\"colorbar\":{\"outlinewidth\":0,\"ticks\":\"\"}},\"type\":\"scatterpolar\"}],\"scatter\":[{\"fillpattern\":{\"fillmode\":\"overlay\",\"size\":10,\"solidity\":0.2},\"type\":\"scatter\"}],\"scatterternary\":[{\"marker\":{\"colorbar\":{\"outlinewidth\":0,\"ticks\":\"\"}},\"type\":\"scatterternary\"}],\"surface\":[{\"colorbar\":{\"outlinewidth\":0,\"ticks\":\"\"},\"colorscale\":[[0.0,\"#0d0887\"],[0.1111111111111111,\"#46039f\"],[0.2222222222222222,\"#7201a8\"],[0.3333333333333333,\"#9c179e\"],[0.4444444444444444,\"#bd3786\"],[0.5555555555555556,\"#d8576b\"],[0.6666666666666666,\"#ed7953\"],[0.7777777777777778,\"#fb9f3a\"],[0.8888888888888888,\"#fdca26\"],[1.0,\"#f0f921\"]],\"type\":\"surface\"}],\"table\":[{\"cells\":{\"fill\":{\"color\":\"#EBF0F8\"},\"line\":{\"color\":\"white\"}},\"header\":{\"fill\":{\"color\":\"#C8D4E3\"},\"line\":{\"color\":\"white\"}},\"type\":\"table\"}]},\"layout\":{\"annotationdefaults\":{\"arrowcolor\":\"#2a3f5f\",\"arrowhead\":0,\"arrowwidth\":1},\"autotypenumbers\":\"strict\",\"coloraxis\":{\"colorbar\":{\"outlinewidth\":0,\"ticks\":\"\"}},\"colorscale\":{\"diverging\":[[0,\"#8e0152\"],[0.1,\"#c51b7d\"],[0.2,\"#de77ae\"],[0.3,\"#f1b6da\"],[0.4,\"#fde0ef\"],[0.5,\"#f7f7f7\"],[0.6,\"#e6f5d0\"],[0.7,\"#b8e186\"],[0.8,\"#7fbc41\"],[0.9,\"#4d9221\"],[1,\"#276419\"]],\"sequential\":[[0.0,\"#0d0887\"],[0.1111111111111111,\"#46039f\"],[0.2222222222222222,\"#7201a8\"],[0.3333333333333333,\"#9c179e\"],[0.4444444444444444,\"#bd3786\"],[0.5555555555555556,\"#d8576b\"],[0.6666666666666666,\"#ed7953\"],[0.7777777777777778,\"#fb9f3a\"],[0.8888888888888888,\"#fdca26\"],[1.0,\"#f0f921\"]],\"sequentialminus\":[[0.0,\"#0d0887\"],[0.1111111111111111,\"#46039f\"],[0.2222222222222222,\"#7201a8\"],[0.3333333333333333,\"#9c179e\"],[0.4444444444444444,\"#bd3786\"],[0.5555555555555556,\"#d8576b\"],[0.6666666666666666,\"#ed7953\"],[0.7777777777777778,\"#fb9f3a\"],[0.8888888888888888,\"#fdca26\"],[1.0,\"#f0f921\"]]},\"colorway\":[\"#636efa\",\"#EF553B\",\"#00cc96\",\"#ab63fa\",\"#FFA15A\",\"#19d3f3\",\"#FF6692\",\"#B6E880\",\"#FF97FF\",\"#FECB52\"],\"font\":{\"color\":\"#2a3f5f\"},\"geo\":{\"bgcolor\":\"white\",\"lakecolor\":\"white\",\"landcolor\":\"#E5ECF6\",\"showlakes\":true,\"showland\":true,\"subunitcolor\":\"white\"},\"hoverlabel\":{\"align\":\"left\"},\"hovermode\":\"closest\",\"mapbox\":{\"style\":\"light\"},\"paper_bgcolor\":\"white\",\"plot_bgcolor\":\"#E5ECF6\",\"polar\":{\"angularaxis\":{\"gridcolor\":\"white\",\"linecolor\":\"white\",\"ticks\":\"\"},\"bgcolor\":\"#E5ECF6\",\"radialaxis\":{\"gridcolor\":\"white\",\"linecolor\":\"white\",\"ticks\":\"\"}},\"scene\":{\"xaxis\":{\"backgroundcolor\":\"#E5ECF6\",\"gridcolor\":\"white\",\"gridwidth\":2,\"linecolor\":\"white\",\"showbackground\":true,\"ticks\":\"\",\"zerolinecolor\":\"white\"},\"yaxis\":{\"backgroundcolor\":\"#E5ECF6\",\"gridcolor\":\"white\",\"gridwidth\":2,\"linecolor\":\"white\",\"showbackground\":true,\"ticks\":\"\",\"zerolinecolor\":\"white\"},\"zaxis\":{\"backgroundcolor\":\"#E5ECF6\",\"gridcolor\":\"white\",\"gridwidth\":2,\"linecolor\":\"white\",\"showbackground\":true,\"ticks\":\"\",\"zerolinecolor\":\"white\"}},\"shapedefaults\":{\"line\":{\"color\":\"#2a3f5f\"}},\"ternary\":{\"aaxis\":{\"gridcolor\":\"white\",\"linecolor\":\"white\",\"ticks\":\"\"},\"baxis\":{\"gridcolor\":\"white\",\"linecolor\":\"white\",\"ticks\":\"\"},\"bgcolor\":\"#E5ECF6\",\"caxis\":{\"gridcolor\":\"white\",\"linecolor\":\"white\",\"ticks\":\"\"}},\"title\":{\"x\":0.05},\"xaxis\":{\"automargin\":true,\"gridcolor\":\"white\",\"linecolor\":\"white\",\"ticks\":\"\",\"title\":{\"standoff\":15},\"zerolinecolor\":\"white\",\"zerolinewidth\":2},\"yaxis\":{\"automargin\":true,\"gridcolor\":\"white\",\"linecolor\":\"white\",\"ticks\":\"\",\"title\":{\"standoff\":15},\"zerolinecolor\":\"white\",\"zerolinewidth\":2}}},\"title\":{\"font\":{\"color\":\"#4D5663\"}},\"xaxis\":{\"gridcolor\":\"#E1E5ED\",\"showgrid\":true,\"tickfont\":{\"color\":\"#4D5663\"},\"title\":{\"font\":{\"color\":\"#4D5663\"},\"text\":\"\"},\"zerolinecolor\":\"#E1E5ED\"},\"yaxis\":{\"gridcolor\":\"#E1E5ED\",\"showgrid\":true,\"tickfont\":{\"color\":\"#4D5663\"},\"title\":{\"font\":{\"color\":\"#4D5663\"},\"text\":\"\"},\"zerolinecolor\":\"#E1E5ED\"}},                        {\"showLink\": true, \"linkText\": \"Export to plot.ly\", \"plotlyServerURL\": \"https://plot.ly\", \"responsive\": true}                    ).then(function(){\n",
       "                            \n",
       "var gd = document.getElementById('33466340-dfae-4c7c-9767-0add4f11779a');\n",
       "var x = new MutationObserver(function (mutations, observer) {{\n",
       "        var display = window.getComputedStyle(gd).display;\n",
       "        if (!display || display === 'none') {{\n",
       "            console.log([gd, 'removed!']);\n",
       "            Plotly.purge(gd);\n",
       "            observer.disconnect();\n",
       "        }}\n",
       "}});\n",
       "\n",
       "// Listen for the removal of the full notebook cells\n",
       "var notebookContainer = gd.closest('#notebook-container');\n",
       "if (notebookContainer) {{\n",
       "    x.observe(notebookContainer, {childList: true});\n",
       "}}\n",
       "\n",
       "// Listen for the clearing of the current output cell\n",
       "var outputEl = gd.closest('.output');\n",
       "if (outputEl) {{\n",
       "    x.observe(outputEl, {childList: true});\n",
       "}}\n",
       "\n",
       "                        })                };                });            </script>        </div>"
      ]
     },
     "metadata": {},
     "output_type": "display_data"
    }
   ],
   "source": [
    "df[[\"A\",\"B\"]].iplot()"
   ]
  },
  {
   "cell_type": "code",
   "execution_count": 16,
   "id": "557dbfe4",
   "metadata": {},
   "outputs": [
    {
     "data": {
      "application/vnd.plotly.v1+json": {
       "config": {
        "linkText": "Export to plot.ly",
        "plotlyServerURL": "https://plot.ly",
        "showLink": true
       },
       "data": [
        {
         "line": {
          "color": "rgba(255, 153, 51, 1.0)",
          "dash": "solid",
          "shape": "linear",
          "width": 1.3
         },
         "marker": {
          "size": 12,
          "symbol": "circle"
         },
         "mode": "markers",
         "name": "B",
         "text": "",
         "type": "scatter",
         "x": [
          -0.629400460736606,
          -0.3902511837428377,
          -0.5591700478406222,
          -0.5015750659259559,
          -0.6028247757790585,
          -1.7552895707056984,
          0.3728303295489695,
          -0.9949058872060896,
          1.383786061209142,
          -0.7478723956059203,
          0.06816934594778336,
          0.3141341819011735,
          -1.4434647152951174,
          0.4279880196945129,
          -2.7094890740900803,
          0.13506963265460648,
          -0.3362772326824624,
          -1.003162479173856,
          -0.9417909848304834,
          0.12809221322659364,
          -0.9761844606375003,
          0.851597093857289,
          -0.2174753543117878,
          0.16923231361532318,
          -1.196108833893656,
          -1.4490166364502461,
          -0.43386109420639013,
          1.097856069838825,
          -0.3105310538314359,
          -0.3169866600355245,
          1.592962498055057,
          0.9758423831858871,
          -1.3671182139924076,
          0.7817958007205139,
          -1.3911274721075122,
          0.12975350981883296,
          1.13847634366471,
          1.8672274817233254,
          -0.7504577680021094,
          1.7846896247177337,
          1.0793488689838349,
          -1.0844765858716827,
          -0.3516404570166523,
          0.9227502103917912,
          0.3755932851618663,
          0.3778890996717057,
          1.680119511266985,
          -0.4599735982942427,
          1.5985393735185909,
          1.0563349091055834,
          -1.0911352575440694,
          1.7417271070535496,
          -1.3100266243771161,
          -0.3876135929450466,
          0.9025719152875156,
          1.401243501430797,
          -1.2969497206273086,
          -1.2048928883655137,
          1.3573070492269648,
          0.05766322435151034,
          0.29981192742332086,
          1.5170818674960982,
          2.155478704025667,
          0.8024742835998596,
          0.40266903970292495,
          -1.3623380036310104,
          -0.9347835030015103,
          -0.023410056738022517,
          -1.072457943276233,
          0.8831066668343588,
          1.8136193860509642,
          -0.18934701060634257,
          -0.7986253409908879,
          1.6043882256104582,
          -1.3412563333112506,
          -1.5577062645161655,
          -1.3566037510986833,
          0.04005495647472767,
          0.2708046082479397,
          -0.9634981045226241,
          0.8583993616190417,
          -0.6470050959406236,
          -0.5512575986366849,
          2.071338692577119,
          1.5052688721826468,
          -0.617246691643328,
          1.4552686037187066,
          0.5720417545278373,
          -1.1152513286714432,
          1.7410978052511834,
          0.8914819708996335,
          -0.6908395795783034,
          1.414032221853257,
          -1.2057589945974467,
          0.6833974114014549,
          -1.2187494324750037,
          0.025605567304754343,
          -0.6574804043471983,
          0.04405104857084567,
          1.33018346090302
         ],
         "y": [
          0.4103450482823756,
          -0.23277879634899593,
          -0.45086136540875726,
          -0.08376735759564617,
          0.013872231247996124,
          -0.07072690859130389,
          0.30681170864600404,
          1.2902872300683392,
          -0.3265296450613535,
          0.10747041706050438,
          -0.4891966860282878,
          0.1321546966645771,
          2.2002266533209984,
          2.827921795219644,
          1.4213390904822027,
          -0.40481684699662795,
          0.8777377019046946,
          -0.5915210626668627,
          0.23237752609932294,
          0.10802408268723265,
          -0.4989964964726072,
          -0.17693190406338596,
          0.31980787789478055,
          0.8585326836819313,
          -1.5714924413997264,
          -0.5285087993679705,
          0.4446605522951421,
          -0.4261044334302472,
          0.04041835504896138,
          -0.2102461439854402,
          0.8853158428254773,
          -0.9926023261355174,
          0.7837779223912771,
          1.6207142996018502,
          -0.31222240376226895,
          0.21669648190985635,
          -0.005778545670522539,
          0.2424273620179277,
          1.0604864388343094,
          0.5405949217925212,
          -0.028827349523677923,
          -0.19992850944368576,
          -0.07932311155494266,
          -1.487415209783587,
          0.25772607668232306,
          0.659067678454487,
          0.7764559512979428,
          1.1811473518576816,
          1.269253528510618,
          -0.10593976314056446,
          -2.2033948416823987,
          -0.26099399205439405,
          -0.035842618820022584,
          -0.436740003503195,
          -0.7347854957866872,
          -1.474470346831659,
          0.2856744360831367,
          -0.6987609147597583,
          0.25012931898644164,
          -1.3175865204408947,
          0.09478695458135028,
          1.8709144399634727,
          0.26797206469934276,
          -1.3953358629453787,
          -0.6945329566849582,
          1.555621068767977,
          0.8283772246580962,
          -0.8420550563881509,
          0.805777476671103,
          -1.1529198884152143,
          -0.13563746306624466,
          -0.24579363705319546,
          -0.846884195632001,
          -0.6643522082710484,
          0.7052085498958576,
          -1.6877108081600287,
          0.020389419260974217,
          -0.41756781346012556,
          -0.8676788986975928,
          -2.5653389961604987,
          -0.34799695926298335,
          0.7409356257488319,
          0.4199756934089848,
          -0.18905296451511472,
          -0.7275775921980504,
          -1.7658346002170116,
          -0.8494415212511488,
          0.06516189570040587,
          -1.0812781607038502,
          1.182463220527681,
          -0.1828465609009514,
          -1.6925573120184574,
          0.2528746913720982,
          1.2151401118568756,
          -0.49604662980129016,
          -1.1333482603578835,
          -1.2871159652833557,
          1.2333219879816024,
          0.2863728726007531,
          -0.4379191310630423
         ]
        }
       ],
       "layout": {
        "legend": {
         "bgcolor": "#F5F6F9",
         "font": {
          "color": "#4D5663"
         }
        },
        "paper_bgcolor": "#F5F6F9",
        "plot_bgcolor": "#F5F6F9",
        "template": {
         "data": {
          "bar": [
           {
            "error_x": {
             "color": "#2a3f5f"
            },
            "error_y": {
             "color": "#2a3f5f"
            },
            "marker": {
             "line": {
              "color": "#E5ECF6",
              "width": 0.5
             },
             "pattern": {
              "fillmode": "overlay",
              "size": 10,
              "solidity": 0.2
             }
            },
            "type": "bar"
           }
          ],
          "barpolar": [
           {
            "marker": {
             "line": {
              "color": "#E5ECF6",
              "width": 0.5
             },
             "pattern": {
              "fillmode": "overlay",
              "size": 10,
              "solidity": 0.2
             }
            },
            "type": "barpolar"
           }
          ],
          "carpet": [
           {
            "aaxis": {
             "endlinecolor": "#2a3f5f",
             "gridcolor": "white",
             "linecolor": "white",
             "minorgridcolor": "white",
             "startlinecolor": "#2a3f5f"
            },
            "baxis": {
             "endlinecolor": "#2a3f5f",
             "gridcolor": "white",
             "linecolor": "white",
             "minorgridcolor": "white",
             "startlinecolor": "#2a3f5f"
            },
            "type": "carpet"
           }
          ],
          "choropleth": [
           {
            "colorbar": {
             "outlinewidth": 0,
             "ticks": ""
            },
            "type": "choropleth"
           }
          ],
          "contour": [
           {
            "colorbar": {
             "outlinewidth": 0,
             "ticks": ""
            },
            "colorscale": [
             [
              0,
              "#0d0887"
             ],
             [
              0.1111111111111111,
              "#46039f"
             ],
             [
              0.2222222222222222,
              "#7201a8"
             ],
             [
              0.3333333333333333,
              "#9c179e"
             ],
             [
              0.4444444444444444,
              "#bd3786"
             ],
             [
              0.5555555555555556,
              "#d8576b"
             ],
             [
              0.6666666666666666,
              "#ed7953"
             ],
             [
              0.7777777777777778,
              "#fb9f3a"
             ],
             [
              0.8888888888888888,
              "#fdca26"
             ],
             [
              1,
              "#f0f921"
             ]
            ],
            "type": "contour"
           }
          ],
          "contourcarpet": [
           {
            "colorbar": {
             "outlinewidth": 0,
             "ticks": ""
            },
            "type": "contourcarpet"
           }
          ],
          "heatmap": [
           {
            "colorbar": {
             "outlinewidth": 0,
             "ticks": ""
            },
            "colorscale": [
             [
              0,
              "#0d0887"
             ],
             [
              0.1111111111111111,
              "#46039f"
             ],
             [
              0.2222222222222222,
              "#7201a8"
             ],
             [
              0.3333333333333333,
              "#9c179e"
             ],
             [
              0.4444444444444444,
              "#bd3786"
             ],
             [
              0.5555555555555556,
              "#d8576b"
             ],
             [
              0.6666666666666666,
              "#ed7953"
             ],
             [
              0.7777777777777778,
              "#fb9f3a"
             ],
             [
              0.8888888888888888,
              "#fdca26"
             ],
             [
              1,
              "#f0f921"
             ]
            ],
            "type": "heatmap"
           }
          ],
          "heatmapgl": [
           {
            "colorbar": {
             "outlinewidth": 0,
             "ticks": ""
            },
            "colorscale": [
             [
              0,
              "#0d0887"
             ],
             [
              0.1111111111111111,
              "#46039f"
             ],
             [
              0.2222222222222222,
              "#7201a8"
             ],
             [
              0.3333333333333333,
              "#9c179e"
             ],
             [
              0.4444444444444444,
              "#bd3786"
             ],
             [
              0.5555555555555556,
              "#d8576b"
             ],
             [
              0.6666666666666666,
              "#ed7953"
             ],
             [
              0.7777777777777778,
              "#fb9f3a"
             ],
             [
              0.8888888888888888,
              "#fdca26"
             ],
             [
              1,
              "#f0f921"
             ]
            ],
            "type": "heatmapgl"
           }
          ],
          "histogram": [
           {
            "marker": {
             "pattern": {
              "fillmode": "overlay",
              "size": 10,
              "solidity": 0.2
             }
            },
            "type": "histogram"
           }
          ],
          "histogram2d": [
           {
            "colorbar": {
             "outlinewidth": 0,
             "ticks": ""
            },
            "colorscale": [
             [
              0,
              "#0d0887"
             ],
             [
              0.1111111111111111,
              "#46039f"
             ],
             [
              0.2222222222222222,
              "#7201a8"
             ],
             [
              0.3333333333333333,
              "#9c179e"
             ],
             [
              0.4444444444444444,
              "#bd3786"
             ],
             [
              0.5555555555555556,
              "#d8576b"
             ],
             [
              0.6666666666666666,
              "#ed7953"
             ],
             [
              0.7777777777777778,
              "#fb9f3a"
             ],
             [
              0.8888888888888888,
              "#fdca26"
             ],
             [
              1,
              "#f0f921"
             ]
            ],
            "type": "histogram2d"
           }
          ],
          "histogram2dcontour": [
           {
            "colorbar": {
             "outlinewidth": 0,
             "ticks": ""
            },
            "colorscale": [
             [
              0,
              "#0d0887"
             ],
             [
              0.1111111111111111,
              "#46039f"
             ],
             [
              0.2222222222222222,
              "#7201a8"
             ],
             [
              0.3333333333333333,
              "#9c179e"
             ],
             [
              0.4444444444444444,
              "#bd3786"
             ],
             [
              0.5555555555555556,
              "#d8576b"
             ],
             [
              0.6666666666666666,
              "#ed7953"
             ],
             [
              0.7777777777777778,
              "#fb9f3a"
             ],
             [
              0.8888888888888888,
              "#fdca26"
             ],
             [
              1,
              "#f0f921"
             ]
            ],
            "type": "histogram2dcontour"
           }
          ],
          "mesh3d": [
           {
            "colorbar": {
             "outlinewidth": 0,
             "ticks": ""
            },
            "type": "mesh3d"
           }
          ],
          "parcoords": [
           {
            "line": {
             "colorbar": {
              "outlinewidth": 0,
              "ticks": ""
             }
            },
            "type": "parcoords"
           }
          ],
          "pie": [
           {
            "automargin": true,
            "type": "pie"
           }
          ],
          "scatter": [
           {
            "fillpattern": {
             "fillmode": "overlay",
             "size": 10,
             "solidity": 0.2
            },
            "type": "scatter"
           }
          ],
          "scatter3d": [
           {
            "line": {
             "colorbar": {
              "outlinewidth": 0,
              "ticks": ""
             }
            },
            "marker": {
             "colorbar": {
              "outlinewidth": 0,
              "ticks": ""
             }
            },
            "type": "scatter3d"
           }
          ],
          "scattercarpet": [
           {
            "marker": {
             "colorbar": {
              "outlinewidth": 0,
              "ticks": ""
             }
            },
            "type": "scattercarpet"
           }
          ],
          "scattergeo": [
           {
            "marker": {
             "colorbar": {
              "outlinewidth": 0,
              "ticks": ""
             }
            },
            "type": "scattergeo"
           }
          ],
          "scattergl": [
           {
            "marker": {
             "colorbar": {
              "outlinewidth": 0,
              "ticks": ""
             }
            },
            "type": "scattergl"
           }
          ],
          "scattermapbox": [
           {
            "marker": {
             "colorbar": {
              "outlinewidth": 0,
              "ticks": ""
             }
            },
            "type": "scattermapbox"
           }
          ],
          "scatterpolar": [
           {
            "marker": {
             "colorbar": {
              "outlinewidth": 0,
              "ticks": ""
             }
            },
            "type": "scatterpolar"
           }
          ],
          "scatterpolargl": [
           {
            "marker": {
             "colorbar": {
              "outlinewidth": 0,
              "ticks": ""
             }
            },
            "type": "scatterpolargl"
           }
          ],
          "scatterternary": [
           {
            "marker": {
             "colorbar": {
              "outlinewidth": 0,
              "ticks": ""
             }
            },
            "type": "scatterternary"
           }
          ],
          "surface": [
           {
            "colorbar": {
             "outlinewidth": 0,
             "ticks": ""
            },
            "colorscale": [
             [
              0,
              "#0d0887"
             ],
             [
              0.1111111111111111,
              "#46039f"
             ],
             [
              0.2222222222222222,
              "#7201a8"
             ],
             [
              0.3333333333333333,
              "#9c179e"
             ],
             [
              0.4444444444444444,
              "#bd3786"
             ],
             [
              0.5555555555555556,
              "#d8576b"
             ],
             [
              0.6666666666666666,
              "#ed7953"
             ],
             [
              0.7777777777777778,
              "#fb9f3a"
             ],
             [
              0.8888888888888888,
              "#fdca26"
             ],
             [
              1,
              "#f0f921"
             ]
            ],
            "type": "surface"
           }
          ],
          "table": [
           {
            "cells": {
             "fill": {
              "color": "#EBF0F8"
             },
             "line": {
              "color": "white"
             }
            },
            "header": {
             "fill": {
              "color": "#C8D4E3"
             },
             "line": {
              "color": "white"
             }
            },
            "type": "table"
           }
          ]
         },
         "layout": {
          "annotationdefaults": {
           "arrowcolor": "#2a3f5f",
           "arrowhead": 0,
           "arrowwidth": 1
          },
          "autotypenumbers": "strict",
          "coloraxis": {
           "colorbar": {
            "outlinewidth": 0,
            "ticks": ""
           }
          },
          "colorscale": {
           "diverging": [
            [
             0,
             "#8e0152"
            ],
            [
             0.1,
             "#c51b7d"
            ],
            [
             0.2,
             "#de77ae"
            ],
            [
             0.3,
             "#f1b6da"
            ],
            [
             0.4,
             "#fde0ef"
            ],
            [
             0.5,
             "#f7f7f7"
            ],
            [
             0.6,
             "#e6f5d0"
            ],
            [
             0.7,
             "#b8e186"
            ],
            [
             0.8,
             "#7fbc41"
            ],
            [
             0.9,
             "#4d9221"
            ],
            [
             1,
             "#276419"
            ]
           ],
           "sequential": [
            [
             0,
             "#0d0887"
            ],
            [
             0.1111111111111111,
             "#46039f"
            ],
            [
             0.2222222222222222,
             "#7201a8"
            ],
            [
             0.3333333333333333,
             "#9c179e"
            ],
            [
             0.4444444444444444,
             "#bd3786"
            ],
            [
             0.5555555555555556,
             "#d8576b"
            ],
            [
             0.6666666666666666,
             "#ed7953"
            ],
            [
             0.7777777777777778,
             "#fb9f3a"
            ],
            [
             0.8888888888888888,
             "#fdca26"
            ],
            [
             1,
             "#f0f921"
            ]
           ],
           "sequentialminus": [
            [
             0,
             "#0d0887"
            ],
            [
             0.1111111111111111,
             "#46039f"
            ],
            [
             0.2222222222222222,
             "#7201a8"
            ],
            [
             0.3333333333333333,
             "#9c179e"
            ],
            [
             0.4444444444444444,
             "#bd3786"
            ],
            [
             0.5555555555555556,
             "#d8576b"
            ],
            [
             0.6666666666666666,
             "#ed7953"
            ],
            [
             0.7777777777777778,
             "#fb9f3a"
            ],
            [
             0.8888888888888888,
             "#fdca26"
            ],
            [
             1,
             "#f0f921"
            ]
           ]
          },
          "colorway": [
           "#636efa",
           "#EF553B",
           "#00cc96",
           "#ab63fa",
           "#FFA15A",
           "#19d3f3",
           "#FF6692",
           "#B6E880",
           "#FF97FF",
           "#FECB52"
          ],
          "font": {
           "color": "#2a3f5f"
          },
          "geo": {
           "bgcolor": "white",
           "lakecolor": "white",
           "landcolor": "#E5ECF6",
           "showlakes": true,
           "showland": true,
           "subunitcolor": "white"
          },
          "hoverlabel": {
           "align": "left"
          },
          "hovermode": "closest",
          "mapbox": {
           "style": "light"
          },
          "paper_bgcolor": "white",
          "plot_bgcolor": "#E5ECF6",
          "polar": {
           "angularaxis": {
            "gridcolor": "white",
            "linecolor": "white",
            "ticks": ""
           },
           "bgcolor": "#E5ECF6",
           "radialaxis": {
            "gridcolor": "white",
            "linecolor": "white",
            "ticks": ""
           }
          },
          "scene": {
           "xaxis": {
            "backgroundcolor": "#E5ECF6",
            "gridcolor": "white",
            "gridwidth": 2,
            "linecolor": "white",
            "showbackground": true,
            "ticks": "",
            "zerolinecolor": "white"
           },
           "yaxis": {
            "backgroundcolor": "#E5ECF6",
            "gridcolor": "white",
            "gridwidth": 2,
            "linecolor": "white",
            "showbackground": true,
            "ticks": "",
            "zerolinecolor": "white"
           },
           "zaxis": {
            "backgroundcolor": "#E5ECF6",
            "gridcolor": "white",
            "gridwidth": 2,
            "linecolor": "white",
            "showbackground": true,
            "ticks": "",
            "zerolinecolor": "white"
           }
          },
          "shapedefaults": {
           "line": {
            "color": "#2a3f5f"
           }
          },
          "ternary": {
           "aaxis": {
            "gridcolor": "white",
            "linecolor": "white",
            "ticks": ""
           },
           "baxis": {
            "gridcolor": "white",
            "linecolor": "white",
            "ticks": ""
           },
           "bgcolor": "#E5ECF6",
           "caxis": {
            "gridcolor": "white",
            "linecolor": "white",
            "ticks": ""
           }
          },
          "title": {
           "x": 0.05
          },
          "xaxis": {
           "automargin": true,
           "gridcolor": "white",
           "linecolor": "white",
           "ticks": "",
           "title": {
            "standoff": 15
           },
           "zerolinecolor": "white",
           "zerolinewidth": 2
          },
          "yaxis": {
           "automargin": true,
           "gridcolor": "white",
           "linecolor": "white",
           "ticks": "",
           "title": {
            "standoff": 15
           },
           "zerolinecolor": "white",
           "zerolinewidth": 2
          }
         }
        },
        "title": {
         "font": {
          "color": "#4D5663"
         }
        },
        "xaxis": {
         "gridcolor": "#E1E5ED",
         "showgrid": true,
         "tickfont": {
          "color": "#4D5663"
         },
         "title": {
          "font": {
           "color": "#4D5663"
          },
          "text": ""
         },
         "zerolinecolor": "#E1E5ED"
        },
        "yaxis": {
         "gridcolor": "#E1E5ED",
         "showgrid": true,
         "tickfont": {
          "color": "#4D5663"
         },
         "title": {
          "font": {
           "color": "#4D5663"
          },
          "text": ""
         },
         "zerolinecolor": "#E1E5ED"
        }
       }
      },
      "text/html": [
       "<div>                            <div id=\"0ba92a40-5127-4b04-a748-7deda110a4dd\" class=\"plotly-graph-div\" style=\"height:525px; width:100%;\"></div>            <script type=\"text/javascript\">                require([\"plotly\"], function(Plotly) {                    window.PLOTLYENV=window.PLOTLYENV || {};\n",
       "                    window.PLOTLYENV.BASE_URL='https://plot.ly';                                    if (document.getElementById(\"0ba92a40-5127-4b04-a748-7deda110a4dd\")) {                    Plotly.newPlot(                        \"0ba92a40-5127-4b04-a748-7deda110a4dd\",                        [{\"line\":{\"color\":\"rgba(255, 153, 51, 1.0)\",\"dash\":\"solid\",\"shape\":\"linear\",\"width\":1.3},\"marker\":{\"size\":12,\"symbol\":\"circle\"},\"mode\":\"markers\",\"name\":\"B\",\"text\":\"\",\"x\":[-0.629400460736606,-0.3902511837428377,-0.5591700478406222,-0.5015750659259559,-0.6028247757790585,-1.7552895707056984,0.3728303295489695,-0.9949058872060896,1.383786061209142,-0.7478723956059203,0.06816934594778336,0.3141341819011735,-1.4434647152951174,0.4279880196945129,-2.7094890740900803,0.13506963265460648,-0.3362772326824624,-1.003162479173856,-0.9417909848304834,0.12809221322659364,-0.9761844606375003,0.851597093857289,-0.2174753543117878,0.16923231361532318,-1.196108833893656,-1.4490166364502461,-0.43386109420639013,1.097856069838825,-0.3105310538314359,-0.3169866600355245,1.592962498055057,0.9758423831858871,-1.3671182139924076,0.7817958007205139,-1.3911274721075122,0.12975350981883296,1.13847634366471,1.8672274817233254,-0.7504577680021094,1.7846896247177337,1.0793488689838349,-1.0844765858716827,-0.3516404570166523,0.9227502103917912,0.3755932851618663,0.3778890996717057,1.680119511266985,-0.4599735982942427,1.5985393735185909,1.0563349091055834,-1.0911352575440694,1.7417271070535496,-1.3100266243771161,-0.3876135929450466,0.9025719152875156,1.401243501430797,-1.2969497206273086,-1.2048928883655137,1.3573070492269648,0.05766322435151034,0.29981192742332086,1.5170818674960982,2.155478704025667,0.8024742835998596,0.40266903970292495,-1.3623380036310104,-0.9347835030015103,-0.023410056738022517,-1.072457943276233,0.8831066668343588,1.8136193860509642,-0.18934701060634257,-0.7986253409908879,1.6043882256104582,-1.3412563333112506,-1.5577062645161655,-1.3566037510986833,0.04005495647472767,0.2708046082479397,-0.9634981045226241,0.8583993616190417,-0.6470050959406236,-0.5512575986366849,2.071338692577119,1.5052688721826468,-0.617246691643328,1.4552686037187066,0.5720417545278373,-1.1152513286714432,1.7410978052511834,0.8914819708996335,-0.6908395795783034,1.414032221853257,-1.2057589945974467,0.6833974114014549,-1.2187494324750037,0.025605567304754343,-0.6574804043471983,0.04405104857084567,1.33018346090302],\"y\":[0.4103450482823756,-0.23277879634899593,-0.45086136540875726,-0.08376735759564617,0.013872231247996124,-0.07072690859130389,0.30681170864600404,1.2902872300683392,-0.3265296450613535,0.10747041706050438,-0.4891966860282878,0.1321546966645771,2.2002266533209984,2.827921795219644,1.4213390904822027,-0.40481684699662795,0.8777377019046946,-0.5915210626668627,0.23237752609932294,0.10802408268723265,-0.4989964964726072,-0.17693190406338596,0.31980787789478055,0.8585326836819313,-1.5714924413997264,-0.5285087993679705,0.4446605522951421,-0.4261044334302472,0.04041835504896138,-0.2102461439854402,0.8853158428254773,-0.9926023261355174,0.7837779223912771,1.6207142996018502,-0.31222240376226895,0.21669648190985635,-0.005778545670522539,0.2424273620179277,1.0604864388343094,0.5405949217925212,-0.028827349523677923,-0.19992850944368576,-0.07932311155494266,-1.487415209783587,0.25772607668232306,0.659067678454487,0.7764559512979428,1.1811473518576816,1.269253528510618,-0.10593976314056446,-2.2033948416823987,-0.26099399205439405,-0.035842618820022584,-0.436740003503195,-0.7347854957866872,-1.474470346831659,0.2856744360831367,-0.6987609147597583,0.25012931898644164,-1.3175865204408947,0.09478695458135028,1.8709144399634727,0.26797206469934276,-1.3953358629453787,-0.6945329566849582,1.555621068767977,0.8283772246580962,-0.8420550563881509,0.805777476671103,-1.1529198884152143,-0.13563746306624466,-0.24579363705319546,-0.846884195632001,-0.6643522082710484,0.7052085498958576,-1.6877108081600287,0.020389419260974217,-0.41756781346012556,-0.8676788986975928,-2.5653389961604987,-0.34799695926298335,0.7409356257488319,0.4199756934089848,-0.18905296451511472,-0.7275775921980504,-1.7658346002170116,-0.8494415212511488,0.06516189570040587,-1.0812781607038502,1.182463220527681,-0.1828465609009514,-1.6925573120184574,0.2528746913720982,1.2151401118568756,-0.49604662980129016,-1.1333482603578835,-1.2871159652833557,1.2333219879816024,0.2863728726007531,-0.4379191310630423],\"type\":\"scatter\"}],                        {\"legend\":{\"bgcolor\":\"#F5F6F9\",\"font\":{\"color\":\"#4D5663\"}},\"paper_bgcolor\":\"#F5F6F9\",\"plot_bgcolor\":\"#F5F6F9\",\"template\":{\"data\":{\"barpolar\":[{\"marker\":{\"line\":{\"color\":\"#E5ECF6\",\"width\":0.5},\"pattern\":{\"fillmode\":\"overlay\",\"size\":10,\"solidity\":0.2}},\"type\":\"barpolar\"}],\"bar\":[{\"error_x\":{\"color\":\"#2a3f5f\"},\"error_y\":{\"color\":\"#2a3f5f\"},\"marker\":{\"line\":{\"color\":\"#E5ECF6\",\"width\":0.5},\"pattern\":{\"fillmode\":\"overlay\",\"size\":10,\"solidity\":0.2}},\"type\":\"bar\"}],\"carpet\":[{\"aaxis\":{\"endlinecolor\":\"#2a3f5f\",\"gridcolor\":\"white\",\"linecolor\":\"white\",\"minorgridcolor\":\"white\",\"startlinecolor\":\"#2a3f5f\"},\"baxis\":{\"endlinecolor\":\"#2a3f5f\",\"gridcolor\":\"white\",\"linecolor\":\"white\",\"minorgridcolor\":\"white\",\"startlinecolor\":\"#2a3f5f\"},\"type\":\"carpet\"}],\"choropleth\":[{\"colorbar\":{\"outlinewidth\":0,\"ticks\":\"\"},\"type\":\"choropleth\"}],\"contourcarpet\":[{\"colorbar\":{\"outlinewidth\":0,\"ticks\":\"\"},\"type\":\"contourcarpet\"}],\"contour\":[{\"colorbar\":{\"outlinewidth\":0,\"ticks\":\"\"},\"colorscale\":[[0.0,\"#0d0887\"],[0.1111111111111111,\"#46039f\"],[0.2222222222222222,\"#7201a8\"],[0.3333333333333333,\"#9c179e\"],[0.4444444444444444,\"#bd3786\"],[0.5555555555555556,\"#d8576b\"],[0.6666666666666666,\"#ed7953\"],[0.7777777777777778,\"#fb9f3a\"],[0.8888888888888888,\"#fdca26\"],[1.0,\"#f0f921\"]],\"type\":\"contour\"}],\"heatmapgl\":[{\"colorbar\":{\"outlinewidth\":0,\"ticks\":\"\"},\"colorscale\":[[0.0,\"#0d0887\"],[0.1111111111111111,\"#46039f\"],[0.2222222222222222,\"#7201a8\"],[0.3333333333333333,\"#9c179e\"],[0.4444444444444444,\"#bd3786\"],[0.5555555555555556,\"#d8576b\"],[0.6666666666666666,\"#ed7953\"],[0.7777777777777778,\"#fb9f3a\"],[0.8888888888888888,\"#fdca26\"],[1.0,\"#f0f921\"]],\"type\":\"heatmapgl\"}],\"heatmap\":[{\"colorbar\":{\"outlinewidth\":0,\"ticks\":\"\"},\"colorscale\":[[0.0,\"#0d0887\"],[0.1111111111111111,\"#46039f\"],[0.2222222222222222,\"#7201a8\"],[0.3333333333333333,\"#9c179e\"],[0.4444444444444444,\"#bd3786\"],[0.5555555555555556,\"#d8576b\"],[0.6666666666666666,\"#ed7953\"],[0.7777777777777778,\"#fb9f3a\"],[0.8888888888888888,\"#fdca26\"],[1.0,\"#f0f921\"]],\"type\":\"heatmap\"}],\"histogram2dcontour\":[{\"colorbar\":{\"outlinewidth\":0,\"ticks\":\"\"},\"colorscale\":[[0.0,\"#0d0887\"],[0.1111111111111111,\"#46039f\"],[0.2222222222222222,\"#7201a8\"],[0.3333333333333333,\"#9c179e\"],[0.4444444444444444,\"#bd3786\"],[0.5555555555555556,\"#d8576b\"],[0.6666666666666666,\"#ed7953\"],[0.7777777777777778,\"#fb9f3a\"],[0.8888888888888888,\"#fdca26\"],[1.0,\"#f0f921\"]],\"type\":\"histogram2dcontour\"}],\"histogram2d\":[{\"colorbar\":{\"outlinewidth\":0,\"ticks\":\"\"},\"colorscale\":[[0.0,\"#0d0887\"],[0.1111111111111111,\"#46039f\"],[0.2222222222222222,\"#7201a8\"],[0.3333333333333333,\"#9c179e\"],[0.4444444444444444,\"#bd3786\"],[0.5555555555555556,\"#d8576b\"],[0.6666666666666666,\"#ed7953\"],[0.7777777777777778,\"#fb9f3a\"],[0.8888888888888888,\"#fdca26\"],[1.0,\"#f0f921\"]],\"type\":\"histogram2d\"}],\"histogram\":[{\"marker\":{\"pattern\":{\"fillmode\":\"overlay\",\"size\":10,\"solidity\":0.2}},\"type\":\"histogram\"}],\"mesh3d\":[{\"colorbar\":{\"outlinewidth\":0,\"ticks\":\"\"},\"type\":\"mesh3d\"}],\"parcoords\":[{\"line\":{\"colorbar\":{\"outlinewidth\":0,\"ticks\":\"\"}},\"type\":\"parcoords\"}],\"pie\":[{\"automargin\":true,\"type\":\"pie\"}],\"scatter3d\":[{\"line\":{\"colorbar\":{\"outlinewidth\":0,\"ticks\":\"\"}},\"marker\":{\"colorbar\":{\"outlinewidth\":0,\"ticks\":\"\"}},\"type\":\"scatter3d\"}],\"scattercarpet\":[{\"marker\":{\"colorbar\":{\"outlinewidth\":0,\"ticks\":\"\"}},\"type\":\"scattercarpet\"}],\"scattergeo\":[{\"marker\":{\"colorbar\":{\"outlinewidth\":0,\"ticks\":\"\"}},\"type\":\"scattergeo\"}],\"scattergl\":[{\"marker\":{\"colorbar\":{\"outlinewidth\":0,\"ticks\":\"\"}},\"type\":\"scattergl\"}],\"scattermapbox\":[{\"marker\":{\"colorbar\":{\"outlinewidth\":0,\"ticks\":\"\"}},\"type\":\"scattermapbox\"}],\"scatterpolargl\":[{\"marker\":{\"colorbar\":{\"outlinewidth\":0,\"ticks\":\"\"}},\"type\":\"scatterpolargl\"}],\"scatterpolar\":[{\"marker\":{\"colorbar\":{\"outlinewidth\":0,\"ticks\":\"\"}},\"type\":\"scatterpolar\"}],\"scatter\":[{\"fillpattern\":{\"fillmode\":\"overlay\",\"size\":10,\"solidity\":0.2},\"type\":\"scatter\"}],\"scatterternary\":[{\"marker\":{\"colorbar\":{\"outlinewidth\":0,\"ticks\":\"\"}},\"type\":\"scatterternary\"}],\"surface\":[{\"colorbar\":{\"outlinewidth\":0,\"ticks\":\"\"},\"colorscale\":[[0.0,\"#0d0887\"],[0.1111111111111111,\"#46039f\"],[0.2222222222222222,\"#7201a8\"],[0.3333333333333333,\"#9c179e\"],[0.4444444444444444,\"#bd3786\"],[0.5555555555555556,\"#d8576b\"],[0.6666666666666666,\"#ed7953\"],[0.7777777777777778,\"#fb9f3a\"],[0.8888888888888888,\"#fdca26\"],[1.0,\"#f0f921\"]],\"type\":\"surface\"}],\"table\":[{\"cells\":{\"fill\":{\"color\":\"#EBF0F8\"},\"line\":{\"color\":\"white\"}},\"header\":{\"fill\":{\"color\":\"#C8D4E3\"},\"line\":{\"color\":\"white\"}},\"type\":\"table\"}]},\"layout\":{\"annotationdefaults\":{\"arrowcolor\":\"#2a3f5f\",\"arrowhead\":0,\"arrowwidth\":1},\"autotypenumbers\":\"strict\",\"coloraxis\":{\"colorbar\":{\"outlinewidth\":0,\"ticks\":\"\"}},\"colorscale\":{\"diverging\":[[0,\"#8e0152\"],[0.1,\"#c51b7d\"],[0.2,\"#de77ae\"],[0.3,\"#f1b6da\"],[0.4,\"#fde0ef\"],[0.5,\"#f7f7f7\"],[0.6,\"#e6f5d0\"],[0.7,\"#b8e186\"],[0.8,\"#7fbc41\"],[0.9,\"#4d9221\"],[1,\"#276419\"]],\"sequential\":[[0.0,\"#0d0887\"],[0.1111111111111111,\"#46039f\"],[0.2222222222222222,\"#7201a8\"],[0.3333333333333333,\"#9c179e\"],[0.4444444444444444,\"#bd3786\"],[0.5555555555555556,\"#d8576b\"],[0.6666666666666666,\"#ed7953\"],[0.7777777777777778,\"#fb9f3a\"],[0.8888888888888888,\"#fdca26\"],[1.0,\"#f0f921\"]],\"sequentialminus\":[[0.0,\"#0d0887\"],[0.1111111111111111,\"#46039f\"],[0.2222222222222222,\"#7201a8\"],[0.3333333333333333,\"#9c179e\"],[0.4444444444444444,\"#bd3786\"],[0.5555555555555556,\"#d8576b\"],[0.6666666666666666,\"#ed7953\"],[0.7777777777777778,\"#fb9f3a\"],[0.8888888888888888,\"#fdca26\"],[1.0,\"#f0f921\"]]},\"colorway\":[\"#636efa\",\"#EF553B\",\"#00cc96\",\"#ab63fa\",\"#FFA15A\",\"#19d3f3\",\"#FF6692\",\"#B6E880\",\"#FF97FF\",\"#FECB52\"],\"font\":{\"color\":\"#2a3f5f\"},\"geo\":{\"bgcolor\":\"white\",\"lakecolor\":\"white\",\"landcolor\":\"#E5ECF6\",\"showlakes\":true,\"showland\":true,\"subunitcolor\":\"white\"},\"hoverlabel\":{\"align\":\"left\"},\"hovermode\":\"closest\",\"mapbox\":{\"style\":\"light\"},\"paper_bgcolor\":\"white\",\"plot_bgcolor\":\"#E5ECF6\",\"polar\":{\"angularaxis\":{\"gridcolor\":\"white\",\"linecolor\":\"white\",\"ticks\":\"\"},\"bgcolor\":\"#E5ECF6\",\"radialaxis\":{\"gridcolor\":\"white\",\"linecolor\":\"white\",\"ticks\":\"\"}},\"scene\":{\"xaxis\":{\"backgroundcolor\":\"#E5ECF6\",\"gridcolor\":\"white\",\"gridwidth\":2,\"linecolor\":\"white\",\"showbackground\":true,\"ticks\":\"\",\"zerolinecolor\":\"white\"},\"yaxis\":{\"backgroundcolor\":\"#E5ECF6\",\"gridcolor\":\"white\",\"gridwidth\":2,\"linecolor\":\"white\",\"showbackground\":true,\"ticks\":\"\",\"zerolinecolor\":\"white\"},\"zaxis\":{\"backgroundcolor\":\"#E5ECF6\",\"gridcolor\":\"white\",\"gridwidth\":2,\"linecolor\":\"white\",\"showbackground\":true,\"ticks\":\"\",\"zerolinecolor\":\"white\"}},\"shapedefaults\":{\"line\":{\"color\":\"#2a3f5f\"}},\"ternary\":{\"aaxis\":{\"gridcolor\":\"white\",\"linecolor\":\"white\",\"ticks\":\"\"},\"baxis\":{\"gridcolor\":\"white\",\"linecolor\":\"white\",\"ticks\":\"\"},\"bgcolor\":\"#E5ECF6\",\"caxis\":{\"gridcolor\":\"white\",\"linecolor\":\"white\",\"ticks\":\"\"}},\"title\":{\"x\":0.05},\"xaxis\":{\"automargin\":true,\"gridcolor\":\"white\",\"linecolor\":\"white\",\"ticks\":\"\",\"title\":{\"standoff\":15},\"zerolinecolor\":\"white\",\"zerolinewidth\":2},\"yaxis\":{\"automargin\":true,\"gridcolor\":\"white\",\"linecolor\":\"white\",\"ticks\":\"\",\"title\":{\"standoff\":15},\"zerolinecolor\":\"white\",\"zerolinewidth\":2}}},\"title\":{\"font\":{\"color\":\"#4D5663\"}},\"xaxis\":{\"gridcolor\":\"#E1E5ED\",\"showgrid\":true,\"tickfont\":{\"color\":\"#4D5663\"},\"title\":{\"font\":{\"color\":\"#4D5663\"},\"text\":\"\"},\"zerolinecolor\":\"#E1E5ED\"},\"yaxis\":{\"gridcolor\":\"#E1E5ED\",\"showgrid\":true,\"tickfont\":{\"color\":\"#4D5663\"},\"title\":{\"font\":{\"color\":\"#4D5663\"},\"text\":\"\"},\"zerolinecolor\":\"#E1E5ED\"}},                        {\"showLink\": true, \"linkText\": \"Export to plot.ly\", \"plotlyServerURL\": \"https://plot.ly\", \"responsive\": true}                    ).then(function(){\n",
       "                            \n",
       "var gd = document.getElementById('0ba92a40-5127-4b04-a748-7deda110a4dd');\n",
       "var x = new MutationObserver(function (mutations, observer) {{\n",
       "        var display = window.getComputedStyle(gd).display;\n",
       "        if (!display || display === 'none') {{\n",
       "            console.log([gd, 'removed!']);\n",
       "            Plotly.purge(gd);\n",
       "            observer.disconnect();\n",
       "        }}\n",
       "}});\n",
       "\n",
       "// Listen for the removal of the full notebook cells\n",
       "var notebookContainer = gd.closest('#notebook-container');\n",
       "if (notebookContainer) {{\n",
       "    x.observe(notebookContainer, {childList: true});\n",
       "}}\n",
       "\n",
       "// Listen for the clearing of the current output cell\n",
       "var outputEl = gd.closest('.output');\n",
       "if (outputEl) {{\n",
       "    x.observe(outputEl, {childList: true});\n",
       "}}\n",
       "\n",
       "                        })                };                });            </script>        </div>"
      ]
     },
     "metadata": {},
     "output_type": "display_data"
    }
   ],
   "source": [
    "df.iplot(kind=\"scatter\", x=\"A\", y=\"B\", mode=\"markers\")"
   ]
  },
  {
   "cell_type": "code",
   "execution_count": 17,
   "id": "38c4a882",
   "metadata": {},
   "outputs": [
    {
     "data": {
      "application/vnd.plotly.v1+json": {
       "config": {
        "linkText": "Export to plot.ly",
        "plotlyServerURL": "https://plot.ly",
        "showLink": true
       },
       "data": [
        {
         "line": {
          "color": "rgba(255, 153, 51, 1.0)",
          "dash": "solid",
          "shape": "linear",
          "width": 1.3
         },
         "mode": "lines",
         "name": "B",
         "text": "",
         "type": "scatter",
         "x": [
          -0.629400460736606,
          -0.3902511837428377,
          -0.5591700478406222,
          -0.5015750659259559,
          -0.6028247757790585,
          -1.7552895707056984,
          0.3728303295489695,
          -0.9949058872060896,
          1.383786061209142,
          -0.7478723956059203,
          0.06816934594778336,
          0.3141341819011735,
          -1.4434647152951174,
          0.4279880196945129,
          -2.7094890740900803,
          0.13506963265460648,
          -0.3362772326824624,
          -1.003162479173856,
          -0.9417909848304834,
          0.12809221322659364,
          -0.9761844606375003,
          0.851597093857289,
          -0.2174753543117878,
          0.16923231361532318,
          -1.196108833893656,
          -1.4490166364502461,
          -0.43386109420639013,
          1.097856069838825,
          -0.3105310538314359,
          -0.3169866600355245,
          1.592962498055057,
          0.9758423831858871,
          -1.3671182139924076,
          0.7817958007205139,
          -1.3911274721075122,
          0.12975350981883296,
          1.13847634366471,
          1.8672274817233254,
          -0.7504577680021094,
          1.7846896247177337,
          1.0793488689838349,
          -1.0844765858716827,
          -0.3516404570166523,
          0.9227502103917912,
          0.3755932851618663,
          0.3778890996717057,
          1.680119511266985,
          -0.4599735982942427,
          1.5985393735185909,
          1.0563349091055834,
          -1.0911352575440694,
          1.7417271070535496,
          -1.3100266243771161,
          -0.3876135929450466,
          0.9025719152875156,
          1.401243501430797,
          -1.2969497206273086,
          -1.2048928883655137,
          1.3573070492269648,
          0.05766322435151034,
          0.29981192742332086,
          1.5170818674960982,
          2.155478704025667,
          0.8024742835998596,
          0.40266903970292495,
          -1.3623380036310104,
          -0.9347835030015103,
          -0.023410056738022517,
          -1.072457943276233,
          0.8831066668343588,
          1.8136193860509642,
          -0.18934701060634257,
          -0.7986253409908879,
          1.6043882256104582,
          -1.3412563333112506,
          -1.5577062645161655,
          -1.3566037510986833,
          0.04005495647472767,
          0.2708046082479397,
          -0.9634981045226241,
          0.8583993616190417,
          -0.6470050959406236,
          -0.5512575986366849,
          2.071338692577119,
          1.5052688721826468,
          -0.617246691643328,
          1.4552686037187066,
          0.5720417545278373,
          -1.1152513286714432,
          1.7410978052511834,
          0.8914819708996335,
          -0.6908395795783034,
          1.414032221853257,
          -1.2057589945974467,
          0.6833974114014549,
          -1.2187494324750037,
          0.025605567304754343,
          -0.6574804043471983,
          0.04405104857084567,
          1.33018346090302
         ],
         "y": [
          0.4103450482823756,
          -0.23277879634899593,
          -0.45086136540875726,
          -0.08376735759564617,
          0.013872231247996124,
          -0.07072690859130389,
          0.30681170864600404,
          1.2902872300683392,
          -0.3265296450613535,
          0.10747041706050438,
          -0.4891966860282878,
          0.1321546966645771,
          2.2002266533209984,
          2.827921795219644,
          1.4213390904822027,
          -0.40481684699662795,
          0.8777377019046946,
          -0.5915210626668627,
          0.23237752609932294,
          0.10802408268723265,
          -0.4989964964726072,
          -0.17693190406338596,
          0.31980787789478055,
          0.8585326836819313,
          -1.5714924413997264,
          -0.5285087993679705,
          0.4446605522951421,
          -0.4261044334302472,
          0.04041835504896138,
          -0.2102461439854402,
          0.8853158428254773,
          -0.9926023261355174,
          0.7837779223912771,
          1.6207142996018502,
          -0.31222240376226895,
          0.21669648190985635,
          -0.005778545670522539,
          0.2424273620179277,
          1.0604864388343094,
          0.5405949217925212,
          -0.028827349523677923,
          -0.19992850944368576,
          -0.07932311155494266,
          -1.487415209783587,
          0.25772607668232306,
          0.659067678454487,
          0.7764559512979428,
          1.1811473518576816,
          1.269253528510618,
          -0.10593976314056446,
          -2.2033948416823987,
          -0.26099399205439405,
          -0.035842618820022584,
          -0.436740003503195,
          -0.7347854957866872,
          -1.474470346831659,
          0.2856744360831367,
          -0.6987609147597583,
          0.25012931898644164,
          -1.3175865204408947,
          0.09478695458135028,
          1.8709144399634727,
          0.26797206469934276,
          -1.3953358629453787,
          -0.6945329566849582,
          1.555621068767977,
          0.8283772246580962,
          -0.8420550563881509,
          0.805777476671103,
          -1.1529198884152143,
          -0.13563746306624466,
          -0.24579363705319546,
          -0.846884195632001,
          -0.6643522082710484,
          0.7052085498958576,
          -1.6877108081600287,
          0.020389419260974217,
          -0.41756781346012556,
          -0.8676788986975928,
          -2.5653389961604987,
          -0.34799695926298335,
          0.7409356257488319,
          0.4199756934089848,
          -0.18905296451511472,
          -0.7275775921980504,
          -1.7658346002170116,
          -0.8494415212511488,
          0.06516189570040587,
          -1.0812781607038502,
          1.182463220527681,
          -0.1828465609009514,
          -1.6925573120184574,
          0.2528746913720982,
          1.2151401118568756,
          -0.49604662980129016,
          -1.1333482603578835,
          -1.2871159652833557,
          1.2333219879816024,
          0.2863728726007531,
          -0.4379191310630423
         ]
        }
       ],
       "layout": {
        "legend": {
         "bgcolor": "#F5F6F9",
         "font": {
          "color": "#4D5663"
         }
        },
        "paper_bgcolor": "#F5F6F9",
        "plot_bgcolor": "#F5F6F9",
        "template": {
         "data": {
          "bar": [
           {
            "error_x": {
             "color": "#2a3f5f"
            },
            "error_y": {
             "color": "#2a3f5f"
            },
            "marker": {
             "line": {
              "color": "#E5ECF6",
              "width": 0.5
             },
             "pattern": {
              "fillmode": "overlay",
              "size": 10,
              "solidity": 0.2
             }
            },
            "type": "bar"
           }
          ],
          "barpolar": [
           {
            "marker": {
             "line": {
              "color": "#E5ECF6",
              "width": 0.5
             },
             "pattern": {
              "fillmode": "overlay",
              "size": 10,
              "solidity": 0.2
             }
            },
            "type": "barpolar"
           }
          ],
          "carpet": [
           {
            "aaxis": {
             "endlinecolor": "#2a3f5f",
             "gridcolor": "white",
             "linecolor": "white",
             "minorgridcolor": "white",
             "startlinecolor": "#2a3f5f"
            },
            "baxis": {
             "endlinecolor": "#2a3f5f",
             "gridcolor": "white",
             "linecolor": "white",
             "minorgridcolor": "white",
             "startlinecolor": "#2a3f5f"
            },
            "type": "carpet"
           }
          ],
          "choropleth": [
           {
            "colorbar": {
             "outlinewidth": 0,
             "ticks": ""
            },
            "type": "choropleth"
           }
          ],
          "contour": [
           {
            "colorbar": {
             "outlinewidth": 0,
             "ticks": ""
            },
            "colorscale": [
             [
              0,
              "#0d0887"
             ],
             [
              0.1111111111111111,
              "#46039f"
             ],
             [
              0.2222222222222222,
              "#7201a8"
             ],
             [
              0.3333333333333333,
              "#9c179e"
             ],
             [
              0.4444444444444444,
              "#bd3786"
             ],
             [
              0.5555555555555556,
              "#d8576b"
             ],
             [
              0.6666666666666666,
              "#ed7953"
             ],
             [
              0.7777777777777778,
              "#fb9f3a"
             ],
             [
              0.8888888888888888,
              "#fdca26"
             ],
             [
              1,
              "#f0f921"
             ]
            ],
            "type": "contour"
           }
          ],
          "contourcarpet": [
           {
            "colorbar": {
             "outlinewidth": 0,
             "ticks": ""
            },
            "type": "contourcarpet"
           }
          ],
          "heatmap": [
           {
            "colorbar": {
             "outlinewidth": 0,
             "ticks": ""
            },
            "colorscale": [
             [
              0,
              "#0d0887"
             ],
             [
              0.1111111111111111,
              "#46039f"
             ],
             [
              0.2222222222222222,
              "#7201a8"
             ],
             [
              0.3333333333333333,
              "#9c179e"
             ],
             [
              0.4444444444444444,
              "#bd3786"
             ],
             [
              0.5555555555555556,
              "#d8576b"
             ],
             [
              0.6666666666666666,
              "#ed7953"
             ],
             [
              0.7777777777777778,
              "#fb9f3a"
             ],
             [
              0.8888888888888888,
              "#fdca26"
             ],
             [
              1,
              "#f0f921"
             ]
            ],
            "type": "heatmap"
           }
          ],
          "heatmapgl": [
           {
            "colorbar": {
             "outlinewidth": 0,
             "ticks": ""
            },
            "colorscale": [
             [
              0,
              "#0d0887"
             ],
             [
              0.1111111111111111,
              "#46039f"
             ],
             [
              0.2222222222222222,
              "#7201a8"
             ],
             [
              0.3333333333333333,
              "#9c179e"
             ],
             [
              0.4444444444444444,
              "#bd3786"
             ],
             [
              0.5555555555555556,
              "#d8576b"
             ],
             [
              0.6666666666666666,
              "#ed7953"
             ],
             [
              0.7777777777777778,
              "#fb9f3a"
             ],
             [
              0.8888888888888888,
              "#fdca26"
             ],
             [
              1,
              "#f0f921"
             ]
            ],
            "type": "heatmapgl"
           }
          ],
          "histogram": [
           {
            "marker": {
             "pattern": {
              "fillmode": "overlay",
              "size": 10,
              "solidity": 0.2
             }
            },
            "type": "histogram"
           }
          ],
          "histogram2d": [
           {
            "colorbar": {
             "outlinewidth": 0,
             "ticks": ""
            },
            "colorscale": [
             [
              0,
              "#0d0887"
             ],
             [
              0.1111111111111111,
              "#46039f"
             ],
             [
              0.2222222222222222,
              "#7201a8"
             ],
             [
              0.3333333333333333,
              "#9c179e"
             ],
             [
              0.4444444444444444,
              "#bd3786"
             ],
             [
              0.5555555555555556,
              "#d8576b"
             ],
             [
              0.6666666666666666,
              "#ed7953"
             ],
             [
              0.7777777777777778,
              "#fb9f3a"
             ],
             [
              0.8888888888888888,
              "#fdca26"
             ],
             [
              1,
              "#f0f921"
             ]
            ],
            "type": "histogram2d"
           }
          ],
          "histogram2dcontour": [
           {
            "colorbar": {
             "outlinewidth": 0,
             "ticks": ""
            },
            "colorscale": [
             [
              0,
              "#0d0887"
             ],
             [
              0.1111111111111111,
              "#46039f"
             ],
             [
              0.2222222222222222,
              "#7201a8"
             ],
             [
              0.3333333333333333,
              "#9c179e"
             ],
             [
              0.4444444444444444,
              "#bd3786"
             ],
             [
              0.5555555555555556,
              "#d8576b"
             ],
             [
              0.6666666666666666,
              "#ed7953"
             ],
             [
              0.7777777777777778,
              "#fb9f3a"
             ],
             [
              0.8888888888888888,
              "#fdca26"
             ],
             [
              1,
              "#f0f921"
             ]
            ],
            "type": "histogram2dcontour"
           }
          ],
          "mesh3d": [
           {
            "colorbar": {
             "outlinewidth": 0,
             "ticks": ""
            },
            "type": "mesh3d"
           }
          ],
          "parcoords": [
           {
            "line": {
             "colorbar": {
              "outlinewidth": 0,
              "ticks": ""
             }
            },
            "type": "parcoords"
           }
          ],
          "pie": [
           {
            "automargin": true,
            "type": "pie"
           }
          ],
          "scatter": [
           {
            "fillpattern": {
             "fillmode": "overlay",
             "size": 10,
             "solidity": 0.2
            },
            "type": "scatter"
           }
          ],
          "scatter3d": [
           {
            "line": {
             "colorbar": {
              "outlinewidth": 0,
              "ticks": ""
             }
            },
            "marker": {
             "colorbar": {
              "outlinewidth": 0,
              "ticks": ""
             }
            },
            "type": "scatter3d"
           }
          ],
          "scattercarpet": [
           {
            "marker": {
             "colorbar": {
              "outlinewidth": 0,
              "ticks": ""
             }
            },
            "type": "scattercarpet"
           }
          ],
          "scattergeo": [
           {
            "marker": {
             "colorbar": {
              "outlinewidth": 0,
              "ticks": ""
             }
            },
            "type": "scattergeo"
           }
          ],
          "scattergl": [
           {
            "marker": {
             "colorbar": {
              "outlinewidth": 0,
              "ticks": ""
             }
            },
            "type": "scattergl"
           }
          ],
          "scattermapbox": [
           {
            "marker": {
             "colorbar": {
              "outlinewidth": 0,
              "ticks": ""
             }
            },
            "type": "scattermapbox"
           }
          ],
          "scatterpolar": [
           {
            "marker": {
             "colorbar": {
              "outlinewidth": 0,
              "ticks": ""
             }
            },
            "type": "scatterpolar"
           }
          ],
          "scatterpolargl": [
           {
            "marker": {
             "colorbar": {
              "outlinewidth": 0,
              "ticks": ""
             }
            },
            "type": "scatterpolargl"
           }
          ],
          "scatterternary": [
           {
            "marker": {
             "colorbar": {
              "outlinewidth": 0,
              "ticks": ""
             }
            },
            "type": "scatterternary"
           }
          ],
          "surface": [
           {
            "colorbar": {
             "outlinewidth": 0,
             "ticks": ""
            },
            "colorscale": [
             [
              0,
              "#0d0887"
             ],
             [
              0.1111111111111111,
              "#46039f"
             ],
             [
              0.2222222222222222,
              "#7201a8"
             ],
             [
              0.3333333333333333,
              "#9c179e"
             ],
             [
              0.4444444444444444,
              "#bd3786"
             ],
             [
              0.5555555555555556,
              "#d8576b"
             ],
             [
              0.6666666666666666,
              "#ed7953"
             ],
             [
              0.7777777777777778,
              "#fb9f3a"
             ],
             [
              0.8888888888888888,
              "#fdca26"
             ],
             [
              1,
              "#f0f921"
             ]
            ],
            "type": "surface"
           }
          ],
          "table": [
           {
            "cells": {
             "fill": {
              "color": "#EBF0F8"
             },
             "line": {
              "color": "white"
             }
            },
            "header": {
             "fill": {
              "color": "#C8D4E3"
             },
             "line": {
              "color": "white"
             }
            },
            "type": "table"
           }
          ]
         },
         "layout": {
          "annotationdefaults": {
           "arrowcolor": "#2a3f5f",
           "arrowhead": 0,
           "arrowwidth": 1
          },
          "autotypenumbers": "strict",
          "coloraxis": {
           "colorbar": {
            "outlinewidth": 0,
            "ticks": ""
           }
          },
          "colorscale": {
           "diverging": [
            [
             0,
             "#8e0152"
            ],
            [
             0.1,
             "#c51b7d"
            ],
            [
             0.2,
             "#de77ae"
            ],
            [
             0.3,
             "#f1b6da"
            ],
            [
             0.4,
             "#fde0ef"
            ],
            [
             0.5,
             "#f7f7f7"
            ],
            [
             0.6,
             "#e6f5d0"
            ],
            [
             0.7,
             "#b8e186"
            ],
            [
             0.8,
             "#7fbc41"
            ],
            [
             0.9,
             "#4d9221"
            ],
            [
             1,
             "#276419"
            ]
           ],
           "sequential": [
            [
             0,
             "#0d0887"
            ],
            [
             0.1111111111111111,
             "#46039f"
            ],
            [
             0.2222222222222222,
             "#7201a8"
            ],
            [
             0.3333333333333333,
             "#9c179e"
            ],
            [
             0.4444444444444444,
             "#bd3786"
            ],
            [
             0.5555555555555556,
             "#d8576b"
            ],
            [
             0.6666666666666666,
             "#ed7953"
            ],
            [
             0.7777777777777778,
             "#fb9f3a"
            ],
            [
             0.8888888888888888,
             "#fdca26"
            ],
            [
             1,
             "#f0f921"
            ]
           ],
           "sequentialminus": [
            [
             0,
             "#0d0887"
            ],
            [
             0.1111111111111111,
             "#46039f"
            ],
            [
             0.2222222222222222,
             "#7201a8"
            ],
            [
             0.3333333333333333,
             "#9c179e"
            ],
            [
             0.4444444444444444,
             "#bd3786"
            ],
            [
             0.5555555555555556,
             "#d8576b"
            ],
            [
             0.6666666666666666,
             "#ed7953"
            ],
            [
             0.7777777777777778,
             "#fb9f3a"
            ],
            [
             0.8888888888888888,
             "#fdca26"
            ],
            [
             1,
             "#f0f921"
            ]
           ]
          },
          "colorway": [
           "#636efa",
           "#EF553B",
           "#00cc96",
           "#ab63fa",
           "#FFA15A",
           "#19d3f3",
           "#FF6692",
           "#B6E880",
           "#FF97FF",
           "#FECB52"
          ],
          "font": {
           "color": "#2a3f5f"
          },
          "geo": {
           "bgcolor": "white",
           "lakecolor": "white",
           "landcolor": "#E5ECF6",
           "showlakes": true,
           "showland": true,
           "subunitcolor": "white"
          },
          "hoverlabel": {
           "align": "left"
          },
          "hovermode": "closest",
          "mapbox": {
           "style": "light"
          },
          "paper_bgcolor": "white",
          "plot_bgcolor": "#E5ECF6",
          "polar": {
           "angularaxis": {
            "gridcolor": "white",
            "linecolor": "white",
            "ticks": ""
           },
           "bgcolor": "#E5ECF6",
           "radialaxis": {
            "gridcolor": "white",
            "linecolor": "white",
            "ticks": ""
           }
          },
          "scene": {
           "xaxis": {
            "backgroundcolor": "#E5ECF6",
            "gridcolor": "white",
            "gridwidth": 2,
            "linecolor": "white",
            "showbackground": true,
            "ticks": "",
            "zerolinecolor": "white"
           },
           "yaxis": {
            "backgroundcolor": "#E5ECF6",
            "gridcolor": "white",
            "gridwidth": 2,
            "linecolor": "white",
            "showbackground": true,
            "ticks": "",
            "zerolinecolor": "white"
           },
           "zaxis": {
            "backgroundcolor": "#E5ECF6",
            "gridcolor": "white",
            "gridwidth": 2,
            "linecolor": "white",
            "showbackground": true,
            "ticks": "",
            "zerolinecolor": "white"
           }
          },
          "shapedefaults": {
           "line": {
            "color": "#2a3f5f"
           }
          },
          "ternary": {
           "aaxis": {
            "gridcolor": "white",
            "linecolor": "white",
            "ticks": ""
           },
           "baxis": {
            "gridcolor": "white",
            "linecolor": "white",
            "ticks": ""
           },
           "bgcolor": "#E5ECF6",
           "caxis": {
            "gridcolor": "white",
            "linecolor": "white",
            "ticks": ""
           }
          },
          "title": {
           "x": 0.05
          },
          "xaxis": {
           "automargin": true,
           "gridcolor": "white",
           "linecolor": "white",
           "ticks": "",
           "title": {
            "standoff": 15
           },
           "zerolinecolor": "white",
           "zerolinewidth": 2
          },
          "yaxis": {
           "automargin": true,
           "gridcolor": "white",
           "linecolor": "white",
           "ticks": "",
           "title": {
            "standoff": 15
           },
           "zerolinecolor": "white",
           "zerolinewidth": 2
          }
         }
        },
        "title": {
         "font": {
          "color": "#4D5663"
         }
        },
        "xaxis": {
         "gridcolor": "#E1E5ED",
         "showgrid": true,
         "tickfont": {
          "color": "#4D5663"
         },
         "title": {
          "font": {
           "color": "#4D5663"
          },
          "text": ""
         },
         "zerolinecolor": "#E1E5ED"
        },
        "yaxis": {
         "gridcolor": "#E1E5ED",
         "showgrid": true,
         "tickfont": {
          "color": "#4D5663"
         },
         "title": {
          "font": {
           "color": "#4D5663"
          },
          "text": ""
         },
         "zerolinecolor": "#E1E5ED"
        }
       }
      },
      "text/html": [
       "<div>                            <div id=\"4118d225-2a02-43ec-8f75-e91095df42aa\" class=\"plotly-graph-div\" style=\"height:525px; width:100%;\"></div>            <script type=\"text/javascript\">                require([\"plotly\"], function(Plotly) {                    window.PLOTLYENV=window.PLOTLYENV || {};\n",
       "                    window.PLOTLYENV.BASE_URL='https://plot.ly';                                    if (document.getElementById(\"4118d225-2a02-43ec-8f75-e91095df42aa\")) {                    Plotly.newPlot(                        \"4118d225-2a02-43ec-8f75-e91095df42aa\",                        [{\"line\":{\"color\":\"rgba(255, 153, 51, 1.0)\",\"dash\":\"solid\",\"shape\":\"linear\",\"width\":1.3},\"mode\":\"lines\",\"name\":\"B\",\"text\":\"\",\"x\":[-0.629400460736606,-0.3902511837428377,-0.5591700478406222,-0.5015750659259559,-0.6028247757790585,-1.7552895707056984,0.3728303295489695,-0.9949058872060896,1.383786061209142,-0.7478723956059203,0.06816934594778336,0.3141341819011735,-1.4434647152951174,0.4279880196945129,-2.7094890740900803,0.13506963265460648,-0.3362772326824624,-1.003162479173856,-0.9417909848304834,0.12809221322659364,-0.9761844606375003,0.851597093857289,-0.2174753543117878,0.16923231361532318,-1.196108833893656,-1.4490166364502461,-0.43386109420639013,1.097856069838825,-0.3105310538314359,-0.3169866600355245,1.592962498055057,0.9758423831858871,-1.3671182139924076,0.7817958007205139,-1.3911274721075122,0.12975350981883296,1.13847634366471,1.8672274817233254,-0.7504577680021094,1.7846896247177337,1.0793488689838349,-1.0844765858716827,-0.3516404570166523,0.9227502103917912,0.3755932851618663,0.3778890996717057,1.680119511266985,-0.4599735982942427,1.5985393735185909,1.0563349091055834,-1.0911352575440694,1.7417271070535496,-1.3100266243771161,-0.3876135929450466,0.9025719152875156,1.401243501430797,-1.2969497206273086,-1.2048928883655137,1.3573070492269648,0.05766322435151034,0.29981192742332086,1.5170818674960982,2.155478704025667,0.8024742835998596,0.40266903970292495,-1.3623380036310104,-0.9347835030015103,-0.023410056738022517,-1.072457943276233,0.8831066668343588,1.8136193860509642,-0.18934701060634257,-0.7986253409908879,1.6043882256104582,-1.3412563333112506,-1.5577062645161655,-1.3566037510986833,0.04005495647472767,0.2708046082479397,-0.9634981045226241,0.8583993616190417,-0.6470050959406236,-0.5512575986366849,2.071338692577119,1.5052688721826468,-0.617246691643328,1.4552686037187066,0.5720417545278373,-1.1152513286714432,1.7410978052511834,0.8914819708996335,-0.6908395795783034,1.414032221853257,-1.2057589945974467,0.6833974114014549,-1.2187494324750037,0.025605567304754343,-0.6574804043471983,0.04405104857084567,1.33018346090302],\"y\":[0.4103450482823756,-0.23277879634899593,-0.45086136540875726,-0.08376735759564617,0.013872231247996124,-0.07072690859130389,0.30681170864600404,1.2902872300683392,-0.3265296450613535,0.10747041706050438,-0.4891966860282878,0.1321546966645771,2.2002266533209984,2.827921795219644,1.4213390904822027,-0.40481684699662795,0.8777377019046946,-0.5915210626668627,0.23237752609932294,0.10802408268723265,-0.4989964964726072,-0.17693190406338596,0.31980787789478055,0.8585326836819313,-1.5714924413997264,-0.5285087993679705,0.4446605522951421,-0.4261044334302472,0.04041835504896138,-0.2102461439854402,0.8853158428254773,-0.9926023261355174,0.7837779223912771,1.6207142996018502,-0.31222240376226895,0.21669648190985635,-0.005778545670522539,0.2424273620179277,1.0604864388343094,0.5405949217925212,-0.028827349523677923,-0.19992850944368576,-0.07932311155494266,-1.487415209783587,0.25772607668232306,0.659067678454487,0.7764559512979428,1.1811473518576816,1.269253528510618,-0.10593976314056446,-2.2033948416823987,-0.26099399205439405,-0.035842618820022584,-0.436740003503195,-0.7347854957866872,-1.474470346831659,0.2856744360831367,-0.6987609147597583,0.25012931898644164,-1.3175865204408947,0.09478695458135028,1.8709144399634727,0.26797206469934276,-1.3953358629453787,-0.6945329566849582,1.555621068767977,0.8283772246580962,-0.8420550563881509,0.805777476671103,-1.1529198884152143,-0.13563746306624466,-0.24579363705319546,-0.846884195632001,-0.6643522082710484,0.7052085498958576,-1.6877108081600287,0.020389419260974217,-0.41756781346012556,-0.8676788986975928,-2.5653389961604987,-0.34799695926298335,0.7409356257488319,0.4199756934089848,-0.18905296451511472,-0.7275775921980504,-1.7658346002170116,-0.8494415212511488,0.06516189570040587,-1.0812781607038502,1.182463220527681,-0.1828465609009514,-1.6925573120184574,0.2528746913720982,1.2151401118568756,-0.49604662980129016,-1.1333482603578835,-1.2871159652833557,1.2333219879816024,0.2863728726007531,-0.4379191310630423],\"type\":\"scatter\"}],                        {\"legend\":{\"bgcolor\":\"#F5F6F9\",\"font\":{\"color\":\"#4D5663\"}},\"paper_bgcolor\":\"#F5F6F9\",\"plot_bgcolor\":\"#F5F6F9\",\"template\":{\"data\":{\"barpolar\":[{\"marker\":{\"line\":{\"color\":\"#E5ECF6\",\"width\":0.5},\"pattern\":{\"fillmode\":\"overlay\",\"size\":10,\"solidity\":0.2}},\"type\":\"barpolar\"}],\"bar\":[{\"error_x\":{\"color\":\"#2a3f5f\"},\"error_y\":{\"color\":\"#2a3f5f\"},\"marker\":{\"line\":{\"color\":\"#E5ECF6\",\"width\":0.5},\"pattern\":{\"fillmode\":\"overlay\",\"size\":10,\"solidity\":0.2}},\"type\":\"bar\"}],\"carpet\":[{\"aaxis\":{\"endlinecolor\":\"#2a3f5f\",\"gridcolor\":\"white\",\"linecolor\":\"white\",\"minorgridcolor\":\"white\",\"startlinecolor\":\"#2a3f5f\"},\"baxis\":{\"endlinecolor\":\"#2a3f5f\",\"gridcolor\":\"white\",\"linecolor\":\"white\",\"minorgridcolor\":\"white\",\"startlinecolor\":\"#2a3f5f\"},\"type\":\"carpet\"}],\"choropleth\":[{\"colorbar\":{\"outlinewidth\":0,\"ticks\":\"\"},\"type\":\"choropleth\"}],\"contourcarpet\":[{\"colorbar\":{\"outlinewidth\":0,\"ticks\":\"\"},\"type\":\"contourcarpet\"}],\"contour\":[{\"colorbar\":{\"outlinewidth\":0,\"ticks\":\"\"},\"colorscale\":[[0.0,\"#0d0887\"],[0.1111111111111111,\"#46039f\"],[0.2222222222222222,\"#7201a8\"],[0.3333333333333333,\"#9c179e\"],[0.4444444444444444,\"#bd3786\"],[0.5555555555555556,\"#d8576b\"],[0.6666666666666666,\"#ed7953\"],[0.7777777777777778,\"#fb9f3a\"],[0.8888888888888888,\"#fdca26\"],[1.0,\"#f0f921\"]],\"type\":\"contour\"}],\"heatmapgl\":[{\"colorbar\":{\"outlinewidth\":0,\"ticks\":\"\"},\"colorscale\":[[0.0,\"#0d0887\"],[0.1111111111111111,\"#46039f\"],[0.2222222222222222,\"#7201a8\"],[0.3333333333333333,\"#9c179e\"],[0.4444444444444444,\"#bd3786\"],[0.5555555555555556,\"#d8576b\"],[0.6666666666666666,\"#ed7953\"],[0.7777777777777778,\"#fb9f3a\"],[0.8888888888888888,\"#fdca26\"],[1.0,\"#f0f921\"]],\"type\":\"heatmapgl\"}],\"heatmap\":[{\"colorbar\":{\"outlinewidth\":0,\"ticks\":\"\"},\"colorscale\":[[0.0,\"#0d0887\"],[0.1111111111111111,\"#46039f\"],[0.2222222222222222,\"#7201a8\"],[0.3333333333333333,\"#9c179e\"],[0.4444444444444444,\"#bd3786\"],[0.5555555555555556,\"#d8576b\"],[0.6666666666666666,\"#ed7953\"],[0.7777777777777778,\"#fb9f3a\"],[0.8888888888888888,\"#fdca26\"],[1.0,\"#f0f921\"]],\"type\":\"heatmap\"}],\"histogram2dcontour\":[{\"colorbar\":{\"outlinewidth\":0,\"ticks\":\"\"},\"colorscale\":[[0.0,\"#0d0887\"],[0.1111111111111111,\"#46039f\"],[0.2222222222222222,\"#7201a8\"],[0.3333333333333333,\"#9c179e\"],[0.4444444444444444,\"#bd3786\"],[0.5555555555555556,\"#d8576b\"],[0.6666666666666666,\"#ed7953\"],[0.7777777777777778,\"#fb9f3a\"],[0.8888888888888888,\"#fdca26\"],[1.0,\"#f0f921\"]],\"type\":\"histogram2dcontour\"}],\"histogram2d\":[{\"colorbar\":{\"outlinewidth\":0,\"ticks\":\"\"},\"colorscale\":[[0.0,\"#0d0887\"],[0.1111111111111111,\"#46039f\"],[0.2222222222222222,\"#7201a8\"],[0.3333333333333333,\"#9c179e\"],[0.4444444444444444,\"#bd3786\"],[0.5555555555555556,\"#d8576b\"],[0.6666666666666666,\"#ed7953\"],[0.7777777777777778,\"#fb9f3a\"],[0.8888888888888888,\"#fdca26\"],[1.0,\"#f0f921\"]],\"type\":\"histogram2d\"}],\"histogram\":[{\"marker\":{\"pattern\":{\"fillmode\":\"overlay\",\"size\":10,\"solidity\":0.2}},\"type\":\"histogram\"}],\"mesh3d\":[{\"colorbar\":{\"outlinewidth\":0,\"ticks\":\"\"},\"type\":\"mesh3d\"}],\"parcoords\":[{\"line\":{\"colorbar\":{\"outlinewidth\":0,\"ticks\":\"\"}},\"type\":\"parcoords\"}],\"pie\":[{\"automargin\":true,\"type\":\"pie\"}],\"scatter3d\":[{\"line\":{\"colorbar\":{\"outlinewidth\":0,\"ticks\":\"\"}},\"marker\":{\"colorbar\":{\"outlinewidth\":0,\"ticks\":\"\"}},\"type\":\"scatter3d\"}],\"scattercarpet\":[{\"marker\":{\"colorbar\":{\"outlinewidth\":0,\"ticks\":\"\"}},\"type\":\"scattercarpet\"}],\"scattergeo\":[{\"marker\":{\"colorbar\":{\"outlinewidth\":0,\"ticks\":\"\"}},\"type\":\"scattergeo\"}],\"scattergl\":[{\"marker\":{\"colorbar\":{\"outlinewidth\":0,\"ticks\":\"\"}},\"type\":\"scattergl\"}],\"scattermapbox\":[{\"marker\":{\"colorbar\":{\"outlinewidth\":0,\"ticks\":\"\"}},\"type\":\"scattermapbox\"}],\"scatterpolargl\":[{\"marker\":{\"colorbar\":{\"outlinewidth\":0,\"ticks\":\"\"}},\"type\":\"scatterpolargl\"}],\"scatterpolar\":[{\"marker\":{\"colorbar\":{\"outlinewidth\":0,\"ticks\":\"\"}},\"type\":\"scatterpolar\"}],\"scatter\":[{\"fillpattern\":{\"fillmode\":\"overlay\",\"size\":10,\"solidity\":0.2},\"type\":\"scatter\"}],\"scatterternary\":[{\"marker\":{\"colorbar\":{\"outlinewidth\":0,\"ticks\":\"\"}},\"type\":\"scatterternary\"}],\"surface\":[{\"colorbar\":{\"outlinewidth\":0,\"ticks\":\"\"},\"colorscale\":[[0.0,\"#0d0887\"],[0.1111111111111111,\"#46039f\"],[0.2222222222222222,\"#7201a8\"],[0.3333333333333333,\"#9c179e\"],[0.4444444444444444,\"#bd3786\"],[0.5555555555555556,\"#d8576b\"],[0.6666666666666666,\"#ed7953\"],[0.7777777777777778,\"#fb9f3a\"],[0.8888888888888888,\"#fdca26\"],[1.0,\"#f0f921\"]],\"type\":\"surface\"}],\"table\":[{\"cells\":{\"fill\":{\"color\":\"#EBF0F8\"},\"line\":{\"color\":\"white\"}},\"header\":{\"fill\":{\"color\":\"#C8D4E3\"},\"line\":{\"color\":\"white\"}},\"type\":\"table\"}]},\"layout\":{\"annotationdefaults\":{\"arrowcolor\":\"#2a3f5f\",\"arrowhead\":0,\"arrowwidth\":1},\"autotypenumbers\":\"strict\",\"coloraxis\":{\"colorbar\":{\"outlinewidth\":0,\"ticks\":\"\"}},\"colorscale\":{\"diverging\":[[0,\"#8e0152\"],[0.1,\"#c51b7d\"],[0.2,\"#de77ae\"],[0.3,\"#f1b6da\"],[0.4,\"#fde0ef\"],[0.5,\"#f7f7f7\"],[0.6,\"#e6f5d0\"],[0.7,\"#b8e186\"],[0.8,\"#7fbc41\"],[0.9,\"#4d9221\"],[1,\"#276419\"]],\"sequential\":[[0.0,\"#0d0887\"],[0.1111111111111111,\"#46039f\"],[0.2222222222222222,\"#7201a8\"],[0.3333333333333333,\"#9c179e\"],[0.4444444444444444,\"#bd3786\"],[0.5555555555555556,\"#d8576b\"],[0.6666666666666666,\"#ed7953\"],[0.7777777777777778,\"#fb9f3a\"],[0.8888888888888888,\"#fdca26\"],[1.0,\"#f0f921\"]],\"sequentialminus\":[[0.0,\"#0d0887\"],[0.1111111111111111,\"#46039f\"],[0.2222222222222222,\"#7201a8\"],[0.3333333333333333,\"#9c179e\"],[0.4444444444444444,\"#bd3786\"],[0.5555555555555556,\"#d8576b\"],[0.6666666666666666,\"#ed7953\"],[0.7777777777777778,\"#fb9f3a\"],[0.8888888888888888,\"#fdca26\"],[1.0,\"#f0f921\"]]},\"colorway\":[\"#636efa\",\"#EF553B\",\"#00cc96\",\"#ab63fa\",\"#FFA15A\",\"#19d3f3\",\"#FF6692\",\"#B6E880\",\"#FF97FF\",\"#FECB52\"],\"font\":{\"color\":\"#2a3f5f\"},\"geo\":{\"bgcolor\":\"white\",\"lakecolor\":\"white\",\"landcolor\":\"#E5ECF6\",\"showlakes\":true,\"showland\":true,\"subunitcolor\":\"white\"},\"hoverlabel\":{\"align\":\"left\"},\"hovermode\":\"closest\",\"mapbox\":{\"style\":\"light\"},\"paper_bgcolor\":\"white\",\"plot_bgcolor\":\"#E5ECF6\",\"polar\":{\"angularaxis\":{\"gridcolor\":\"white\",\"linecolor\":\"white\",\"ticks\":\"\"},\"bgcolor\":\"#E5ECF6\",\"radialaxis\":{\"gridcolor\":\"white\",\"linecolor\":\"white\",\"ticks\":\"\"}},\"scene\":{\"xaxis\":{\"backgroundcolor\":\"#E5ECF6\",\"gridcolor\":\"white\",\"gridwidth\":2,\"linecolor\":\"white\",\"showbackground\":true,\"ticks\":\"\",\"zerolinecolor\":\"white\"},\"yaxis\":{\"backgroundcolor\":\"#E5ECF6\",\"gridcolor\":\"white\",\"gridwidth\":2,\"linecolor\":\"white\",\"showbackground\":true,\"ticks\":\"\",\"zerolinecolor\":\"white\"},\"zaxis\":{\"backgroundcolor\":\"#E5ECF6\",\"gridcolor\":\"white\",\"gridwidth\":2,\"linecolor\":\"white\",\"showbackground\":true,\"ticks\":\"\",\"zerolinecolor\":\"white\"}},\"shapedefaults\":{\"line\":{\"color\":\"#2a3f5f\"}},\"ternary\":{\"aaxis\":{\"gridcolor\":\"white\",\"linecolor\":\"white\",\"ticks\":\"\"},\"baxis\":{\"gridcolor\":\"white\",\"linecolor\":\"white\",\"ticks\":\"\"},\"bgcolor\":\"#E5ECF6\",\"caxis\":{\"gridcolor\":\"white\",\"linecolor\":\"white\",\"ticks\":\"\"}},\"title\":{\"x\":0.05},\"xaxis\":{\"automargin\":true,\"gridcolor\":\"white\",\"linecolor\":\"white\",\"ticks\":\"\",\"title\":{\"standoff\":15},\"zerolinecolor\":\"white\",\"zerolinewidth\":2},\"yaxis\":{\"automargin\":true,\"gridcolor\":\"white\",\"linecolor\":\"white\",\"ticks\":\"\",\"title\":{\"standoff\":15},\"zerolinecolor\":\"white\",\"zerolinewidth\":2}}},\"title\":{\"font\":{\"color\":\"#4D5663\"}},\"xaxis\":{\"gridcolor\":\"#E1E5ED\",\"showgrid\":true,\"tickfont\":{\"color\":\"#4D5663\"},\"title\":{\"font\":{\"color\":\"#4D5663\"},\"text\":\"\"},\"zerolinecolor\":\"#E1E5ED\"},\"yaxis\":{\"gridcolor\":\"#E1E5ED\",\"showgrid\":true,\"tickfont\":{\"color\":\"#4D5663\"},\"title\":{\"font\":{\"color\":\"#4D5663\"},\"text\":\"\"},\"zerolinecolor\":\"#E1E5ED\"}},                        {\"showLink\": true, \"linkText\": \"Export to plot.ly\", \"plotlyServerURL\": \"https://plot.ly\", \"responsive\": true}                    ).then(function(){\n",
       "                            \n",
       "var gd = document.getElementById('4118d225-2a02-43ec-8f75-e91095df42aa');\n",
       "var x = new MutationObserver(function (mutations, observer) {{\n",
       "        var display = window.getComputedStyle(gd).display;\n",
       "        if (!display || display === 'none') {{\n",
       "            console.log([gd, 'removed!']);\n",
       "            Plotly.purge(gd);\n",
       "            observer.disconnect();\n",
       "        }}\n",
       "}});\n",
       "\n",
       "// Listen for the removal of the full notebook cells\n",
       "var notebookContainer = gd.closest('#notebook-container');\n",
       "if (notebookContainer) {{\n",
       "    x.observe(notebookContainer, {childList: true});\n",
       "}}\n",
       "\n",
       "// Listen for the clearing of the current output cell\n",
       "var outputEl = gd.closest('.output');\n",
       "if (outputEl) {{\n",
       "    x.observe(outputEl, {childList: true});\n",
       "}}\n",
       "\n",
       "                        })                };                });            </script>        </div>"
      ]
     },
     "metadata": {},
     "output_type": "display_data"
    }
   ],
   "source": [
    "df.iplot(kind=\"scatter\", x=\"A\", y=\"B\")"
   ]
  },
  {
   "cell_type": "code",
   "execution_count": 18,
   "id": "2e8f5258",
   "metadata": {},
   "outputs": [
    {
     "data": {
      "application/vnd.plotly.v1+json": {
       "config": {
        "linkText": "Export to plot.ly",
        "plotlyServerURL": "https://plot.ly",
        "showLink": true
       },
       "data": [
        {
         "marker": {
          "color": "rgba(255, 153, 51, 0.6)",
          "line": {
           "color": "rgba(255, 153, 51, 1.0)",
           "width": 1
          }
         },
         "name": "Werte",
         "orientation": "v",
         "text": "",
         "type": "bar",
         "x": [
          "A",
          "B",
          "C"
         ],
         "y": [
          32,
          43,
          50
         ]
        }
       ],
       "layout": {
        "legend": {
         "bgcolor": "#F5F6F9",
         "font": {
          "color": "#4D5663"
         }
        },
        "paper_bgcolor": "#F5F6F9",
        "plot_bgcolor": "#F5F6F9",
        "template": {
         "data": {
          "bar": [
           {
            "error_x": {
             "color": "#2a3f5f"
            },
            "error_y": {
             "color": "#2a3f5f"
            },
            "marker": {
             "line": {
              "color": "#E5ECF6",
              "width": 0.5
             },
             "pattern": {
              "fillmode": "overlay",
              "size": 10,
              "solidity": 0.2
             }
            },
            "type": "bar"
           }
          ],
          "barpolar": [
           {
            "marker": {
             "line": {
              "color": "#E5ECF6",
              "width": 0.5
             },
             "pattern": {
              "fillmode": "overlay",
              "size": 10,
              "solidity": 0.2
             }
            },
            "type": "barpolar"
           }
          ],
          "carpet": [
           {
            "aaxis": {
             "endlinecolor": "#2a3f5f",
             "gridcolor": "white",
             "linecolor": "white",
             "minorgridcolor": "white",
             "startlinecolor": "#2a3f5f"
            },
            "baxis": {
             "endlinecolor": "#2a3f5f",
             "gridcolor": "white",
             "linecolor": "white",
             "minorgridcolor": "white",
             "startlinecolor": "#2a3f5f"
            },
            "type": "carpet"
           }
          ],
          "choropleth": [
           {
            "colorbar": {
             "outlinewidth": 0,
             "ticks": ""
            },
            "type": "choropleth"
           }
          ],
          "contour": [
           {
            "colorbar": {
             "outlinewidth": 0,
             "ticks": ""
            },
            "colorscale": [
             [
              0,
              "#0d0887"
             ],
             [
              0.1111111111111111,
              "#46039f"
             ],
             [
              0.2222222222222222,
              "#7201a8"
             ],
             [
              0.3333333333333333,
              "#9c179e"
             ],
             [
              0.4444444444444444,
              "#bd3786"
             ],
             [
              0.5555555555555556,
              "#d8576b"
             ],
             [
              0.6666666666666666,
              "#ed7953"
             ],
             [
              0.7777777777777778,
              "#fb9f3a"
             ],
             [
              0.8888888888888888,
              "#fdca26"
             ],
             [
              1,
              "#f0f921"
             ]
            ],
            "type": "contour"
           }
          ],
          "contourcarpet": [
           {
            "colorbar": {
             "outlinewidth": 0,
             "ticks": ""
            },
            "type": "contourcarpet"
           }
          ],
          "heatmap": [
           {
            "colorbar": {
             "outlinewidth": 0,
             "ticks": ""
            },
            "colorscale": [
             [
              0,
              "#0d0887"
             ],
             [
              0.1111111111111111,
              "#46039f"
             ],
             [
              0.2222222222222222,
              "#7201a8"
             ],
             [
              0.3333333333333333,
              "#9c179e"
             ],
             [
              0.4444444444444444,
              "#bd3786"
             ],
             [
              0.5555555555555556,
              "#d8576b"
             ],
             [
              0.6666666666666666,
              "#ed7953"
             ],
             [
              0.7777777777777778,
              "#fb9f3a"
             ],
             [
              0.8888888888888888,
              "#fdca26"
             ],
             [
              1,
              "#f0f921"
             ]
            ],
            "type": "heatmap"
           }
          ],
          "heatmapgl": [
           {
            "colorbar": {
             "outlinewidth": 0,
             "ticks": ""
            },
            "colorscale": [
             [
              0,
              "#0d0887"
             ],
             [
              0.1111111111111111,
              "#46039f"
             ],
             [
              0.2222222222222222,
              "#7201a8"
             ],
             [
              0.3333333333333333,
              "#9c179e"
             ],
             [
              0.4444444444444444,
              "#bd3786"
             ],
             [
              0.5555555555555556,
              "#d8576b"
             ],
             [
              0.6666666666666666,
              "#ed7953"
             ],
             [
              0.7777777777777778,
              "#fb9f3a"
             ],
             [
              0.8888888888888888,
              "#fdca26"
             ],
             [
              1,
              "#f0f921"
             ]
            ],
            "type": "heatmapgl"
           }
          ],
          "histogram": [
           {
            "marker": {
             "pattern": {
              "fillmode": "overlay",
              "size": 10,
              "solidity": 0.2
             }
            },
            "type": "histogram"
           }
          ],
          "histogram2d": [
           {
            "colorbar": {
             "outlinewidth": 0,
             "ticks": ""
            },
            "colorscale": [
             [
              0,
              "#0d0887"
             ],
             [
              0.1111111111111111,
              "#46039f"
             ],
             [
              0.2222222222222222,
              "#7201a8"
             ],
             [
              0.3333333333333333,
              "#9c179e"
             ],
             [
              0.4444444444444444,
              "#bd3786"
             ],
             [
              0.5555555555555556,
              "#d8576b"
             ],
             [
              0.6666666666666666,
              "#ed7953"
             ],
             [
              0.7777777777777778,
              "#fb9f3a"
             ],
             [
              0.8888888888888888,
              "#fdca26"
             ],
             [
              1,
              "#f0f921"
             ]
            ],
            "type": "histogram2d"
           }
          ],
          "histogram2dcontour": [
           {
            "colorbar": {
             "outlinewidth": 0,
             "ticks": ""
            },
            "colorscale": [
             [
              0,
              "#0d0887"
             ],
             [
              0.1111111111111111,
              "#46039f"
             ],
             [
              0.2222222222222222,
              "#7201a8"
             ],
             [
              0.3333333333333333,
              "#9c179e"
             ],
             [
              0.4444444444444444,
              "#bd3786"
             ],
             [
              0.5555555555555556,
              "#d8576b"
             ],
             [
              0.6666666666666666,
              "#ed7953"
             ],
             [
              0.7777777777777778,
              "#fb9f3a"
             ],
             [
              0.8888888888888888,
              "#fdca26"
             ],
             [
              1,
              "#f0f921"
             ]
            ],
            "type": "histogram2dcontour"
           }
          ],
          "mesh3d": [
           {
            "colorbar": {
             "outlinewidth": 0,
             "ticks": ""
            },
            "type": "mesh3d"
           }
          ],
          "parcoords": [
           {
            "line": {
             "colorbar": {
              "outlinewidth": 0,
              "ticks": ""
             }
            },
            "type": "parcoords"
           }
          ],
          "pie": [
           {
            "automargin": true,
            "type": "pie"
           }
          ],
          "scatter": [
           {
            "fillpattern": {
             "fillmode": "overlay",
             "size": 10,
             "solidity": 0.2
            },
            "type": "scatter"
           }
          ],
          "scatter3d": [
           {
            "line": {
             "colorbar": {
              "outlinewidth": 0,
              "ticks": ""
             }
            },
            "marker": {
             "colorbar": {
              "outlinewidth": 0,
              "ticks": ""
             }
            },
            "type": "scatter3d"
           }
          ],
          "scattercarpet": [
           {
            "marker": {
             "colorbar": {
              "outlinewidth": 0,
              "ticks": ""
             }
            },
            "type": "scattercarpet"
           }
          ],
          "scattergeo": [
           {
            "marker": {
             "colorbar": {
              "outlinewidth": 0,
              "ticks": ""
             }
            },
            "type": "scattergeo"
           }
          ],
          "scattergl": [
           {
            "marker": {
             "colorbar": {
              "outlinewidth": 0,
              "ticks": ""
             }
            },
            "type": "scattergl"
           }
          ],
          "scattermapbox": [
           {
            "marker": {
             "colorbar": {
              "outlinewidth": 0,
              "ticks": ""
             }
            },
            "type": "scattermapbox"
           }
          ],
          "scatterpolar": [
           {
            "marker": {
             "colorbar": {
              "outlinewidth": 0,
              "ticks": ""
             }
            },
            "type": "scatterpolar"
           }
          ],
          "scatterpolargl": [
           {
            "marker": {
             "colorbar": {
              "outlinewidth": 0,
              "ticks": ""
             }
            },
            "type": "scatterpolargl"
           }
          ],
          "scatterternary": [
           {
            "marker": {
             "colorbar": {
              "outlinewidth": 0,
              "ticks": ""
             }
            },
            "type": "scatterternary"
           }
          ],
          "surface": [
           {
            "colorbar": {
             "outlinewidth": 0,
             "ticks": ""
            },
            "colorscale": [
             [
              0,
              "#0d0887"
             ],
             [
              0.1111111111111111,
              "#46039f"
             ],
             [
              0.2222222222222222,
              "#7201a8"
             ],
             [
              0.3333333333333333,
              "#9c179e"
             ],
             [
              0.4444444444444444,
              "#bd3786"
             ],
             [
              0.5555555555555556,
              "#d8576b"
             ],
             [
              0.6666666666666666,
              "#ed7953"
             ],
             [
              0.7777777777777778,
              "#fb9f3a"
             ],
             [
              0.8888888888888888,
              "#fdca26"
             ],
             [
              1,
              "#f0f921"
             ]
            ],
            "type": "surface"
           }
          ],
          "table": [
           {
            "cells": {
             "fill": {
              "color": "#EBF0F8"
             },
             "line": {
              "color": "white"
             }
            },
            "header": {
             "fill": {
              "color": "#C8D4E3"
             },
             "line": {
              "color": "white"
             }
            },
            "type": "table"
           }
          ]
         },
         "layout": {
          "annotationdefaults": {
           "arrowcolor": "#2a3f5f",
           "arrowhead": 0,
           "arrowwidth": 1
          },
          "autotypenumbers": "strict",
          "coloraxis": {
           "colorbar": {
            "outlinewidth": 0,
            "ticks": ""
           }
          },
          "colorscale": {
           "diverging": [
            [
             0,
             "#8e0152"
            ],
            [
             0.1,
             "#c51b7d"
            ],
            [
             0.2,
             "#de77ae"
            ],
            [
             0.3,
             "#f1b6da"
            ],
            [
             0.4,
             "#fde0ef"
            ],
            [
             0.5,
             "#f7f7f7"
            ],
            [
             0.6,
             "#e6f5d0"
            ],
            [
             0.7,
             "#b8e186"
            ],
            [
             0.8,
             "#7fbc41"
            ],
            [
             0.9,
             "#4d9221"
            ],
            [
             1,
             "#276419"
            ]
           ],
           "sequential": [
            [
             0,
             "#0d0887"
            ],
            [
             0.1111111111111111,
             "#46039f"
            ],
            [
             0.2222222222222222,
             "#7201a8"
            ],
            [
             0.3333333333333333,
             "#9c179e"
            ],
            [
             0.4444444444444444,
             "#bd3786"
            ],
            [
             0.5555555555555556,
             "#d8576b"
            ],
            [
             0.6666666666666666,
             "#ed7953"
            ],
            [
             0.7777777777777778,
             "#fb9f3a"
            ],
            [
             0.8888888888888888,
             "#fdca26"
            ],
            [
             1,
             "#f0f921"
            ]
           ],
           "sequentialminus": [
            [
             0,
             "#0d0887"
            ],
            [
             0.1111111111111111,
             "#46039f"
            ],
            [
             0.2222222222222222,
             "#7201a8"
            ],
            [
             0.3333333333333333,
             "#9c179e"
            ],
            [
             0.4444444444444444,
             "#bd3786"
            ],
            [
             0.5555555555555556,
             "#d8576b"
            ],
            [
             0.6666666666666666,
             "#ed7953"
            ],
            [
             0.7777777777777778,
             "#fb9f3a"
            ],
            [
             0.8888888888888888,
             "#fdca26"
            ],
            [
             1,
             "#f0f921"
            ]
           ]
          },
          "colorway": [
           "#636efa",
           "#EF553B",
           "#00cc96",
           "#ab63fa",
           "#FFA15A",
           "#19d3f3",
           "#FF6692",
           "#B6E880",
           "#FF97FF",
           "#FECB52"
          ],
          "font": {
           "color": "#2a3f5f"
          },
          "geo": {
           "bgcolor": "white",
           "lakecolor": "white",
           "landcolor": "#E5ECF6",
           "showlakes": true,
           "showland": true,
           "subunitcolor": "white"
          },
          "hoverlabel": {
           "align": "left"
          },
          "hovermode": "closest",
          "mapbox": {
           "style": "light"
          },
          "paper_bgcolor": "white",
          "plot_bgcolor": "#E5ECF6",
          "polar": {
           "angularaxis": {
            "gridcolor": "white",
            "linecolor": "white",
            "ticks": ""
           },
           "bgcolor": "#E5ECF6",
           "radialaxis": {
            "gridcolor": "white",
            "linecolor": "white",
            "ticks": ""
           }
          },
          "scene": {
           "xaxis": {
            "backgroundcolor": "#E5ECF6",
            "gridcolor": "white",
            "gridwidth": 2,
            "linecolor": "white",
            "showbackground": true,
            "ticks": "",
            "zerolinecolor": "white"
           },
           "yaxis": {
            "backgroundcolor": "#E5ECF6",
            "gridcolor": "white",
            "gridwidth": 2,
            "linecolor": "white",
            "showbackground": true,
            "ticks": "",
            "zerolinecolor": "white"
           },
           "zaxis": {
            "backgroundcolor": "#E5ECF6",
            "gridcolor": "white",
            "gridwidth": 2,
            "linecolor": "white",
            "showbackground": true,
            "ticks": "",
            "zerolinecolor": "white"
           }
          },
          "shapedefaults": {
           "line": {
            "color": "#2a3f5f"
           }
          },
          "ternary": {
           "aaxis": {
            "gridcolor": "white",
            "linecolor": "white",
            "ticks": ""
           },
           "baxis": {
            "gridcolor": "white",
            "linecolor": "white",
            "ticks": ""
           },
           "bgcolor": "#E5ECF6",
           "caxis": {
            "gridcolor": "white",
            "linecolor": "white",
            "ticks": ""
           }
          },
          "title": {
           "x": 0.05
          },
          "xaxis": {
           "automargin": true,
           "gridcolor": "white",
           "linecolor": "white",
           "ticks": "",
           "title": {
            "standoff": 15
           },
           "zerolinecolor": "white",
           "zerolinewidth": 2
          },
          "yaxis": {
           "automargin": true,
           "gridcolor": "white",
           "linecolor": "white",
           "ticks": "",
           "title": {
            "standoff": 15
           },
           "zerolinecolor": "white",
           "zerolinewidth": 2
          }
         }
        },
        "title": {
         "font": {
          "color": "#4D5663"
         }
        },
        "xaxis": {
         "gridcolor": "#E1E5ED",
         "showgrid": true,
         "tickfont": {
          "color": "#4D5663"
         },
         "title": {
          "font": {
           "color": "#4D5663"
          },
          "text": ""
         },
         "zerolinecolor": "#E1E5ED"
        },
        "yaxis": {
         "gridcolor": "#E1E5ED",
         "showgrid": true,
         "tickfont": {
          "color": "#4D5663"
         },
         "title": {
          "font": {
           "color": "#4D5663"
          },
          "text": ""
         },
         "zerolinecolor": "#E1E5ED"
        }
       }
      },
      "text/html": [
       "<div>                            <div id=\"f6652ee8-5491-4850-9a3b-dfa46649958f\" class=\"plotly-graph-div\" style=\"height:525px; width:100%;\"></div>            <script type=\"text/javascript\">                require([\"plotly\"], function(Plotly) {                    window.PLOTLYENV=window.PLOTLYENV || {};\n",
       "                    window.PLOTLYENV.BASE_URL='https://plot.ly';                                    if (document.getElementById(\"f6652ee8-5491-4850-9a3b-dfa46649958f\")) {                    Plotly.newPlot(                        \"f6652ee8-5491-4850-9a3b-dfa46649958f\",                        [{\"marker\":{\"color\":\"rgba(255, 153, 51, 0.6)\",\"line\":{\"color\":\"rgba(255, 153, 51, 1.0)\",\"width\":1}},\"name\":\"Werte\",\"orientation\":\"v\",\"text\":\"\",\"x\":[\"A\",\"B\",\"C\"],\"y\":[32,43,50],\"type\":\"bar\"}],                        {\"legend\":{\"bgcolor\":\"#F5F6F9\",\"font\":{\"color\":\"#4D5663\"}},\"paper_bgcolor\":\"#F5F6F9\",\"plot_bgcolor\":\"#F5F6F9\",\"template\":{\"data\":{\"barpolar\":[{\"marker\":{\"line\":{\"color\":\"#E5ECF6\",\"width\":0.5},\"pattern\":{\"fillmode\":\"overlay\",\"size\":10,\"solidity\":0.2}},\"type\":\"barpolar\"}],\"bar\":[{\"error_x\":{\"color\":\"#2a3f5f\"},\"error_y\":{\"color\":\"#2a3f5f\"},\"marker\":{\"line\":{\"color\":\"#E5ECF6\",\"width\":0.5},\"pattern\":{\"fillmode\":\"overlay\",\"size\":10,\"solidity\":0.2}},\"type\":\"bar\"}],\"carpet\":[{\"aaxis\":{\"endlinecolor\":\"#2a3f5f\",\"gridcolor\":\"white\",\"linecolor\":\"white\",\"minorgridcolor\":\"white\",\"startlinecolor\":\"#2a3f5f\"},\"baxis\":{\"endlinecolor\":\"#2a3f5f\",\"gridcolor\":\"white\",\"linecolor\":\"white\",\"minorgridcolor\":\"white\",\"startlinecolor\":\"#2a3f5f\"},\"type\":\"carpet\"}],\"choropleth\":[{\"colorbar\":{\"outlinewidth\":0,\"ticks\":\"\"},\"type\":\"choropleth\"}],\"contourcarpet\":[{\"colorbar\":{\"outlinewidth\":0,\"ticks\":\"\"},\"type\":\"contourcarpet\"}],\"contour\":[{\"colorbar\":{\"outlinewidth\":0,\"ticks\":\"\"},\"colorscale\":[[0.0,\"#0d0887\"],[0.1111111111111111,\"#46039f\"],[0.2222222222222222,\"#7201a8\"],[0.3333333333333333,\"#9c179e\"],[0.4444444444444444,\"#bd3786\"],[0.5555555555555556,\"#d8576b\"],[0.6666666666666666,\"#ed7953\"],[0.7777777777777778,\"#fb9f3a\"],[0.8888888888888888,\"#fdca26\"],[1.0,\"#f0f921\"]],\"type\":\"contour\"}],\"heatmapgl\":[{\"colorbar\":{\"outlinewidth\":0,\"ticks\":\"\"},\"colorscale\":[[0.0,\"#0d0887\"],[0.1111111111111111,\"#46039f\"],[0.2222222222222222,\"#7201a8\"],[0.3333333333333333,\"#9c179e\"],[0.4444444444444444,\"#bd3786\"],[0.5555555555555556,\"#d8576b\"],[0.6666666666666666,\"#ed7953\"],[0.7777777777777778,\"#fb9f3a\"],[0.8888888888888888,\"#fdca26\"],[1.0,\"#f0f921\"]],\"type\":\"heatmapgl\"}],\"heatmap\":[{\"colorbar\":{\"outlinewidth\":0,\"ticks\":\"\"},\"colorscale\":[[0.0,\"#0d0887\"],[0.1111111111111111,\"#46039f\"],[0.2222222222222222,\"#7201a8\"],[0.3333333333333333,\"#9c179e\"],[0.4444444444444444,\"#bd3786\"],[0.5555555555555556,\"#d8576b\"],[0.6666666666666666,\"#ed7953\"],[0.7777777777777778,\"#fb9f3a\"],[0.8888888888888888,\"#fdca26\"],[1.0,\"#f0f921\"]],\"type\":\"heatmap\"}],\"histogram2dcontour\":[{\"colorbar\":{\"outlinewidth\":0,\"ticks\":\"\"},\"colorscale\":[[0.0,\"#0d0887\"],[0.1111111111111111,\"#46039f\"],[0.2222222222222222,\"#7201a8\"],[0.3333333333333333,\"#9c179e\"],[0.4444444444444444,\"#bd3786\"],[0.5555555555555556,\"#d8576b\"],[0.6666666666666666,\"#ed7953\"],[0.7777777777777778,\"#fb9f3a\"],[0.8888888888888888,\"#fdca26\"],[1.0,\"#f0f921\"]],\"type\":\"histogram2dcontour\"}],\"histogram2d\":[{\"colorbar\":{\"outlinewidth\":0,\"ticks\":\"\"},\"colorscale\":[[0.0,\"#0d0887\"],[0.1111111111111111,\"#46039f\"],[0.2222222222222222,\"#7201a8\"],[0.3333333333333333,\"#9c179e\"],[0.4444444444444444,\"#bd3786\"],[0.5555555555555556,\"#d8576b\"],[0.6666666666666666,\"#ed7953\"],[0.7777777777777778,\"#fb9f3a\"],[0.8888888888888888,\"#fdca26\"],[1.0,\"#f0f921\"]],\"type\":\"histogram2d\"}],\"histogram\":[{\"marker\":{\"pattern\":{\"fillmode\":\"overlay\",\"size\":10,\"solidity\":0.2}},\"type\":\"histogram\"}],\"mesh3d\":[{\"colorbar\":{\"outlinewidth\":0,\"ticks\":\"\"},\"type\":\"mesh3d\"}],\"parcoords\":[{\"line\":{\"colorbar\":{\"outlinewidth\":0,\"ticks\":\"\"}},\"type\":\"parcoords\"}],\"pie\":[{\"automargin\":true,\"type\":\"pie\"}],\"scatter3d\":[{\"line\":{\"colorbar\":{\"outlinewidth\":0,\"ticks\":\"\"}},\"marker\":{\"colorbar\":{\"outlinewidth\":0,\"ticks\":\"\"}},\"type\":\"scatter3d\"}],\"scattercarpet\":[{\"marker\":{\"colorbar\":{\"outlinewidth\":0,\"ticks\":\"\"}},\"type\":\"scattercarpet\"}],\"scattergeo\":[{\"marker\":{\"colorbar\":{\"outlinewidth\":0,\"ticks\":\"\"}},\"type\":\"scattergeo\"}],\"scattergl\":[{\"marker\":{\"colorbar\":{\"outlinewidth\":0,\"ticks\":\"\"}},\"type\":\"scattergl\"}],\"scattermapbox\":[{\"marker\":{\"colorbar\":{\"outlinewidth\":0,\"ticks\":\"\"}},\"type\":\"scattermapbox\"}],\"scatterpolargl\":[{\"marker\":{\"colorbar\":{\"outlinewidth\":0,\"ticks\":\"\"}},\"type\":\"scatterpolargl\"}],\"scatterpolar\":[{\"marker\":{\"colorbar\":{\"outlinewidth\":0,\"ticks\":\"\"}},\"type\":\"scatterpolar\"}],\"scatter\":[{\"fillpattern\":{\"fillmode\":\"overlay\",\"size\":10,\"solidity\":0.2},\"type\":\"scatter\"}],\"scatterternary\":[{\"marker\":{\"colorbar\":{\"outlinewidth\":0,\"ticks\":\"\"}},\"type\":\"scatterternary\"}],\"surface\":[{\"colorbar\":{\"outlinewidth\":0,\"ticks\":\"\"},\"colorscale\":[[0.0,\"#0d0887\"],[0.1111111111111111,\"#46039f\"],[0.2222222222222222,\"#7201a8\"],[0.3333333333333333,\"#9c179e\"],[0.4444444444444444,\"#bd3786\"],[0.5555555555555556,\"#d8576b\"],[0.6666666666666666,\"#ed7953\"],[0.7777777777777778,\"#fb9f3a\"],[0.8888888888888888,\"#fdca26\"],[1.0,\"#f0f921\"]],\"type\":\"surface\"}],\"table\":[{\"cells\":{\"fill\":{\"color\":\"#EBF0F8\"},\"line\":{\"color\":\"white\"}},\"header\":{\"fill\":{\"color\":\"#C8D4E3\"},\"line\":{\"color\":\"white\"}},\"type\":\"table\"}]},\"layout\":{\"annotationdefaults\":{\"arrowcolor\":\"#2a3f5f\",\"arrowhead\":0,\"arrowwidth\":1},\"autotypenumbers\":\"strict\",\"coloraxis\":{\"colorbar\":{\"outlinewidth\":0,\"ticks\":\"\"}},\"colorscale\":{\"diverging\":[[0,\"#8e0152\"],[0.1,\"#c51b7d\"],[0.2,\"#de77ae\"],[0.3,\"#f1b6da\"],[0.4,\"#fde0ef\"],[0.5,\"#f7f7f7\"],[0.6,\"#e6f5d0\"],[0.7,\"#b8e186\"],[0.8,\"#7fbc41\"],[0.9,\"#4d9221\"],[1,\"#276419\"]],\"sequential\":[[0.0,\"#0d0887\"],[0.1111111111111111,\"#46039f\"],[0.2222222222222222,\"#7201a8\"],[0.3333333333333333,\"#9c179e\"],[0.4444444444444444,\"#bd3786\"],[0.5555555555555556,\"#d8576b\"],[0.6666666666666666,\"#ed7953\"],[0.7777777777777778,\"#fb9f3a\"],[0.8888888888888888,\"#fdca26\"],[1.0,\"#f0f921\"]],\"sequentialminus\":[[0.0,\"#0d0887\"],[0.1111111111111111,\"#46039f\"],[0.2222222222222222,\"#7201a8\"],[0.3333333333333333,\"#9c179e\"],[0.4444444444444444,\"#bd3786\"],[0.5555555555555556,\"#d8576b\"],[0.6666666666666666,\"#ed7953\"],[0.7777777777777778,\"#fb9f3a\"],[0.8888888888888888,\"#fdca26\"],[1.0,\"#f0f921\"]]},\"colorway\":[\"#636efa\",\"#EF553B\",\"#00cc96\",\"#ab63fa\",\"#FFA15A\",\"#19d3f3\",\"#FF6692\",\"#B6E880\",\"#FF97FF\",\"#FECB52\"],\"font\":{\"color\":\"#2a3f5f\"},\"geo\":{\"bgcolor\":\"white\",\"lakecolor\":\"white\",\"landcolor\":\"#E5ECF6\",\"showlakes\":true,\"showland\":true,\"subunitcolor\":\"white\"},\"hoverlabel\":{\"align\":\"left\"},\"hovermode\":\"closest\",\"mapbox\":{\"style\":\"light\"},\"paper_bgcolor\":\"white\",\"plot_bgcolor\":\"#E5ECF6\",\"polar\":{\"angularaxis\":{\"gridcolor\":\"white\",\"linecolor\":\"white\",\"ticks\":\"\"},\"bgcolor\":\"#E5ECF6\",\"radialaxis\":{\"gridcolor\":\"white\",\"linecolor\":\"white\",\"ticks\":\"\"}},\"scene\":{\"xaxis\":{\"backgroundcolor\":\"#E5ECF6\",\"gridcolor\":\"white\",\"gridwidth\":2,\"linecolor\":\"white\",\"showbackground\":true,\"ticks\":\"\",\"zerolinecolor\":\"white\"},\"yaxis\":{\"backgroundcolor\":\"#E5ECF6\",\"gridcolor\":\"white\",\"gridwidth\":2,\"linecolor\":\"white\",\"showbackground\":true,\"ticks\":\"\",\"zerolinecolor\":\"white\"},\"zaxis\":{\"backgroundcolor\":\"#E5ECF6\",\"gridcolor\":\"white\",\"gridwidth\":2,\"linecolor\":\"white\",\"showbackground\":true,\"ticks\":\"\",\"zerolinecolor\":\"white\"}},\"shapedefaults\":{\"line\":{\"color\":\"#2a3f5f\"}},\"ternary\":{\"aaxis\":{\"gridcolor\":\"white\",\"linecolor\":\"white\",\"ticks\":\"\"},\"baxis\":{\"gridcolor\":\"white\",\"linecolor\":\"white\",\"ticks\":\"\"},\"bgcolor\":\"#E5ECF6\",\"caxis\":{\"gridcolor\":\"white\",\"linecolor\":\"white\",\"ticks\":\"\"}},\"title\":{\"x\":0.05},\"xaxis\":{\"automargin\":true,\"gridcolor\":\"white\",\"linecolor\":\"white\",\"ticks\":\"\",\"title\":{\"standoff\":15},\"zerolinecolor\":\"white\",\"zerolinewidth\":2},\"yaxis\":{\"automargin\":true,\"gridcolor\":\"white\",\"linecolor\":\"white\",\"ticks\":\"\",\"title\":{\"standoff\":15},\"zerolinecolor\":\"white\",\"zerolinewidth\":2}}},\"title\":{\"font\":{\"color\":\"#4D5663\"}},\"xaxis\":{\"gridcolor\":\"#E1E5ED\",\"showgrid\":true,\"tickfont\":{\"color\":\"#4D5663\"},\"title\":{\"font\":{\"color\":\"#4D5663\"},\"text\":\"\"},\"zerolinecolor\":\"#E1E5ED\"},\"yaxis\":{\"gridcolor\":\"#E1E5ED\",\"showgrid\":true,\"tickfont\":{\"color\":\"#4D5663\"},\"title\":{\"font\":{\"color\":\"#4D5663\"},\"text\":\"\"},\"zerolinecolor\":\"#E1E5ED\"}},                        {\"showLink\": true, \"linkText\": \"Export to plot.ly\", \"plotlyServerURL\": \"https://plot.ly\", \"responsive\": true}                    ).then(function(){\n",
       "                            \n",
       "var gd = document.getElementById('f6652ee8-5491-4850-9a3b-dfa46649958f');\n",
       "var x = new MutationObserver(function (mutations, observer) {{\n",
       "        var display = window.getComputedStyle(gd).display;\n",
       "        if (!display || display === 'none') {{\n",
       "            console.log([gd, 'removed!']);\n",
       "            Plotly.purge(gd);\n",
       "            observer.disconnect();\n",
       "        }}\n",
       "}});\n",
       "\n",
       "// Listen for the removal of the full notebook cells\n",
       "var notebookContainer = gd.closest('#notebook-container');\n",
       "if (notebookContainer) {{\n",
       "    x.observe(notebookContainer, {childList: true});\n",
       "}}\n",
       "\n",
       "// Listen for the clearing of the current output cell\n",
       "var outputEl = gd.closest('.output');\n",
       "if (outputEl) {{\n",
       "    x.observe(outputEl, {childList: true});\n",
       "}}\n",
       "\n",
       "                        })                };                });            </script>        </div>"
      ]
     },
     "metadata": {},
     "output_type": "display_data"
    }
   ],
   "source": [
    "df2.iplot(kind=\"bar\", x=\"Kategorie\", y=\"Werte\")"
   ]
  },
  {
   "cell_type": "code",
   "execution_count": 20,
   "id": "692ce2ab",
   "metadata": {},
   "outputs": [
    {
     "data": {
      "application/vnd.plotly.v1+json": {
       "config": {
        "linkText": "Export to plot.ly",
        "plotlyServerURL": "https://plot.ly",
        "showLink": true
       },
       "data": [
        {
         "marker": {
          "color": "rgba(255, 153, 51, 0.6)",
          "line": {
           "color": "rgba(255, 153, 51, 1.0)",
           "width": 1
          }
         },
         "name": "None",
         "orientation": "v",
         "text": "",
         "type": "bar",
         "x": [
          "A",
          "B",
          "C",
          "D"
         ],
         "y": [
          100,
          100,
          100,
          100
         ]
        }
       ],
       "layout": {
        "legend": {
         "bgcolor": "#F5F6F9",
         "font": {
          "color": "#4D5663"
         }
        },
        "paper_bgcolor": "#F5F6F9",
        "plot_bgcolor": "#F5F6F9",
        "template": {
         "data": {
          "bar": [
           {
            "error_x": {
             "color": "#2a3f5f"
            },
            "error_y": {
             "color": "#2a3f5f"
            },
            "marker": {
             "line": {
              "color": "#E5ECF6",
              "width": 0.5
             },
             "pattern": {
              "fillmode": "overlay",
              "size": 10,
              "solidity": 0.2
             }
            },
            "type": "bar"
           }
          ],
          "barpolar": [
           {
            "marker": {
             "line": {
              "color": "#E5ECF6",
              "width": 0.5
             },
             "pattern": {
              "fillmode": "overlay",
              "size": 10,
              "solidity": 0.2
             }
            },
            "type": "barpolar"
           }
          ],
          "carpet": [
           {
            "aaxis": {
             "endlinecolor": "#2a3f5f",
             "gridcolor": "white",
             "linecolor": "white",
             "minorgridcolor": "white",
             "startlinecolor": "#2a3f5f"
            },
            "baxis": {
             "endlinecolor": "#2a3f5f",
             "gridcolor": "white",
             "linecolor": "white",
             "minorgridcolor": "white",
             "startlinecolor": "#2a3f5f"
            },
            "type": "carpet"
           }
          ],
          "choropleth": [
           {
            "colorbar": {
             "outlinewidth": 0,
             "ticks": ""
            },
            "type": "choropleth"
           }
          ],
          "contour": [
           {
            "colorbar": {
             "outlinewidth": 0,
             "ticks": ""
            },
            "colorscale": [
             [
              0,
              "#0d0887"
             ],
             [
              0.1111111111111111,
              "#46039f"
             ],
             [
              0.2222222222222222,
              "#7201a8"
             ],
             [
              0.3333333333333333,
              "#9c179e"
             ],
             [
              0.4444444444444444,
              "#bd3786"
             ],
             [
              0.5555555555555556,
              "#d8576b"
             ],
             [
              0.6666666666666666,
              "#ed7953"
             ],
             [
              0.7777777777777778,
              "#fb9f3a"
             ],
             [
              0.8888888888888888,
              "#fdca26"
             ],
             [
              1,
              "#f0f921"
             ]
            ],
            "type": "contour"
           }
          ],
          "contourcarpet": [
           {
            "colorbar": {
             "outlinewidth": 0,
             "ticks": ""
            },
            "type": "contourcarpet"
           }
          ],
          "heatmap": [
           {
            "colorbar": {
             "outlinewidth": 0,
             "ticks": ""
            },
            "colorscale": [
             [
              0,
              "#0d0887"
             ],
             [
              0.1111111111111111,
              "#46039f"
             ],
             [
              0.2222222222222222,
              "#7201a8"
             ],
             [
              0.3333333333333333,
              "#9c179e"
             ],
             [
              0.4444444444444444,
              "#bd3786"
             ],
             [
              0.5555555555555556,
              "#d8576b"
             ],
             [
              0.6666666666666666,
              "#ed7953"
             ],
             [
              0.7777777777777778,
              "#fb9f3a"
             ],
             [
              0.8888888888888888,
              "#fdca26"
             ],
             [
              1,
              "#f0f921"
             ]
            ],
            "type": "heatmap"
           }
          ],
          "heatmapgl": [
           {
            "colorbar": {
             "outlinewidth": 0,
             "ticks": ""
            },
            "colorscale": [
             [
              0,
              "#0d0887"
             ],
             [
              0.1111111111111111,
              "#46039f"
             ],
             [
              0.2222222222222222,
              "#7201a8"
             ],
             [
              0.3333333333333333,
              "#9c179e"
             ],
             [
              0.4444444444444444,
              "#bd3786"
             ],
             [
              0.5555555555555556,
              "#d8576b"
             ],
             [
              0.6666666666666666,
              "#ed7953"
             ],
             [
              0.7777777777777778,
              "#fb9f3a"
             ],
             [
              0.8888888888888888,
              "#fdca26"
             ],
             [
              1,
              "#f0f921"
             ]
            ],
            "type": "heatmapgl"
           }
          ],
          "histogram": [
           {
            "marker": {
             "pattern": {
              "fillmode": "overlay",
              "size": 10,
              "solidity": 0.2
             }
            },
            "type": "histogram"
           }
          ],
          "histogram2d": [
           {
            "colorbar": {
             "outlinewidth": 0,
             "ticks": ""
            },
            "colorscale": [
             [
              0,
              "#0d0887"
             ],
             [
              0.1111111111111111,
              "#46039f"
             ],
             [
              0.2222222222222222,
              "#7201a8"
             ],
             [
              0.3333333333333333,
              "#9c179e"
             ],
             [
              0.4444444444444444,
              "#bd3786"
             ],
             [
              0.5555555555555556,
              "#d8576b"
             ],
             [
              0.6666666666666666,
              "#ed7953"
             ],
             [
              0.7777777777777778,
              "#fb9f3a"
             ],
             [
              0.8888888888888888,
              "#fdca26"
             ],
             [
              1,
              "#f0f921"
             ]
            ],
            "type": "histogram2d"
           }
          ],
          "histogram2dcontour": [
           {
            "colorbar": {
             "outlinewidth": 0,
             "ticks": ""
            },
            "colorscale": [
             [
              0,
              "#0d0887"
             ],
             [
              0.1111111111111111,
              "#46039f"
             ],
             [
              0.2222222222222222,
              "#7201a8"
             ],
             [
              0.3333333333333333,
              "#9c179e"
             ],
             [
              0.4444444444444444,
              "#bd3786"
             ],
             [
              0.5555555555555556,
              "#d8576b"
             ],
             [
              0.6666666666666666,
              "#ed7953"
             ],
             [
              0.7777777777777778,
              "#fb9f3a"
             ],
             [
              0.8888888888888888,
              "#fdca26"
             ],
             [
              1,
              "#f0f921"
             ]
            ],
            "type": "histogram2dcontour"
           }
          ],
          "mesh3d": [
           {
            "colorbar": {
             "outlinewidth": 0,
             "ticks": ""
            },
            "type": "mesh3d"
           }
          ],
          "parcoords": [
           {
            "line": {
             "colorbar": {
              "outlinewidth": 0,
              "ticks": ""
             }
            },
            "type": "parcoords"
           }
          ],
          "pie": [
           {
            "automargin": true,
            "type": "pie"
           }
          ],
          "scatter": [
           {
            "fillpattern": {
             "fillmode": "overlay",
             "size": 10,
             "solidity": 0.2
            },
            "type": "scatter"
           }
          ],
          "scatter3d": [
           {
            "line": {
             "colorbar": {
              "outlinewidth": 0,
              "ticks": ""
             }
            },
            "marker": {
             "colorbar": {
              "outlinewidth": 0,
              "ticks": ""
             }
            },
            "type": "scatter3d"
           }
          ],
          "scattercarpet": [
           {
            "marker": {
             "colorbar": {
              "outlinewidth": 0,
              "ticks": ""
             }
            },
            "type": "scattercarpet"
           }
          ],
          "scattergeo": [
           {
            "marker": {
             "colorbar": {
              "outlinewidth": 0,
              "ticks": ""
             }
            },
            "type": "scattergeo"
           }
          ],
          "scattergl": [
           {
            "marker": {
             "colorbar": {
              "outlinewidth": 0,
              "ticks": ""
             }
            },
            "type": "scattergl"
           }
          ],
          "scattermapbox": [
           {
            "marker": {
             "colorbar": {
              "outlinewidth": 0,
              "ticks": ""
             }
            },
            "type": "scattermapbox"
           }
          ],
          "scatterpolar": [
           {
            "marker": {
             "colorbar": {
              "outlinewidth": 0,
              "ticks": ""
             }
            },
            "type": "scatterpolar"
           }
          ],
          "scatterpolargl": [
           {
            "marker": {
             "colorbar": {
              "outlinewidth": 0,
              "ticks": ""
             }
            },
            "type": "scatterpolargl"
           }
          ],
          "scatterternary": [
           {
            "marker": {
             "colorbar": {
              "outlinewidth": 0,
              "ticks": ""
             }
            },
            "type": "scatterternary"
           }
          ],
          "surface": [
           {
            "colorbar": {
             "outlinewidth": 0,
             "ticks": ""
            },
            "colorscale": [
             [
              0,
              "#0d0887"
             ],
             [
              0.1111111111111111,
              "#46039f"
             ],
             [
              0.2222222222222222,
              "#7201a8"
             ],
             [
              0.3333333333333333,
              "#9c179e"
             ],
             [
              0.4444444444444444,
              "#bd3786"
             ],
             [
              0.5555555555555556,
              "#d8576b"
             ],
             [
              0.6666666666666666,
              "#ed7953"
             ],
             [
              0.7777777777777778,
              "#fb9f3a"
             ],
             [
              0.8888888888888888,
              "#fdca26"
             ],
             [
              1,
              "#f0f921"
             ]
            ],
            "type": "surface"
           }
          ],
          "table": [
           {
            "cells": {
             "fill": {
              "color": "#EBF0F8"
             },
             "line": {
              "color": "white"
             }
            },
            "header": {
             "fill": {
              "color": "#C8D4E3"
             },
             "line": {
              "color": "white"
             }
            },
            "type": "table"
           }
          ]
         },
         "layout": {
          "annotationdefaults": {
           "arrowcolor": "#2a3f5f",
           "arrowhead": 0,
           "arrowwidth": 1
          },
          "autotypenumbers": "strict",
          "coloraxis": {
           "colorbar": {
            "outlinewidth": 0,
            "ticks": ""
           }
          },
          "colorscale": {
           "diverging": [
            [
             0,
             "#8e0152"
            ],
            [
             0.1,
             "#c51b7d"
            ],
            [
             0.2,
             "#de77ae"
            ],
            [
             0.3,
             "#f1b6da"
            ],
            [
             0.4,
             "#fde0ef"
            ],
            [
             0.5,
             "#f7f7f7"
            ],
            [
             0.6,
             "#e6f5d0"
            ],
            [
             0.7,
             "#b8e186"
            ],
            [
             0.8,
             "#7fbc41"
            ],
            [
             0.9,
             "#4d9221"
            ],
            [
             1,
             "#276419"
            ]
           ],
           "sequential": [
            [
             0,
             "#0d0887"
            ],
            [
             0.1111111111111111,
             "#46039f"
            ],
            [
             0.2222222222222222,
             "#7201a8"
            ],
            [
             0.3333333333333333,
             "#9c179e"
            ],
            [
             0.4444444444444444,
             "#bd3786"
            ],
            [
             0.5555555555555556,
             "#d8576b"
            ],
            [
             0.6666666666666666,
             "#ed7953"
            ],
            [
             0.7777777777777778,
             "#fb9f3a"
            ],
            [
             0.8888888888888888,
             "#fdca26"
            ],
            [
             1,
             "#f0f921"
            ]
           ],
           "sequentialminus": [
            [
             0,
             "#0d0887"
            ],
            [
             0.1111111111111111,
             "#46039f"
            ],
            [
             0.2222222222222222,
             "#7201a8"
            ],
            [
             0.3333333333333333,
             "#9c179e"
            ],
            [
             0.4444444444444444,
             "#bd3786"
            ],
            [
             0.5555555555555556,
             "#d8576b"
            ],
            [
             0.6666666666666666,
             "#ed7953"
            ],
            [
             0.7777777777777778,
             "#fb9f3a"
            ],
            [
             0.8888888888888888,
             "#fdca26"
            ],
            [
             1,
             "#f0f921"
            ]
           ]
          },
          "colorway": [
           "#636efa",
           "#EF553B",
           "#00cc96",
           "#ab63fa",
           "#FFA15A",
           "#19d3f3",
           "#FF6692",
           "#B6E880",
           "#FF97FF",
           "#FECB52"
          ],
          "font": {
           "color": "#2a3f5f"
          },
          "geo": {
           "bgcolor": "white",
           "lakecolor": "white",
           "landcolor": "#E5ECF6",
           "showlakes": true,
           "showland": true,
           "subunitcolor": "white"
          },
          "hoverlabel": {
           "align": "left"
          },
          "hovermode": "closest",
          "mapbox": {
           "style": "light"
          },
          "paper_bgcolor": "white",
          "plot_bgcolor": "#E5ECF6",
          "polar": {
           "angularaxis": {
            "gridcolor": "white",
            "linecolor": "white",
            "ticks": ""
           },
           "bgcolor": "#E5ECF6",
           "radialaxis": {
            "gridcolor": "white",
            "linecolor": "white",
            "ticks": ""
           }
          },
          "scene": {
           "xaxis": {
            "backgroundcolor": "#E5ECF6",
            "gridcolor": "white",
            "gridwidth": 2,
            "linecolor": "white",
            "showbackground": true,
            "ticks": "",
            "zerolinecolor": "white"
           },
           "yaxis": {
            "backgroundcolor": "#E5ECF6",
            "gridcolor": "white",
            "gridwidth": 2,
            "linecolor": "white",
            "showbackground": true,
            "ticks": "",
            "zerolinecolor": "white"
           },
           "zaxis": {
            "backgroundcolor": "#E5ECF6",
            "gridcolor": "white",
            "gridwidth": 2,
            "linecolor": "white",
            "showbackground": true,
            "ticks": "",
            "zerolinecolor": "white"
           }
          },
          "shapedefaults": {
           "line": {
            "color": "#2a3f5f"
           }
          },
          "ternary": {
           "aaxis": {
            "gridcolor": "white",
            "linecolor": "white",
            "ticks": ""
           },
           "baxis": {
            "gridcolor": "white",
            "linecolor": "white",
            "ticks": ""
           },
           "bgcolor": "#E5ECF6",
           "caxis": {
            "gridcolor": "white",
            "linecolor": "white",
            "ticks": ""
           }
          },
          "title": {
           "x": 0.05
          },
          "xaxis": {
           "automargin": true,
           "gridcolor": "white",
           "linecolor": "white",
           "ticks": "",
           "title": {
            "standoff": 15
           },
           "zerolinecolor": "white",
           "zerolinewidth": 2
          },
          "yaxis": {
           "automargin": true,
           "gridcolor": "white",
           "linecolor": "white",
           "ticks": "",
           "title": {
            "standoff": 15
           },
           "zerolinecolor": "white",
           "zerolinewidth": 2
          }
         }
        },
        "title": {
         "font": {
          "color": "#4D5663"
         }
        },
        "xaxis": {
         "gridcolor": "#E1E5ED",
         "showgrid": true,
         "tickfont": {
          "color": "#4D5663"
         },
         "title": {
          "font": {
           "color": "#4D5663"
          },
          "text": ""
         },
         "zerolinecolor": "#E1E5ED"
        },
        "yaxis": {
         "gridcolor": "#E1E5ED",
         "showgrid": true,
         "tickfont": {
          "color": "#4D5663"
         },
         "title": {
          "font": {
           "color": "#4D5663"
          },
          "text": ""
         },
         "zerolinecolor": "#E1E5ED"
        }
       }
      },
      "text/html": [
       "<div>                            <div id=\"54647c81-ef83-4faf-b658-1114760eb519\" class=\"plotly-graph-div\" style=\"height:525px; width:100%;\"></div>            <script type=\"text/javascript\">                require([\"plotly\"], function(Plotly) {                    window.PLOTLYENV=window.PLOTLYENV || {};\n",
       "                    window.PLOTLYENV.BASE_URL='https://plot.ly';                                    if (document.getElementById(\"54647c81-ef83-4faf-b658-1114760eb519\")) {                    Plotly.newPlot(                        \"54647c81-ef83-4faf-b658-1114760eb519\",                        [{\"marker\":{\"color\":\"rgba(255, 153, 51, 0.6)\",\"line\":{\"color\":\"rgba(255, 153, 51, 1.0)\",\"width\":1}},\"name\":\"None\",\"orientation\":\"v\",\"text\":\"\",\"x\":[\"A\",\"B\",\"C\",\"D\"],\"y\":[100,100,100,100],\"type\":\"bar\"}],                        {\"legend\":{\"bgcolor\":\"#F5F6F9\",\"font\":{\"color\":\"#4D5663\"}},\"paper_bgcolor\":\"#F5F6F9\",\"plot_bgcolor\":\"#F5F6F9\",\"template\":{\"data\":{\"barpolar\":[{\"marker\":{\"line\":{\"color\":\"#E5ECF6\",\"width\":0.5},\"pattern\":{\"fillmode\":\"overlay\",\"size\":10,\"solidity\":0.2}},\"type\":\"barpolar\"}],\"bar\":[{\"error_x\":{\"color\":\"#2a3f5f\"},\"error_y\":{\"color\":\"#2a3f5f\"},\"marker\":{\"line\":{\"color\":\"#E5ECF6\",\"width\":0.5},\"pattern\":{\"fillmode\":\"overlay\",\"size\":10,\"solidity\":0.2}},\"type\":\"bar\"}],\"carpet\":[{\"aaxis\":{\"endlinecolor\":\"#2a3f5f\",\"gridcolor\":\"white\",\"linecolor\":\"white\",\"minorgridcolor\":\"white\",\"startlinecolor\":\"#2a3f5f\"},\"baxis\":{\"endlinecolor\":\"#2a3f5f\",\"gridcolor\":\"white\",\"linecolor\":\"white\",\"minorgridcolor\":\"white\",\"startlinecolor\":\"#2a3f5f\"},\"type\":\"carpet\"}],\"choropleth\":[{\"colorbar\":{\"outlinewidth\":0,\"ticks\":\"\"},\"type\":\"choropleth\"}],\"contourcarpet\":[{\"colorbar\":{\"outlinewidth\":0,\"ticks\":\"\"},\"type\":\"contourcarpet\"}],\"contour\":[{\"colorbar\":{\"outlinewidth\":0,\"ticks\":\"\"},\"colorscale\":[[0.0,\"#0d0887\"],[0.1111111111111111,\"#46039f\"],[0.2222222222222222,\"#7201a8\"],[0.3333333333333333,\"#9c179e\"],[0.4444444444444444,\"#bd3786\"],[0.5555555555555556,\"#d8576b\"],[0.6666666666666666,\"#ed7953\"],[0.7777777777777778,\"#fb9f3a\"],[0.8888888888888888,\"#fdca26\"],[1.0,\"#f0f921\"]],\"type\":\"contour\"}],\"heatmapgl\":[{\"colorbar\":{\"outlinewidth\":0,\"ticks\":\"\"},\"colorscale\":[[0.0,\"#0d0887\"],[0.1111111111111111,\"#46039f\"],[0.2222222222222222,\"#7201a8\"],[0.3333333333333333,\"#9c179e\"],[0.4444444444444444,\"#bd3786\"],[0.5555555555555556,\"#d8576b\"],[0.6666666666666666,\"#ed7953\"],[0.7777777777777778,\"#fb9f3a\"],[0.8888888888888888,\"#fdca26\"],[1.0,\"#f0f921\"]],\"type\":\"heatmapgl\"}],\"heatmap\":[{\"colorbar\":{\"outlinewidth\":0,\"ticks\":\"\"},\"colorscale\":[[0.0,\"#0d0887\"],[0.1111111111111111,\"#46039f\"],[0.2222222222222222,\"#7201a8\"],[0.3333333333333333,\"#9c179e\"],[0.4444444444444444,\"#bd3786\"],[0.5555555555555556,\"#d8576b\"],[0.6666666666666666,\"#ed7953\"],[0.7777777777777778,\"#fb9f3a\"],[0.8888888888888888,\"#fdca26\"],[1.0,\"#f0f921\"]],\"type\":\"heatmap\"}],\"histogram2dcontour\":[{\"colorbar\":{\"outlinewidth\":0,\"ticks\":\"\"},\"colorscale\":[[0.0,\"#0d0887\"],[0.1111111111111111,\"#46039f\"],[0.2222222222222222,\"#7201a8\"],[0.3333333333333333,\"#9c179e\"],[0.4444444444444444,\"#bd3786\"],[0.5555555555555556,\"#d8576b\"],[0.6666666666666666,\"#ed7953\"],[0.7777777777777778,\"#fb9f3a\"],[0.8888888888888888,\"#fdca26\"],[1.0,\"#f0f921\"]],\"type\":\"histogram2dcontour\"}],\"histogram2d\":[{\"colorbar\":{\"outlinewidth\":0,\"ticks\":\"\"},\"colorscale\":[[0.0,\"#0d0887\"],[0.1111111111111111,\"#46039f\"],[0.2222222222222222,\"#7201a8\"],[0.3333333333333333,\"#9c179e\"],[0.4444444444444444,\"#bd3786\"],[0.5555555555555556,\"#d8576b\"],[0.6666666666666666,\"#ed7953\"],[0.7777777777777778,\"#fb9f3a\"],[0.8888888888888888,\"#fdca26\"],[1.0,\"#f0f921\"]],\"type\":\"histogram2d\"}],\"histogram\":[{\"marker\":{\"pattern\":{\"fillmode\":\"overlay\",\"size\":10,\"solidity\":0.2}},\"type\":\"histogram\"}],\"mesh3d\":[{\"colorbar\":{\"outlinewidth\":0,\"ticks\":\"\"},\"type\":\"mesh3d\"}],\"parcoords\":[{\"line\":{\"colorbar\":{\"outlinewidth\":0,\"ticks\":\"\"}},\"type\":\"parcoords\"}],\"pie\":[{\"automargin\":true,\"type\":\"pie\"}],\"scatter3d\":[{\"line\":{\"colorbar\":{\"outlinewidth\":0,\"ticks\":\"\"}},\"marker\":{\"colorbar\":{\"outlinewidth\":0,\"ticks\":\"\"}},\"type\":\"scatter3d\"}],\"scattercarpet\":[{\"marker\":{\"colorbar\":{\"outlinewidth\":0,\"ticks\":\"\"}},\"type\":\"scattercarpet\"}],\"scattergeo\":[{\"marker\":{\"colorbar\":{\"outlinewidth\":0,\"ticks\":\"\"}},\"type\":\"scattergeo\"}],\"scattergl\":[{\"marker\":{\"colorbar\":{\"outlinewidth\":0,\"ticks\":\"\"}},\"type\":\"scattergl\"}],\"scattermapbox\":[{\"marker\":{\"colorbar\":{\"outlinewidth\":0,\"ticks\":\"\"}},\"type\":\"scattermapbox\"}],\"scatterpolargl\":[{\"marker\":{\"colorbar\":{\"outlinewidth\":0,\"ticks\":\"\"}},\"type\":\"scatterpolargl\"}],\"scatterpolar\":[{\"marker\":{\"colorbar\":{\"outlinewidth\":0,\"ticks\":\"\"}},\"type\":\"scatterpolar\"}],\"scatter\":[{\"fillpattern\":{\"fillmode\":\"overlay\",\"size\":10,\"solidity\":0.2},\"type\":\"scatter\"}],\"scatterternary\":[{\"marker\":{\"colorbar\":{\"outlinewidth\":0,\"ticks\":\"\"}},\"type\":\"scatterternary\"}],\"surface\":[{\"colorbar\":{\"outlinewidth\":0,\"ticks\":\"\"},\"colorscale\":[[0.0,\"#0d0887\"],[0.1111111111111111,\"#46039f\"],[0.2222222222222222,\"#7201a8\"],[0.3333333333333333,\"#9c179e\"],[0.4444444444444444,\"#bd3786\"],[0.5555555555555556,\"#d8576b\"],[0.6666666666666666,\"#ed7953\"],[0.7777777777777778,\"#fb9f3a\"],[0.8888888888888888,\"#fdca26\"],[1.0,\"#f0f921\"]],\"type\":\"surface\"}],\"table\":[{\"cells\":{\"fill\":{\"color\":\"#EBF0F8\"},\"line\":{\"color\":\"white\"}},\"header\":{\"fill\":{\"color\":\"#C8D4E3\"},\"line\":{\"color\":\"white\"}},\"type\":\"table\"}]},\"layout\":{\"annotationdefaults\":{\"arrowcolor\":\"#2a3f5f\",\"arrowhead\":0,\"arrowwidth\":1},\"autotypenumbers\":\"strict\",\"coloraxis\":{\"colorbar\":{\"outlinewidth\":0,\"ticks\":\"\"}},\"colorscale\":{\"diverging\":[[0,\"#8e0152\"],[0.1,\"#c51b7d\"],[0.2,\"#de77ae\"],[0.3,\"#f1b6da\"],[0.4,\"#fde0ef\"],[0.5,\"#f7f7f7\"],[0.6,\"#e6f5d0\"],[0.7,\"#b8e186\"],[0.8,\"#7fbc41\"],[0.9,\"#4d9221\"],[1,\"#276419\"]],\"sequential\":[[0.0,\"#0d0887\"],[0.1111111111111111,\"#46039f\"],[0.2222222222222222,\"#7201a8\"],[0.3333333333333333,\"#9c179e\"],[0.4444444444444444,\"#bd3786\"],[0.5555555555555556,\"#d8576b\"],[0.6666666666666666,\"#ed7953\"],[0.7777777777777778,\"#fb9f3a\"],[0.8888888888888888,\"#fdca26\"],[1.0,\"#f0f921\"]],\"sequentialminus\":[[0.0,\"#0d0887\"],[0.1111111111111111,\"#46039f\"],[0.2222222222222222,\"#7201a8\"],[0.3333333333333333,\"#9c179e\"],[0.4444444444444444,\"#bd3786\"],[0.5555555555555556,\"#d8576b\"],[0.6666666666666666,\"#ed7953\"],[0.7777777777777778,\"#fb9f3a\"],[0.8888888888888888,\"#fdca26\"],[1.0,\"#f0f921\"]]},\"colorway\":[\"#636efa\",\"#EF553B\",\"#00cc96\",\"#ab63fa\",\"#FFA15A\",\"#19d3f3\",\"#FF6692\",\"#B6E880\",\"#FF97FF\",\"#FECB52\"],\"font\":{\"color\":\"#2a3f5f\"},\"geo\":{\"bgcolor\":\"white\",\"lakecolor\":\"white\",\"landcolor\":\"#E5ECF6\",\"showlakes\":true,\"showland\":true,\"subunitcolor\":\"white\"},\"hoverlabel\":{\"align\":\"left\"},\"hovermode\":\"closest\",\"mapbox\":{\"style\":\"light\"},\"paper_bgcolor\":\"white\",\"plot_bgcolor\":\"#E5ECF6\",\"polar\":{\"angularaxis\":{\"gridcolor\":\"white\",\"linecolor\":\"white\",\"ticks\":\"\"},\"bgcolor\":\"#E5ECF6\",\"radialaxis\":{\"gridcolor\":\"white\",\"linecolor\":\"white\",\"ticks\":\"\"}},\"scene\":{\"xaxis\":{\"backgroundcolor\":\"#E5ECF6\",\"gridcolor\":\"white\",\"gridwidth\":2,\"linecolor\":\"white\",\"showbackground\":true,\"ticks\":\"\",\"zerolinecolor\":\"white\"},\"yaxis\":{\"backgroundcolor\":\"#E5ECF6\",\"gridcolor\":\"white\",\"gridwidth\":2,\"linecolor\":\"white\",\"showbackground\":true,\"ticks\":\"\",\"zerolinecolor\":\"white\"},\"zaxis\":{\"backgroundcolor\":\"#E5ECF6\",\"gridcolor\":\"white\",\"gridwidth\":2,\"linecolor\":\"white\",\"showbackground\":true,\"ticks\":\"\",\"zerolinecolor\":\"white\"}},\"shapedefaults\":{\"line\":{\"color\":\"#2a3f5f\"}},\"ternary\":{\"aaxis\":{\"gridcolor\":\"white\",\"linecolor\":\"white\",\"ticks\":\"\"},\"baxis\":{\"gridcolor\":\"white\",\"linecolor\":\"white\",\"ticks\":\"\"},\"bgcolor\":\"#E5ECF6\",\"caxis\":{\"gridcolor\":\"white\",\"linecolor\":\"white\",\"ticks\":\"\"}},\"title\":{\"x\":0.05},\"xaxis\":{\"automargin\":true,\"gridcolor\":\"white\",\"linecolor\":\"white\",\"ticks\":\"\",\"title\":{\"standoff\":15},\"zerolinecolor\":\"white\",\"zerolinewidth\":2},\"yaxis\":{\"automargin\":true,\"gridcolor\":\"white\",\"linecolor\":\"white\",\"ticks\":\"\",\"title\":{\"standoff\":15},\"zerolinecolor\":\"white\",\"zerolinewidth\":2}}},\"title\":{\"font\":{\"color\":\"#4D5663\"}},\"xaxis\":{\"gridcolor\":\"#E1E5ED\",\"showgrid\":true,\"tickfont\":{\"color\":\"#4D5663\"},\"title\":{\"font\":{\"color\":\"#4D5663\"},\"text\":\"\"},\"zerolinecolor\":\"#E1E5ED\"},\"yaxis\":{\"gridcolor\":\"#E1E5ED\",\"showgrid\":true,\"tickfont\":{\"color\":\"#4D5663\"},\"title\":{\"font\":{\"color\":\"#4D5663\"},\"text\":\"\"},\"zerolinecolor\":\"#E1E5ED\"}},                        {\"showLink\": true, \"linkText\": \"Export to plot.ly\", \"plotlyServerURL\": \"https://plot.ly\", \"responsive\": true}                    ).then(function(){\n",
       "                            \n",
       "var gd = document.getElementById('54647c81-ef83-4faf-b658-1114760eb519');\n",
       "var x = new MutationObserver(function (mutations, observer) {{\n",
       "        var display = window.getComputedStyle(gd).display;\n",
       "        if (!display || display === 'none') {{\n",
       "            console.log([gd, 'removed!']);\n",
       "            Plotly.purge(gd);\n",
       "            observer.disconnect();\n",
       "        }}\n",
       "}});\n",
       "\n",
       "// Listen for the removal of the full notebook cells\n",
       "var notebookContainer = gd.closest('#notebook-container');\n",
       "if (notebookContainer) {{\n",
       "    x.observe(notebookContainer, {childList: true});\n",
       "}}\n",
       "\n",
       "// Listen for the clearing of the current output cell\n",
       "var outputEl = gd.closest('.output');\n",
       "if (outputEl) {{\n",
       "    x.observe(outputEl, {childList: true});\n",
       "}}\n",
       "\n",
       "                        })                };                });            </script>        </div>"
      ]
     },
     "metadata": {},
     "output_type": "display_data"
    }
   ],
   "source": [
    "df.count().iplot(kind=\"bar\")"
   ]
  },
  {
   "cell_type": "code",
   "execution_count": 21,
   "id": "e8c45190",
   "metadata": {},
   "outputs": [
    {
     "data": {
      "application/vnd.plotly.v1+json": {
       "config": {
        "linkText": "Export to plot.ly",
        "plotlyServerURL": "https://plot.ly",
        "showLink": true
       },
       "data": [
        {
         "boxpoints": false,
         "line": {
          "width": 1.3
         },
         "marker": {
          "color": "rgba(255, 153, 51, 1.0)"
         },
         "name": "A",
         "orientation": "v",
         "type": "box",
         "y": [
          -0.629400460736606,
          -0.3902511837428377,
          -0.5591700478406222,
          -0.5015750659259559,
          -0.6028247757790585,
          -1.7552895707056984,
          0.3728303295489695,
          -0.9949058872060896,
          1.383786061209142,
          -0.7478723956059203,
          0.06816934594778336,
          0.3141341819011735,
          -1.4434647152951174,
          0.4279880196945129,
          -2.7094890740900803,
          0.13506963265460648,
          -0.3362772326824624,
          -1.003162479173856,
          -0.9417909848304834,
          0.12809221322659364,
          -0.9761844606375003,
          0.851597093857289,
          -0.2174753543117878,
          0.16923231361532318,
          -1.196108833893656,
          -1.4490166364502461,
          -0.43386109420639013,
          1.097856069838825,
          -0.3105310538314359,
          -0.3169866600355245,
          1.592962498055057,
          0.9758423831858871,
          -1.3671182139924076,
          0.7817958007205139,
          -1.3911274721075122,
          0.12975350981883296,
          1.13847634366471,
          1.8672274817233254,
          -0.7504577680021094,
          1.7846896247177337,
          1.0793488689838349,
          -1.0844765858716827,
          -0.3516404570166523,
          0.9227502103917912,
          0.3755932851618663,
          0.3778890996717057,
          1.680119511266985,
          -0.4599735982942427,
          1.5985393735185909,
          1.0563349091055834,
          -1.0911352575440694,
          1.7417271070535496,
          -1.3100266243771161,
          -0.3876135929450466,
          0.9025719152875156,
          1.401243501430797,
          -1.2969497206273086,
          -1.2048928883655137,
          1.3573070492269648,
          0.05766322435151034,
          0.29981192742332086,
          1.5170818674960982,
          2.155478704025667,
          0.8024742835998596,
          0.40266903970292495,
          -1.3623380036310104,
          -0.9347835030015103,
          -0.023410056738022517,
          -1.072457943276233,
          0.8831066668343588,
          1.8136193860509642,
          -0.18934701060634257,
          -0.7986253409908879,
          1.6043882256104582,
          -1.3412563333112506,
          -1.5577062645161655,
          -1.3566037510986833,
          0.04005495647472767,
          0.2708046082479397,
          -0.9634981045226241,
          0.8583993616190417,
          -0.6470050959406236,
          -0.5512575986366849,
          2.071338692577119,
          1.5052688721826468,
          -0.617246691643328,
          1.4552686037187066,
          0.5720417545278373,
          -1.1152513286714432,
          1.7410978052511834,
          0.8914819708996335,
          -0.6908395795783034,
          1.414032221853257,
          -1.2057589945974467,
          0.6833974114014549,
          -1.2187494324750037,
          0.025605567304754343,
          -0.6574804043471983,
          0.04405104857084567,
          1.33018346090302
         ]
        },
        {
         "boxpoints": false,
         "line": {
          "width": 1.3
         },
         "marker": {
          "color": "rgba(55, 128, 191, 1.0)"
         },
         "name": "B",
         "orientation": "v",
         "type": "box",
         "y": [
          0.4103450482823756,
          -0.23277879634899593,
          -0.45086136540875726,
          -0.08376735759564617,
          0.013872231247996124,
          -0.07072690859130389,
          0.30681170864600404,
          1.2902872300683392,
          -0.3265296450613535,
          0.10747041706050438,
          -0.4891966860282878,
          0.1321546966645771,
          2.2002266533209984,
          2.827921795219644,
          1.4213390904822027,
          -0.40481684699662795,
          0.8777377019046946,
          -0.5915210626668627,
          0.23237752609932294,
          0.10802408268723265,
          -0.4989964964726072,
          -0.17693190406338596,
          0.31980787789478055,
          0.8585326836819313,
          -1.5714924413997264,
          -0.5285087993679705,
          0.4446605522951421,
          -0.4261044334302472,
          0.04041835504896138,
          -0.2102461439854402,
          0.8853158428254773,
          -0.9926023261355174,
          0.7837779223912771,
          1.6207142996018502,
          -0.31222240376226895,
          0.21669648190985635,
          -0.005778545670522539,
          0.2424273620179277,
          1.0604864388343094,
          0.5405949217925212,
          -0.028827349523677923,
          -0.19992850944368576,
          -0.07932311155494266,
          -1.487415209783587,
          0.25772607668232306,
          0.659067678454487,
          0.7764559512979428,
          1.1811473518576816,
          1.269253528510618,
          -0.10593976314056446,
          -2.2033948416823987,
          -0.26099399205439405,
          -0.035842618820022584,
          -0.436740003503195,
          -0.7347854957866872,
          -1.474470346831659,
          0.2856744360831367,
          -0.6987609147597583,
          0.25012931898644164,
          -1.3175865204408947,
          0.09478695458135028,
          1.8709144399634727,
          0.26797206469934276,
          -1.3953358629453787,
          -0.6945329566849582,
          1.555621068767977,
          0.8283772246580962,
          -0.8420550563881509,
          0.805777476671103,
          -1.1529198884152143,
          -0.13563746306624466,
          -0.24579363705319546,
          -0.846884195632001,
          -0.6643522082710484,
          0.7052085498958576,
          -1.6877108081600287,
          0.020389419260974217,
          -0.41756781346012556,
          -0.8676788986975928,
          -2.5653389961604987,
          -0.34799695926298335,
          0.7409356257488319,
          0.4199756934089848,
          -0.18905296451511472,
          -0.7275775921980504,
          -1.7658346002170116,
          -0.8494415212511488,
          0.06516189570040587,
          -1.0812781607038502,
          1.182463220527681,
          -0.1828465609009514,
          -1.6925573120184574,
          0.2528746913720982,
          1.2151401118568756,
          -0.49604662980129016,
          -1.1333482603578835,
          -1.2871159652833557,
          1.2333219879816024,
          0.2863728726007531,
          -0.4379191310630423
         ]
        },
        {
         "boxpoints": false,
         "line": {
          "width": 1.3
         },
         "marker": {
          "color": "rgba(50, 171, 96, 1.0)"
         },
         "name": "C",
         "orientation": "v",
         "type": "box",
         "y": [
          -0.32674355923381754,
          0.40244699964955477,
          0.24482868903319657,
          -0.49374567931671604,
          -1.2201447433844579,
          0.004506024629842515,
          0.46367005451863835,
          -1.0189990787588659,
          -0.7441279603914729,
          0.06579240859254595,
          0.4655232330710052,
          -1.7397582276065648,
          -0.2680109999716551,
          -0.3121280084283826,
          2.2147166613040756,
          -0.776459612467547,
          1.1866613499014753,
          0.5712085818037482,
          0.10230286214004662,
          -1.7717736504597807,
          -0.12369375914161404,
          -0.8700598280752807,
          1.2674112450150417,
          -0.5544308562984243,
          -0.1848548987667389,
          1.2423846567498795,
          1.5067794217195456,
          0.6044283478894678,
          0.5880033731238098,
          -0.8437357875998986,
          -0.48697936309314555,
          -0.40532845113414234,
          -0.35649858635655013,
          -1.5837522177192378,
          0.03464395879348093,
          -0.8460718105545953,
          0.27952688155005845,
          0.4487023136210964,
          0.00013119227840028668,
          -0.5948524567042549,
          -0.4705775864489385,
          -0.2739885585266081,
          0.6160535978917444,
          -0.48980496576238214,
          0.3956075539415357,
          -1.8405778475632646,
          -1.2020297526725154,
          -0.7863386287429571,
          -0.21712607454468716,
          -0.816518832493915,
          -0.4436876464865272,
          0.5008123594560738,
          -1.838178531281376,
          0.9422468116083216,
          1.4317527648889325,
          0.922568449925848,
          1.7661596286173802,
          0.31113001181453587,
          0.8908248687621048,
          0.7280432707682472,
          -0.8572117637594926,
          1.084921920807178,
          0.43600039278421254,
          -0.5641287287786603,
          -0.8257443812945842,
          0.054357982486677524,
          0.04225146811206106,
          -1.6548714332099215,
          -1.2128389576271554,
          0.11233504238923263,
          -0.6533567187978976,
          -0.9782158093971358,
          0.6045335366695211,
          -0.05072076055391424,
          -2.0447571350618263,
          0.7009592840678283,
          -0.5151150469908776,
          -1.1337579775447795,
          0.14115564681136036,
          0.5153883494625351,
          -0.54532985350259,
          0.36943192519387225,
          -0.07295208056302716,
          -0.30623678841089497,
          0.7594892264036471,
          -1.1681466459046683,
          0.9721186394715218,
          0.23729676333646912,
          -1.3664005827427874,
          0.5225651257445344,
          -0.18443991163904327,
          -0.048962793929122485,
          0.614506295484835,
          -0.5004874102520577,
          -1.7507953222473616,
          0.15042534555901244,
          -0.65915182204999,
          -2.4101607041387823,
          -0.1596363821821437,
          -0.9858044319691249
         ]
        },
        {
         "boxpoints": false,
         "line": {
          "width": 1.3
         },
         "marker": {
          "color": "rgba(128, 0, 128, 1.0)"
         },
         "name": "D",
         "orientation": "v",
         "type": "box",
         "y": [
          -0.42495632416362067,
          0.8325265519810885,
          -0.41911791103881446,
          2.1290907938799504,
          0.12068143333495143,
          0.012221910404676036,
          0.29031810331831925,
          0.34096729779845786,
          -0.24302774524268406,
          0.2869729181989335,
          1.6372132871706904,
          -1.4226195793051388,
          1.0971494402220232,
          0.67966288456736,
          0.5339049910679026,
          0.45736271376769905,
          -0.45510419902580557,
          -0.3932393616156436,
          0.466817139923934,
          1.497844827168445,
          -1.325521570597829,
          -0.1871898889980444,
          -0.03110727076174676,
          -0.2169289706021411,
          0.07352116798930584,
          0.5616097558817075,
          -2.2758808751813464,
          -1.6843647156809265,
          -0.053626659142203804,
          0.8285297602516946,
          0.5031952908874641,
          0.7742611547280526,
          0.30977601097773005,
          -0.6448182416719543,
          0.41134042999485876,
          1.297968755471327,
          0.6481172912799048,
          1.453504381327387,
          -1.3076413654255914,
          1.0480380260485127,
          0.032755979578507725,
          -0.0677724367996154,
          0.9656416477754153,
          -0.7513501377357203,
          0.5538732260110499,
          -1.1817042441457228,
          -0.07720356053801292,
          1.1598514163895763,
          -0.5819603985102525,
          -0.4679887971599426,
          -0.1818053718793275,
          1.2482551283645513,
          -0.25725743625096636,
          0.36756810684167657,
          0.0860336525121043,
          1.168205440899212,
          1.5959072680011253,
          -0.15628615314286387,
          -1.5325700210053528,
          0.5950529492192775,
          3.519062056532625,
          0.013355969831628805,
          -1.7606935657195237,
          -0.9810601023543031,
          -2.057710067188469,
          0.34580856858318654,
          -0.5166413986754491,
          0.141205377598102,
          -1.4421536872936562,
          -1.0227308885560844,
          -2.402020244041431,
          -0.6930406350102891,
          -0.28910592124451034,
          0.748899899221347,
          0.1907017121982691,
          0.49364605950994267,
          -0.2542607308582154,
          0.6439407866406093,
          1.8687980965623137,
          1.2634599379249947,
          -0.37411373333150033,
          -0.47044775439277026,
          0.5867185909149113,
          -0.11819802264236594,
          -1.2575413955158006,
          0.9866017815001976,
          2.2323248886734457,
          -0.677751749884955,
          -1.1775958410438587,
          0.10565606367106475,
          0.06620888178107337,
          0.13527616449929697,
          -2.753218828512755,
          -0.6727188261875051,
          0.7129879960144745,
          0.34402673656226707,
          -1.1529829205657744,
          0.9509513233287092,
          -1.6356655017467705,
          -0.4259335595602935
         ]
        }
       ],
       "layout": {
        "legend": {
         "bgcolor": "#F5F6F9",
         "font": {
          "color": "#4D5663"
         }
        },
        "paper_bgcolor": "#F5F6F9",
        "plot_bgcolor": "#F5F6F9",
        "template": {
         "data": {
          "bar": [
           {
            "error_x": {
             "color": "#2a3f5f"
            },
            "error_y": {
             "color": "#2a3f5f"
            },
            "marker": {
             "line": {
              "color": "#E5ECF6",
              "width": 0.5
             },
             "pattern": {
              "fillmode": "overlay",
              "size": 10,
              "solidity": 0.2
             }
            },
            "type": "bar"
           }
          ],
          "barpolar": [
           {
            "marker": {
             "line": {
              "color": "#E5ECF6",
              "width": 0.5
             },
             "pattern": {
              "fillmode": "overlay",
              "size": 10,
              "solidity": 0.2
             }
            },
            "type": "barpolar"
           }
          ],
          "carpet": [
           {
            "aaxis": {
             "endlinecolor": "#2a3f5f",
             "gridcolor": "white",
             "linecolor": "white",
             "minorgridcolor": "white",
             "startlinecolor": "#2a3f5f"
            },
            "baxis": {
             "endlinecolor": "#2a3f5f",
             "gridcolor": "white",
             "linecolor": "white",
             "minorgridcolor": "white",
             "startlinecolor": "#2a3f5f"
            },
            "type": "carpet"
           }
          ],
          "choropleth": [
           {
            "colorbar": {
             "outlinewidth": 0,
             "ticks": ""
            },
            "type": "choropleth"
           }
          ],
          "contour": [
           {
            "colorbar": {
             "outlinewidth": 0,
             "ticks": ""
            },
            "colorscale": [
             [
              0,
              "#0d0887"
             ],
             [
              0.1111111111111111,
              "#46039f"
             ],
             [
              0.2222222222222222,
              "#7201a8"
             ],
             [
              0.3333333333333333,
              "#9c179e"
             ],
             [
              0.4444444444444444,
              "#bd3786"
             ],
             [
              0.5555555555555556,
              "#d8576b"
             ],
             [
              0.6666666666666666,
              "#ed7953"
             ],
             [
              0.7777777777777778,
              "#fb9f3a"
             ],
             [
              0.8888888888888888,
              "#fdca26"
             ],
             [
              1,
              "#f0f921"
             ]
            ],
            "type": "contour"
           }
          ],
          "contourcarpet": [
           {
            "colorbar": {
             "outlinewidth": 0,
             "ticks": ""
            },
            "type": "contourcarpet"
           }
          ],
          "heatmap": [
           {
            "colorbar": {
             "outlinewidth": 0,
             "ticks": ""
            },
            "colorscale": [
             [
              0,
              "#0d0887"
             ],
             [
              0.1111111111111111,
              "#46039f"
             ],
             [
              0.2222222222222222,
              "#7201a8"
             ],
             [
              0.3333333333333333,
              "#9c179e"
             ],
             [
              0.4444444444444444,
              "#bd3786"
             ],
             [
              0.5555555555555556,
              "#d8576b"
             ],
             [
              0.6666666666666666,
              "#ed7953"
             ],
             [
              0.7777777777777778,
              "#fb9f3a"
             ],
             [
              0.8888888888888888,
              "#fdca26"
             ],
             [
              1,
              "#f0f921"
             ]
            ],
            "type": "heatmap"
           }
          ],
          "heatmapgl": [
           {
            "colorbar": {
             "outlinewidth": 0,
             "ticks": ""
            },
            "colorscale": [
             [
              0,
              "#0d0887"
             ],
             [
              0.1111111111111111,
              "#46039f"
             ],
             [
              0.2222222222222222,
              "#7201a8"
             ],
             [
              0.3333333333333333,
              "#9c179e"
             ],
             [
              0.4444444444444444,
              "#bd3786"
             ],
             [
              0.5555555555555556,
              "#d8576b"
             ],
             [
              0.6666666666666666,
              "#ed7953"
             ],
             [
              0.7777777777777778,
              "#fb9f3a"
             ],
             [
              0.8888888888888888,
              "#fdca26"
             ],
             [
              1,
              "#f0f921"
             ]
            ],
            "type": "heatmapgl"
           }
          ],
          "histogram": [
           {
            "marker": {
             "pattern": {
              "fillmode": "overlay",
              "size": 10,
              "solidity": 0.2
             }
            },
            "type": "histogram"
           }
          ],
          "histogram2d": [
           {
            "colorbar": {
             "outlinewidth": 0,
             "ticks": ""
            },
            "colorscale": [
             [
              0,
              "#0d0887"
             ],
             [
              0.1111111111111111,
              "#46039f"
             ],
             [
              0.2222222222222222,
              "#7201a8"
             ],
             [
              0.3333333333333333,
              "#9c179e"
             ],
             [
              0.4444444444444444,
              "#bd3786"
             ],
             [
              0.5555555555555556,
              "#d8576b"
             ],
             [
              0.6666666666666666,
              "#ed7953"
             ],
             [
              0.7777777777777778,
              "#fb9f3a"
             ],
             [
              0.8888888888888888,
              "#fdca26"
             ],
             [
              1,
              "#f0f921"
             ]
            ],
            "type": "histogram2d"
           }
          ],
          "histogram2dcontour": [
           {
            "colorbar": {
             "outlinewidth": 0,
             "ticks": ""
            },
            "colorscale": [
             [
              0,
              "#0d0887"
             ],
             [
              0.1111111111111111,
              "#46039f"
             ],
             [
              0.2222222222222222,
              "#7201a8"
             ],
             [
              0.3333333333333333,
              "#9c179e"
             ],
             [
              0.4444444444444444,
              "#bd3786"
             ],
             [
              0.5555555555555556,
              "#d8576b"
             ],
             [
              0.6666666666666666,
              "#ed7953"
             ],
             [
              0.7777777777777778,
              "#fb9f3a"
             ],
             [
              0.8888888888888888,
              "#fdca26"
             ],
             [
              1,
              "#f0f921"
             ]
            ],
            "type": "histogram2dcontour"
           }
          ],
          "mesh3d": [
           {
            "colorbar": {
             "outlinewidth": 0,
             "ticks": ""
            },
            "type": "mesh3d"
           }
          ],
          "parcoords": [
           {
            "line": {
             "colorbar": {
              "outlinewidth": 0,
              "ticks": ""
             }
            },
            "type": "parcoords"
           }
          ],
          "pie": [
           {
            "automargin": true,
            "type": "pie"
           }
          ],
          "scatter": [
           {
            "fillpattern": {
             "fillmode": "overlay",
             "size": 10,
             "solidity": 0.2
            },
            "type": "scatter"
           }
          ],
          "scatter3d": [
           {
            "line": {
             "colorbar": {
              "outlinewidth": 0,
              "ticks": ""
             }
            },
            "marker": {
             "colorbar": {
              "outlinewidth": 0,
              "ticks": ""
             }
            },
            "type": "scatter3d"
           }
          ],
          "scattercarpet": [
           {
            "marker": {
             "colorbar": {
              "outlinewidth": 0,
              "ticks": ""
             }
            },
            "type": "scattercarpet"
           }
          ],
          "scattergeo": [
           {
            "marker": {
             "colorbar": {
              "outlinewidth": 0,
              "ticks": ""
             }
            },
            "type": "scattergeo"
           }
          ],
          "scattergl": [
           {
            "marker": {
             "colorbar": {
              "outlinewidth": 0,
              "ticks": ""
             }
            },
            "type": "scattergl"
           }
          ],
          "scattermapbox": [
           {
            "marker": {
             "colorbar": {
              "outlinewidth": 0,
              "ticks": ""
             }
            },
            "type": "scattermapbox"
           }
          ],
          "scatterpolar": [
           {
            "marker": {
             "colorbar": {
              "outlinewidth": 0,
              "ticks": ""
             }
            },
            "type": "scatterpolar"
           }
          ],
          "scatterpolargl": [
           {
            "marker": {
             "colorbar": {
              "outlinewidth": 0,
              "ticks": ""
             }
            },
            "type": "scatterpolargl"
           }
          ],
          "scatterternary": [
           {
            "marker": {
             "colorbar": {
              "outlinewidth": 0,
              "ticks": ""
             }
            },
            "type": "scatterternary"
           }
          ],
          "surface": [
           {
            "colorbar": {
             "outlinewidth": 0,
             "ticks": ""
            },
            "colorscale": [
             [
              0,
              "#0d0887"
             ],
             [
              0.1111111111111111,
              "#46039f"
             ],
             [
              0.2222222222222222,
              "#7201a8"
             ],
             [
              0.3333333333333333,
              "#9c179e"
             ],
             [
              0.4444444444444444,
              "#bd3786"
             ],
             [
              0.5555555555555556,
              "#d8576b"
             ],
             [
              0.6666666666666666,
              "#ed7953"
             ],
             [
              0.7777777777777778,
              "#fb9f3a"
             ],
             [
              0.8888888888888888,
              "#fdca26"
             ],
             [
              1,
              "#f0f921"
             ]
            ],
            "type": "surface"
           }
          ],
          "table": [
           {
            "cells": {
             "fill": {
              "color": "#EBF0F8"
             },
             "line": {
              "color": "white"
             }
            },
            "header": {
             "fill": {
              "color": "#C8D4E3"
             },
             "line": {
              "color": "white"
             }
            },
            "type": "table"
           }
          ]
         },
         "layout": {
          "annotationdefaults": {
           "arrowcolor": "#2a3f5f",
           "arrowhead": 0,
           "arrowwidth": 1
          },
          "autotypenumbers": "strict",
          "coloraxis": {
           "colorbar": {
            "outlinewidth": 0,
            "ticks": ""
           }
          },
          "colorscale": {
           "diverging": [
            [
             0,
             "#8e0152"
            ],
            [
             0.1,
             "#c51b7d"
            ],
            [
             0.2,
             "#de77ae"
            ],
            [
             0.3,
             "#f1b6da"
            ],
            [
             0.4,
             "#fde0ef"
            ],
            [
             0.5,
             "#f7f7f7"
            ],
            [
             0.6,
             "#e6f5d0"
            ],
            [
             0.7,
             "#b8e186"
            ],
            [
             0.8,
             "#7fbc41"
            ],
            [
             0.9,
             "#4d9221"
            ],
            [
             1,
             "#276419"
            ]
           ],
           "sequential": [
            [
             0,
             "#0d0887"
            ],
            [
             0.1111111111111111,
             "#46039f"
            ],
            [
             0.2222222222222222,
             "#7201a8"
            ],
            [
             0.3333333333333333,
             "#9c179e"
            ],
            [
             0.4444444444444444,
             "#bd3786"
            ],
            [
             0.5555555555555556,
             "#d8576b"
            ],
            [
             0.6666666666666666,
             "#ed7953"
            ],
            [
             0.7777777777777778,
             "#fb9f3a"
            ],
            [
             0.8888888888888888,
             "#fdca26"
            ],
            [
             1,
             "#f0f921"
            ]
           ],
           "sequentialminus": [
            [
             0,
             "#0d0887"
            ],
            [
             0.1111111111111111,
             "#46039f"
            ],
            [
             0.2222222222222222,
             "#7201a8"
            ],
            [
             0.3333333333333333,
             "#9c179e"
            ],
            [
             0.4444444444444444,
             "#bd3786"
            ],
            [
             0.5555555555555556,
             "#d8576b"
            ],
            [
             0.6666666666666666,
             "#ed7953"
            ],
            [
             0.7777777777777778,
             "#fb9f3a"
            ],
            [
             0.8888888888888888,
             "#fdca26"
            ],
            [
             1,
             "#f0f921"
            ]
           ]
          },
          "colorway": [
           "#636efa",
           "#EF553B",
           "#00cc96",
           "#ab63fa",
           "#FFA15A",
           "#19d3f3",
           "#FF6692",
           "#B6E880",
           "#FF97FF",
           "#FECB52"
          ],
          "font": {
           "color": "#2a3f5f"
          },
          "geo": {
           "bgcolor": "white",
           "lakecolor": "white",
           "landcolor": "#E5ECF6",
           "showlakes": true,
           "showland": true,
           "subunitcolor": "white"
          },
          "hoverlabel": {
           "align": "left"
          },
          "hovermode": "closest",
          "mapbox": {
           "style": "light"
          },
          "paper_bgcolor": "white",
          "plot_bgcolor": "#E5ECF6",
          "polar": {
           "angularaxis": {
            "gridcolor": "white",
            "linecolor": "white",
            "ticks": ""
           },
           "bgcolor": "#E5ECF6",
           "radialaxis": {
            "gridcolor": "white",
            "linecolor": "white",
            "ticks": ""
           }
          },
          "scene": {
           "xaxis": {
            "backgroundcolor": "#E5ECF6",
            "gridcolor": "white",
            "gridwidth": 2,
            "linecolor": "white",
            "showbackground": true,
            "ticks": "",
            "zerolinecolor": "white"
           },
           "yaxis": {
            "backgroundcolor": "#E5ECF6",
            "gridcolor": "white",
            "gridwidth": 2,
            "linecolor": "white",
            "showbackground": true,
            "ticks": "",
            "zerolinecolor": "white"
           },
           "zaxis": {
            "backgroundcolor": "#E5ECF6",
            "gridcolor": "white",
            "gridwidth": 2,
            "linecolor": "white",
            "showbackground": true,
            "ticks": "",
            "zerolinecolor": "white"
           }
          },
          "shapedefaults": {
           "line": {
            "color": "#2a3f5f"
           }
          },
          "ternary": {
           "aaxis": {
            "gridcolor": "white",
            "linecolor": "white",
            "ticks": ""
           },
           "baxis": {
            "gridcolor": "white",
            "linecolor": "white",
            "ticks": ""
           },
           "bgcolor": "#E5ECF6",
           "caxis": {
            "gridcolor": "white",
            "linecolor": "white",
            "ticks": ""
           }
          },
          "title": {
           "x": 0.05
          },
          "xaxis": {
           "automargin": true,
           "gridcolor": "white",
           "linecolor": "white",
           "ticks": "",
           "title": {
            "standoff": 15
           },
           "zerolinecolor": "white",
           "zerolinewidth": 2
          },
          "yaxis": {
           "automargin": true,
           "gridcolor": "white",
           "linecolor": "white",
           "ticks": "",
           "title": {
            "standoff": 15
           },
           "zerolinecolor": "white",
           "zerolinewidth": 2
          }
         }
        },
        "title": {
         "font": {
          "color": "#4D5663"
         }
        },
        "xaxis": {
         "gridcolor": "#E1E5ED",
         "showgrid": true,
         "tickfont": {
          "color": "#4D5663"
         },
         "title": {
          "font": {
           "color": "#4D5663"
          },
          "text": ""
         },
         "zerolinecolor": "#E1E5ED"
        },
        "yaxis": {
         "gridcolor": "#E1E5ED",
         "showgrid": true,
         "tickfont": {
          "color": "#4D5663"
         },
         "title": {
          "font": {
           "color": "#4D5663"
          },
          "text": ""
         },
         "zerolinecolor": "#E1E5ED"
        }
       }
      },
      "text/html": [
       "<div>                            <div id=\"b6dbc6d6-a4ec-46f7-875c-fed89c391fd4\" class=\"plotly-graph-div\" style=\"height:525px; width:100%;\"></div>            <script type=\"text/javascript\">                require([\"plotly\"], function(Plotly) {                    window.PLOTLYENV=window.PLOTLYENV || {};\n",
       "                    window.PLOTLYENV.BASE_URL='https://plot.ly';                                    if (document.getElementById(\"b6dbc6d6-a4ec-46f7-875c-fed89c391fd4\")) {                    Plotly.newPlot(                        \"b6dbc6d6-a4ec-46f7-875c-fed89c391fd4\",                        [{\"boxpoints\":false,\"line\":{\"width\":1.3},\"marker\":{\"color\":\"rgba(255, 153, 51, 1.0)\"},\"name\":\"A\",\"orientation\":\"v\",\"y\":[-0.629400460736606,-0.3902511837428377,-0.5591700478406222,-0.5015750659259559,-0.6028247757790585,-1.7552895707056984,0.3728303295489695,-0.9949058872060896,1.383786061209142,-0.7478723956059203,0.06816934594778336,0.3141341819011735,-1.4434647152951174,0.4279880196945129,-2.7094890740900803,0.13506963265460648,-0.3362772326824624,-1.003162479173856,-0.9417909848304834,0.12809221322659364,-0.9761844606375003,0.851597093857289,-0.2174753543117878,0.16923231361532318,-1.196108833893656,-1.4490166364502461,-0.43386109420639013,1.097856069838825,-0.3105310538314359,-0.3169866600355245,1.592962498055057,0.9758423831858871,-1.3671182139924076,0.7817958007205139,-1.3911274721075122,0.12975350981883296,1.13847634366471,1.8672274817233254,-0.7504577680021094,1.7846896247177337,1.0793488689838349,-1.0844765858716827,-0.3516404570166523,0.9227502103917912,0.3755932851618663,0.3778890996717057,1.680119511266985,-0.4599735982942427,1.5985393735185909,1.0563349091055834,-1.0911352575440694,1.7417271070535496,-1.3100266243771161,-0.3876135929450466,0.9025719152875156,1.401243501430797,-1.2969497206273086,-1.2048928883655137,1.3573070492269648,0.05766322435151034,0.29981192742332086,1.5170818674960982,2.155478704025667,0.8024742835998596,0.40266903970292495,-1.3623380036310104,-0.9347835030015103,-0.023410056738022517,-1.072457943276233,0.8831066668343588,1.8136193860509642,-0.18934701060634257,-0.7986253409908879,1.6043882256104582,-1.3412563333112506,-1.5577062645161655,-1.3566037510986833,0.04005495647472767,0.2708046082479397,-0.9634981045226241,0.8583993616190417,-0.6470050959406236,-0.5512575986366849,2.071338692577119,1.5052688721826468,-0.617246691643328,1.4552686037187066,0.5720417545278373,-1.1152513286714432,1.7410978052511834,0.8914819708996335,-0.6908395795783034,1.414032221853257,-1.2057589945974467,0.6833974114014549,-1.2187494324750037,0.025605567304754343,-0.6574804043471983,0.04405104857084567,1.33018346090302],\"type\":\"box\"},{\"boxpoints\":false,\"line\":{\"width\":1.3},\"marker\":{\"color\":\"rgba(55, 128, 191, 1.0)\"},\"name\":\"B\",\"orientation\":\"v\",\"y\":[0.4103450482823756,-0.23277879634899593,-0.45086136540875726,-0.08376735759564617,0.013872231247996124,-0.07072690859130389,0.30681170864600404,1.2902872300683392,-0.3265296450613535,0.10747041706050438,-0.4891966860282878,0.1321546966645771,2.2002266533209984,2.827921795219644,1.4213390904822027,-0.40481684699662795,0.8777377019046946,-0.5915210626668627,0.23237752609932294,0.10802408268723265,-0.4989964964726072,-0.17693190406338596,0.31980787789478055,0.8585326836819313,-1.5714924413997264,-0.5285087993679705,0.4446605522951421,-0.4261044334302472,0.04041835504896138,-0.2102461439854402,0.8853158428254773,-0.9926023261355174,0.7837779223912771,1.6207142996018502,-0.31222240376226895,0.21669648190985635,-0.005778545670522539,0.2424273620179277,1.0604864388343094,0.5405949217925212,-0.028827349523677923,-0.19992850944368576,-0.07932311155494266,-1.487415209783587,0.25772607668232306,0.659067678454487,0.7764559512979428,1.1811473518576816,1.269253528510618,-0.10593976314056446,-2.2033948416823987,-0.26099399205439405,-0.035842618820022584,-0.436740003503195,-0.7347854957866872,-1.474470346831659,0.2856744360831367,-0.6987609147597583,0.25012931898644164,-1.3175865204408947,0.09478695458135028,1.8709144399634727,0.26797206469934276,-1.3953358629453787,-0.6945329566849582,1.555621068767977,0.8283772246580962,-0.8420550563881509,0.805777476671103,-1.1529198884152143,-0.13563746306624466,-0.24579363705319546,-0.846884195632001,-0.6643522082710484,0.7052085498958576,-1.6877108081600287,0.020389419260974217,-0.41756781346012556,-0.8676788986975928,-2.5653389961604987,-0.34799695926298335,0.7409356257488319,0.4199756934089848,-0.18905296451511472,-0.7275775921980504,-1.7658346002170116,-0.8494415212511488,0.06516189570040587,-1.0812781607038502,1.182463220527681,-0.1828465609009514,-1.6925573120184574,0.2528746913720982,1.2151401118568756,-0.49604662980129016,-1.1333482603578835,-1.2871159652833557,1.2333219879816024,0.2863728726007531,-0.4379191310630423],\"type\":\"box\"},{\"boxpoints\":false,\"line\":{\"width\":1.3},\"marker\":{\"color\":\"rgba(50, 171, 96, 1.0)\"},\"name\":\"C\",\"orientation\":\"v\",\"y\":[-0.32674355923381754,0.40244699964955477,0.24482868903319657,-0.49374567931671604,-1.2201447433844579,0.004506024629842515,0.46367005451863835,-1.0189990787588659,-0.7441279603914729,0.06579240859254595,0.4655232330710052,-1.7397582276065648,-0.2680109999716551,-0.3121280084283826,2.2147166613040756,-0.776459612467547,1.1866613499014753,0.5712085818037482,0.10230286214004662,-1.7717736504597807,-0.12369375914161404,-0.8700598280752807,1.2674112450150417,-0.5544308562984243,-0.1848548987667389,1.2423846567498795,1.5067794217195456,0.6044283478894678,0.5880033731238098,-0.8437357875998986,-0.48697936309314555,-0.40532845113414234,-0.35649858635655013,-1.5837522177192378,0.03464395879348093,-0.8460718105545953,0.27952688155005845,0.4487023136210964,0.00013119227840028668,-0.5948524567042549,-0.4705775864489385,-0.2739885585266081,0.6160535978917444,-0.48980496576238214,0.3956075539415357,-1.8405778475632646,-1.2020297526725154,-0.7863386287429571,-0.21712607454468716,-0.816518832493915,-0.4436876464865272,0.5008123594560738,-1.838178531281376,0.9422468116083216,1.4317527648889325,0.922568449925848,1.7661596286173802,0.31113001181453587,0.8908248687621048,0.7280432707682472,-0.8572117637594926,1.084921920807178,0.43600039278421254,-0.5641287287786603,-0.8257443812945842,0.054357982486677524,0.04225146811206106,-1.6548714332099215,-1.2128389576271554,0.11233504238923263,-0.6533567187978976,-0.9782158093971358,0.6045335366695211,-0.05072076055391424,-2.0447571350618263,0.7009592840678283,-0.5151150469908776,-1.1337579775447795,0.14115564681136036,0.5153883494625351,-0.54532985350259,0.36943192519387225,-0.07295208056302716,-0.30623678841089497,0.7594892264036471,-1.1681466459046683,0.9721186394715218,0.23729676333646912,-1.3664005827427874,0.5225651257445344,-0.18443991163904327,-0.048962793929122485,0.614506295484835,-0.5004874102520577,-1.7507953222473616,0.15042534555901244,-0.65915182204999,-2.4101607041387823,-0.1596363821821437,-0.9858044319691249],\"type\":\"box\"},{\"boxpoints\":false,\"line\":{\"width\":1.3},\"marker\":{\"color\":\"rgba(128, 0, 128, 1.0)\"},\"name\":\"D\",\"orientation\":\"v\",\"y\":[-0.42495632416362067,0.8325265519810885,-0.41911791103881446,2.1290907938799504,0.12068143333495143,0.012221910404676036,0.29031810331831925,0.34096729779845786,-0.24302774524268406,0.2869729181989335,1.6372132871706904,-1.4226195793051388,1.0971494402220232,0.67966288456736,0.5339049910679026,0.45736271376769905,-0.45510419902580557,-0.3932393616156436,0.466817139923934,1.497844827168445,-1.325521570597829,-0.1871898889980444,-0.03110727076174676,-0.2169289706021411,0.07352116798930584,0.5616097558817075,-2.2758808751813464,-1.6843647156809265,-0.053626659142203804,0.8285297602516946,0.5031952908874641,0.7742611547280526,0.30977601097773005,-0.6448182416719543,0.41134042999485876,1.297968755471327,0.6481172912799048,1.453504381327387,-1.3076413654255914,1.0480380260485127,0.032755979578507725,-0.0677724367996154,0.9656416477754153,-0.7513501377357203,0.5538732260110499,-1.1817042441457228,-0.07720356053801292,1.1598514163895763,-0.5819603985102525,-0.4679887971599426,-0.1818053718793275,1.2482551283645513,-0.25725743625096636,0.36756810684167657,0.0860336525121043,1.168205440899212,1.5959072680011253,-0.15628615314286387,-1.5325700210053528,0.5950529492192775,3.519062056532625,0.013355969831628805,-1.7606935657195237,-0.9810601023543031,-2.057710067188469,0.34580856858318654,-0.5166413986754491,0.141205377598102,-1.4421536872936562,-1.0227308885560844,-2.402020244041431,-0.6930406350102891,-0.28910592124451034,0.748899899221347,0.1907017121982691,0.49364605950994267,-0.2542607308582154,0.6439407866406093,1.8687980965623137,1.2634599379249947,-0.37411373333150033,-0.47044775439277026,0.5867185909149113,-0.11819802264236594,-1.2575413955158006,0.9866017815001976,2.2323248886734457,-0.677751749884955,-1.1775958410438587,0.10565606367106475,0.06620888178107337,0.13527616449929697,-2.753218828512755,-0.6727188261875051,0.7129879960144745,0.34402673656226707,-1.1529829205657744,0.9509513233287092,-1.6356655017467705,-0.4259335595602935],\"type\":\"box\"}],                        {\"legend\":{\"bgcolor\":\"#F5F6F9\",\"font\":{\"color\":\"#4D5663\"}},\"paper_bgcolor\":\"#F5F6F9\",\"plot_bgcolor\":\"#F5F6F9\",\"template\":{\"data\":{\"barpolar\":[{\"marker\":{\"line\":{\"color\":\"#E5ECF6\",\"width\":0.5},\"pattern\":{\"fillmode\":\"overlay\",\"size\":10,\"solidity\":0.2}},\"type\":\"barpolar\"}],\"bar\":[{\"error_x\":{\"color\":\"#2a3f5f\"},\"error_y\":{\"color\":\"#2a3f5f\"},\"marker\":{\"line\":{\"color\":\"#E5ECF6\",\"width\":0.5},\"pattern\":{\"fillmode\":\"overlay\",\"size\":10,\"solidity\":0.2}},\"type\":\"bar\"}],\"carpet\":[{\"aaxis\":{\"endlinecolor\":\"#2a3f5f\",\"gridcolor\":\"white\",\"linecolor\":\"white\",\"minorgridcolor\":\"white\",\"startlinecolor\":\"#2a3f5f\"},\"baxis\":{\"endlinecolor\":\"#2a3f5f\",\"gridcolor\":\"white\",\"linecolor\":\"white\",\"minorgridcolor\":\"white\",\"startlinecolor\":\"#2a3f5f\"},\"type\":\"carpet\"}],\"choropleth\":[{\"colorbar\":{\"outlinewidth\":0,\"ticks\":\"\"},\"type\":\"choropleth\"}],\"contourcarpet\":[{\"colorbar\":{\"outlinewidth\":0,\"ticks\":\"\"},\"type\":\"contourcarpet\"}],\"contour\":[{\"colorbar\":{\"outlinewidth\":0,\"ticks\":\"\"},\"colorscale\":[[0.0,\"#0d0887\"],[0.1111111111111111,\"#46039f\"],[0.2222222222222222,\"#7201a8\"],[0.3333333333333333,\"#9c179e\"],[0.4444444444444444,\"#bd3786\"],[0.5555555555555556,\"#d8576b\"],[0.6666666666666666,\"#ed7953\"],[0.7777777777777778,\"#fb9f3a\"],[0.8888888888888888,\"#fdca26\"],[1.0,\"#f0f921\"]],\"type\":\"contour\"}],\"heatmapgl\":[{\"colorbar\":{\"outlinewidth\":0,\"ticks\":\"\"},\"colorscale\":[[0.0,\"#0d0887\"],[0.1111111111111111,\"#46039f\"],[0.2222222222222222,\"#7201a8\"],[0.3333333333333333,\"#9c179e\"],[0.4444444444444444,\"#bd3786\"],[0.5555555555555556,\"#d8576b\"],[0.6666666666666666,\"#ed7953\"],[0.7777777777777778,\"#fb9f3a\"],[0.8888888888888888,\"#fdca26\"],[1.0,\"#f0f921\"]],\"type\":\"heatmapgl\"}],\"heatmap\":[{\"colorbar\":{\"outlinewidth\":0,\"ticks\":\"\"},\"colorscale\":[[0.0,\"#0d0887\"],[0.1111111111111111,\"#46039f\"],[0.2222222222222222,\"#7201a8\"],[0.3333333333333333,\"#9c179e\"],[0.4444444444444444,\"#bd3786\"],[0.5555555555555556,\"#d8576b\"],[0.6666666666666666,\"#ed7953\"],[0.7777777777777778,\"#fb9f3a\"],[0.8888888888888888,\"#fdca26\"],[1.0,\"#f0f921\"]],\"type\":\"heatmap\"}],\"histogram2dcontour\":[{\"colorbar\":{\"outlinewidth\":0,\"ticks\":\"\"},\"colorscale\":[[0.0,\"#0d0887\"],[0.1111111111111111,\"#46039f\"],[0.2222222222222222,\"#7201a8\"],[0.3333333333333333,\"#9c179e\"],[0.4444444444444444,\"#bd3786\"],[0.5555555555555556,\"#d8576b\"],[0.6666666666666666,\"#ed7953\"],[0.7777777777777778,\"#fb9f3a\"],[0.8888888888888888,\"#fdca26\"],[1.0,\"#f0f921\"]],\"type\":\"histogram2dcontour\"}],\"histogram2d\":[{\"colorbar\":{\"outlinewidth\":0,\"ticks\":\"\"},\"colorscale\":[[0.0,\"#0d0887\"],[0.1111111111111111,\"#46039f\"],[0.2222222222222222,\"#7201a8\"],[0.3333333333333333,\"#9c179e\"],[0.4444444444444444,\"#bd3786\"],[0.5555555555555556,\"#d8576b\"],[0.6666666666666666,\"#ed7953\"],[0.7777777777777778,\"#fb9f3a\"],[0.8888888888888888,\"#fdca26\"],[1.0,\"#f0f921\"]],\"type\":\"histogram2d\"}],\"histogram\":[{\"marker\":{\"pattern\":{\"fillmode\":\"overlay\",\"size\":10,\"solidity\":0.2}},\"type\":\"histogram\"}],\"mesh3d\":[{\"colorbar\":{\"outlinewidth\":0,\"ticks\":\"\"},\"type\":\"mesh3d\"}],\"parcoords\":[{\"line\":{\"colorbar\":{\"outlinewidth\":0,\"ticks\":\"\"}},\"type\":\"parcoords\"}],\"pie\":[{\"automargin\":true,\"type\":\"pie\"}],\"scatter3d\":[{\"line\":{\"colorbar\":{\"outlinewidth\":0,\"ticks\":\"\"}},\"marker\":{\"colorbar\":{\"outlinewidth\":0,\"ticks\":\"\"}},\"type\":\"scatter3d\"}],\"scattercarpet\":[{\"marker\":{\"colorbar\":{\"outlinewidth\":0,\"ticks\":\"\"}},\"type\":\"scattercarpet\"}],\"scattergeo\":[{\"marker\":{\"colorbar\":{\"outlinewidth\":0,\"ticks\":\"\"}},\"type\":\"scattergeo\"}],\"scattergl\":[{\"marker\":{\"colorbar\":{\"outlinewidth\":0,\"ticks\":\"\"}},\"type\":\"scattergl\"}],\"scattermapbox\":[{\"marker\":{\"colorbar\":{\"outlinewidth\":0,\"ticks\":\"\"}},\"type\":\"scattermapbox\"}],\"scatterpolargl\":[{\"marker\":{\"colorbar\":{\"outlinewidth\":0,\"ticks\":\"\"}},\"type\":\"scatterpolargl\"}],\"scatterpolar\":[{\"marker\":{\"colorbar\":{\"outlinewidth\":0,\"ticks\":\"\"}},\"type\":\"scatterpolar\"}],\"scatter\":[{\"fillpattern\":{\"fillmode\":\"overlay\",\"size\":10,\"solidity\":0.2},\"type\":\"scatter\"}],\"scatterternary\":[{\"marker\":{\"colorbar\":{\"outlinewidth\":0,\"ticks\":\"\"}},\"type\":\"scatterternary\"}],\"surface\":[{\"colorbar\":{\"outlinewidth\":0,\"ticks\":\"\"},\"colorscale\":[[0.0,\"#0d0887\"],[0.1111111111111111,\"#46039f\"],[0.2222222222222222,\"#7201a8\"],[0.3333333333333333,\"#9c179e\"],[0.4444444444444444,\"#bd3786\"],[0.5555555555555556,\"#d8576b\"],[0.6666666666666666,\"#ed7953\"],[0.7777777777777778,\"#fb9f3a\"],[0.8888888888888888,\"#fdca26\"],[1.0,\"#f0f921\"]],\"type\":\"surface\"}],\"table\":[{\"cells\":{\"fill\":{\"color\":\"#EBF0F8\"},\"line\":{\"color\":\"white\"}},\"header\":{\"fill\":{\"color\":\"#C8D4E3\"},\"line\":{\"color\":\"white\"}},\"type\":\"table\"}]},\"layout\":{\"annotationdefaults\":{\"arrowcolor\":\"#2a3f5f\",\"arrowhead\":0,\"arrowwidth\":1},\"autotypenumbers\":\"strict\",\"coloraxis\":{\"colorbar\":{\"outlinewidth\":0,\"ticks\":\"\"}},\"colorscale\":{\"diverging\":[[0,\"#8e0152\"],[0.1,\"#c51b7d\"],[0.2,\"#de77ae\"],[0.3,\"#f1b6da\"],[0.4,\"#fde0ef\"],[0.5,\"#f7f7f7\"],[0.6,\"#e6f5d0\"],[0.7,\"#b8e186\"],[0.8,\"#7fbc41\"],[0.9,\"#4d9221\"],[1,\"#276419\"]],\"sequential\":[[0.0,\"#0d0887\"],[0.1111111111111111,\"#46039f\"],[0.2222222222222222,\"#7201a8\"],[0.3333333333333333,\"#9c179e\"],[0.4444444444444444,\"#bd3786\"],[0.5555555555555556,\"#d8576b\"],[0.6666666666666666,\"#ed7953\"],[0.7777777777777778,\"#fb9f3a\"],[0.8888888888888888,\"#fdca26\"],[1.0,\"#f0f921\"]],\"sequentialminus\":[[0.0,\"#0d0887\"],[0.1111111111111111,\"#46039f\"],[0.2222222222222222,\"#7201a8\"],[0.3333333333333333,\"#9c179e\"],[0.4444444444444444,\"#bd3786\"],[0.5555555555555556,\"#d8576b\"],[0.6666666666666666,\"#ed7953\"],[0.7777777777777778,\"#fb9f3a\"],[0.8888888888888888,\"#fdca26\"],[1.0,\"#f0f921\"]]},\"colorway\":[\"#636efa\",\"#EF553B\",\"#00cc96\",\"#ab63fa\",\"#FFA15A\",\"#19d3f3\",\"#FF6692\",\"#B6E880\",\"#FF97FF\",\"#FECB52\"],\"font\":{\"color\":\"#2a3f5f\"},\"geo\":{\"bgcolor\":\"white\",\"lakecolor\":\"white\",\"landcolor\":\"#E5ECF6\",\"showlakes\":true,\"showland\":true,\"subunitcolor\":\"white\"},\"hoverlabel\":{\"align\":\"left\"},\"hovermode\":\"closest\",\"mapbox\":{\"style\":\"light\"},\"paper_bgcolor\":\"white\",\"plot_bgcolor\":\"#E5ECF6\",\"polar\":{\"angularaxis\":{\"gridcolor\":\"white\",\"linecolor\":\"white\",\"ticks\":\"\"},\"bgcolor\":\"#E5ECF6\",\"radialaxis\":{\"gridcolor\":\"white\",\"linecolor\":\"white\",\"ticks\":\"\"}},\"scene\":{\"xaxis\":{\"backgroundcolor\":\"#E5ECF6\",\"gridcolor\":\"white\",\"gridwidth\":2,\"linecolor\":\"white\",\"showbackground\":true,\"ticks\":\"\",\"zerolinecolor\":\"white\"},\"yaxis\":{\"backgroundcolor\":\"#E5ECF6\",\"gridcolor\":\"white\",\"gridwidth\":2,\"linecolor\":\"white\",\"showbackground\":true,\"ticks\":\"\",\"zerolinecolor\":\"white\"},\"zaxis\":{\"backgroundcolor\":\"#E5ECF6\",\"gridcolor\":\"white\",\"gridwidth\":2,\"linecolor\":\"white\",\"showbackground\":true,\"ticks\":\"\",\"zerolinecolor\":\"white\"}},\"shapedefaults\":{\"line\":{\"color\":\"#2a3f5f\"}},\"ternary\":{\"aaxis\":{\"gridcolor\":\"white\",\"linecolor\":\"white\",\"ticks\":\"\"},\"baxis\":{\"gridcolor\":\"white\",\"linecolor\":\"white\",\"ticks\":\"\"},\"bgcolor\":\"#E5ECF6\",\"caxis\":{\"gridcolor\":\"white\",\"linecolor\":\"white\",\"ticks\":\"\"}},\"title\":{\"x\":0.05},\"xaxis\":{\"automargin\":true,\"gridcolor\":\"white\",\"linecolor\":\"white\",\"ticks\":\"\",\"title\":{\"standoff\":15},\"zerolinecolor\":\"white\",\"zerolinewidth\":2},\"yaxis\":{\"automargin\":true,\"gridcolor\":\"white\",\"linecolor\":\"white\",\"ticks\":\"\",\"title\":{\"standoff\":15},\"zerolinecolor\":\"white\",\"zerolinewidth\":2}}},\"title\":{\"font\":{\"color\":\"#4D5663\"}},\"xaxis\":{\"gridcolor\":\"#E1E5ED\",\"showgrid\":true,\"tickfont\":{\"color\":\"#4D5663\"},\"title\":{\"font\":{\"color\":\"#4D5663\"},\"text\":\"\"},\"zerolinecolor\":\"#E1E5ED\"},\"yaxis\":{\"gridcolor\":\"#E1E5ED\",\"showgrid\":true,\"tickfont\":{\"color\":\"#4D5663\"},\"title\":{\"font\":{\"color\":\"#4D5663\"},\"text\":\"\"},\"zerolinecolor\":\"#E1E5ED\"}},                        {\"showLink\": true, \"linkText\": \"Export to plot.ly\", \"plotlyServerURL\": \"https://plot.ly\", \"responsive\": true}                    ).then(function(){\n",
       "                            \n",
       "var gd = document.getElementById('b6dbc6d6-a4ec-46f7-875c-fed89c391fd4');\n",
       "var x = new MutationObserver(function (mutations, observer) {{\n",
       "        var display = window.getComputedStyle(gd).display;\n",
       "        if (!display || display === 'none') {{\n",
       "            console.log([gd, 'removed!']);\n",
       "            Plotly.purge(gd);\n",
       "            observer.disconnect();\n",
       "        }}\n",
       "}});\n",
       "\n",
       "// Listen for the removal of the full notebook cells\n",
       "var notebookContainer = gd.closest('#notebook-container');\n",
       "if (notebookContainer) {{\n",
       "    x.observe(notebookContainer, {childList: true});\n",
       "}}\n",
       "\n",
       "// Listen for the clearing of the current output cell\n",
       "var outputEl = gd.closest('.output');\n",
       "if (outputEl) {{\n",
       "    x.observe(outputEl, {childList: true});\n",
       "}}\n",
       "\n",
       "                        })                };                });            </script>        </div>"
      ]
     },
     "metadata": {},
     "output_type": "display_data"
    }
   ],
   "source": [
    "df.iplot(kind=\"box\")"
   ]
  },
  {
   "cell_type": "code",
   "execution_count": 23,
   "id": "99c8bc5e",
   "metadata": {},
   "outputs": [],
   "source": [
    "df3 = pd.DataFrame({\"x\":[1,2,3,4,5],\"y\":[10,20,30,20,10], \"z\":[5,4,3,2,1]})"
   ]
  },
  {
   "cell_type": "code",
   "execution_count": 24,
   "id": "83fac366",
   "metadata": {},
   "outputs": [
    {
     "data": {
      "text/html": [
       "<div>\n",
       "<style scoped>\n",
       "    .dataframe tbody tr th:only-of-type {\n",
       "        vertical-align: middle;\n",
       "    }\n",
       "\n",
       "    .dataframe tbody tr th {\n",
       "        vertical-align: top;\n",
       "    }\n",
       "\n",
       "    .dataframe thead th {\n",
       "        text-align: right;\n",
       "    }\n",
       "</style>\n",
       "<table border=\"1\" class=\"dataframe\">\n",
       "  <thead>\n",
       "    <tr style=\"text-align: right;\">\n",
       "      <th></th>\n",
       "      <th>x</th>\n",
       "      <th>y</th>\n",
       "      <th>z</th>\n",
       "    </tr>\n",
       "  </thead>\n",
       "  <tbody>\n",
       "    <tr>\n",
       "      <th>0</th>\n",
       "      <td>1</td>\n",
       "      <td>10</td>\n",
       "      <td>5</td>\n",
       "    </tr>\n",
       "    <tr>\n",
       "      <th>1</th>\n",
       "      <td>2</td>\n",
       "      <td>20</td>\n",
       "      <td>4</td>\n",
       "    </tr>\n",
       "    <tr>\n",
       "      <th>2</th>\n",
       "      <td>3</td>\n",
       "      <td>30</td>\n",
       "      <td>3</td>\n",
       "    </tr>\n",
       "    <tr>\n",
       "      <th>3</th>\n",
       "      <td>4</td>\n",
       "      <td>20</td>\n",
       "      <td>2</td>\n",
       "    </tr>\n",
       "    <tr>\n",
       "      <th>4</th>\n",
       "      <td>5</td>\n",
       "      <td>10</td>\n",
       "      <td>1</td>\n",
       "    </tr>\n",
       "  </tbody>\n",
       "</table>\n",
       "</div>"
      ],
      "text/plain": [
       "   x   y  z\n",
       "0  1  10  5\n",
       "1  2  20  4\n",
       "2  3  30  3\n",
       "3  4  20  2\n",
       "4  5  10  1"
      ]
     },
     "execution_count": 24,
     "metadata": {},
     "output_type": "execute_result"
    }
   ],
   "source": [
    "df3.head()"
   ]
  },
  {
   "cell_type": "code",
   "execution_count": 26,
   "id": "5d5df799",
   "metadata": {},
   "outputs": [
    {
     "data": {
      "application/vnd.plotly.v1+json": {
       "config": {
        "linkText": "Export to plot.ly",
        "plotlyServerURL": "https://plot.ly",
        "showLink": true
       },
       "data": [
        {
         "colorscale": [
          [
           0,
           "rgb(165,0,38)"
          ],
          [
           0.1,
           "rgb(215,48,39)"
          ],
          [
           0.2,
           "rgb(244,109,67)"
          ],
          [
           0.3,
           "rgb(253,174,97)"
          ],
          [
           0.4,
           "rgb(254,224,144)"
          ],
          [
           0.5,
           "rgb(255,255,191)"
          ],
          [
           0.6,
           "rgb(224,243,248)"
          ],
          [
           0.7,
           "rgb(171,217,233)"
          ],
          [
           0.8,
           "rgb(116,173,209)"
          ],
          [
           0.9,
           "rgb(69,117,180)"
          ],
          [
           1,
           "rgb(49,54,149)"
          ]
         ],
         "type": "surface",
         "x": [
          0,
          1,
          2,
          3,
          4
         ],
         "y": [
          "x",
          "y",
          "z"
         ],
         "z": [
          [
           1,
           2,
           3,
           4,
           5
          ],
          [
           10,
           20,
           30,
           20,
           10
          ],
          [
           5,
           4,
           3,
           2,
           1
          ]
         ]
        }
       ],
       "layout": {
        "legend": {
         "bgcolor": "#F5F6F9",
         "font": {
          "color": "#4D5663"
         }
        },
        "paper_bgcolor": "#F5F6F9",
        "plot_bgcolor": "#F5F6F9",
        "template": {
         "data": {
          "bar": [
           {
            "error_x": {
             "color": "#2a3f5f"
            },
            "error_y": {
             "color": "#2a3f5f"
            },
            "marker": {
             "line": {
              "color": "#E5ECF6",
              "width": 0.5
             },
             "pattern": {
              "fillmode": "overlay",
              "size": 10,
              "solidity": 0.2
             }
            },
            "type": "bar"
           }
          ],
          "barpolar": [
           {
            "marker": {
             "line": {
              "color": "#E5ECF6",
              "width": 0.5
             },
             "pattern": {
              "fillmode": "overlay",
              "size": 10,
              "solidity": 0.2
             }
            },
            "type": "barpolar"
           }
          ],
          "carpet": [
           {
            "aaxis": {
             "endlinecolor": "#2a3f5f",
             "gridcolor": "white",
             "linecolor": "white",
             "minorgridcolor": "white",
             "startlinecolor": "#2a3f5f"
            },
            "baxis": {
             "endlinecolor": "#2a3f5f",
             "gridcolor": "white",
             "linecolor": "white",
             "minorgridcolor": "white",
             "startlinecolor": "#2a3f5f"
            },
            "type": "carpet"
           }
          ],
          "choropleth": [
           {
            "colorbar": {
             "outlinewidth": 0,
             "ticks": ""
            },
            "type": "choropleth"
           }
          ],
          "contour": [
           {
            "colorbar": {
             "outlinewidth": 0,
             "ticks": ""
            },
            "colorscale": [
             [
              0,
              "#0d0887"
             ],
             [
              0.1111111111111111,
              "#46039f"
             ],
             [
              0.2222222222222222,
              "#7201a8"
             ],
             [
              0.3333333333333333,
              "#9c179e"
             ],
             [
              0.4444444444444444,
              "#bd3786"
             ],
             [
              0.5555555555555556,
              "#d8576b"
             ],
             [
              0.6666666666666666,
              "#ed7953"
             ],
             [
              0.7777777777777778,
              "#fb9f3a"
             ],
             [
              0.8888888888888888,
              "#fdca26"
             ],
             [
              1,
              "#f0f921"
             ]
            ],
            "type": "contour"
           }
          ],
          "contourcarpet": [
           {
            "colorbar": {
             "outlinewidth": 0,
             "ticks": ""
            },
            "type": "contourcarpet"
           }
          ],
          "heatmap": [
           {
            "colorbar": {
             "outlinewidth": 0,
             "ticks": ""
            },
            "colorscale": [
             [
              0,
              "#0d0887"
             ],
             [
              0.1111111111111111,
              "#46039f"
             ],
             [
              0.2222222222222222,
              "#7201a8"
             ],
             [
              0.3333333333333333,
              "#9c179e"
             ],
             [
              0.4444444444444444,
              "#bd3786"
             ],
             [
              0.5555555555555556,
              "#d8576b"
             ],
             [
              0.6666666666666666,
              "#ed7953"
             ],
             [
              0.7777777777777778,
              "#fb9f3a"
             ],
             [
              0.8888888888888888,
              "#fdca26"
             ],
             [
              1,
              "#f0f921"
             ]
            ],
            "type": "heatmap"
           }
          ],
          "heatmapgl": [
           {
            "colorbar": {
             "outlinewidth": 0,
             "ticks": ""
            },
            "colorscale": [
             [
              0,
              "#0d0887"
             ],
             [
              0.1111111111111111,
              "#46039f"
             ],
             [
              0.2222222222222222,
              "#7201a8"
             ],
             [
              0.3333333333333333,
              "#9c179e"
             ],
             [
              0.4444444444444444,
              "#bd3786"
             ],
             [
              0.5555555555555556,
              "#d8576b"
             ],
             [
              0.6666666666666666,
              "#ed7953"
             ],
             [
              0.7777777777777778,
              "#fb9f3a"
             ],
             [
              0.8888888888888888,
              "#fdca26"
             ],
             [
              1,
              "#f0f921"
             ]
            ],
            "type": "heatmapgl"
           }
          ],
          "histogram": [
           {
            "marker": {
             "pattern": {
              "fillmode": "overlay",
              "size": 10,
              "solidity": 0.2
             }
            },
            "type": "histogram"
           }
          ],
          "histogram2d": [
           {
            "colorbar": {
             "outlinewidth": 0,
             "ticks": ""
            },
            "colorscale": [
             [
              0,
              "#0d0887"
             ],
             [
              0.1111111111111111,
              "#46039f"
             ],
             [
              0.2222222222222222,
              "#7201a8"
             ],
             [
              0.3333333333333333,
              "#9c179e"
             ],
             [
              0.4444444444444444,
              "#bd3786"
             ],
             [
              0.5555555555555556,
              "#d8576b"
             ],
             [
              0.6666666666666666,
              "#ed7953"
             ],
             [
              0.7777777777777778,
              "#fb9f3a"
             ],
             [
              0.8888888888888888,
              "#fdca26"
             ],
             [
              1,
              "#f0f921"
             ]
            ],
            "type": "histogram2d"
           }
          ],
          "histogram2dcontour": [
           {
            "colorbar": {
             "outlinewidth": 0,
             "ticks": ""
            },
            "colorscale": [
             [
              0,
              "#0d0887"
             ],
             [
              0.1111111111111111,
              "#46039f"
             ],
             [
              0.2222222222222222,
              "#7201a8"
             ],
             [
              0.3333333333333333,
              "#9c179e"
             ],
             [
              0.4444444444444444,
              "#bd3786"
             ],
             [
              0.5555555555555556,
              "#d8576b"
             ],
             [
              0.6666666666666666,
              "#ed7953"
             ],
             [
              0.7777777777777778,
              "#fb9f3a"
             ],
             [
              0.8888888888888888,
              "#fdca26"
             ],
             [
              1,
              "#f0f921"
             ]
            ],
            "type": "histogram2dcontour"
           }
          ],
          "mesh3d": [
           {
            "colorbar": {
             "outlinewidth": 0,
             "ticks": ""
            },
            "type": "mesh3d"
           }
          ],
          "parcoords": [
           {
            "line": {
             "colorbar": {
              "outlinewidth": 0,
              "ticks": ""
             }
            },
            "type": "parcoords"
           }
          ],
          "pie": [
           {
            "automargin": true,
            "type": "pie"
           }
          ],
          "scatter": [
           {
            "fillpattern": {
             "fillmode": "overlay",
             "size": 10,
             "solidity": 0.2
            },
            "type": "scatter"
           }
          ],
          "scatter3d": [
           {
            "line": {
             "colorbar": {
              "outlinewidth": 0,
              "ticks": ""
             }
            },
            "marker": {
             "colorbar": {
              "outlinewidth": 0,
              "ticks": ""
             }
            },
            "type": "scatter3d"
           }
          ],
          "scattercarpet": [
           {
            "marker": {
             "colorbar": {
              "outlinewidth": 0,
              "ticks": ""
             }
            },
            "type": "scattercarpet"
           }
          ],
          "scattergeo": [
           {
            "marker": {
             "colorbar": {
              "outlinewidth": 0,
              "ticks": ""
             }
            },
            "type": "scattergeo"
           }
          ],
          "scattergl": [
           {
            "marker": {
             "colorbar": {
              "outlinewidth": 0,
              "ticks": ""
             }
            },
            "type": "scattergl"
           }
          ],
          "scattermapbox": [
           {
            "marker": {
             "colorbar": {
              "outlinewidth": 0,
              "ticks": ""
             }
            },
            "type": "scattermapbox"
           }
          ],
          "scatterpolar": [
           {
            "marker": {
             "colorbar": {
              "outlinewidth": 0,
              "ticks": ""
             }
            },
            "type": "scatterpolar"
           }
          ],
          "scatterpolargl": [
           {
            "marker": {
             "colorbar": {
              "outlinewidth": 0,
              "ticks": ""
             }
            },
            "type": "scatterpolargl"
           }
          ],
          "scatterternary": [
           {
            "marker": {
             "colorbar": {
              "outlinewidth": 0,
              "ticks": ""
             }
            },
            "type": "scatterternary"
           }
          ],
          "surface": [
           {
            "colorbar": {
             "outlinewidth": 0,
             "ticks": ""
            },
            "colorscale": [
             [
              0,
              "#0d0887"
             ],
             [
              0.1111111111111111,
              "#46039f"
             ],
             [
              0.2222222222222222,
              "#7201a8"
             ],
             [
              0.3333333333333333,
              "#9c179e"
             ],
             [
              0.4444444444444444,
              "#bd3786"
             ],
             [
              0.5555555555555556,
              "#d8576b"
             ],
             [
              0.6666666666666666,
              "#ed7953"
             ],
             [
              0.7777777777777778,
              "#fb9f3a"
             ],
             [
              0.8888888888888888,
              "#fdca26"
             ],
             [
              1,
              "#f0f921"
             ]
            ],
            "type": "surface"
           }
          ],
          "table": [
           {
            "cells": {
             "fill": {
              "color": "#EBF0F8"
             },
             "line": {
              "color": "white"
             }
            },
            "header": {
             "fill": {
              "color": "#C8D4E3"
             },
             "line": {
              "color": "white"
             }
            },
            "type": "table"
           }
          ]
         },
         "layout": {
          "annotationdefaults": {
           "arrowcolor": "#2a3f5f",
           "arrowhead": 0,
           "arrowwidth": 1
          },
          "autotypenumbers": "strict",
          "coloraxis": {
           "colorbar": {
            "outlinewidth": 0,
            "ticks": ""
           }
          },
          "colorscale": {
           "diverging": [
            [
             0,
             "#8e0152"
            ],
            [
             0.1,
             "#c51b7d"
            ],
            [
             0.2,
             "#de77ae"
            ],
            [
             0.3,
             "#f1b6da"
            ],
            [
             0.4,
             "#fde0ef"
            ],
            [
             0.5,
             "#f7f7f7"
            ],
            [
             0.6,
             "#e6f5d0"
            ],
            [
             0.7,
             "#b8e186"
            ],
            [
             0.8,
             "#7fbc41"
            ],
            [
             0.9,
             "#4d9221"
            ],
            [
             1,
             "#276419"
            ]
           ],
           "sequential": [
            [
             0,
             "#0d0887"
            ],
            [
             0.1111111111111111,
             "#46039f"
            ],
            [
             0.2222222222222222,
             "#7201a8"
            ],
            [
             0.3333333333333333,
             "#9c179e"
            ],
            [
             0.4444444444444444,
             "#bd3786"
            ],
            [
             0.5555555555555556,
             "#d8576b"
            ],
            [
             0.6666666666666666,
             "#ed7953"
            ],
            [
             0.7777777777777778,
             "#fb9f3a"
            ],
            [
             0.8888888888888888,
             "#fdca26"
            ],
            [
             1,
             "#f0f921"
            ]
           ],
           "sequentialminus": [
            [
             0,
             "#0d0887"
            ],
            [
             0.1111111111111111,
             "#46039f"
            ],
            [
             0.2222222222222222,
             "#7201a8"
            ],
            [
             0.3333333333333333,
             "#9c179e"
            ],
            [
             0.4444444444444444,
             "#bd3786"
            ],
            [
             0.5555555555555556,
             "#d8576b"
            ],
            [
             0.6666666666666666,
             "#ed7953"
            ],
            [
             0.7777777777777778,
             "#fb9f3a"
            ],
            [
             0.8888888888888888,
             "#fdca26"
            ],
            [
             1,
             "#f0f921"
            ]
           ]
          },
          "colorway": [
           "#636efa",
           "#EF553B",
           "#00cc96",
           "#ab63fa",
           "#FFA15A",
           "#19d3f3",
           "#FF6692",
           "#B6E880",
           "#FF97FF",
           "#FECB52"
          ],
          "font": {
           "color": "#2a3f5f"
          },
          "geo": {
           "bgcolor": "white",
           "lakecolor": "white",
           "landcolor": "#E5ECF6",
           "showlakes": true,
           "showland": true,
           "subunitcolor": "white"
          },
          "hoverlabel": {
           "align": "left"
          },
          "hovermode": "closest",
          "mapbox": {
           "style": "light"
          },
          "paper_bgcolor": "white",
          "plot_bgcolor": "#E5ECF6",
          "polar": {
           "angularaxis": {
            "gridcolor": "white",
            "linecolor": "white",
            "ticks": ""
           },
           "bgcolor": "#E5ECF6",
           "radialaxis": {
            "gridcolor": "white",
            "linecolor": "white",
            "ticks": ""
           }
          },
          "scene": {
           "xaxis": {
            "backgroundcolor": "#E5ECF6",
            "gridcolor": "white",
            "gridwidth": 2,
            "linecolor": "white",
            "showbackground": true,
            "ticks": "",
            "zerolinecolor": "white"
           },
           "yaxis": {
            "backgroundcolor": "#E5ECF6",
            "gridcolor": "white",
            "gridwidth": 2,
            "linecolor": "white",
            "showbackground": true,
            "ticks": "",
            "zerolinecolor": "white"
           },
           "zaxis": {
            "backgroundcolor": "#E5ECF6",
            "gridcolor": "white",
            "gridwidth": 2,
            "linecolor": "white",
            "showbackground": true,
            "ticks": "",
            "zerolinecolor": "white"
           }
          },
          "shapedefaults": {
           "line": {
            "color": "#2a3f5f"
           }
          },
          "ternary": {
           "aaxis": {
            "gridcolor": "white",
            "linecolor": "white",
            "ticks": ""
           },
           "baxis": {
            "gridcolor": "white",
            "linecolor": "white",
            "ticks": ""
           },
           "bgcolor": "#E5ECF6",
           "caxis": {
            "gridcolor": "white",
            "linecolor": "white",
            "ticks": ""
           }
          },
          "title": {
           "x": 0.05
          },
          "xaxis": {
           "automargin": true,
           "gridcolor": "white",
           "linecolor": "white",
           "ticks": "",
           "title": {
            "standoff": 15
           },
           "zerolinecolor": "white",
           "zerolinewidth": 2
          },
          "yaxis": {
           "automargin": true,
           "gridcolor": "white",
           "linecolor": "white",
           "ticks": "",
           "title": {
            "standoff": 15
           },
           "zerolinecolor": "white",
           "zerolinewidth": 2
          }
         }
        },
        "title": {
         "font": {
          "color": "#4D5663"
         }
        },
        "xaxis": {
         "gridcolor": "#E1E5ED",
         "showgrid": true,
         "tickfont": {
          "color": "#4D5663"
         },
         "title": {
          "font": {
           "color": "#4D5663"
          },
          "text": ""
         },
         "zerolinecolor": "#E1E5ED"
        },
        "yaxis": {
         "gridcolor": "#E1E5ED",
         "showgrid": true,
         "tickfont": {
          "color": "#4D5663"
         },
         "title": {
          "font": {
           "color": "#4D5663"
          },
          "text": ""
         },
         "zerolinecolor": "#E1E5ED"
        }
       }
      },
      "text/html": [
       "<div>                            <div id=\"806c1d15-c16f-49ec-ac89-3894b702f6b5\" class=\"plotly-graph-div\" style=\"height:525px; width:100%;\"></div>            <script type=\"text/javascript\">                require([\"plotly\"], function(Plotly) {                    window.PLOTLYENV=window.PLOTLYENV || {};\n",
       "                    window.PLOTLYENV.BASE_URL='https://plot.ly';                                    if (document.getElementById(\"806c1d15-c16f-49ec-ac89-3894b702f6b5\")) {                    Plotly.newPlot(                        \"806c1d15-c16f-49ec-ac89-3894b702f6b5\",                        [{\"colorscale\":[[0.0,\"rgb(165,0,38)\"],[0.1,\"rgb(215,48,39)\"],[0.2,\"rgb(244,109,67)\"],[0.3,\"rgb(253,174,97)\"],[0.4,\"rgb(254,224,144)\"],[0.5,\"rgb(255,255,191)\"],[0.6,\"rgb(224,243,248)\"],[0.7,\"rgb(171,217,233)\"],[0.8,\"rgb(116,173,209)\"],[0.9,\"rgb(69,117,180)\"],[1.0,\"rgb(49,54,149)\"]],\"x\":[0,1,2,3,4],\"y\":[\"x\",\"y\",\"z\"],\"z\":[[1,2,3,4,5],[10,20,30,20,10],[5,4,3,2,1]],\"type\":\"surface\"}],                        {\"legend\":{\"bgcolor\":\"#F5F6F9\",\"font\":{\"color\":\"#4D5663\"}},\"paper_bgcolor\":\"#F5F6F9\",\"plot_bgcolor\":\"#F5F6F9\",\"template\":{\"data\":{\"barpolar\":[{\"marker\":{\"line\":{\"color\":\"#E5ECF6\",\"width\":0.5},\"pattern\":{\"fillmode\":\"overlay\",\"size\":10,\"solidity\":0.2}},\"type\":\"barpolar\"}],\"bar\":[{\"error_x\":{\"color\":\"#2a3f5f\"},\"error_y\":{\"color\":\"#2a3f5f\"},\"marker\":{\"line\":{\"color\":\"#E5ECF6\",\"width\":0.5},\"pattern\":{\"fillmode\":\"overlay\",\"size\":10,\"solidity\":0.2}},\"type\":\"bar\"}],\"carpet\":[{\"aaxis\":{\"endlinecolor\":\"#2a3f5f\",\"gridcolor\":\"white\",\"linecolor\":\"white\",\"minorgridcolor\":\"white\",\"startlinecolor\":\"#2a3f5f\"},\"baxis\":{\"endlinecolor\":\"#2a3f5f\",\"gridcolor\":\"white\",\"linecolor\":\"white\",\"minorgridcolor\":\"white\",\"startlinecolor\":\"#2a3f5f\"},\"type\":\"carpet\"}],\"choropleth\":[{\"colorbar\":{\"outlinewidth\":0,\"ticks\":\"\"},\"type\":\"choropleth\"}],\"contourcarpet\":[{\"colorbar\":{\"outlinewidth\":0,\"ticks\":\"\"},\"type\":\"contourcarpet\"}],\"contour\":[{\"colorbar\":{\"outlinewidth\":0,\"ticks\":\"\"},\"colorscale\":[[0.0,\"#0d0887\"],[0.1111111111111111,\"#46039f\"],[0.2222222222222222,\"#7201a8\"],[0.3333333333333333,\"#9c179e\"],[0.4444444444444444,\"#bd3786\"],[0.5555555555555556,\"#d8576b\"],[0.6666666666666666,\"#ed7953\"],[0.7777777777777778,\"#fb9f3a\"],[0.8888888888888888,\"#fdca26\"],[1.0,\"#f0f921\"]],\"type\":\"contour\"}],\"heatmapgl\":[{\"colorbar\":{\"outlinewidth\":0,\"ticks\":\"\"},\"colorscale\":[[0.0,\"#0d0887\"],[0.1111111111111111,\"#46039f\"],[0.2222222222222222,\"#7201a8\"],[0.3333333333333333,\"#9c179e\"],[0.4444444444444444,\"#bd3786\"],[0.5555555555555556,\"#d8576b\"],[0.6666666666666666,\"#ed7953\"],[0.7777777777777778,\"#fb9f3a\"],[0.8888888888888888,\"#fdca26\"],[1.0,\"#f0f921\"]],\"type\":\"heatmapgl\"}],\"heatmap\":[{\"colorbar\":{\"outlinewidth\":0,\"ticks\":\"\"},\"colorscale\":[[0.0,\"#0d0887\"],[0.1111111111111111,\"#46039f\"],[0.2222222222222222,\"#7201a8\"],[0.3333333333333333,\"#9c179e\"],[0.4444444444444444,\"#bd3786\"],[0.5555555555555556,\"#d8576b\"],[0.6666666666666666,\"#ed7953\"],[0.7777777777777778,\"#fb9f3a\"],[0.8888888888888888,\"#fdca26\"],[1.0,\"#f0f921\"]],\"type\":\"heatmap\"}],\"histogram2dcontour\":[{\"colorbar\":{\"outlinewidth\":0,\"ticks\":\"\"},\"colorscale\":[[0.0,\"#0d0887\"],[0.1111111111111111,\"#46039f\"],[0.2222222222222222,\"#7201a8\"],[0.3333333333333333,\"#9c179e\"],[0.4444444444444444,\"#bd3786\"],[0.5555555555555556,\"#d8576b\"],[0.6666666666666666,\"#ed7953\"],[0.7777777777777778,\"#fb9f3a\"],[0.8888888888888888,\"#fdca26\"],[1.0,\"#f0f921\"]],\"type\":\"histogram2dcontour\"}],\"histogram2d\":[{\"colorbar\":{\"outlinewidth\":0,\"ticks\":\"\"},\"colorscale\":[[0.0,\"#0d0887\"],[0.1111111111111111,\"#46039f\"],[0.2222222222222222,\"#7201a8\"],[0.3333333333333333,\"#9c179e\"],[0.4444444444444444,\"#bd3786\"],[0.5555555555555556,\"#d8576b\"],[0.6666666666666666,\"#ed7953\"],[0.7777777777777778,\"#fb9f3a\"],[0.8888888888888888,\"#fdca26\"],[1.0,\"#f0f921\"]],\"type\":\"histogram2d\"}],\"histogram\":[{\"marker\":{\"pattern\":{\"fillmode\":\"overlay\",\"size\":10,\"solidity\":0.2}},\"type\":\"histogram\"}],\"mesh3d\":[{\"colorbar\":{\"outlinewidth\":0,\"ticks\":\"\"},\"type\":\"mesh3d\"}],\"parcoords\":[{\"line\":{\"colorbar\":{\"outlinewidth\":0,\"ticks\":\"\"}},\"type\":\"parcoords\"}],\"pie\":[{\"automargin\":true,\"type\":\"pie\"}],\"scatter3d\":[{\"line\":{\"colorbar\":{\"outlinewidth\":0,\"ticks\":\"\"}},\"marker\":{\"colorbar\":{\"outlinewidth\":0,\"ticks\":\"\"}},\"type\":\"scatter3d\"}],\"scattercarpet\":[{\"marker\":{\"colorbar\":{\"outlinewidth\":0,\"ticks\":\"\"}},\"type\":\"scattercarpet\"}],\"scattergeo\":[{\"marker\":{\"colorbar\":{\"outlinewidth\":0,\"ticks\":\"\"}},\"type\":\"scattergeo\"}],\"scattergl\":[{\"marker\":{\"colorbar\":{\"outlinewidth\":0,\"ticks\":\"\"}},\"type\":\"scattergl\"}],\"scattermapbox\":[{\"marker\":{\"colorbar\":{\"outlinewidth\":0,\"ticks\":\"\"}},\"type\":\"scattermapbox\"}],\"scatterpolargl\":[{\"marker\":{\"colorbar\":{\"outlinewidth\":0,\"ticks\":\"\"}},\"type\":\"scatterpolargl\"}],\"scatterpolar\":[{\"marker\":{\"colorbar\":{\"outlinewidth\":0,\"ticks\":\"\"}},\"type\":\"scatterpolar\"}],\"scatter\":[{\"fillpattern\":{\"fillmode\":\"overlay\",\"size\":10,\"solidity\":0.2},\"type\":\"scatter\"}],\"scatterternary\":[{\"marker\":{\"colorbar\":{\"outlinewidth\":0,\"ticks\":\"\"}},\"type\":\"scatterternary\"}],\"surface\":[{\"colorbar\":{\"outlinewidth\":0,\"ticks\":\"\"},\"colorscale\":[[0.0,\"#0d0887\"],[0.1111111111111111,\"#46039f\"],[0.2222222222222222,\"#7201a8\"],[0.3333333333333333,\"#9c179e\"],[0.4444444444444444,\"#bd3786\"],[0.5555555555555556,\"#d8576b\"],[0.6666666666666666,\"#ed7953\"],[0.7777777777777778,\"#fb9f3a\"],[0.8888888888888888,\"#fdca26\"],[1.0,\"#f0f921\"]],\"type\":\"surface\"}],\"table\":[{\"cells\":{\"fill\":{\"color\":\"#EBF0F8\"},\"line\":{\"color\":\"white\"}},\"header\":{\"fill\":{\"color\":\"#C8D4E3\"},\"line\":{\"color\":\"white\"}},\"type\":\"table\"}]},\"layout\":{\"annotationdefaults\":{\"arrowcolor\":\"#2a3f5f\",\"arrowhead\":0,\"arrowwidth\":1},\"autotypenumbers\":\"strict\",\"coloraxis\":{\"colorbar\":{\"outlinewidth\":0,\"ticks\":\"\"}},\"colorscale\":{\"diverging\":[[0,\"#8e0152\"],[0.1,\"#c51b7d\"],[0.2,\"#de77ae\"],[0.3,\"#f1b6da\"],[0.4,\"#fde0ef\"],[0.5,\"#f7f7f7\"],[0.6,\"#e6f5d0\"],[0.7,\"#b8e186\"],[0.8,\"#7fbc41\"],[0.9,\"#4d9221\"],[1,\"#276419\"]],\"sequential\":[[0.0,\"#0d0887\"],[0.1111111111111111,\"#46039f\"],[0.2222222222222222,\"#7201a8\"],[0.3333333333333333,\"#9c179e\"],[0.4444444444444444,\"#bd3786\"],[0.5555555555555556,\"#d8576b\"],[0.6666666666666666,\"#ed7953\"],[0.7777777777777778,\"#fb9f3a\"],[0.8888888888888888,\"#fdca26\"],[1.0,\"#f0f921\"]],\"sequentialminus\":[[0.0,\"#0d0887\"],[0.1111111111111111,\"#46039f\"],[0.2222222222222222,\"#7201a8\"],[0.3333333333333333,\"#9c179e\"],[0.4444444444444444,\"#bd3786\"],[0.5555555555555556,\"#d8576b\"],[0.6666666666666666,\"#ed7953\"],[0.7777777777777778,\"#fb9f3a\"],[0.8888888888888888,\"#fdca26\"],[1.0,\"#f0f921\"]]},\"colorway\":[\"#636efa\",\"#EF553B\",\"#00cc96\",\"#ab63fa\",\"#FFA15A\",\"#19d3f3\",\"#FF6692\",\"#B6E880\",\"#FF97FF\",\"#FECB52\"],\"font\":{\"color\":\"#2a3f5f\"},\"geo\":{\"bgcolor\":\"white\",\"lakecolor\":\"white\",\"landcolor\":\"#E5ECF6\",\"showlakes\":true,\"showland\":true,\"subunitcolor\":\"white\"},\"hoverlabel\":{\"align\":\"left\"},\"hovermode\":\"closest\",\"mapbox\":{\"style\":\"light\"},\"paper_bgcolor\":\"white\",\"plot_bgcolor\":\"#E5ECF6\",\"polar\":{\"angularaxis\":{\"gridcolor\":\"white\",\"linecolor\":\"white\",\"ticks\":\"\"},\"bgcolor\":\"#E5ECF6\",\"radialaxis\":{\"gridcolor\":\"white\",\"linecolor\":\"white\",\"ticks\":\"\"}},\"scene\":{\"xaxis\":{\"backgroundcolor\":\"#E5ECF6\",\"gridcolor\":\"white\",\"gridwidth\":2,\"linecolor\":\"white\",\"showbackground\":true,\"ticks\":\"\",\"zerolinecolor\":\"white\"},\"yaxis\":{\"backgroundcolor\":\"#E5ECF6\",\"gridcolor\":\"white\",\"gridwidth\":2,\"linecolor\":\"white\",\"showbackground\":true,\"ticks\":\"\",\"zerolinecolor\":\"white\"},\"zaxis\":{\"backgroundcolor\":\"#E5ECF6\",\"gridcolor\":\"white\",\"gridwidth\":2,\"linecolor\":\"white\",\"showbackground\":true,\"ticks\":\"\",\"zerolinecolor\":\"white\"}},\"shapedefaults\":{\"line\":{\"color\":\"#2a3f5f\"}},\"ternary\":{\"aaxis\":{\"gridcolor\":\"white\",\"linecolor\":\"white\",\"ticks\":\"\"},\"baxis\":{\"gridcolor\":\"white\",\"linecolor\":\"white\",\"ticks\":\"\"},\"bgcolor\":\"#E5ECF6\",\"caxis\":{\"gridcolor\":\"white\",\"linecolor\":\"white\",\"ticks\":\"\"}},\"title\":{\"x\":0.05},\"xaxis\":{\"automargin\":true,\"gridcolor\":\"white\",\"linecolor\":\"white\",\"ticks\":\"\",\"title\":{\"standoff\":15},\"zerolinecolor\":\"white\",\"zerolinewidth\":2},\"yaxis\":{\"automargin\":true,\"gridcolor\":\"white\",\"linecolor\":\"white\",\"ticks\":\"\",\"title\":{\"standoff\":15},\"zerolinecolor\":\"white\",\"zerolinewidth\":2}}},\"title\":{\"font\":{\"color\":\"#4D5663\"}},\"xaxis\":{\"gridcolor\":\"#E1E5ED\",\"showgrid\":true,\"tickfont\":{\"color\":\"#4D5663\"},\"title\":{\"font\":{\"color\":\"#4D5663\"},\"text\":\"\"},\"zerolinecolor\":\"#E1E5ED\"},\"yaxis\":{\"gridcolor\":\"#E1E5ED\",\"showgrid\":true,\"tickfont\":{\"color\":\"#4D5663\"},\"title\":{\"font\":{\"color\":\"#4D5663\"},\"text\":\"\"},\"zerolinecolor\":\"#E1E5ED\"}},                        {\"showLink\": true, \"linkText\": \"Export to plot.ly\", \"plotlyServerURL\": \"https://plot.ly\", \"responsive\": true}                    ).then(function(){\n",
       "                            \n",
       "var gd = document.getElementById('806c1d15-c16f-49ec-ac89-3894b702f6b5');\n",
       "var x = new MutationObserver(function (mutations, observer) {{\n",
       "        var display = window.getComputedStyle(gd).display;\n",
       "        if (!display || display === 'none') {{\n",
       "            console.log([gd, 'removed!']);\n",
       "            Plotly.purge(gd);\n",
       "            observer.disconnect();\n",
       "        }}\n",
       "}});\n",
       "\n",
       "// Listen for the removal of the full notebook cells\n",
       "var notebookContainer = gd.closest('#notebook-container');\n",
       "if (notebookContainer) {{\n",
       "    x.observe(notebookContainer, {childList: true});\n",
       "}}\n",
       "\n",
       "// Listen for the clearing of the current output cell\n",
       "var outputEl = gd.closest('.output');\n",
       "if (outputEl) {{\n",
       "    x.observe(outputEl, {childList: true});\n",
       "}}\n",
       "\n",
       "                        })                };                });            </script>        </div>"
      ]
     },
     "metadata": {},
     "output_type": "display_data"
    }
   ],
   "source": [
    "df3.iplot(kind=\"surface\", colorscale=\"rdylbu\")"
   ]
  },
  {
   "cell_type": "code",
   "execution_count": 27,
   "id": "878a0a80",
   "metadata": {},
   "outputs": [
    {
     "name": "stderr",
     "output_type": "stream",
     "text": [
      "C:\\Users\\Oliver\\anaconda3\\lib\\site-packages\\cufflinks\\plotlytools.py:849: FutureWarning:\n",
      "\n",
      "The pandas.np module is deprecated and will be removed from pandas in a future version. Import numpy directly instead.\n",
      "\n",
      "C:\\Users\\Oliver\\anaconda3\\lib\\site-packages\\cufflinks\\plotlytools.py:850: FutureWarning:\n",
      "\n",
      "The pandas.np module is deprecated and will be removed from pandas in a future version. Import numpy directly instead.\n",
      "\n"
     ]
    },
    {
     "data": {
      "application/vnd.plotly.v1+json": {
       "config": {
        "linkText": "Export to plot.ly",
        "plotlyServerURL": "https://plot.ly",
        "showLink": true
       },
       "data": [
        {
         "line": {
          "color": "rgba(255, 153, 51, 1.0)",
          "dash": "solid",
          "shape": "linear",
          "width": 1.3
         },
         "mode": "lines",
         "name": "A",
         "text": "",
         "type": "scatter",
         "x": [
          0,
          1,
          2,
          3,
          4,
          5,
          6,
          7,
          8,
          9,
          10,
          11,
          12,
          13,
          14,
          15,
          16,
          17,
          18,
          19,
          20,
          21,
          22,
          23,
          24,
          25,
          26,
          27,
          28,
          29,
          30,
          31,
          32,
          33,
          34,
          35,
          36,
          37,
          38,
          39,
          40,
          41,
          42,
          43,
          44,
          45,
          46,
          47,
          48,
          49,
          50,
          51,
          52,
          53,
          54,
          55,
          56,
          57,
          58,
          59,
          60,
          61,
          62,
          63,
          64,
          65,
          66,
          67,
          68,
          69,
          70,
          71,
          72,
          73,
          74,
          75,
          76,
          77,
          78,
          79,
          80,
          81,
          82,
          83,
          84,
          85,
          86,
          87,
          88,
          89,
          90,
          91,
          92,
          93,
          94,
          95,
          96,
          97,
          98,
          99
         ],
         "y": [
          -0.629400460736606,
          -0.3902511837428377,
          -0.5591700478406222,
          -0.5015750659259559,
          -0.6028247757790585,
          -1.7552895707056984,
          0.3728303295489695,
          -0.9949058872060896,
          1.383786061209142,
          -0.7478723956059203,
          0.06816934594778336,
          0.3141341819011735,
          -1.4434647152951174,
          0.4279880196945129,
          -2.7094890740900803,
          0.13506963265460648,
          -0.3362772326824624,
          -1.003162479173856,
          -0.9417909848304834,
          0.12809221322659364,
          -0.9761844606375003,
          0.851597093857289,
          -0.2174753543117878,
          0.16923231361532318,
          -1.196108833893656,
          -1.4490166364502461,
          -0.43386109420639013,
          1.097856069838825,
          -0.3105310538314359,
          -0.3169866600355245,
          1.592962498055057,
          0.9758423831858871,
          -1.3671182139924076,
          0.7817958007205139,
          -1.3911274721075122,
          0.12975350981883296,
          1.13847634366471,
          1.8672274817233254,
          -0.7504577680021094,
          1.7846896247177337,
          1.0793488689838349,
          -1.0844765858716827,
          -0.3516404570166523,
          0.9227502103917912,
          0.3755932851618663,
          0.3778890996717057,
          1.680119511266985,
          -0.4599735982942427,
          1.5985393735185909,
          1.0563349091055834,
          -1.0911352575440694,
          1.7417271070535496,
          -1.3100266243771161,
          -0.3876135929450466,
          0.9025719152875156,
          1.401243501430797,
          -1.2969497206273086,
          -1.2048928883655137,
          1.3573070492269648,
          0.05766322435151034,
          0.29981192742332086,
          1.5170818674960982,
          2.155478704025667,
          0.8024742835998596,
          0.40266903970292495,
          -1.3623380036310104,
          -0.9347835030015103,
          -0.023410056738022517,
          -1.072457943276233,
          0.8831066668343588,
          1.8136193860509642,
          -0.18934701060634257,
          -0.7986253409908879,
          1.6043882256104582,
          -1.3412563333112506,
          -1.5577062645161655,
          -1.3566037510986833,
          0.04005495647472767,
          0.2708046082479397,
          -0.9634981045226241,
          0.8583993616190417,
          -0.6470050959406236,
          -0.5512575986366849,
          2.071338692577119,
          1.5052688721826468,
          -0.617246691643328,
          1.4552686037187066,
          0.5720417545278373,
          -1.1152513286714432,
          1.7410978052511834,
          0.8914819708996335,
          -0.6908395795783034,
          1.414032221853257,
          -1.2057589945974467,
          0.6833974114014549,
          -1.2187494324750037,
          0.025605567304754343,
          -0.6574804043471983,
          0.04405104857084567,
          1.33018346090302
         ]
        },
        {
         "line": {
          "color": "rgba(55, 128, 191, 1.0)",
          "dash": "solid",
          "shape": "linear",
          "width": 1.3
         },
         "mode": "lines",
         "name": "B",
         "text": "",
         "type": "scatter",
         "x": [
          0,
          1,
          2,
          3,
          4,
          5,
          6,
          7,
          8,
          9,
          10,
          11,
          12,
          13,
          14,
          15,
          16,
          17,
          18,
          19,
          20,
          21,
          22,
          23,
          24,
          25,
          26,
          27,
          28,
          29,
          30,
          31,
          32,
          33,
          34,
          35,
          36,
          37,
          38,
          39,
          40,
          41,
          42,
          43,
          44,
          45,
          46,
          47,
          48,
          49,
          50,
          51,
          52,
          53,
          54,
          55,
          56,
          57,
          58,
          59,
          60,
          61,
          62,
          63,
          64,
          65,
          66,
          67,
          68,
          69,
          70,
          71,
          72,
          73,
          74,
          75,
          76,
          77,
          78,
          79,
          80,
          81,
          82,
          83,
          84,
          85,
          86,
          87,
          88,
          89,
          90,
          91,
          92,
          93,
          94,
          95,
          96,
          97,
          98,
          99
         ],
         "y": [
          0.4103450482823756,
          -0.23277879634899593,
          -0.45086136540875726,
          -0.08376735759564617,
          0.013872231247996124,
          -0.07072690859130389,
          0.30681170864600404,
          1.2902872300683392,
          -0.3265296450613535,
          0.10747041706050438,
          -0.4891966860282878,
          0.1321546966645771,
          2.2002266533209984,
          2.827921795219644,
          1.4213390904822027,
          -0.40481684699662795,
          0.8777377019046946,
          -0.5915210626668627,
          0.23237752609932294,
          0.10802408268723265,
          -0.4989964964726072,
          -0.17693190406338596,
          0.31980787789478055,
          0.8585326836819313,
          -1.5714924413997264,
          -0.5285087993679705,
          0.4446605522951421,
          -0.4261044334302472,
          0.04041835504896138,
          -0.2102461439854402,
          0.8853158428254773,
          -0.9926023261355174,
          0.7837779223912771,
          1.6207142996018502,
          -0.31222240376226895,
          0.21669648190985635,
          -0.005778545670522539,
          0.2424273620179277,
          1.0604864388343094,
          0.5405949217925212,
          -0.028827349523677923,
          -0.19992850944368576,
          -0.07932311155494266,
          -1.487415209783587,
          0.25772607668232306,
          0.659067678454487,
          0.7764559512979428,
          1.1811473518576816,
          1.269253528510618,
          -0.10593976314056446,
          -2.2033948416823987,
          -0.26099399205439405,
          -0.035842618820022584,
          -0.436740003503195,
          -0.7347854957866872,
          -1.474470346831659,
          0.2856744360831367,
          -0.6987609147597583,
          0.25012931898644164,
          -1.3175865204408947,
          0.09478695458135028,
          1.8709144399634727,
          0.26797206469934276,
          -1.3953358629453787,
          -0.6945329566849582,
          1.555621068767977,
          0.8283772246580962,
          -0.8420550563881509,
          0.805777476671103,
          -1.1529198884152143,
          -0.13563746306624466,
          -0.24579363705319546,
          -0.846884195632001,
          -0.6643522082710484,
          0.7052085498958576,
          -1.6877108081600287,
          0.020389419260974217,
          -0.41756781346012556,
          -0.8676788986975928,
          -2.5653389961604987,
          -0.34799695926298335,
          0.7409356257488319,
          0.4199756934089848,
          -0.18905296451511472,
          -0.7275775921980504,
          -1.7658346002170116,
          -0.8494415212511488,
          0.06516189570040587,
          -1.0812781607038502,
          1.182463220527681,
          -0.1828465609009514,
          -1.6925573120184574,
          0.2528746913720982,
          1.2151401118568756,
          -0.49604662980129016,
          -1.1333482603578835,
          -1.2871159652833557,
          1.2333219879816024,
          0.2863728726007531,
          -0.4379191310630423
         ]
        },
        {
         "connectgaps": false,
         "fill": "tozeroy",
         "line": {
          "color": "green",
          "dash": "solid",
          "shape": "linear",
          "width": 0.5
         },
         "mode": "lines",
         "name": "Spread",
         "showlegend": false,
         "type": "scatter",
         "x": [
          0,
          1,
          2,
          3,
          4,
          5,
          6,
          7,
          8,
          9,
          10,
          11,
          12,
          13,
          14,
          15,
          16,
          17,
          18,
          19,
          20,
          21,
          22,
          23,
          24,
          25,
          26,
          27,
          28,
          29,
          30,
          31,
          32,
          33,
          34,
          35,
          36,
          37,
          38,
          39,
          40,
          41,
          42,
          43,
          44,
          45,
          46,
          47,
          48,
          49,
          50,
          51,
          52,
          53,
          54,
          55,
          56,
          57,
          58,
          59,
          60,
          61,
          62,
          63,
          64,
          65,
          66,
          67,
          68,
          69,
          70,
          71,
          72,
          73,
          74,
          75,
          76,
          77,
          78,
          79,
          80,
          81,
          82,
          83,
          84,
          85,
          86,
          87,
          88,
          89,
          90,
          91,
          92,
          93,
          94,
          95,
          96,
          97,
          98,
          99
         ],
         "xaxis": "x2",
         "y": [
          "",
          "",
          "",
          "",
          "",
          "",
          0.06601862090296545,
          "",
          1.7103157062704955,
          "",
          0.5573660319760712,
          0.18197948523659638,
          "",
          "",
          "",
          0.5398864796512344,
          "",
          "",
          "",
          0.02006813053936099,
          "",
          1.0285289979206749,
          "",
          "",
          0.37538360750607036,
          "",
          "",
          1.5239605032690724,
          "",
          "",
          0.7076466552295797,
          1.9684447093214046,
          "",
          "",
          "",
          "",
          1.1442548893352327,
          1.6248001197053976,
          "",
          1.2440947029252125,
          1.1081762185075128,
          "",
          "",
          2.410165420175378,
          0.11786720847954324,
          "",
          0.9036635599690424,
          "",
          0.329285845007973,
          1.1622746722461479,
          1.1122595841383294,
          2.002721099107944,
          "",
          0.04912641055814837,
          1.6373574110742029,
          2.875713848262456,
          "",
          "",
          1.1071777302405232,
          1.375249744792405,
          0.20502497284197058,
          "",
          1.8875066393263245,
          2.197810146545238,
          1.0972019963878832,
          "",
          "",
          0.8186449996501284,
          "",
          2.036026555249573,
          1.9492568491172089,
          0.05644662644685289,
          0.048258854641113125,
          2.2687404338815065,
          "",
          0.13000454364386327,
          "",
          0.45762276993485324,
          1.1384835069455326,
          1.6018408916378746,
          1.2063963208820252,
          "",
          "",
          2.2603916570922338,
          2.2328464643806973,
          1.1485879085736834,
          2.3047101249698554,
          0.5068798588274315,
          "",
          0.5586345847235024,
          1.0743285318005849,
          1.001717732440154,
          1.1611575304811588,
          "",
          1.1794440412027452,
          "",
          1.31272153258811,
          "",
          "",
          1.7681025919660625
         ],
         "yaxis": "y2"
        },
        {
         "connectgaps": false,
         "fill": "tozeroy",
         "line": {
          "color": "red",
          "dash": "solid",
          "shape": "linear",
          "width": 0.5
         },
         "mode": "lines",
         "name": "Spread",
         "showlegend": false,
         "type": "scatter",
         "x": [
          0,
          1,
          2,
          3,
          4,
          5,
          6,
          7,
          8,
          9,
          10,
          11,
          12,
          13,
          14,
          15,
          16,
          17,
          18,
          19,
          20,
          21,
          22,
          23,
          24,
          25,
          26,
          27,
          28,
          29,
          30,
          31,
          32,
          33,
          34,
          35,
          36,
          37,
          38,
          39,
          40,
          41,
          42,
          43,
          44,
          45,
          46,
          47,
          48,
          49,
          50,
          51,
          52,
          53,
          54,
          55,
          56,
          57,
          58,
          59,
          60,
          61,
          62,
          63,
          64,
          65,
          66,
          67,
          68,
          69,
          70,
          71,
          72,
          73,
          74,
          75,
          76,
          77,
          78,
          79,
          80,
          81,
          82,
          83,
          84,
          85,
          86,
          87,
          88,
          89,
          90,
          91,
          92,
          93,
          94,
          95,
          96,
          97,
          98,
          99
         ],
         "xaxis": "x2",
         "y": [
          -1.0397455090189816,
          -0.15747238739384176,
          -0.10830868243186492,
          -0.4178077083303097,
          -0.6166970070270545,
          -1.6845626621143945,
          "",
          -2.285193117274429,
          "",
          -0.8553428126664248,
          "",
          "",
          -3.643691368616116,
          -2.399933775525131,
          -4.130828164572283,
          "",
          -1.214014934587157,
          -0.4116414165069934,
          -1.1741685109298063,
          "",
          -0.4771879641648931,
          "",
          -0.5372832322065684,
          -0.689300370066608,
          "",
          -0.9205078370822757,
          -0.8785216465015322,
          "",
          -0.3509494088803973,
          -0.1067405160500843,
          "",
          "",
          -2.1508961363836847,
          -0.8389184988813363,
          -1.0789050683452432,
          -0.08694297209102339,
          "",
          "",
          -1.8109442068364188,
          "",
          "",
          -0.8845480764279969,
          -0.27231734546170966,
          "",
          "",
          -0.2811785787827813,
          "",
          -1.6411209501519244,
          "",
          "",
          "",
          "",
          -1.2741840055570937,
          "",
          "",
          "",
          -1.5826241567104453,
          -0.5061319736057553,
          "",
          "",
          "",
          -0.35383257246737454,
          "",
          "",
          "",
          -2.9179590723989874,
          -1.7631607276596064,
          "",
          -1.878235419947336,
          "",
          "",
          "",
          "",
          "",
          -2.046464883207108,
          "",
          -1.3769931703596574,
          "",
          "",
          "",
          "",
          -1.3879407216894555,
          -0.9712332920456697,
          "",
          "",
          "",
          "",
          "",
          -0.033973167967592977,
          "",
          "",
          "",
          "",
          -2.420899106454322,
          "",
          -0.08540117211712017,
          "",
          -1.8908023923288009,
          -0.24232182402990743,
          ""
         ],
         "yaxis": "y2"
        }
       ],
       "layout": {
        "hovermode": "x",
        "legend": {
         "bgcolor": "#F5F6F9",
         "font": {
          "color": "#4D5663"
         }
        },
        "paper_bgcolor": "#F5F6F9",
        "plot_bgcolor": "#F5F6F9",
        "template": {
         "data": {
          "bar": [
           {
            "error_x": {
             "color": "#2a3f5f"
            },
            "error_y": {
             "color": "#2a3f5f"
            },
            "marker": {
             "line": {
              "color": "#E5ECF6",
              "width": 0.5
             },
             "pattern": {
              "fillmode": "overlay",
              "size": 10,
              "solidity": 0.2
             }
            },
            "type": "bar"
           }
          ],
          "barpolar": [
           {
            "marker": {
             "line": {
              "color": "#E5ECF6",
              "width": 0.5
             },
             "pattern": {
              "fillmode": "overlay",
              "size": 10,
              "solidity": 0.2
             }
            },
            "type": "barpolar"
           }
          ],
          "carpet": [
           {
            "aaxis": {
             "endlinecolor": "#2a3f5f",
             "gridcolor": "white",
             "linecolor": "white",
             "minorgridcolor": "white",
             "startlinecolor": "#2a3f5f"
            },
            "baxis": {
             "endlinecolor": "#2a3f5f",
             "gridcolor": "white",
             "linecolor": "white",
             "minorgridcolor": "white",
             "startlinecolor": "#2a3f5f"
            },
            "type": "carpet"
           }
          ],
          "choropleth": [
           {
            "colorbar": {
             "outlinewidth": 0,
             "ticks": ""
            },
            "type": "choropleth"
           }
          ],
          "contour": [
           {
            "colorbar": {
             "outlinewidth": 0,
             "ticks": ""
            },
            "colorscale": [
             [
              0,
              "#0d0887"
             ],
             [
              0.1111111111111111,
              "#46039f"
             ],
             [
              0.2222222222222222,
              "#7201a8"
             ],
             [
              0.3333333333333333,
              "#9c179e"
             ],
             [
              0.4444444444444444,
              "#bd3786"
             ],
             [
              0.5555555555555556,
              "#d8576b"
             ],
             [
              0.6666666666666666,
              "#ed7953"
             ],
             [
              0.7777777777777778,
              "#fb9f3a"
             ],
             [
              0.8888888888888888,
              "#fdca26"
             ],
             [
              1,
              "#f0f921"
             ]
            ],
            "type": "contour"
           }
          ],
          "contourcarpet": [
           {
            "colorbar": {
             "outlinewidth": 0,
             "ticks": ""
            },
            "type": "contourcarpet"
           }
          ],
          "heatmap": [
           {
            "colorbar": {
             "outlinewidth": 0,
             "ticks": ""
            },
            "colorscale": [
             [
              0,
              "#0d0887"
             ],
             [
              0.1111111111111111,
              "#46039f"
             ],
             [
              0.2222222222222222,
              "#7201a8"
             ],
             [
              0.3333333333333333,
              "#9c179e"
             ],
             [
              0.4444444444444444,
              "#bd3786"
             ],
             [
              0.5555555555555556,
              "#d8576b"
             ],
             [
              0.6666666666666666,
              "#ed7953"
             ],
             [
              0.7777777777777778,
              "#fb9f3a"
             ],
             [
              0.8888888888888888,
              "#fdca26"
             ],
             [
              1,
              "#f0f921"
             ]
            ],
            "type": "heatmap"
           }
          ],
          "heatmapgl": [
           {
            "colorbar": {
             "outlinewidth": 0,
             "ticks": ""
            },
            "colorscale": [
             [
              0,
              "#0d0887"
             ],
             [
              0.1111111111111111,
              "#46039f"
             ],
             [
              0.2222222222222222,
              "#7201a8"
             ],
             [
              0.3333333333333333,
              "#9c179e"
             ],
             [
              0.4444444444444444,
              "#bd3786"
             ],
             [
              0.5555555555555556,
              "#d8576b"
             ],
             [
              0.6666666666666666,
              "#ed7953"
             ],
             [
              0.7777777777777778,
              "#fb9f3a"
             ],
             [
              0.8888888888888888,
              "#fdca26"
             ],
             [
              1,
              "#f0f921"
             ]
            ],
            "type": "heatmapgl"
           }
          ],
          "histogram": [
           {
            "marker": {
             "pattern": {
              "fillmode": "overlay",
              "size": 10,
              "solidity": 0.2
             }
            },
            "type": "histogram"
           }
          ],
          "histogram2d": [
           {
            "colorbar": {
             "outlinewidth": 0,
             "ticks": ""
            },
            "colorscale": [
             [
              0,
              "#0d0887"
             ],
             [
              0.1111111111111111,
              "#46039f"
             ],
             [
              0.2222222222222222,
              "#7201a8"
             ],
             [
              0.3333333333333333,
              "#9c179e"
             ],
             [
              0.4444444444444444,
              "#bd3786"
             ],
             [
              0.5555555555555556,
              "#d8576b"
             ],
             [
              0.6666666666666666,
              "#ed7953"
             ],
             [
              0.7777777777777778,
              "#fb9f3a"
             ],
             [
              0.8888888888888888,
              "#fdca26"
             ],
             [
              1,
              "#f0f921"
             ]
            ],
            "type": "histogram2d"
           }
          ],
          "histogram2dcontour": [
           {
            "colorbar": {
             "outlinewidth": 0,
             "ticks": ""
            },
            "colorscale": [
             [
              0,
              "#0d0887"
             ],
             [
              0.1111111111111111,
              "#46039f"
             ],
             [
              0.2222222222222222,
              "#7201a8"
             ],
             [
              0.3333333333333333,
              "#9c179e"
             ],
             [
              0.4444444444444444,
              "#bd3786"
             ],
             [
              0.5555555555555556,
              "#d8576b"
             ],
             [
              0.6666666666666666,
              "#ed7953"
             ],
             [
              0.7777777777777778,
              "#fb9f3a"
             ],
             [
              0.8888888888888888,
              "#fdca26"
             ],
             [
              1,
              "#f0f921"
             ]
            ],
            "type": "histogram2dcontour"
           }
          ],
          "mesh3d": [
           {
            "colorbar": {
             "outlinewidth": 0,
             "ticks": ""
            },
            "type": "mesh3d"
           }
          ],
          "parcoords": [
           {
            "line": {
             "colorbar": {
              "outlinewidth": 0,
              "ticks": ""
             }
            },
            "type": "parcoords"
           }
          ],
          "pie": [
           {
            "automargin": true,
            "type": "pie"
           }
          ],
          "scatter": [
           {
            "fillpattern": {
             "fillmode": "overlay",
             "size": 10,
             "solidity": 0.2
            },
            "type": "scatter"
           }
          ],
          "scatter3d": [
           {
            "line": {
             "colorbar": {
              "outlinewidth": 0,
              "ticks": ""
             }
            },
            "marker": {
             "colorbar": {
              "outlinewidth": 0,
              "ticks": ""
             }
            },
            "type": "scatter3d"
           }
          ],
          "scattercarpet": [
           {
            "marker": {
             "colorbar": {
              "outlinewidth": 0,
              "ticks": ""
             }
            },
            "type": "scattercarpet"
           }
          ],
          "scattergeo": [
           {
            "marker": {
             "colorbar": {
              "outlinewidth": 0,
              "ticks": ""
             }
            },
            "type": "scattergeo"
           }
          ],
          "scattergl": [
           {
            "marker": {
             "colorbar": {
              "outlinewidth": 0,
              "ticks": ""
             }
            },
            "type": "scattergl"
           }
          ],
          "scattermapbox": [
           {
            "marker": {
             "colorbar": {
              "outlinewidth": 0,
              "ticks": ""
             }
            },
            "type": "scattermapbox"
           }
          ],
          "scatterpolar": [
           {
            "marker": {
             "colorbar": {
              "outlinewidth": 0,
              "ticks": ""
             }
            },
            "type": "scatterpolar"
           }
          ],
          "scatterpolargl": [
           {
            "marker": {
             "colorbar": {
              "outlinewidth": 0,
              "ticks": ""
             }
            },
            "type": "scatterpolargl"
           }
          ],
          "scatterternary": [
           {
            "marker": {
             "colorbar": {
              "outlinewidth": 0,
              "ticks": ""
             }
            },
            "type": "scatterternary"
           }
          ],
          "surface": [
           {
            "colorbar": {
             "outlinewidth": 0,
             "ticks": ""
            },
            "colorscale": [
             [
              0,
              "#0d0887"
             ],
             [
              0.1111111111111111,
              "#46039f"
             ],
             [
              0.2222222222222222,
              "#7201a8"
             ],
             [
              0.3333333333333333,
              "#9c179e"
             ],
             [
              0.4444444444444444,
              "#bd3786"
             ],
             [
              0.5555555555555556,
              "#d8576b"
             ],
             [
              0.6666666666666666,
              "#ed7953"
             ],
             [
              0.7777777777777778,
              "#fb9f3a"
             ],
             [
              0.8888888888888888,
              "#fdca26"
             ],
             [
              1,
              "#f0f921"
             ]
            ],
            "type": "surface"
           }
          ],
          "table": [
           {
            "cells": {
             "fill": {
              "color": "#EBF0F8"
             },
             "line": {
              "color": "white"
             }
            },
            "header": {
             "fill": {
              "color": "#C8D4E3"
             },
             "line": {
              "color": "white"
             }
            },
            "type": "table"
           }
          ]
         },
         "layout": {
          "annotationdefaults": {
           "arrowcolor": "#2a3f5f",
           "arrowhead": 0,
           "arrowwidth": 1
          },
          "autotypenumbers": "strict",
          "coloraxis": {
           "colorbar": {
            "outlinewidth": 0,
            "ticks": ""
           }
          },
          "colorscale": {
           "diverging": [
            [
             0,
             "#8e0152"
            ],
            [
             0.1,
             "#c51b7d"
            ],
            [
             0.2,
             "#de77ae"
            ],
            [
             0.3,
             "#f1b6da"
            ],
            [
             0.4,
             "#fde0ef"
            ],
            [
             0.5,
             "#f7f7f7"
            ],
            [
             0.6,
             "#e6f5d0"
            ],
            [
             0.7,
             "#b8e186"
            ],
            [
             0.8,
             "#7fbc41"
            ],
            [
             0.9,
             "#4d9221"
            ],
            [
             1,
             "#276419"
            ]
           ],
           "sequential": [
            [
             0,
             "#0d0887"
            ],
            [
             0.1111111111111111,
             "#46039f"
            ],
            [
             0.2222222222222222,
             "#7201a8"
            ],
            [
             0.3333333333333333,
             "#9c179e"
            ],
            [
             0.4444444444444444,
             "#bd3786"
            ],
            [
             0.5555555555555556,
             "#d8576b"
            ],
            [
             0.6666666666666666,
             "#ed7953"
            ],
            [
             0.7777777777777778,
             "#fb9f3a"
            ],
            [
             0.8888888888888888,
             "#fdca26"
            ],
            [
             1,
             "#f0f921"
            ]
           ],
           "sequentialminus": [
            [
             0,
             "#0d0887"
            ],
            [
             0.1111111111111111,
             "#46039f"
            ],
            [
             0.2222222222222222,
             "#7201a8"
            ],
            [
             0.3333333333333333,
             "#9c179e"
            ],
            [
             0.4444444444444444,
             "#bd3786"
            ],
            [
             0.5555555555555556,
             "#d8576b"
            ],
            [
             0.6666666666666666,
             "#ed7953"
            ],
            [
             0.7777777777777778,
             "#fb9f3a"
            ],
            [
             0.8888888888888888,
             "#fdca26"
            ],
            [
             1,
             "#f0f921"
            ]
           ]
          },
          "colorway": [
           "#636efa",
           "#EF553B",
           "#00cc96",
           "#ab63fa",
           "#FFA15A",
           "#19d3f3",
           "#FF6692",
           "#B6E880",
           "#FF97FF",
           "#FECB52"
          ],
          "font": {
           "color": "#2a3f5f"
          },
          "geo": {
           "bgcolor": "white",
           "lakecolor": "white",
           "landcolor": "#E5ECF6",
           "showlakes": true,
           "showland": true,
           "subunitcolor": "white"
          },
          "hoverlabel": {
           "align": "left"
          },
          "hovermode": "closest",
          "mapbox": {
           "style": "light"
          },
          "paper_bgcolor": "white",
          "plot_bgcolor": "#E5ECF6",
          "polar": {
           "angularaxis": {
            "gridcolor": "white",
            "linecolor": "white",
            "ticks": ""
           },
           "bgcolor": "#E5ECF6",
           "radialaxis": {
            "gridcolor": "white",
            "linecolor": "white",
            "ticks": ""
           }
          },
          "scene": {
           "xaxis": {
            "backgroundcolor": "#E5ECF6",
            "gridcolor": "white",
            "gridwidth": 2,
            "linecolor": "white",
            "showbackground": true,
            "ticks": "",
            "zerolinecolor": "white"
           },
           "yaxis": {
            "backgroundcolor": "#E5ECF6",
            "gridcolor": "white",
            "gridwidth": 2,
            "linecolor": "white",
            "showbackground": true,
            "ticks": "",
            "zerolinecolor": "white"
           },
           "zaxis": {
            "backgroundcolor": "#E5ECF6",
            "gridcolor": "white",
            "gridwidth": 2,
            "linecolor": "white",
            "showbackground": true,
            "ticks": "",
            "zerolinecolor": "white"
           }
          },
          "shapedefaults": {
           "line": {
            "color": "#2a3f5f"
           }
          },
          "ternary": {
           "aaxis": {
            "gridcolor": "white",
            "linecolor": "white",
            "ticks": ""
           },
           "baxis": {
            "gridcolor": "white",
            "linecolor": "white",
            "ticks": ""
           },
           "bgcolor": "#E5ECF6",
           "caxis": {
            "gridcolor": "white",
            "linecolor": "white",
            "ticks": ""
           }
          },
          "title": {
           "x": 0.05
          },
          "xaxis": {
           "automargin": true,
           "gridcolor": "white",
           "linecolor": "white",
           "ticks": "",
           "title": {
            "standoff": 15
           },
           "zerolinecolor": "white",
           "zerolinewidth": 2
          },
          "yaxis": {
           "automargin": true,
           "gridcolor": "white",
           "linecolor": "white",
           "ticks": "",
           "title": {
            "standoff": 15
           },
           "zerolinecolor": "white",
           "zerolinewidth": 2
          }
         }
        },
        "title": {
         "font": {
          "color": "#4D5663"
         }
        },
        "xaxis": {
         "gridcolor": "#E1E5ED",
         "showgrid": true,
         "tickfont": {
          "color": "#4D5663"
         },
         "title": {
          "font": {
           "color": "#4D5663"
          },
          "text": ""
         },
         "zerolinecolor": "#E1E5ED"
        },
        "xaxis2": {
         "anchor": "y2",
         "gridcolor": "#E1E5ED",
         "showgrid": true,
         "showticklabels": false,
         "tickfont": {
          "color": "#4D5663"
         },
         "title": {
          "font": {
           "color": "#4D5663"
          },
          "text": ""
         },
         "zerolinecolor": "#E1E5ED"
        },
        "yaxis": {
         "domain": [
          0.3,
          1
         ],
         "gridcolor": "#E1E5ED",
         "showgrid": true,
         "tickfont": {
          "color": "#4D5663"
         },
         "title": {
          "font": {
           "color": "#4D5663"
          },
          "text": ""
         },
         "zerolinecolor": "#E1E5ED"
        },
        "yaxis2": {
         "domain": [
          0,
          0.25
         ],
         "gridcolor": "#E1E5ED",
         "showgrid": true,
         "tickfont": {
          "color": "#4D5663"
         },
         "title": {
          "font": {
           "color": "#4D5663"
          },
          "text": "Spread"
         },
         "zerolinecolor": "#E1E5ED"
        }
       }
      },
      "text/html": [
       "<div>                            <div id=\"eb3cb246-7e6c-4eeb-ab98-2be0680fc5ed\" class=\"plotly-graph-div\" style=\"height:525px; width:100%;\"></div>            <script type=\"text/javascript\">                require([\"plotly\"], function(Plotly) {                    window.PLOTLYENV=window.PLOTLYENV || {};\n",
       "                    window.PLOTLYENV.BASE_URL='https://plot.ly';                                    if (document.getElementById(\"eb3cb246-7e6c-4eeb-ab98-2be0680fc5ed\")) {                    Plotly.newPlot(                        \"eb3cb246-7e6c-4eeb-ab98-2be0680fc5ed\",                        [{\"line\":{\"color\":\"rgba(255, 153, 51, 1.0)\",\"dash\":\"solid\",\"shape\":\"linear\",\"width\":1.3},\"mode\":\"lines\",\"name\":\"A\",\"text\":\"\",\"x\":[0,1,2,3,4,5,6,7,8,9,10,11,12,13,14,15,16,17,18,19,20,21,22,23,24,25,26,27,28,29,30,31,32,33,34,35,36,37,38,39,40,41,42,43,44,45,46,47,48,49,50,51,52,53,54,55,56,57,58,59,60,61,62,63,64,65,66,67,68,69,70,71,72,73,74,75,76,77,78,79,80,81,82,83,84,85,86,87,88,89,90,91,92,93,94,95,96,97,98,99],\"y\":[-0.629400460736606,-0.3902511837428377,-0.5591700478406222,-0.5015750659259559,-0.6028247757790585,-1.7552895707056984,0.3728303295489695,-0.9949058872060896,1.383786061209142,-0.7478723956059203,0.06816934594778336,0.3141341819011735,-1.4434647152951174,0.4279880196945129,-2.7094890740900803,0.13506963265460648,-0.3362772326824624,-1.003162479173856,-0.9417909848304834,0.12809221322659364,-0.9761844606375003,0.851597093857289,-0.2174753543117878,0.16923231361532318,-1.196108833893656,-1.4490166364502461,-0.43386109420639013,1.097856069838825,-0.3105310538314359,-0.3169866600355245,1.592962498055057,0.9758423831858871,-1.3671182139924076,0.7817958007205139,-1.3911274721075122,0.12975350981883296,1.13847634366471,1.8672274817233254,-0.7504577680021094,1.7846896247177337,1.0793488689838349,-1.0844765858716827,-0.3516404570166523,0.9227502103917912,0.3755932851618663,0.3778890996717057,1.680119511266985,-0.4599735982942427,1.5985393735185909,1.0563349091055834,-1.0911352575440694,1.7417271070535496,-1.3100266243771161,-0.3876135929450466,0.9025719152875156,1.401243501430797,-1.2969497206273086,-1.2048928883655137,1.3573070492269648,0.05766322435151034,0.29981192742332086,1.5170818674960982,2.155478704025667,0.8024742835998596,0.40266903970292495,-1.3623380036310104,-0.9347835030015103,-0.023410056738022517,-1.072457943276233,0.8831066668343588,1.8136193860509642,-0.18934701060634257,-0.7986253409908879,1.6043882256104582,-1.3412563333112506,-1.5577062645161655,-1.3566037510986833,0.04005495647472767,0.2708046082479397,-0.9634981045226241,0.8583993616190417,-0.6470050959406236,-0.5512575986366849,2.071338692577119,1.5052688721826468,-0.617246691643328,1.4552686037187066,0.5720417545278373,-1.1152513286714432,1.7410978052511834,0.8914819708996335,-0.6908395795783034,1.414032221853257,-1.2057589945974467,0.6833974114014549,-1.2187494324750037,0.025605567304754343,-0.6574804043471983,0.04405104857084567,1.33018346090302],\"type\":\"scatter\"},{\"line\":{\"color\":\"rgba(55, 128, 191, 1.0)\",\"dash\":\"solid\",\"shape\":\"linear\",\"width\":1.3},\"mode\":\"lines\",\"name\":\"B\",\"text\":\"\",\"x\":[0,1,2,3,4,5,6,7,8,9,10,11,12,13,14,15,16,17,18,19,20,21,22,23,24,25,26,27,28,29,30,31,32,33,34,35,36,37,38,39,40,41,42,43,44,45,46,47,48,49,50,51,52,53,54,55,56,57,58,59,60,61,62,63,64,65,66,67,68,69,70,71,72,73,74,75,76,77,78,79,80,81,82,83,84,85,86,87,88,89,90,91,92,93,94,95,96,97,98,99],\"y\":[0.4103450482823756,-0.23277879634899593,-0.45086136540875726,-0.08376735759564617,0.013872231247996124,-0.07072690859130389,0.30681170864600404,1.2902872300683392,-0.3265296450613535,0.10747041706050438,-0.4891966860282878,0.1321546966645771,2.2002266533209984,2.827921795219644,1.4213390904822027,-0.40481684699662795,0.8777377019046946,-0.5915210626668627,0.23237752609932294,0.10802408268723265,-0.4989964964726072,-0.17693190406338596,0.31980787789478055,0.8585326836819313,-1.5714924413997264,-0.5285087993679705,0.4446605522951421,-0.4261044334302472,0.04041835504896138,-0.2102461439854402,0.8853158428254773,-0.9926023261355174,0.7837779223912771,1.6207142996018502,-0.31222240376226895,0.21669648190985635,-0.005778545670522539,0.2424273620179277,1.0604864388343094,0.5405949217925212,-0.028827349523677923,-0.19992850944368576,-0.07932311155494266,-1.487415209783587,0.25772607668232306,0.659067678454487,0.7764559512979428,1.1811473518576816,1.269253528510618,-0.10593976314056446,-2.2033948416823987,-0.26099399205439405,-0.035842618820022584,-0.436740003503195,-0.7347854957866872,-1.474470346831659,0.2856744360831367,-0.6987609147597583,0.25012931898644164,-1.3175865204408947,0.09478695458135028,1.8709144399634727,0.26797206469934276,-1.3953358629453787,-0.6945329566849582,1.555621068767977,0.8283772246580962,-0.8420550563881509,0.805777476671103,-1.1529198884152143,-0.13563746306624466,-0.24579363705319546,-0.846884195632001,-0.6643522082710484,0.7052085498958576,-1.6877108081600287,0.020389419260974217,-0.41756781346012556,-0.8676788986975928,-2.5653389961604987,-0.34799695926298335,0.7409356257488319,0.4199756934089848,-0.18905296451511472,-0.7275775921980504,-1.7658346002170116,-0.8494415212511488,0.06516189570040587,-1.0812781607038502,1.182463220527681,-0.1828465609009514,-1.6925573120184574,0.2528746913720982,1.2151401118568756,-0.49604662980129016,-1.1333482603578835,-1.2871159652833557,1.2333219879816024,0.2863728726007531,-0.4379191310630423],\"type\":\"scatter\"},{\"connectgaps\":false,\"fill\":\"tozeroy\",\"line\":{\"color\":\"green\",\"dash\":\"solid\",\"shape\":\"linear\",\"width\":0.5},\"mode\":\"lines\",\"name\":\"Spread\",\"showlegend\":false,\"x\":[0,1,2,3,4,5,6,7,8,9,10,11,12,13,14,15,16,17,18,19,20,21,22,23,24,25,26,27,28,29,30,31,32,33,34,35,36,37,38,39,40,41,42,43,44,45,46,47,48,49,50,51,52,53,54,55,56,57,58,59,60,61,62,63,64,65,66,67,68,69,70,71,72,73,74,75,76,77,78,79,80,81,82,83,84,85,86,87,88,89,90,91,92,93,94,95,96,97,98,99],\"xaxis\":\"x2\",\"y\":[\"\",\"\",\"\",\"\",\"\",\"\",0.06601862090296545,\"\",1.7103157062704955,\"\",0.5573660319760712,0.18197948523659638,\"\",\"\",\"\",0.5398864796512344,\"\",\"\",\"\",0.02006813053936099,\"\",1.0285289979206749,\"\",\"\",0.37538360750607036,\"\",\"\",1.5239605032690724,\"\",\"\",0.7076466552295797,1.9684447093214046,\"\",\"\",\"\",\"\",1.1442548893352327,1.6248001197053976,\"\",1.2440947029252125,1.1081762185075128,\"\",\"\",2.410165420175378,0.11786720847954324,\"\",0.9036635599690424,\"\",0.329285845007973,1.1622746722461479,1.1122595841383294,2.002721099107944,\"\",0.04912641055814837,1.6373574110742029,2.875713848262456,\"\",\"\",1.1071777302405232,1.375249744792405,0.20502497284197058,\"\",1.8875066393263245,2.197810146545238,1.0972019963878832,\"\",\"\",0.8186449996501284,\"\",2.036026555249573,1.9492568491172089,0.05644662644685289,0.048258854641113125,2.2687404338815065,\"\",0.13000454364386327,\"\",0.45762276993485324,1.1384835069455326,1.6018408916378746,1.2063963208820252,\"\",\"\",2.2603916570922338,2.2328464643806973,1.1485879085736834,2.3047101249698554,0.5068798588274315,\"\",0.5586345847235024,1.0743285318005849,1.001717732440154,1.1611575304811588,\"\",1.1794440412027452,\"\",1.31272153258811,\"\",\"\",1.7681025919660625],\"yaxis\":\"y2\",\"type\":\"scatter\"},{\"connectgaps\":false,\"fill\":\"tozeroy\",\"line\":{\"color\":\"red\",\"dash\":\"solid\",\"shape\":\"linear\",\"width\":0.5},\"mode\":\"lines\",\"name\":\"Spread\",\"showlegend\":false,\"x\":[0,1,2,3,4,5,6,7,8,9,10,11,12,13,14,15,16,17,18,19,20,21,22,23,24,25,26,27,28,29,30,31,32,33,34,35,36,37,38,39,40,41,42,43,44,45,46,47,48,49,50,51,52,53,54,55,56,57,58,59,60,61,62,63,64,65,66,67,68,69,70,71,72,73,74,75,76,77,78,79,80,81,82,83,84,85,86,87,88,89,90,91,92,93,94,95,96,97,98,99],\"xaxis\":\"x2\",\"y\":[-1.0397455090189816,-0.15747238739384176,-0.10830868243186492,-0.4178077083303097,-0.6166970070270545,-1.6845626621143945,\"\",-2.285193117274429,\"\",-0.8553428126664248,\"\",\"\",-3.643691368616116,-2.399933775525131,-4.130828164572283,\"\",-1.214014934587157,-0.4116414165069934,-1.1741685109298063,\"\",-0.4771879641648931,\"\",-0.5372832322065684,-0.689300370066608,\"\",-0.9205078370822757,-0.8785216465015322,\"\",-0.3509494088803973,-0.1067405160500843,\"\",\"\",-2.1508961363836847,-0.8389184988813363,-1.0789050683452432,-0.08694297209102339,\"\",\"\",-1.8109442068364188,\"\",\"\",-0.8845480764279969,-0.27231734546170966,\"\",\"\",-0.2811785787827813,\"\",-1.6411209501519244,\"\",\"\",\"\",\"\",-1.2741840055570937,\"\",\"\",\"\",-1.5826241567104453,-0.5061319736057553,\"\",\"\",\"\",-0.35383257246737454,\"\",\"\",\"\",-2.9179590723989874,-1.7631607276596064,\"\",-1.878235419947336,\"\",\"\",\"\",\"\",\"\",-2.046464883207108,\"\",-1.3769931703596574,\"\",\"\",\"\",\"\",-1.3879407216894555,-0.9712332920456697,\"\",\"\",\"\",\"\",\"\",-0.033973167967592977,\"\",\"\",\"\",\"\",-2.420899106454322,\"\",-0.08540117211712017,\"\",-1.8908023923288009,-0.24232182402990743,\"\"],\"yaxis\":\"y2\",\"type\":\"scatter\"}],                        {\"hovermode\":\"x\",\"legend\":{\"bgcolor\":\"#F5F6F9\",\"font\":{\"color\":\"#4D5663\"}},\"paper_bgcolor\":\"#F5F6F9\",\"plot_bgcolor\":\"#F5F6F9\",\"template\":{\"data\":{\"barpolar\":[{\"marker\":{\"line\":{\"color\":\"#E5ECF6\",\"width\":0.5},\"pattern\":{\"fillmode\":\"overlay\",\"size\":10,\"solidity\":0.2}},\"type\":\"barpolar\"}],\"bar\":[{\"error_x\":{\"color\":\"#2a3f5f\"},\"error_y\":{\"color\":\"#2a3f5f\"},\"marker\":{\"line\":{\"color\":\"#E5ECF6\",\"width\":0.5},\"pattern\":{\"fillmode\":\"overlay\",\"size\":10,\"solidity\":0.2}},\"type\":\"bar\"}],\"carpet\":[{\"aaxis\":{\"endlinecolor\":\"#2a3f5f\",\"gridcolor\":\"white\",\"linecolor\":\"white\",\"minorgridcolor\":\"white\",\"startlinecolor\":\"#2a3f5f\"},\"baxis\":{\"endlinecolor\":\"#2a3f5f\",\"gridcolor\":\"white\",\"linecolor\":\"white\",\"minorgridcolor\":\"white\",\"startlinecolor\":\"#2a3f5f\"},\"type\":\"carpet\"}],\"choropleth\":[{\"colorbar\":{\"outlinewidth\":0,\"ticks\":\"\"},\"type\":\"choropleth\"}],\"contourcarpet\":[{\"colorbar\":{\"outlinewidth\":0,\"ticks\":\"\"},\"type\":\"contourcarpet\"}],\"contour\":[{\"colorbar\":{\"outlinewidth\":0,\"ticks\":\"\"},\"colorscale\":[[0.0,\"#0d0887\"],[0.1111111111111111,\"#46039f\"],[0.2222222222222222,\"#7201a8\"],[0.3333333333333333,\"#9c179e\"],[0.4444444444444444,\"#bd3786\"],[0.5555555555555556,\"#d8576b\"],[0.6666666666666666,\"#ed7953\"],[0.7777777777777778,\"#fb9f3a\"],[0.8888888888888888,\"#fdca26\"],[1.0,\"#f0f921\"]],\"type\":\"contour\"}],\"heatmapgl\":[{\"colorbar\":{\"outlinewidth\":0,\"ticks\":\"\"},\"colorscale\":[[0.0,\"#0d0887\"],[0.1111111111111111,\"#46039f\"],[0.2222222222222222,\"#7201a8\"],[0.3333333333333333,\"#9c179e\"],[0.4444444444444444,\"#bd3786\"],[0.5555555555555556,\"#d8576b\"],[0.6666666666666666,\"#ed7953\"],[0.7777777777777778,\"#fb9f3a\"],[0.8888888888888888,\"#fdca26\"],[1.0,\"#f0f921\"]],\"type\":\"heatmapgl\"}],\"heatmap\":[{\"colorbar\":{\"outlinewidth\":0,\"ticks\":\"\"},\"colorscale\":[[0.0,\"#0d0887\"],[0.1111111111111111,\"#46039f\"],[0.2222222222222222,\"#7201a8\"],[0.3333333333333333,\"#9c179e\"],[0.4444444444444444,\"#bd3786\"],[0.5555555555555556,\"#d8576b\"],[0.6666666666666666,\"#ed7953\"],[0.7777777777777778,\"#fb9f3a\"],[0.8888888888888888,\"#fdca26\"],[1.0,\"#f0f921\"]],\"type\":\"heatmap\"}],\"histogram2dcontour\":[{\"colorbar\":{\"outlinewidth\":0,\"ticks\":\"\"},\"colorscale\":[[0.0,\"#0d0887\"],[0.1111111111111111,\"#46039f\"],[0.2222222222222222,\"#7201a8\"],[0.3333333333333333,\"#9c179e\"],[0.4444444444444444,\"#bd3786\"],[0.5555555555555556,\"#d8576b\"],[0.6666666666666666,\"#ed7953\"],[0.7777777777777778,\"#fb9f3a\"],[0.8888888888888888,\"#fdca26\"],[1.0,\"#f0f921\"]],\"type\":\"histogram2dcontour\"}],\"histogram2d\":[{\"colorbar\":{\"outlinewidth\":0,\"ticks\":\"\"},\"colorscale\":[[0.0,\"#0d0887\"],[0.1111111111111111,\"#46039f\"],[0.2222222222222222,\"#7201a8\"],[0.3333333333333333,\"#9c179e\"],[0.4444444444444444,\"#bd3786\"],[0.5555555555555556,\"#d8576b\"],[0.6666666666666666,\"#ed7953\"],[0.7777777777777778,\"#fb9f3a\"],[0.8888888888888888,\"#fdca26\"],[1.0,\"#f0f921\"]],\"type\":\"histogram2d\"}],\"histogram\":[{\"marker\":{\"pattern\":{\"fillmode\":\"overlay\",\"size\":10,\"solidity\":0.2}},\"type\":\"histogram\"}],\"mesh3d\":[{\"colorbar\":{\"outlinewidth\":0,\"ticks\":\"\"},\"type\":\"mesh3d\"}],\"parcoords\":[{\"line\":{\"colorbar\":{\"outlinewidth\":0,\"ticks\":\"\"}},\"type\":\"parcoords\"}],\"pie\":[{\"automargin\":true,\"type\":\"pie\"}],\"scatter3d\":[{\"line\":{\"colorbar\":{\"outlinewidth\":0,\"ticks\":\"\"}},\"marker\":{\"colorbar\":{\"outlinewidth\":0,\"ticks\":\"\"}},\"type\":\"scatter3d\"}],\"scattercarpet\":[{\"marker\":{\"colorbar\":{\"outlinewidth\":0,\"ticks\":\"\"}},\"type\":\"scattercarpet\"}],\"scattergeo\":[{\"marker\":{\"colorbar\":{\"outlinewidth\":0,\"ticks\":\"\"}},\"type\":\"scattergeo\"}],\"scattergl\":[{\"marker\":{\"colorbar\":{\"outlinewidth\":0,\"ticks\":\"\"}},\"type\":\"scattergl\"}],\"scattermapbox\":[{\"marker\":{\"colorbar\":{\"outlinewidth\":0,\"ticks\":\"\"}},\"type\":\"scattermapbox\"}],\"scatterpolargl\":[{\"marker\":{\"colorbar\":{\"outlinewidth\":0,\"ticks\":\"\"}},\"type\":\"scatterpolargl\"}],\"scatterpolar\":[{\"marker\":{\"colorbar\":{\"outlinewidth\":0,\"ticks\":\"\"}},\"type\":\"scatterpolar\"}],\"scatter\":[{\"fillpattern\":{\"fillmode\":\"overlay\",\"size\":10,\"solidity\":0.2},\"type\":\"scatter\"}],\"scatterternary\":[{\"marker\":{\"colorbar\":{\"outlinewidth\":0,\"ticks\":\"\"}},\"type\":\"scatterternary\"}],\"surface\":[{\"colorbar\":{\"outlinewidth\":0,\"ticks\":\"\"},\"colorscale\":[[0.0,\"#0d0887\"],[0.1111111111111111,\"#46039f\"],[0.2222222222222222,\"#7201a8\"],[0.3333333333333333,\"#9c179e\"],[0.4444444444444444,\"#bd3786\"],[0.5555555555555556,\"#d8576b\"],[0.6666666666666666,\"#ed7953\"],[0.7777777777777778,\"#fb9f3a\"],[0.8888888888888888,\"#fdca26\"],[1.0,\"#f0f921\"]],\"type\":\"surface\"}],\"table\":[{\"cells\":{\"fill\":{\"color\":\"#EBF0F8\"},\"line\":{\"color\":\"white\"}},\"header\":{\"fill\":{\"color\":\"#C8D4E3\"},\"line\":{\"color\":\"white\"}},\"type\":\"table\"}]},\"layout\":{\"annotationdefaults\":{\"arrowcolor\":\"#2a3f5f\",\"arrowhead\":0,\"arrowwidth\":1},\"autotypenumbers\":\"strict\",\"coloraxis\":{\"colorbar\":{\"outlinewidth\":0,\"ticks\":\"\"}},\"colorscale\":{\"diverging\":[[0,\"#8e0152\"],[0.1,\"#c51b7d\"],[0.2,\"#de77ae\"],[0.3,\"#f1b6da\"],[0.4,\"#fde0ef\"],[0.5,\"#f7f7f7\"],[0.6,\"#e6f5d0\"],[0.7,\"#b8e186\"],[0.8,\"#7fbc41\"],[0.9,\"#4d9221\"],[1,\"#276419\"]],\"sequential\":[[0.0,\"#0d0887\"],[0.1111111111111111,\"#46039f\"],[0.2222222222222222,\"#7201a8\"],[0.3333333333333333,\"#9c179e\"],[0.4444444444444444,\"#bd3786\"],[0.5555555555555556,\"#d8576b\"],[0.6666666666666666,\"#ed7953\"],[0.7777777777777778,\"#fb9f3a\"],[0.8888888888888888,\"#fdca26\"],[1.0,\"#f0f921\"]],\"sequentialminus\":[[0.0,\"#0d0887\"],[0.1111111111111111,\"#46039f\"],[0.2222222222222222,\"#7201a8\"],[0.3333333333333333,\"#9c179e\"],[0.4444444444444444,\"#bd3786\"],[0.5555555555555556,\"#d8576b\"],[0.6666666666666666,\"#ed7953\"],[0.7777777777777778,\"#fb9f3a\"],[0.8888888888888888,\"#fdca26\"],[1.0,\"#f0f921\"]]},\"colorway\":[\"#636efa\",\"#EF553B\",\"#00cc96\",\"#ab63fa\",\"#FFA15A\",\"#19d3f3\",\"#FF6692\",\"#B6E880\",\"#FF97FF\",\"#FECB52\"],\"font\":{\"color\":\"#2a3f5f\"},\"geo\":{\"bgcolor\":\"white\",\"lakecolor\":\"white\",\"landcolor\":\"#E5ECF6\",\"showlakes\":true,\"showland\":true,\"subunitcolor\":\"white\"},\"hoverlabel\":{\"align\":\"left\"},\"hovermode\":\"closest\",\"mapbox\":{\"style\":\"light\"},\"paper_bgcolor\":\"white\",\"plot_bgcolor\":\"#E5ECF6\",\"polar\":{\"angularaxis\":{\"gridcolor\":\"white\",\"linecolor\":\"white\",\"ticks\":\"\"},\"bgcolor\":\"#E5ECF6\",\"radialaxis\":{\"gridcolor\":\"white\",\"linecolor\":\"white\",\"ticks\":\"\"}},\"scene\":{\"xaxis\":{\"backgroundcolor\":\"#E5ECF6\",\"gridcolor\":\"white\",\"gridwidth\":2,\"linecolor\":\"white\",\"showbackground\":true,\"ticks\":\"\",\"zerolinecolor\":\"white\"},\"yaxis\":{\"backgroundcolor\":\"#E5ECF6\",\"gridcolor\":\"white\",\"gridwidth\":2,\"linecolor\":\"white\",\"showbackground\":true,\"ticks\":\"\",\"zerolinecolor\":\"white\"},\"zaxis\":{\"backgroundcolor\":\"#E5ECF6\",\"gridcolor\":\"white\",\"gridwidth\":2,\"linecolor\":\"white\",\"showbackground\":true,\"ticks\":\"\",\"zerolinecolor\":\"white\"}},\"shapedefaults\":{\"line\":{\"color\":\"#2a3f5f\"}},\"ternary\":{\"aaxis\":{\"gridcolor\":\"white\",\"linecolor\":\"white\",\"ticks\":\"\"},\"baxis\":{\"gridcolor\":\"white\",\"linecolor\":\"white\",\"ticks\":\"\"},\"bgcolor\":\"#E5ECF6\",\"caxis\":{\"gridcolor\":\"white\",\"linecolor\":\"white\",\"ticks\":\"\"}},\"title\":{\"x\":0.05},\"xaxis\":{\"automargin\":true,\"gridcolor\":\"white\",\"linecolor\":\"white\",\"ticks\":\"\",\"title\":{\"standoff\":15},\"zerolinecolor\":\"white\",\"zerolinewidth\":2},\"yaxis\":{\"automargin\":true,\"gridcolor\":\"white\",\"linecolor\":\"white\",\"ticks\":\"\",\"title\":{\"standoff\":15},\"zerolinecolor\":\"white\",\"zerolinewidth\":2}}},\"title\":{\"font\":{\"color\":\"#4D5663\"}},\"xaxis\":{\"gridcolor\":\"#E1E5ED\",\"showgrid\":true,\"tickfont\":{\"color\":\"#4D5663\"},\"title\":{\"font\":{\"color\":\"#4D5663\"},\"text\":\"\"},\"zerolinecolor\":\"#E1E5ED\"},\"yaxis\":{\"domain\":[0.3,1],\"gridcolor\":\"#E1E5ED\",\"showgrid\":true,\"tickfont\":{\"color\":\"#4D5663\"},\"title\":{\"font\":{\"color\":\"#4D5663\"},\"text\":\"\"},\"zerolinecolor\":\"#E1E5ED\"},\"yaxis2\":{\"domain\":[0,0.25],\"gridcolor\":\"#E1E5ED\",\"showgrid\":true,\"tickfont\":{\"color\":\"#4D5663\"},\"title\":{\"font\":{\"color\":\"#4D5663\"},\"text\":\"Spread\"},\"zerolinecolor\":\"#E1E5ED\"},\"xaxis2\":{\"anchor\":\"y2\",\"gridcolor\":\"#E1E5ED\",\"showgrid\":true,\"showticklabels\":false,\"tickfont\":{\"color\":\"#4D5663\"},\"title\":{\"font\":{\"color\":\"#4D5663\"},\"text\":\"\"},\"zerolinecolor\":\"#E1E5ED\"}},                        {\"showLink\": true, \"linkText\": \"Export to plot.ly\", \"plotlyServerURL\": \"https://plot.ly\", \"responsive\": true}                    ).then(function(){\n",
       "                            \n",
       "var gd = document.getElementById('eb3cb246-7e6c-4eeb-ab98-2be0680fc5ed');\n",
       "var x = new MutationObserver(function (mutations, observer) {{\n",
       "        var display = window.getComputedStyle(gd).display;\n",
       "        if (!display || display === 'none') {{\n",
       "            console.log([gd, 'removed!']);\n",
       "            Plotly.purge(gd);\n",
       "            observer.disconnect();\n",
       "        }}\n",
       "}});\n",
       "\n",
       "// Listen for the removal of the full notebook cells\n",
       "var notebookContainer = gd.closest('#notebook-container');\n",
       "if (notebookContainer) {{\n",
       "    x.observe(notebookContainer, {childList: true});\n",
       "}}\n",
       "\n",
       "// Listen for the clearing of the current output cell\n",
       "var outputEl = gd.closest('.output');\n",
       "if (outputEl) {{\n",
       "    x.observe(outputEl, {childList: true});\n",
       "}}\n",
       "\n",
       "                        })                };                });            </script>        </div>"
      ]
     },
     "metadata": {},
     "output_type": "display_data"
    }
   ],
   "source": [
    "df[[\"A\",\"B\"]].iplot(kind=\"spread\")"
   ]
  },
  {
   "cell_type": "code",
   "execution_count": 30,
   "id": "31de1371",
   "metadata": {},
   "outputs": [
    {
     "data": {
      "application/vnd.plotly.v1+json": {
       "config": {
        "linkText": "Export to plot.ly",
        "plotlyServerURL": "https://plot.ly",
        "showLink": true
       },
       "data": [
        {
         "histfunc": "count",
         "histnorm": "",
         "marker": {
          "color": "rgba(255, 153, 51, 1.0)",
          "line": {
           "color": "#4D5663",
           "width": 1.3
          }
         },
         "name": "A",
         "nbinsx": 25,
         "opacity": 0.8,
         "orientation": "v",
         "type": "histogram",
         "x": [
          -0.629400460736606,
          -0.3902511837428377,
          -0.5591700478406222,
          -0.5015750659259559,
          -0.6028247757790585,
          -1.7552895707056984,
          0.3728303295489695,
          -0.9949058872060896,
          1.383786061209142,
          -0.7478723956059203,
          0.06816934594778336,
          0.3141341819011735,
          -1.4434647152951174,
          0.4279880196945129,
          -2.7094890740900803,
          0.13506963265460648,
          -0.3362772326824624,
          -1.003162479173856,
          -0.9417909848304834,
          0.12809221322659364,
          -0.9761844606375003,
          0.851597093857289,
          -0.2174753543117878,
          0.16923231361532318,
          -1.196108833893656,
          -1.4490166364502461,
          -0.43386109420639013,
          1.097856069838825,
          -0.3105310538314359,
          -0.3169866600355245,
          1.592962498055057,
          0.9758423831858871,
          -1.3671182139924076,
          0.7817958007205139,
          -1.3911274721075122,
          0.12975350981883296,
          1.13847634366471,
          1.8672274817233254,
          -0.7504577680021094,
          1.7846896247177337,
          1.0793488689838349,
          -1.0844765858716827,
          -0.3516404570166523,
          0.9227502103917912,
          0.3755932851618663,
          0.3778890996717057,
          1.680119511266985,
          -0.4599735982942427,
          1.5985393735185909,
          1.0563349091055834,
          -1.0911352575440694,
          1.7417271070535496,
          -1.3100266243771161,
          -0.3876135929450466,
          0.9025719152875156,
          1.401243501430797,
          -1.2969497206273086,
          -1.2048928883655137,
          1.3573070492269648,
          0.05766322435151034,
          0.29981192742332086,
          1.5170818674960982,
          2.155478704025667,
          0.8024742835998596,
          0.40266903970292495,
          -1.3623380036310104,
          -0.9347835030015103,
          -0.023410056738022517,
          -1.072457943276233,
          0.8831066668343588,
          1.8136193860509642,
          -0.18934701060634257,
          -0.7986253409908879,
          1.6043882256104582,
          -1.3412563333112506,
          -1.5577062645161655,
          -1.3566037510986833,
          0.04005495647472767,
          0.2708046082479397,
          -0.9634981045226241,
          0.8583993616190417,
          -0.6470050959406236,
          -0.5512575986366849,
          2.071338692577119,
          1.5052688721826468,
          -0.617246691643328,
          1.4552686037187066,
          0.5720417545278373,
          -1.1152513286714432,
          1.7410978052511834,
          0.8914819708996335,
          -0.6908395795783034,
          1.414032221853257,
          -1.2057589945974467,
          0.6833974114014549,
          -1.2187494324750037,
          0.025605567304754343,
          -0.6574804043471983,
          0.04405104857084567,
          1.33018346090302
         ]
        }
       ],
       "layout": {
        "barmode": "overlay",
        "legend": {
         "bgcolor": "#F5F6F9",
         "font": {
          "color": "#4D5663"
         }
        },
        "paper_bgcolor": "#F5F6F9",
        "plot_bgcolor": "#F5F6F9",
        "template": {
         "data": {
          "bar": [
           {
            "error_x": {
             "color": "#2a3f5f"
            },
            "error_y": {
             "color": "#2a3f5f"
            },
            "marker": {
             "line": {
              "color": "#E5ECF6",
              "width": 0.5
             },
             "pattern": {
              "fillmode": "overlay",
              "size": 10,
              "solidity": 0.2
             }
            },
            "type": "bar"
           }
          ],
          "barpolar": [
           {
            "marker": {
             "line": {
              "color": "#E5ECF6",
              "width": 0.5
             },
             "pattern": {
              "fillmode": "overlay",
              "size": 10,
              "solidity": 0.2
             }
            },
            "type": "barpolar"
           }
          ],
          "carpet": [
           {
            "aaxis": {
             "endlinecolor": "#2a3f5f",
             "gridcolor": "white",
             "linecolor": "white",
             "minorgridcolor": "white",
             "startlinecolor": "#2a3f5f"
            },
            "baxis": {
             "endlinecolor": "#2a3f5f",
             "gridcolor": "white",
             "linecolor": "white",
             "minorgridcolor": "white",
             "startlinecolor": "#2a3f5f"
            },
            "type": "carpet"
           }
          ],
          "choropleth": [
           {
            "colorbar": {
             "outlinewidth": 0,
             "ticks": ""
            },
            "type": "choropleth"
           }
          ],
          "contour": [
           {
            "colorbar": {
             "outlinewidth": 0,
             "ticks": ""
            },
            "colorscale": [
             [
              0,
              "#0d0887"
             ],
             [
              0.1111111111111111,
              "#46039f"
             ],
             [
              0.2222222222222222,
              "#7201a8"
             ],
             [
              0.3333333333333333,
              "#9c179e"
             ],
             [
              0.4444444444444444,
              "#bd3786"
             ],
             [
              0.5555555555555556,
              "#d8576b"
             ],
             [
              0.6666666666666666,
              "#ed7953"
             ],
             [
              0.7777777777777778,
              "#fb9f3a"
             ],
             [
              0.8888888888888888,
              "#fdca26"
             ],
             [
              1,
              "#f0f921"
             ]
            ],
            "type": "contour"
           }
          ],
          "contourcarpet": [
           {
            "colorbar": {
             "outlinewidth": 0,
             "ticks": ""
            },
            "type": "contourcarpet"
           }
          ],
          "heatmap": [
           {
            "colorbar": {
             "outlinewidth": 0,
             "ticks": ""
            },
            "colorscale": [
             [
              0,
              "#0d0887"
             ],
             [
              0.1111111111111111,
              "#46039f"
             ],
             [
              0.2222222222222222,
              "#7201a8"
             ],
             [
              0.3333333333333333,
              "#9c179e"
             ],
             [
              0.4444444444444444,
              "#bd3786"
             ],
             [
              0.5555555555555556,
              "#d8576b"
             ],
             [
              0.6666666666666666,
              "#ed7953"
             ],
             [
              0.7777777777777778,
              "#fb9f3a"
             ],
             [
              0.8888888888888888,
              "#fdca26"
             ],
             [
              1,
              "#f0f921"
             ]
            ],
            "type": "heatmap"
           }
          ],
          "heatmapgl": [
           {
            "colorbar": {
             "outlinewidth": 0,
             "ticks": ""
            },
            "colorscale": [
             [
              0,
              "#0d0887"
             ],
             [
              0.1111111111111111,
              "#46039f"
             ],
             [
              0.2222222222222222,
              "#7201a8"
             ],
             [
              0.3333333333333333,
              "#9c179e"
             ],
             [
              0.4444444444444444,
              "#bd3786"
             ],
             [
              0.5555555555555556,
              "#d8576b"
             ],
             [
              0.6666666666666666,
              "#ed7953"
             ],
             [
              0.7777777777777778,
              "#fb9f3a"
             ],
             [
              0.8888888888888888,
              "#fdca26"
             ],
             [
              1,
              "#f0f921"
             ]
            ],
            "type": "heatmapgl"
           }
          ],
          "histogram": [
           {
            "marker": {
             "pattern": {
              "fillmode": "overlay",
              "size": 10,
              "solidity": 0.2
             }
            },
            "type": "histogram"
           }
          ],
          "histogram2d": [
           {
            "colorbar": {
             "outlinewidth": 0,
             "ticks": ""
            },
            "colorscale": [
             [
              0,
              "#0d0887"
             ],
             [
              0.1111111111111111,
              "#46039f"
             ],
             [
              0.2222222222222222,
              "#7201a8"
             ],
             [
              0.3333333333333333,
              "#9c179e"
             ],
             [
              0.4444444444444444,
              "#bd3786"
             ],
             [
              0.5555555555555556,
              "#d8576b"
             ],
             [
              0.6666666666666666,
              "#ed7953"
             ],
             [
              0.7777777777777778,
              "#fb9f3a"
             ],
             [
              0.8888888888888888,
              "#fdca26"
             ],
             [
              1,
              "#f0f921"
             ]
            ],
            "type": "histogram2d"
           }
          ],
          "histogram2dcontour": [
           {
            "colorbar": {
             "outlinewidth": 0,
             "ticks": ""
            },
            "colorscale": [
             [
              0,
              "#0d0887"
             ],
             [
              0.1111111111111111,
              "#46039f"
             ],
             [
              0.2222222222222222,
              "#7201a8"
             ],
             [
              0.3333333333333333,
              "#9c179e"
             ],
             [
              0.4444444444444444,
              "#bd3786"
             ],
             [
              0.5555555555555556,
              "#d8576b"
             ],
             [
              0.6666666666666666,
              "#ed7953"
             ],
             [
              0.7777777777777778,
              "#fb9f3a"
             ],
             [
              0.8888888888888888,
              "#fdca26"
             ],
             [
              1,
              "#f0f921"
             ]
            ],
            "type": "histogram2dcontour"
           }
          ],
          "mesh3d": [
           {
            "colorbar": {
             "outlinewidth": 0,
             "ticks": ""
            },
            "type": "mesh3d"
           }
          ],
          "parcoords": [
           {
            "line": {
             "colorbar": {
              "outlinewidth": 0,
              "ticks": ""
             }
            },
            "type": "parcoords"
           }
          ],
          "pie": [
           {
            "automargin": true,
            "type": "pie"
           }
          ],
          "scatter": [
           {
            "fillpattern": {
             "fillmode": "overlay",
             "size": 10,
             "solidity": 0.2
            },
            "type": "scatter"
           }
          ],
          "scatter3d": [
           {
            "line": {
             "colorbar": {
              "outlinewidth": 0,
              "ticks": ""
             }
            },
            "marker": {
             "colorbar": {
              "outlinewidth": 0,
              "ticks": ""
             }
            },
            "type": "scatter3d"
           }
          ],
          "scattercarpet": [
           {
            "marker": {
             "colorbar": {
              "outlinewidth": 0,
              "ticks": ""
             }
            },
            "type": "scattercarpet"
           }
          ],
          "scattergeo": [
           {
            "marker": {
             "colorbar": {
              "outlinewidth": 0,
              "ticks": ""
             }
            },
            "type": "scattergeo"
           }
          ],
          "scattergl": [
           {
            "marker": {
             "colorbar": {
              "outlinewidth": 0,
              "ticks": ""
             }
            },
            "type": "scattergl"
           }
          ],
          "scattermapbox": [
           {
            "marker": {
             "colorbar": {
              "outlinewidth": 0,
              "ticks": ""
             }
            },
            "type": "scattermapbox"
           }
          ],
          "scatterpolar": [
           {
            "marker": {
             "colorbar": {
              "outlinewidth": 0,
              "ticks": ""
             }
            },
            "type": "scatterpolar"
           }
          ],
          "scatterpolargl": [
           {
            "marker": {
             "colorbar": {
              "outlinewidth": 0,
              "ticks": ""
             }
            },
            "type": "scatterpolargl"
           }
          ],
          "scatterternary": [
           {
            "marker": {
             "colorbar": {
              "outlinewidth": 0,
              "ticks": ""
             }
            },
            "type": "scatterternary"
           }
          ],
          "surface": [
           {
            "colorbar": {
             "outlinewidth": 0,
             "ticks": ""
            },
            "colorscale": [
             [
              0,
              "#0d0887"
             ],
             [
              0.1111111111111111,
              "#46039f"
             ],
             [
              0.2222222222222222,
              "#7201a8"
             ],
             [
              0.3333333333333333,
              "#9c179e"
             ],
             [
              0.4444444444444444,
              "#bd3786"
             ],
             [
              0.5555555555555556,
              "#d8576b"
             ],
             [
              0.6666666666666666,
              "#ed7953"
             ],
             [
              0.7777777777777778,
              "#fb9f3a"
             ],
             [
              0.8888888888888888,
              "#fdca26"
             ],
             [
              1,
              "#f0f921"
             ]
            ],
            "type": "surface"
           }
          ],
          "table": [
           {
            "cells": {
             "fill": {
              "color": "#EBF0F8"
             },
             "line": {
              "color": "white"
             }
            },
            "header": {
             "fill": {
              "color": "#C8D4E3"
             },
             "line": {
              "color": "white"
             }
            },
            "type": "table"
           }
          ]
         },
         "layout": {
          "annotationdefaults": {
           "arrowcolor": "#2a3f5f",
           "arrowhead": 0,
           "arrowwidth": 1
          },
          "autotypenumbers": "strict",
          "coloraxis": {
           "colorbar": {
            "outlinewidth": 0,
            "ticks": ""
           }
          },
          "colorscale": {
           "diverging": [
            [
             0,
             "#8e0152"
            ],
            [
             0.1,
             "#c51b7d"
            ],
            [
             0.2,
             "#de77ae"
            ],
            [
             0.3,
             "#f1b6da"
            ],
            [
             0.4,
             "#fde0ef"
            ],
            [
             0.5,
             "#f7f7f7"
            ],
            [
             0.6,
             "#e6f5d0"
            ],
            [
             0.7,
             "#b8e186"
            ],
            [
             0.8,
             "#7fbc41"
            ],
            [
             0.9,
             "#4d9221"
            ],
            [
             1,
             "#276419"
            ]
           ],
           "sequential": [
            [
             0,
             "#0d0887"
            ],
            [
             0.1111111111111111,
             "#46039f"
            ],
            [
             0.2222222222222222,
             "#7201a8"
            ],
            [
             0.3333333333333333,
             "#9c179e"
            ],
            [
             0.4444444444444444,
             "#bd3786"
            ],
            [
             0.5555555555555556,
             "#d8576b"
            ],
            [
             0.6666666666666666,
             "#ed7953"
            ],
            [
             0.7777777777777778,
             "#fb9f3a"
            ],
            [
             0.8888888888888888,
             "#fdca26"
            ],
            [
             1,
             "#f0f921"
            ]
           ],
           "sequentialminus": [
            [
             0,
             "#0d0887"
            ],
            [
             0.1111111111111111,
             "#46039f"
            ],
            [
             0.2222222222222222,
             "#7201a8"
            ],
            [
             0.3333333333333333,
             "#9c179e"
            ],
            [
             0.4444444444444444,
             "#bd3786"
            ],
            [
             0.5555555555555556,
             "#d8576b"
            ],
            [
             0.6666666666666666,
             "#ed7953"
            ],
            [
             0.7777777777777778,
             "#fb9f3a"
            ],
            [
             0.8888888888888888,
             "#fdca26"
            ],
            [
             1,
             "#f0f921"
            ]
           ]
          },
          "colorway": [
           "#636efa",
           "#EF553B",
           "#00cc96",
           "#ab63fa",
           "#FFA15A",
           "#19d3f3",
           "#FF6692",
           "#B6E880",
           "#FF97FF",
           "#FECB52"
          ],
          "font": {
           "color": "#2a3f5f"
          },
          "geo": {
           "bgcolor": "white",
           "lakecolor": "white",
           "landcolor": "#E5ECF6",
           "showlakes": true,
           "showland": true,
           "subunitcolor": "white"
          },
          "hoverlabel": {
           "align": "left"
          },
          "hovermode": "closest",
          "mapbox": {
           "style": "light"
          },
          "paper_bgcolor": "white",
          "plot_bgcolor": "#E5ECF6",
          "polar": {
           "angularaxis": {
            "gridcolor": "white",
            "linecolor": "white",
            "ticks": ""
           },
           "bgcolor": "#E5ECF6",
           "radialaxis": {
            "gridcolor": "white",
            "linecolor": "white",
            "ticks": ""
           }
          },
          "scene": {
           "xaxis": {
            "backgroundcolor": "#E5ECF6",
            "gridcolor": "white",
            "gridwidth": 2,
            "linecolor": "white",
            "showbackground": true,
            "ticks": "",
            "zerolinecolor": "white"
           },
           "yaxis": {
            "backgroundcolor": "#E5ECF6",
            "gridcolor": "white",
            "gridwidth": 2,
            "linecolor": "white",
            "showbackground": true,
            "ticks": "",
            "zerolinecolor": "white"
           },
           "zaxis": {
            "backgroundcolor": "#E5ECF6",
            "gridcolor": "white",
            "gridwidth": 2,
            "linecolor": "white",
            "showbackground": true,
            "ticks": "",
            "zerolinecolor": "white"
           }
          },
          "shapedefaults": {
           "line": {
            "color": "#2a3f5f"
           }
          },
          "ternary": {
           "aaxis": {
            "gridcolor": "white",
            "linecolor": "white",
            "ticks": ""
           },
           "baxis": {
            "gridcolor": "white",
            "linecolor": "white",
            "ticks": ""
           },
           "bgcolor": "#E5ECF6",
           "caxis": {
            "gridcolor": "white",
            "linecolor": "white",
            "ticks": ""
           }
          },
          "title": {
           "x": 0.05
          },
          "xaxis": {
           "automargin": true,
           "gridcolor": "white",
           "linecolor": "white",
           "ticks": "",
           "title": {
            "standoff": 15
           },
           "zerolinecolor": "white",
           "zerolinewidth": 2
          },
          "yaxis": {
           "automargin": true,
           "gridcolor": "white",
           "linecolor": "white",
           "ticks": "",
           "title": {
            "standoff": 15
           },
           "zerolinecolor": "white",
           "zerolinewidth": 2
          }
         }
        },
        "title": {
         "font": {
          "color": "#4D5663"
         }
        },
        "xaxis": {
         "gridcolor": "#E1E5ED",
         "showgrid": true,
         "tickfont": {
          "color": "#4D5663"
         },
         "title": {
          "font": {
           "color": "#4D5663"
          },
          "text": ""
         },
         "zerolinecolor": "#E1E5ED"
        },
        "yaxis": {
         "gridcolor": "#E1E5ED",
         "showgrid": true,
         "tickfont": {
          "color": "#4D5663"
         },
         "title": {
          "font": {
           "color": "#4D5663"
          },
          "text": ""
         },
         "zerolinecolor": "#E1E5ED"
        }
       }
      },
      "text/html": [
       "<div>                            <div id=\"8dc11841-b25f-428b-8b30-491cc5b2b7d8\" class=\"plotly-graph-div\" style=\"height:525px; width:100%;\"></div>            <script type=\"text/javascript\">                require([\"plotly\"], function(Plotly) {                    window.PLOTLYENV=window.PLOTLYENV || {};\n",
       "                    window.PLOTLYENV.BASE_URL='https://plot.ly';                                    if (document.getElementById(\"8dc11841-b25f-428b-8b30-491cc5b2b7d8\")) {                    Plotly.newPlot(                        \"8dc11841-b25f-428b-8b30-491cc5b2b7d8\",                        [{\"histfunc\":\"count\",\"histnorm\":\"\",\"marker\":{\"color\":\"rgba(255, 153, 51, 1.0)\",\"line\":{\"color\":\"#4D5663\",\"width\":1.3}},\"name\":\"A\",\"nbinsx\":25,\"opacity\":0.8,\"orientation\":\"v\",\"x\":[-0.629400460736606,-0.3902511837428377,-0.5591700478406222,-0.5015750659259559,-0.6028247757790585,-1.7552895707056984,0.3728303295489695,-0.9949058872060896,1.383786061209142,-0.7478723956059203,0.06816934594778336,0.3141341819011735,-1.4434647152951174,0.4279880196945129,-2.7094890740900803,0.13506963265460648,-0.3362772326824624,-1.003162479173856,-0.9417909848304834,0.12809221322659364,-0.9761844606375003,0.851597093857289,-0.2174753543117878,0.16923231361532318,-1.196108833893656,-1.4490166364502461,-0.43386109420639013,1.097856069838825,-0.3105310538314359,-0.3169866600355245,1.592962498055057,0.9758423831858871,-1.3671182139924076,0.7817958007205139,-1.3911274721075122,0.12975350981883296,1.13847634366471,1.8672274817233254,-0.7504577680021094,1.7846896247177337,1.0793488689838349,-1.0844765858716827,-0.3516404570166523,0.9227502103917912,0.3755932851618663,0.3778890996717057,1.680119511266985,-0.4599735982942427,1.5985393735185909,1.0563349091055834,-1.0911352575440694,1.7417271070535496,-1.3100266243771161,-0.3876135929450466,0.9025719152875156,1.401243501430797,-1.2969497206273086,-1.2048928883655137,1.3573070492269648,0.05766322435151034,0.29981192742332086,1.5170818674960982,2.155478704025667,0.8024742835998596,0.40266903970292495,-1.3623380036310104,-0.9347835030015103,-0.023410056738022517,-1.072457943276233,0.8831066668343588,1.8136193860509642,-0.18934701060634257,-0.7986253409908879,1.6043882256104582,-1.3412563333112506,-1.5577062645161655,-1.3566037510986833,0.04005495647472767,0.2708046082479397,-0.9634981045226241,0.8583993616190417,-0.6470050959406236,-0.5512575986366849,2.071338692577119,1.5052688721826468,-0.617246691643328,1.4552686037187066,0.5720417545278373,-1.1152513286714432,1.7410978052511834,0.8914819708996335,-0.6908395795783034,1.414032221853257,-1.2057589945974467,0.6833974114014549,-1.2187494324750037,0.025605567304754343,-0.6574804043471983,0.04405104857084567,1.33018346090302],\"type\":\"histogram\"}],                        {\"barmode\":\"overlay\",\"legend\":{\"bgcolor\":\"#F5F6F9\",\"font\":{\"color\":\"#4D5663\"}},\"paper_bgcolor\":\"#F5F6F9\",\"plot_bgcolor\":\"#F5F6F9\",\"template\":{\"data\":{\"barpolar\":[{\"marker\":{\"line\":{\"color\":\"#E5ECF6\",\"width\":0.5},\"pattern\":{\"fillmode\":\"overlay\",\"size\":10,\"solidity\":0.2}},\"type\":\"barpolar\"}],\"bar\":[{\"error_x\":{\"color\":\"#2a3f5f\"},\"error_y\":{\"color\":\"#2a3f5f\"},\"marker\":{\"line\":{\"color\":\"#E5ECF6\",\"width\":0.5},\"pattern\":{\"fillmode\":\"overlay\",\"size\":10,\"solidity\":0.2}},\"type\":\"bar\"}],\"carpet\":[{\"aaxis\":{\"endlinecolor\":\"#2a3f5f\",\"gridcolor\":\"white\",\"linecolor\":\"white\",\"minorgridcolor\":\"white\",\"startlinecolor\":\"#2a3f5f\"},\"baxis\":{\"endlinecolor\":\"#2a3f5f\",\"gridcolor\":\"white\",\"linecolor\":\"white\",\"minorgridcolor\":\"white\",\"startlinecolor\":\"#2a3f5f\"},\"type\":\"carpet\"}],\"choropleth\":[{\"colorbar\":{\"outlinewidth\":0,\"ticks\":\"\"},\"type\":\"choropleth\"}],\"contourcarpet\":[{\"colorbar\":{\"outlinewidth\":0,\"ticks\":\"\"},\"type\":\"contourcarpet\"}],\"contour\":[{\"colorbar\":{\"outlinewidth\":0,\"ticks\":\"\"},\"colorscale\":[[0.0,\"#0d0887\"],[0.1111111111111111,\"#46039f\"],[0.2222222222222222,\"#7201a8\"],[0.3333333333333333,\"#9c179e\"],[0.4444444444444444,\"#bd3786\"],[0.5555555555555556,\"#d8576b\"],[0.6666666666666666,\"#ed7953\"],[0.7777777777777778,\"#fb9f3a\"],[0.8888888888888888,\"#fdca26\"],[1.0,\"#f0f921\"]],\"type\":\"contour\"}],\"heatmapgl\":[{\"colorbar\":{\"outlinewidth\":0,\"ticks\":\"\"},\"colorscale\":[[0.0,\"#0d0887\"],[0.1111111111111111,\"#46039f\"],[0.2222222222222222,\"#7201a8\"],[0.3333333333333333,\"#9c179e\"],[0.4444444444444444,\"#bd3786\"],[0.5555555555555556,\"#d8576b\"],[0.6666666666666666,\"#ed7953\"],[0.7777777777777778,\"#fb9f3a\"],[0.8888888888888888,\"#fdca26\"],[1.0,\"#f0f921\"]],\"type\":\"heatmapgl\"}],\"heatmap\":[{\"colorbar\":{\"outlinewidth\":0,\"ticks\":\"\"},\"colorscale\":[[0.0,\"#0d0887\"],[0.1111111111111111,\"#46039f\"],[0.2222222222222222,\"#7201a8\"],[0.3333333333333333,\"#9c179e\"],[0.4444444444444444,\"#bd3786\"],[0.5555555555555556,\"#d8576b\"],[0.6666666666666666,\"#ed7953\"],[0.7777777777777778,\"#fb9f3a\"],[0.8888888888888888,\"#fdca26\"],[1.0,\"#f0f921\"]],\"type\":\"heatmap\"}],\"histogram2dcontour\":[{\"colorbar\":{\"outlinewidth\":0,\"ticks\":\"\"},\"colorscale\":[[0.0,\"#0d0887\"],[0.1111111111111111,\"#46039f\"],[0.2222222222222222,\"#7201a8\"],[0.3333333333333333,\"#9c179e\"],[0.4444444444444444,\"#bd3786\"],[0.5555555555555556,\"#d8576b\"],[0.6666666666666666,\"#ed7953\"],[0.7777777777777778,\"#fb9f3a\"],[0.8888888888888888,\"#fdca26\"],[1.0,\"#f0f921\"]],\"type\":\"histogram2dcontour\"}],\"histogram2d\":[{\"colorbar\":{\"outlinewidth\":0,\"ticks\":\"\"},\"colorscale\":[[0.0,\"#0d0887\"],[0.1111111111111111,\"#46039f\"],[0.2222222222222222,\"#7201a8\"],[0.3333333333333333,\"#9c179e\"],[0.4444444444444444,\"#bd3786\"],[0.5555555555555556,\"#d8576b\"],[0.6666666666666666,\"#ed7953\"],[0.7777777777777778,\"#fb9f3a\"],[0.8888888888888888,\"#fdca26\"],[1.0,\"#f0f921\"]],\"type\":\"histogram2d\"}],\"histogram\":[{\"marker\":{\"pattern\":{\"fillmode\":\"overlay\",\"size\":10,\"solidity\":0.2}},\"type\":\"histogram\"}],\"mesh3d\":[{\"colorbar\":{\"outlinewidth\":0,\"ticks\":\"\"},\"type\":\"mesh3d\"}],\"parcoords\":[{\"line\":{\"colorbar\":{\"outlinewidth\":0,\"ticks\":\"\"}},\"type\":\"parcoords\"}],\"pie\":[{\"automargin\":true,\"type\":\"pie\"}],\"scatter3d\":[{\"line\":{\"colorbar\":{\"outlinewidth\":0,\"ticks\":\"\"}},\"marker\":{\"colorbar\":{\"outlinewidth\":0,\"ticks\":\"\"}},\"type\":\"scatter3d\"}],\"scattercarpet\":[{\"marker\":{\"colorbar\":{\"outlinewidth\":0,\"ticks\":\"\"}},\"type\":\"scattercarpet\"}],\"scattergeo\":[{\"marker\":{\"colorbar\":{\"outlinewidth\":0,\"ticks\":\"\"}},\"type\":\"scattergeo\"}],\"scattergl\":[{\"marker\":{\"colorbar\":{\"outlinewidth\":0,\"ticks\":\"\"}},\"type\":\"scattergl\"}],\"scattermapbox\":[{\"marker\":{\"colorbar\":{\"outlinewidth\":0,\"ticks\":\"\"}},\"type\":\"scattermapbox\"}],\"scatterpolargl\":[{\"marker\":{\"colorbar\":{\"outlinewidth\":0,\"ticks\":\"\"}},\"type\":\"scatterpolargl\"}],\"scatterpolar\":[{\"marker\":{\"colorbar\":{\"outlinewidth\":0,\"ticks\":\"\"}},\"type\":\"scatterpolar\"}],\"scatter\":[{\"fillpattern\":{\"fillmode\":\"overlay\",\"size\":10,\"solidity\":0.2},\"type\":\"scatter\"}],\"scatterternary\":[{\"marker\":{\"colorbar\":{\"outlinewidth\":0,\"ticks\":\"\"}},\"type\":\"scatterternary\"}],\"surface\":[{\"colorbar\":{\"outlinewidth\":0,\"ticks\":\"\"},\"colorscale\":[[0.0,\"#0d0887\"],[0.1111111111111111,\"#46039f\"],[0.2222222222222222,\"#7201a8\"],[0.3333333333333333,\"#9c179e\"],[0.4444444444444444,\"#bd3786\"],[0.5555555555555556,\"#d8576b\"],[0.6666666666666666,\"#ed7953\"],[0.7777777777777778,\"#fb9f3a\"],[0.8888888888888888,\"#fdca26\"],[1.0,\"#f0f921\"]],\"type\":\"surface\"}],\"table\":[{\"cells\":{\"fill\":{\"color\":\"#EBF0F8\"},\"line\":{\"color\":\"white\"}},\"header\":{\"fill\":{\"color\":\"#C8D4E3\"},\"line\":{\"color\":\"white\"}},\"type\":\"table\"}]},\"layout\":{\"annotationdefaults\":{\"arrowcolor\":\"#2a3f5f\",\"arrowhead\":0,\"arrowwidth\":1},\"autotypenumbers\":\"strict\",\"coloraxis\":{\"colorbar\":{\"outlinewidth\":0,\"ticks\":\"\"}},\"colorscale\":{\"diverging\":[[0,\"#8e0152\"],[0.1,\"#c51b7d\"],[0.2,\"#de77ae\"],[0.3,\"#f1b6da\"],[0.4,\"#fde0ef\"],[0.5,\"#f7f7f7\"],[0.6,\"#e6f5d0\"],[0.7,\"#b8e186\"],[0.8,\"#7fbc41\"],[0.9,\"#4d9221\"],[1,\"#276419\"]],\"sequential\":[[0.0,\"#0d0887\"],[0.1111111111111111,\"#46039f\"],[0.2222222222222222,\"#7201a8\"],[0.3333333333333333,\"#9c179e\"],[0.4444444444444444,\"#bd3786\"],[0.5555555555555556,\"#d8576b\"],[0.6666666666666666,\"#ed7953\"],[0.7777777777777778,\"#fb9f3a\"],[0.8888888888888888,\"#fdca26\"],[1.0,\"#f0f921\"]],\"sequentialminus\":[[0.0,\"#0d0887\"],[0.1111111111111111,\"#46039f\"],[0.2222222222222222,\"#7201a8\"],[0.3333333333333333,\"#9c179e\"],[0.4444444444444444,\"#bd3786\"],[0.5555555555555556,\"#d8576b\"],[0.6666666666666666,\"#ed7953\"],[0.7777777777777778,\"#fb9f3a\"],[0.8888888888888888,\"#fdca26\"],[1.0,\"#f0f921\"]]},\"colorway\":[\"#636efa\",\"#EF553B\",\"#00cc96\",\"#ab63fa\",\"#FFA15A\",\"#19d3f3\",\"#FF6692\",\"#B6E880\",\"#FF97FF\",\"#FECB52\"],\"font\":{\"color\":\"#2a3f5f\"},\"geo\":{\"bgcolor\":\"white\",\"lakecolor\":\"white\",\"landcolor\":\"#E5ECF6\",\"showlakes\":true,\"showland\":true,\"subunitcolor\":\"white\"},\"hoverlabel\":{\"align\":\"left\"},\"hovermode\":\"closest\",\"mapbox\":{\"style\":\"light\"},\"paper_bgcolor\":\"white\",\"plot_bgcolor\":\"#E5ECF6\",\"polar\":{\"angularaxis\":{\"gridcolor\":\"white\",\"linecolor\":\"white\",\"ticks\":\"\"},\"bgcolor\":\"#E5ECF6\",\"radialaxis\":{\"gridcolor\":\"white\",\"linecolor\":\"white\",\"ticks\":\"\"}},\"scene\":{\"xaxis\":{\"backgroundcolor\":\"#E5ECF6\",\"gridcolor\":\"white\",\"gridwidth\":2,\"linecolor\":\"white\",\"showbackground\":true,\"ticks\":\"\",\"zerolinecolor\":\"white\"},\"yaxis\":{\"backgroundcolor\":\"#E5ECF6\",\"gridcolor\":\"white\",\"gridwidth\":2,\"linecolor\":\"white\",\"showbackground\":true,\"ticks\":\"\",\"zerolinecolor\":\"white\"},\"zaxis\":{\"backgroundcolor\":\"#E5ECF6\",\"gridcolor\":\"white\",\"gridwidth\":2,\"linecolor\":\"white\",\"showbackground\":true,\"ticks\":\"\",\"zerolinecolor\":\"white\"}},\"shapedefaults\":{\"line\":{\"color\":\"#2a3f5f\"}},\"ternary\":{\"aaxis\":{\"gridcolor\":\"white\",\"linecolor\":\"white\",\"ticks\":\"\"},\"baxis\":{\"gridcolor\":\"white\",\"linecolor\":\"white\",\"ticks\":\"\"},\"bgcolor\":\"#E5ECF6\",\"caxis\":{\"gridcolor\":\"white\",\"linecolor\":\"white\",\"ticks\":\"\"}},\"title\":{\"x\":0.05},\"xaxis\":{\"automargin\":true,\"gridcolor\":\"white\",\"linecolor\":\"white\",\"ticks\":\"\",\"title\":{\"standoff\":15},\"zerolinecolor\":\"white\",\"zerolinewidth\":2},\"yaxis\":{\"automargin\":true,\"gridcolor\":\"white\",\"linecolor\":\"white\",\"ticks\":\"\",\"title\":{\"standoff\":15},\"zerolinecolor\":\"white\",\"zerolinewidth\":2}}},\"title\":{\"font\":{\"color\":\"#4D5663\"}},\"xaxis\":{\"gridcolor\":\"#E1E5ED\",\"showgrid\":true,\"tickfont\":{\"color\":\"#4D5663\"},\"title\":{\"font\":{\"color\":\"#4D5663\"},\"text\":\"\"},\"zerolinecolor\":\"#E1E5ED\"},\"yaxis\":{\"gridcolor\":\"#E1E5ED\",\"showgrid\":true,\"tickfont\":{\"color\":\"#4D5663\"},\"title\":{\"font\":{\"color\":\"#4D5663\"},\"text\":\"\"},\"zerolinecolor\":\"#E1E5ED\"}},                        {\"showLink\": true, \"linkText\": \"Export to plot.ly\", \"plotlyServerURL\": \"https://plot.ly\", \"responsive\": true}                    ).then(function(){\n",
       "                            \n",
       "var gd = document.getElementById('8dc11841-b25f-428b-8b30-491cc5b2b7d8');\n",
       "var x = new MutationObserver(function (mutations, observer) {{\n",
       "        var display = window.getComputedStyle(gd).display;\n",
       "        if (!display || display === 'none') {{\n",
       "            console.log([gd, 'removed!']);\n",
       "            Plotly.purge(gd);\n",
       "            observer.disconnect();\n",
       "        }}\n",
       "}});\n",
       "\n",
       "// Listen for the removal of the full notebook cells\n",
       "var notebookContainer = gd.closest('#notebook-container');\n",
       "if (notebookContainer) {{\n",
       "    x.observe(notebookContainer, {childList: true});\n",
       "}}\n",
       "\n",
       "// Listen for the clearing of the current output cell\n",
       "var outputEl = gd.closest('.output');\n",
       "if (outputEl) {{\n",
       "    x.observe(outputEl, {childList: true});\n",
       "}}\n",
       "\n",
       "                        })                };                });            </script>        </div>"
      ]
     },
     "metadata": {},
     "output_type": "display_data"
    }
   ],
   "source": [
    "df[\"A\"].iplot(kind=\"hist\", bins=25)"
   ]
  },
  {
   "cell_type": "code",
   "execution_count": 32,
   "id": "4a85a302",
   "metadata": {},
   "outputs": [
    {
     "data": {
      "application/vnd.plotly.v1+json": {
       "config": {
        "linkText": "Export to plot.ly",
        "plotlyServerURL": "https://plot.ly",
        "showLink": true
       },
       "data": [
        {
         "marker": {
          "color": [
           "rgb(165,0,38)",
           "rgb(215,48,39)",
           "rgb(244,109,67)",
           "rgb(253,174,97)",
           "rgb(254,224,144)",
           "rgb(255,255,191)",
           "rgb(224,243,248)",
           "rgb(171,217,233)",
           "rgb(116,173,209)",
           "rgb(69,117,180)",
           "rgb(49,54,149)"
          ],
          "line": {
           "width": 1.3
          },
          "size": [
           57,
           72,
           69,
           53,
           37,
           64,
           74,
           42,
           48,
           65,
           74,
           26,
           58,
           57,
           112,
           47,
           89,
           76,
           66,
           25,
           61,
           45,
           91,
           52,
           60,
           90,
           96,
           77,
           76,
           45,
           53,
           55,
           56,
           29,
           64,
           45,
           70,
           73,
           64,
           51,
           53,
           58,
           77,
           53,
           72,
           24,
           38,
           47,
           59,
           46,
           54,
           74,
           24,
           84,
           95,
           84,
           102,
           70,
           83,
           79,
           45,
           87,
           73,
           51,
           46,
           65,
           65,
           28,
           37,
           66,
           49,
           42,
           77,
           63,
           19,
           79,
           52,
           39,
           67,
           75,
           52,
           72,
           62,
           57,
           80,
           38,
           85,
           69,
           34,
           75,
           60,
           63,
           77,
           53,
           26,
           67,
           49,
           12,
           60,
           42
          ],
          "symbol": "circle"
         },
         "mode": "markers",
         "text": "",
         "type": "scatter",
         "x": [
          -0.629400460736606,
          -0.3902511837428377,
          -0.5591700478406222,
          -0.5015750659259559,
          -0.6028247757790585,
          -1.7552895707056984,
          0.3728303295489695,
          -0.9949058872060896,
          1.383786061209142,
          -0.7478723956059203,
          0.06816934594778336,
          0.3141341819011735,
          -1.4434647152951174,
          0.4279880196945129,
          -2.7094890740900803,
          0.13506963265460648,
          -0.3362772326824624,
          -1.003162479173856,
          -0.9417909848304834,
          0.12809221322659364,
          -0.9761844606375003,
          0.851597093857289,
          -0.2174753543117878,
          0.16923231361532318,
          -1.196108833893656,
          -1.4490166364502461,
          -0.43386109420639013,
          1.097856069838825,
          -0.3105310538314359,
          -0.3169866600355245,
          1.592962498055057,
          0.9758423831858871,
          -1.3671182139924076,
          0.7817958007205139,
          -1.3911274721075122,
          0.12975350981883296,
          1.13847634366471,
          1.8672274817233254,
          -0.7504577680021094,
          1.7846896247177337,
          1.0793488689838349,
          -1.0844765858716827,
          -0.3516404570166523,
          0.9227502103917912,
          0.3755932851618663,
          0.3778890996717057,
          1.680119511266985,
          -0.4599735982942427,
          1.5985393735185909,
          1.0563349091055834,
          -1.0911352575440694,
          1.7417271070535496,
          -1.3100266243771161,
          -0.3876135929450466,
          0.9025719152875156,
          1.401243501430797,
          -1.2969497206273086,
          -1.2048928883655137,
          1.3573070492269648,
          0.05766322435151034,
          0.29981192742332086,
          1.5170818674960982,
          2.155478704025667,
          0.8024742835998596,
          0.40266903970292495,
          -1.3623380036310104,
          -0.9347835030015103,
          -0.023410056738022517,
          -1.072457943276233,
          0.8831066668343588,
          1.8136193860509642,
          -0.18934701060634257,
          -0.7986253409908879,
          1.6043882256104582,
          -1.3412563333112506,
          -1.5577062645161655,
          -1.3566037510986833,
          0.04005495647472767,
          0.2708046082479397,
          -0.9634981045226241,
          0.8583993616190417,
          -0.6470050959406236,
          -0.5512575986366849,
          2.071338692577119,
          1.5052688721826468,
          -0.617246691643328,
          1.4552686037187066,
          0.5720417545278373,
          -1.1152513286714432,
          1.7410978052511834,
          0.8914819708996335,
          -0.6908395795783034,
          1.414032221853257,
          -1.2057589945974467,
          0.6833974114014549,
          -1.2187494324750037,
          0.025605567304754343,
          -0.6574804043471983,
          0.04405104857084567,
          1.33018346090302
         ],
         "y": [
          0.4103450482823756,
          -0.23277879634899593,
          -0.45086136540875726,
          -0.08376735759564617,
          0.013872231247996124,
          -0.07072690859130389,
          0.30681170864600404,
          1.2902872300683392,
          -0.3265296450613535,
          0.10747041706050438,
          -0.4891966860282878,
          0.1321546966645771,
          2.2002266533209984,
          2.827921795219644,
          1.4213390904822027,
          -0.40481684699662795,
          0.8777377019046946,
          -0.5915210626668627,
          0.23237752609932294,
          0.10802408268723265,
          -0.4989964964726072,
          -0.17693190406338596,
          0.31980787789478055,
          0.8585326836819313,
          -1.5714924413997264,
          -0.5285087993679705,
          0.4446605522951421,
          -0.4261044334302472,
          0.04041835504896138,
          -0.2102461439854402,
          0.8853158428254773,
          -0.9926023261355174,
          0.7837779223912771,
          1.6207142996018502,
          -0.31222240376226895,
          0.21669648190985635,
          -0.005778545670522539,
          0.2424273620179277,
          1.0604864388343094,
          0.5405949217925212,
          -0.028827349523677923,
          -0.19992850944368576,
          -0.07932311155494266,
          -1.487415209783587,
          0.25772607668232306,
          0.659067678454487,
          0.7764559512979428,
          1.1811473518576816,
          1.269253528510618,
          -0.10593976314056446,
          -2.2033948416823987,
          -0.26099399205439405,
          -0.035842618820022584,
          -0.436740003503195,
          -0.7347854957866872,
          -1.474470346831659,
          0.2856744360831367,
          -0.6987609147597583,
          0.25012931898644164,
          -1.3175865204408947,
          0.09478695458135028,
          1.8709144399634727,
          0.26797206469934276,
          -1.3953358629453787,
          -0.6945329566849582,
          1.555621068767977,
          0.8283772246580962,
          -0.8420550563881509,
          0.805777476671103,
          -1.1529198884152143,
          -0.13563746306624466,
          -0.24579363705319546,
          -0.846884195632001,
          -0.6643522082710484,
          0.7052085498958576,
          -1.6877108081600287,
          0.020389419260974217,
          -0.41756781346012556,
          -0.8676788986975928,
          -2.5653389961604987,
          -0.34799695926298335,
          0.7409356257488319,
          0.4199756934089848,
          -0.18905296451511472,
          -0.7275775921980504,
          -1.7658346002170116,
          -0.8494415212511488,
          0.06516189570040587,
          -1.0812781607038502,
          1.182463220527681,
          -0.1828465609009514,
          -1.6925573120184574,
          0.2528746913720982,
          1.2151401118568756,
          -0.49604662980129016,
          -1.1333482603578835,
          -1.2871159652833557,
          1.2333219879816024,
          0.2863728726007531,
          -0.4379191310630423
         ]
        }
       ],
       "layout": {
        "legend": {
         "bgcolor": "#F5F6F9",
         "font": {
          "color": "#4D5663"
         }
        },
        "paper_bgcolor": "#F5F6F9",
        "plot_bgcolor": "#F5F6F9",
        "template": {
         "data": {
          "bar": [
           {
            "error_x": {
             "color": "#2a3f5f"
            },
            "error_y": {
             "color": "#2a3f5f"
            },
            "marker": {
             "line": {
              "color": "#E5ECF6",
              "width": 0.5
             },
             "pattern": {
              "fillmode": "overlay",
              "size": 10,
              "solidity": 0.2
             }
            },
            "type": "bar"
           }
          ],
          "barpolar": [
           {
            "marker": {
             "line": {
              "color": "#E5ECF6",
              "width": 0.5
             },
             "pattern": {
              "fillmode": "overlay",
              "size": 10,
              "solidity": 0.2
             }
            },
            "type": "barpolar"
           }
          ],
          "carpet": [
           {
            "aaxis": {
             "endlinecolor": "#2a3f5f",
             "gridcolor": "white",
             "linecolor": "white",
             "minorgridcolor": "white",
             "startlinecolor": "#2a3f5f"
            },
            "baxis": {
             "endlinecolor": "#2a3f5f",
             "gridcolor": "white",
             "linecolor": "white",
             "minorgridcolor": "white",
             "startlinecolor": "#2a3f5f"
            },
            "type": "carpet"
           }
          ],
          "choropleth": [
           {
            "colorbar": {
             "outlinewidth": 0,
             "ticks": ""
            },
            "type": "choropleth"
           }
          ],
          "contour": [
           {
            "colorbar": {
             "outlinewidth": 0,
             "ticks": ""
            },
            "colorscale": [
             [
              0,
              "#0d0887"
             ],
             [
              0.1111111111111111,
              "#46039f"
             ],
             [
              0.2222222222222222,
              "#7201a8"
             ],
             [
              0.3333333333333333,
              "#9c179e"
             ],
             [
              0.4444444444444444,
              "#bd3786"
             ],
             [
              0.5555555555555556,
              "#d8576b"
             ],
             [
              0.6666666666666666,
              "#ed7953"
             ],
             [
              0.7777777777777778,
              "#fb9f3a"
             ],
             [
              0.8888888888888888,
              "#fdca26"
             ],
             [
              1,
              "#f0f921"
             ]
            ],
            "type": "contour"
           }
          ],
          "contourcarpet": [
           {
            "colorbar": {
             "outlinewidth": 0,
             "ticks": ""
            },
            "type": "contourcarpet"
           }
          ],
          "heatmap": [
           {
            "colorbar": {
             "outlinewidth": 0,
             "ticks": ""
            },
            "colorscale": [
             [
              0,
              "#0d0887"
             ],
             [
              0.1111111111111111,
              "#46039f"
             ],
             [
              0.2222222222222222,
              "#7201a8"
             ],
             [
              0.3333333333333333,
              "#9c179e"
             ],
             [
              0.4444444444444444,
              "#bd3786"
             ],
             [
              0.5555555555555556,
              "#d8576b"
             ],
             [
              0.6666666666666666,
              "#ed7953"
             ],
             [
              0.7777777777777778,
              "#fb9f3a"
             ],
             [
              0.8888888888888888,
              "#fdca26"
             ],
             [
              1,
              "#f0f921"
             ]
            ],
            "type": "heatmap"
           }
          ],
          "heatmapgl": [
           {
            "colorbar": {
             "outlinewidth": 0,
             "ticks": ""
            },
            "colorscale": [
             [
              0,
              "#0d0887"
             ],
             [
              0.1111111111111111,
              "#46039f"
             ],
             [
              0.2222222222222222,
              "#7201a8"
             ],
             [
              0.3333333333333333,
              "#9c179e"
             ],
             [
              0.4444444444444444,
              "#bd3786"
             ],
             [
              0.5555555555555556,
              "#d8576b"
             ],
             [
              0.6666666666666666,
              "#ed7953"
             ],
             [
              0.7777777777777778,
              "#fb9f3a"
             ],
             [
              0.8888888888888888,
              "#fdca26"
             ],
             [
              1,
              "#f0f921"
             ]
            ],
            "type": "heatmapgl"
           }
          ],
          "histogram": [
           {
            "marker": {
             "pattern": {
              "fillmode": "overlay",
              "size": 10,
              "solidity": 0.2
             }
            },
            "type": "histogram"
           }
          ],
          "histogram2d": [
           {
            "colorbar": {
             "outlinewidth": 0,
             "ticks": ""
            },
            "colorscale": [
             [
              0,
              "#0d0887"
             ],
             [
              0.1111111111111111,
              "#46039f"
             ],
             [
              0.2222222222222222,
              "#7201a8"
             ],
             [
              0.3333333333333333,
              "#9c179e"
             ],
             [
              0.4444444444444444,
              "#bd3786"
             ],
             [
              0.5555555555555556,
              "#d8576b"
             ],
             [
              0.6666666666666666,
              "#ed7953"
             ],
             [
              0.7777777777777778,
              "#fb9f3a"
             ],
             [
              0.8888888888888888,
              "#fdca26"
             ],
             [
              1,
              "#f0f921"
             ]
            ],
            "type": "histogram2d"
           }
          ],
          "histogram2dcontour": [
           {
            "colorbar": {
             "outlinewidth": 0,
             "ticks": ""
            },
            "colorscale": [
             [
              0,
              "#0d0887"
             ],
             [
              0.1111111111111111,
              "#46039f"
             ],
             [
              0.2222222222222222,
              "#7201a8"
             ],
             [
              0.3333333333333333,
              "#9c179e"
             ],
             [
              0.4444444444444444,
              "#bd3786"
             ],
             [
              0.5555555555555556,
              "#d8576b"
             ],
             [
              0.6666666666666666,
              "#ed7953"
             ],
             [
              0.7777777777777778,
              "#fb9f3a"
             ],
             [
              0.8888888888888888,
              "#fdca26"
             ],
             [
              1,
              "#f0f921"
             ]
            ],
            "type": "histogram2dcontour"
           }
          ],
          "mesh3d": [
           {
            "colorbar": {
             "outlinewidth": 0,
             "ticks": ""
            },
            "type": "mesh3d"
           }
          ],
          "parcoords": [
           {
            "line": {
             "colorbar": {
              "outlinewidth": 0,
              "ticks": ""
             }
            },
            "type": "parcoords"
           }
          ],
          "pie": [
           {
            "automargin": true,
            "type": "pie"
           }
          ],
          "scatter": [
           {
            "fillpattern": {
             "fillmode": "overlay",
             "size": 10,
             "solidity": 0.2
            },
            "type": "scatter"
           }
          ],
          "scatter3d": [
           {
            "line": {
             "colorbar": {
              "outlinewidth": 0,
              "ticks": ""
             }
            },
            "marker": {
             "colorbar": {
              "outlinewidth": 0,
              "ticks": ""
             }
            },
            "type": "scatter3d"
           }
          ],
          "scattercarpet": [
           {
            "marker": {
             "colorbar": {
              "outlinewidth": 0,
              "ticks": ""
             }
            },
            "type": "scattercarpet"
           }
          ],
          "scattergeo": [
           {
            "marker": {
             "colorbar": {
              "outlinewidth": 0,
              "ticks": ""
             }
            },
            "type": "scattergeo"
           }
          ],
          "scattergl": [
           {
            "marker": {
             "colorbar": {
              "outlinewidth": 0,
              "ticks": ""
             }
            },
            "type": "scattergl"
           }
          ],
          "scattermapbox": [
           {
            "marker": {
             "colorbar": {
              "outlinewidth": 0,
              "ticks": ""
             }
            },
            "type": "scattermapbox"
           }
          ],
          "scatterpolar": [
           {
            "marker": {
             "colorbar": {
              "outlinewidth": 0,
              "ticks": ""
             }
            },
            "type": "scatterpolar"
           }
          ],
          "scatterpolargl": [
           {
            "marker": {
             "colorbar": {
              "outlinewidth": 0,
              "ticks": ""
             }
            },
            "type": "scatterpolargl"
           }
          ],
          "scatterternary": [
           {
            "marker": {
             "colorbar": {
              "outlinewidth": 0,
              "ticks": ""
             }
            },
            "type": "scatterternary"
           }
          ],
          "surface": [
           {
            "colorbar": {
             "outlinewidth": 0,
             "ticks": ""
            },
            "colorscale": [
             [
              0,
              "#0d0887"
             ],
             [
              0.1111111111111111,
              "#46039f"
             ],
             [
              0.2222222222222222,
              "#7201a8"
             ],
             [
              0.3333333333333333,
              "#9c179e"
             ],
             [
              0.4444444444444444,
              "#bd3786"
             ],
             [
              0.5555555555555556,
              "#d8576b"
             ],
             [
              0.6666666666666666,
              "#ed7953"
             ],
             [
              0.7777777777777778,
              "#fb9f3a"
             ],
             [
              0.8888888888888888,
              "#fdca26"
             ],
             [
              1,
              "#f0f921"
             ]
            ],
            "type": "surface"
           }
          ],
          "table": [
           {
            "cells": {
             "fill": {
              "color": "#EBF0F8"
             },
             "line": {
              "color": "white"
             }
            },
            "header": {
             "fill": {
              "color": "#C8D4E3"
             },
             "line": {
              "color": "white"
             }
            },
            "type": "table"
           }
          ]
         },
         "layout": {
          "annotationdefaults": {
           "arrowcolor": "#2a3f5f",
           "arrowhead": 0,
           "arrowwidth": 1
          },
          "autotypenumbers": "strict",
          "coloraxis": {
           "colorbar": {
            "outlinewidth": 0,
            "ticks": ""
           }
          },
          "colorscale": {
           "diverging": [
            [
             0,
             "#8e0152"
            ],
            [
             0.1,
             "#c51b7d"
            ],
            [
             0.2,
             "#de77ae"
            ],
            [
             0.3,
             "#f1b6da"
            ],
            [
             0.4,
             "#fde0ef"
            ],
            [
             0.5,
             "#f7f7f7"
            ],
            [
             0.6,
             "#e6f5d0"
            ],
            [
             0.7,
             "#b8e186"
            ],
            [
             0.8,
             "#7fbc41"
            ],
            [
             0.9,
             "#4d9221"
            ],
            [
             1,
             "#276419"
            ]
           ],
           "sequential": [
            [
             0,
             "#0d0887"
            ],
            [
             0.1111111111111111,
             "#46039f"
            ],
            [
             0.2222222222222222,
             "#7201a8"
            ],
            [
             0.3333333333333333,
             "#9c179e"
            ],
            [
             0.4444444444444444,
             "#bd3786"
            ],
            [
             0.5555555555555556,
             "#d8576b"
            ],
            [
             0.6666666666666666,
             "#ed7953"
            ],
            [
             0.7777777777777778,
             "#fb9f3a"
            ],
            [
             0.8888888888888888,
             "#fdca26"
            ],
            [
             1,
             "#f0f921"
            ]
           ],
           "sequentialminus": [
            [
             0,
             "#0d0887"
            ],
            [
             0.1111111111111111,
             "#46039f"
            ],
            [
             0.2222222222222222,
             "#7201a8"
            ],
            [
             0.3333333333333333,
             "#9c179e"
            ],
            [
             0.4444444444444444,
             "#bd3786"
            ],
            [
             0.5555555555555556,
             "#d8576b"
            ],
            [
             0.6666666666666666,
             "#ed7953"
            ],
            [
             0.7777777777777778,
             "#fb9f3a"
            ],
            [
             0.8888888888888888,
             "#fdca26"
            ],
            [
             1,
             "#f0f921"
            ]
           ]
          },
          "colorway": [
           "#636efa",
           "#EF553B",
           "#00cc96",
           "#ab63fa",
           "#FFA15A",
           "#19d3f3",
           "#FF6692",
           "#B6E880",
           "#FF97FF",
           "#FECB52"
          ],
          "font": {
           "color": "#2a3f5f"
          },
          "geo": {
           "bgcolor": "white",
           "lakecolor": "white",
           "landcolor": "#E5ECF6",
           "showlakes": true,
           "showland": true,
           "subunitcolor": "white"
          },
          "hoverlabel": {
           "align": "left"
          },
          "hovermode": "closest",
          "mapbox": {
           "style": "light"
          },
          "paper_bgcolor": "white",
          "plot_bgcolor": "#E5ECF6",
          "polar": {
           "angularaxis": {
            "gridcolor": "white",
            "linecolor": "white",
            "ticks": ""
           },
           "bgcolor": "#E5ECF6",
           "radialaxis": {
            "gridcolor": "white",
            "linecolor": "white",
            "ticks": ""
           }
          },
          "scene": {
           "xaxis": {
            "backgroundcolor": "#E5ECF6",
            "gridcolor": "white",
            "gridwidth": 2,
            "linecolor": "white",
            "showbackground": true,
            "ticks": "",
            "zerolinecolor": "white"
           },
           "yaxis": {
            "backgroundcolor": "#E5ECF6",
            "gridcolor": "white",
            "gridwidth": 2,
            "linecolor": "white",
            "showbackground": true,
            "ticks": "",
            "zerolinecolor": "white"
           },
           "zaxis": {
            "backgroundcolor": "#E5ECF6",
            "gridcolor": "white",
            "gridwidth": 2,
            "linecolor": "white",
            "showbackground": true,
            "ticks": "",
            "zerolinecolor": "white"
           }
          },
          "shapedefaults": {
           "line": {
            "color": "#2a3f5f"
           }
          },
          "ternary": {
           "aaxis": {
            "gridcolor": "white",
            "linecolor": "white",
            "ticks": ""
           },
           "baxis": {
            "gridcolor": "white",
            "linecolor": "white",
            "ticks": ""
           },
           "bgcolor": "#E5ECF6",
           "caxis": {
            "gridcolor": "white",
            "linecolor": "white",
            "ticks": ""
           }
          },
          "title": {
           "x": 0.05
          },
          "xaxis": {
           "automargin": true,
           "gridcolor": "white",
           "linecolor": "white",
           "ticks": "",
           "title": {
            "standoff": 15
           },
           "zerolinecolor": "white",
           "zerolinewidth": 2
          },
          "yaxis": {
           "automargin": true,
           "gridcolor": "white",
           "linecolor": "white",
           "ticks": "",
           "title": {
            "standoff": 15
           },
           "zerolinecolor": "white",
           "zerolinewidth": 2
          }
         }
        },
        "title": {
         "font": {
          "color": "#4D5663"
         }
        },
        "xaxis": {
         "gridcolor": "#E1E5ED",
         "showgrid": true,
         "tickfont": {
          "color": "#4D5663"
         },
         "title": {
          "font": {
           "color": "#4D5663"
          },
          "text": ""
         },
         "zerolinecolor": "#E1E5ED"
        },
        "yaxis": {
         "gridcolor": "#E1E5ED",
         "showgrid": true,
         "tickfont": {
          "color": "#4D5663"
         },
         "title": {
          "font": {
           "color": "#4D5663"
          },
          "text": ""
         },
         "zerolinecolor": "#E1E5ED"
        }
       }
      },
      "text/html": [
       "<div>                            <div id=\"a09fd0c2-16d1-4160-8048-a9a0cb40c369\" class=\"plotly-graph-div\" style=\"height:525px; width:100%;\"></div>            <script type=\"text/javascript\">                require([\"plotly\"], function(Plotly) {                    window.PLOTLYENV=window.PLOTLYENV || {};\n",
       "                    window.PLOTLYENV.BASE_URL='https://plot.ly';                                    if (document.getElementById(\"a09fd0c2-16d1-4160-8048-a9a0cb40c369\")) {                    Plotly.newPlot(                        \"a09fd0c2-16d1-4160-8048-a9a0cb40c369\",                        [{\"marker\":{\"color\":[\"rgb(165,0,38)\",\"rgb(215,48,39)\",\"rgb(244,109,67)\",\"rgb(253,174,97)\",\"rgb(254,224,144)\",\"rgb(255,255,191)\",\"rgb(224,243,248)\",\"rgb(171,217,233)\",\"rgb(116,173,209)\",\"rgb(69,117,180)\",\"rgb(49,54,149)\"],\"line\":{\"width\":1.3},\"size\":[57,72,69,53,37,64,74,42,48,65,74,26,58,57,112,47,89,76,66,25,61,45,91,52,60,90,96,77,76,45,53,55,56,29,64,45,70,73,64,51,53,58,77,53,72,24,38,47,59,46,54,74,24,84,95,84,102,70,83,79,45,87,73,51,46,65,65,28,37,66,49,42,77,63,19,79,52,39,67,75,52,72,62,57,80,38,85,69,34,75,60,63,77,53,26,67,49,12,60,42],\"symbol\":\"circle\"},\"mode\":\"markers\",\"text\":\"\",\"x\":[-0.629400460736606,-0.3902511837428377,-0.5591700478406222,-0.5015750659259559,-0.6028247757790585,-1.7552895707056984,0.3728303295489695,-0.9949058872060896,1.383786061209142,-0.7478723956059203,0.06816934594778336,0.3141341819011735,-1.4434647152951174,0.4279880196945129,-2.7094890740900803,0.13506963265460648,-0.3362772326824624,-1.003162479173856,-0.9417909848304834,0.12809221322659364,-0.9761844606375003,0.851597093857289,-0.2174753543117878,0.16923231361532318,-1.196108833893656,-1.4490166364502461,-0.43386109420639013,1.097856069838825,-0.3105310538314359,-0.3169866600355245,1.592962498055057,0.9758423831858871,-1.3671182139924076,0.7817958007205139,-1.3911274721075122,0.12975350981883296,1.13847634366471,1.8672274817233254,-0.7504577680021094,1.7846896247177337,1.0793488689838349,-1.0844765858716827,-0.3516404570166523,0.9227502103917912,0.3755932851618663,0.3778890996717057,1.680119511266985,-0.4599735982942427,1.5985393735185909,1.0563349091055834,-1.0911352575440694,1.7417271070535496,-1.3100266243771161,-0.3876135929450466,0.9025719152875156,1.401243501430797,-1.2969497206273086,-1.2048928883655137,1.3573070492269648,0.05766322435151034,0.29981192742332086,1.5170818674960982,2.155478704025667,0.8024742835998596,0.40266903970292495,-1.3623380036310104,-0.9347835030015103,-0.023410056738022517,-1.072457943276233,0.8831066668343588,1.8136193860509642,-0.18934701060634257,-0.7986253409908879,1.6043882256104582,-1.3412563333112506,-1.5577062645161655,-1.3566037510986833,0.04005495647472767,0.2708046082479397,-0.9634981045226241,0.8583993616190417,-0.6470050959406236,-0.5512575986366849,2.071338692577119,1.5052688721826468,-0.617246691643328,1.4552686037187066,0.5720417545278373,-1.1152513286714432,1.7410978052511834,0.8914819708996335,-0.6908395795783034,1.414032221853257,-1.2057589945974467,0.6833974114014549,-1.2187494324750037,0.025605567304754343,-0.6574804043471983,0.04405104857084567,1.33018346090302],\"y\":[0.4103450482823756,-0.23277879634899593,-0.45086136540875726,-0.08376735759564617,0.013872231247996124,-0.07072690859130389,0.30681170864600404,1.2902872300683392,-0.3265296450613535,0.10747041706050438,-0.4891966860282878,0.1321546966645771,2.2002266533209984,2.827921795219644,1.4213390904822027,-0.40481684699662795,0.8777377019046946,-0.5915210626668627,0.23237752609932294,0.10802408268723265,-0.4989964964726072,-0.17693190406338596,0.31980787789478055,0.8585326836819313,-1.5714924413997264,-0.5285087993679705,0.4446605522951421,-0.4261044334302472,0.04041835504896138,-0.2102461439854402,0.8853158428254773,-0.9926023261355174,0.7837779223912771,1.6207142996018502,-0.31222240376226895,0.21669648190985635,-0.005778545670522539,0.2424273620179277,1.0604864388343094,0.5405949217925212,-0.028827349523677923,-0.19992850944368576,-0.07932311155494266,-1.487415209783587,0.25772607668232306,0.659067678454487,0.7764559512979428,1.1811473518576816,1.269253528510618,-0.10593976314056446,-2.2033948416823987,-0.26099399205439405,-0.035842618820022584,-0.436740003503195,-0.7347854957866872,-1.474470346831659,0.2856744360831367,-0.6987609147597583,0.25012931898644164,-1.3175865204408947,0.09478695458135028,1.8709144399634727,0.26797206469934276,-1.3953358629453787,-0.6945329566849582,1.555621068767977,0.8283772246580962,-0.8420550563881509,0.805777476671103,-1.1529198884152143,-0.13563746306624466,-0.24579363705319546,-0.846884195632001,-0.6643522082710484,0.7052085498958576,-1.6877108081600287,0.020389419260974217,-0.41756781346012556,-0.8676788986975928,-2.5653389961604987,-0.34799695926298335,0.7409356257488319,0.4199756934089848,-0.18905296451511472,-0.7275775921980504,-1.7658346002170116,-0.8494415212511488,0.06516189570040587,-1.0812781607038502,1.182463220527681,-0.1828465609009514,-1.6925573120184574,0.2528746913720982,1.2151401118568756,-0.49604662980129016,-1.1333482603578835,-1.2871159652833557,1.2333219879816024,0.2863728726007531,-0.4379191310630423],\"type\":\"scatter\"}],                        {\"legend\":{\"bgcolor\":\"#F5F6F9\",\"font\":{\"color\":\"#4D5663\"}},\"paper_bgcolor\":\"#F5F6F9\",\"plot_bgcolor\":\"#F5F6F9\",\"template\":{\"data\":{\"barpolar\":[{\"marker\":{\"line\":{\"color\":\"#E5ECF6\",\"width\":0.5},\"pattern\":{\"fillmode\":\"overlay\",\"size\":10,\"solidity\":0.2}},\"type\":\"barpolar\"}],\"bar\":[{\"error_x\":{\"color\":\"#2a3f5f\"},\"error_y\":{\"color\":\"#2a3f5f\"},\"marker\":{\"line\":{\"color\":\"#E5ECF6\",\"width\":0.5},\"pattern\":{\"fillmode\":\"overlay\",\"size\":10,\"solidity\":0.2}},\"type\":\"bar\"}],\"carpet\":[{\"aaxis\":{\"endlinecolor\":\"#2a3f5f\",\"gridcolor\":\"white\",\"linecolor\":\"white\",\"minorgridcolor\":\"white\",\"startlinecolor\":\"#2a3f5f\"},\"baxis\":{\"endlinecolor\":\"#2a3f5f\",\"gridcolor\":\"white\",\"linecolor\":\"white\",\"minorgridcolor\":\"white\",\"startlinecolor\":\"#2a3f5f\"},\"type\":\"carpet\"}],\"choropleth\":[{\"colorbar\":{\"outlinewidth\":0,\"ticks\":\"\"},\"type\":\"choropleth\"}],\"contourcarpet\":[{\"colorbar\":{\"outlinewidth\":0,\"ticks\":\"\"},\"type\":\"contourcarpet\"}],\"contour\":[{\"colorbar\":{\"outlinewidth\":0,\"ticks\":\"\"},\"colorscale\":[[0.0,\"#0d0887\"],[0.1111111111111111,\"#46039f\"],[0.2222222222222222,\"#7201a8\"],[0.3333333333333333,\"#9c179e\"],[0.4444444444444444,\"#bd3786\"],[0.5555555555555556,\"#d8576b\"],[0.6666666666666666,\"#ed7953\"],[0.7777777777777778,\"#fb9f3a\"],[0.8888888888888888,\"#fdca26\"],[1.0,\"#f0f921\"]],\"type\":\"contour\"}],\"heatmapgl\":[{\"colorbar\":{\"outlinewidth\":0,\"ticks\":\"\"},\"colorscale\":[[0.0,\"#0d0887\"],[0.1111111111111111,\"#46039f\"],[0.2222222222222222,\"#7201a8\"],[0.3333333333333333,\"#9c179e\"],[0.4444444444444444,\"#bd3786\"],[0.5555555555555556,\"#d8576b\"],[0.6666666666666666,\"#ed7953\"],[0.7777777777777778,\"#fb9f3a\"],[0.8888888888888888,\"#fdca26\"],[1.0,\"#f0f921\"]],\"type\":\"heatmapgl\"}],\"heatmap\":[{\"colorbar\":{\"outlinewidth\":0,\"ticks\":\"\"},\"colorscale\":[[0.0,\"#0d0887\"],[0.1111111111111111,\"#46039f\"],[0.2222222222222222,\"#7201a8\"],[0.3333333333333333,\"#9c179e\"],[0.4444444444444444,\"#bd3786\"],[0.5555555555555556,\"#d8576b\"],[0.6666666666666666,\"#ed7953\"],[0.7777777777777778,\"#fb9f3a\"],[0.8888888888888888,\"#fdca26\"],[1.0,\"#f0f921\"]],\"type\":\"heatmap\"}],\"histogram2dcontour\":[{\"colorbar\":{\"outlinewidth\":0,\"ticks\":\"\"},\"colorscale\":[[0.0,\"#0d0887\"],[0.1111111111111111,\"#46039f\"],[0.2222222222222222,\"#7201a8\"],[0.3333333333333333,\"#9c179e\"],[0.4444444444444444,\"#bd3786\"],[0.5555555555555556,\"#d8576b\"],[0.6666666666666666,\"#ed7953\"],[0.7777777777777778,\"#fb9f3a\"],[0.8888888888888888,\"#fdca26\"],[1.0,\"#f0f921\"]],\"type\":\"histogram2dcontour\"}],\"histogram2d\":[{\"colorbar\":{\"outlinewidth\":0,\"ticks\":\"\"},\"colorscale\":[[0.0,\"#0d0887\"],[0.1111111111111111,\"#46039f\"],[0.2222222222222222,\"#7201a8\"],[0.3333333333333333,\"#9c179e\"],[0.4444444444444444,\"#bd3786\"],[0.5555555555555556,\"#d8576b\"],[0.6666666666666666,\"#ed7953\"],[0.7777777777777778,\"#fb9f3a\"],[0.8888888888888888,\"#fdca26\"],[1.0,\"#f0f921\"]],\"type\":\"histogram2d\"}],\"histogram\":[{\"marker\":{\"pattern\":{\"fillmode\":\"overlay\",\"size\":10,\"solidity\":0.2}},\"type\":\"histogram\"}],\"mesh3d\":[{\"colorbar\":{\"outlinewidth\":0,\"ticks\":\"\"},\"type\":\"mesh3d\"}],\"parcoords\":[{\"line\":{\"colorbar\":{\"outlinewidth\":0,\"ticks\":\"\"}},\"type\":\"parcoords\"}],\"pie\":[{\"automargin\":true,\"type\":\"pie\"}],\"scatter3d\":[{\"line\":{\"colorbar\":{\"outlinewidth\":0,\"ticks\":\"\"}},\"marker\":{\"colorbar\":{\"outlinewidth\":0,\"ticks\":\"\"}},\"type\":\"scatter3d\"}],\"scattercarpet\":[{\"marker\":{\"colorbar\":{\"outlinewidth\":0,\"ticks\":\"\"}},\"type\":\"scattercarpet\"}],\"scattergeo\":[{\"marker\":{\"colorbar\":{\"outlinewidth\":0,\"ticks\":\"\"}},\"type\":\"scattergeo\"}],\"scattergl\":[{\"marker\":{\"colorbar\":{\"outlinewidth\":0,\"ticks\":\"\"}},\"type\":\"scattergl\"}],\"scattermapbox\":[{\"marker\":{\"colorbar\":{\"outlinewidth\":0,\"ticks\":\"\"}},\"type\":\"scattermapbox\"}],\"scatterpolargl\":[{\"marker\":{\"colorbar\":{\"outlinewidth\":0,\"ticks\":\"\"}},\"type\":\"scatterpolargl\"}],\"scatterpolar\":[{\"marker\":{\"colorbar\":{\"outlinewidth\":0,\"ticks\":\"\"}},\"type\":\"scatterpolar\"}],\"scatter\":[{\"fillpattern\":{\"fillmode\":\"overlay\",\"size\":10,\"solidity\":0.2},\"type\":\"scatter\"}],\"scatterternary\":[{\"marker\":{\"colorbar\":{\"outlinewidth\":0,\"ticks\":\"\"}},\"type\":\"scatterternary\"}],\"surface\":[{\"colorbar\":{\"outlinewidth\":0,\"ticks\":\"\"},\"colorscale\":[[0.0,\"#0d0887\"],[0.1111111111111111,\"#46039f\"],[0.2222222222222222,\"#7201a8\"],[0.3333333333333333,\"#9c179e\"],[0.4444444444444444,\"#bd3786\"],[0.5555555555555556,\"#d8576b\"],[0.6666666666666666,\"#ed7953\"],[0.7777777777777778,\"#fb9f3a\"],[0.8888888888888888,\"#fdca26\"],[1.0,\"#f0f921\"]],\"type\":\"surface\"}],\"table\":[{\"cells\":{\"fill\":{\"color\":\"#EBF0F8\"},\"line\":{\"color\":\"white\"}},\"header\":{\"fill\":{\"color\":\"#C8D4E3\"},\"line\":{\"color\":\"white\"}},\"type\":\"table\"}]},\"layout\":{\"annotationdefaults\":{\"arrowcolor\":\"#2a3f5f\",\"arrowhead\":0,\"arrowwidth\":1},\"autotypenumbers\":\"strict\",\"coloraxis\":{\"colorbar\":{\"outlinewidth\":0,\"ticks\":\"\"}},\"colorscale\":{\"diverging\":[[0,\"#8e0152\"],[0.1,\"#c51b7d\"],[0.2,\"#de77ae\"],[0.3,\"#f1b6da\"],[0.4,\"#fde0ef\"],[0.5,\"#f7f7f7\"],[0.6,\"#e6f5d0\"],[0.7,\"#b8e186\"],[0.8,\"#7fbc41\"],[0.9,\"#4d9221\"],[1,\"#276419\"]],\"sequential\":[[0.0,\"#0d0887\"],[0.1111111111111111,\"#46039f\"],[0.2222222222222222,\"#7201a8\"],[0.3333333333333333,\"#9c179e\"],[0.4444444444444444,\"#bd3786\"],[0.5555555555555556,\"#d8576b\"],[0.6666666666666666,\"#ed7953\"],[0.7777777777777778,\"#fb9f3a\"],[0.8888888888888888,\"#fdca26\"],[1.0,\"#f0f921\"]],\"sequentialminus\":[[0.0,\"#0d0887\"],[0.1111111111111111,\"#46039f\"],[0.2222222222222222,\"#7201a8\"],[0.3333333333333333,\"#9c179e\"],[0.4444444444444444,\"#bd3786\"],[0.5555555555555556,\"#d8576b\"],[0.6666666666666666,\"#ed7953\"],[0.7777777777777778,\"#fb9f3a\"],[0.8888888888888888,\"#fdca26\"],[1.0,\"#f0f921\"]]},\"colorway\":[\"#636efa\",\"#EF553B\",\"#00cc96\",\"#ab63fa\",\"#FFA15A\",\"#19d3f3\",\"#FF6692\",\"#B6E880\",\"#FF97FF\",\"#FECB52\"],\"font\":{\"color\":\"#2a3f5f\"},\"geo\":{\"bgcolor\":\"white\",\"lakecolor\":\"white\",\"landcolor\":\"#E5ECF6\",\"showlakes\":true,\"showland\":true,\"subunitcolor\":\"white\"},\"hoverlabel\":{\"align\":\"left\"},\"hovermode\":\"closest\",\"mapbox\":{\"style\":\"light\"},\"paper_bgcolor\":\"white\",\"plot_bgcolor\":\"#E5ECF6\",\"polar\":{\"angularaxis\":{\"gridcolor\":\"white\",\"linecolor\":\"white\",\"ticks\":\"\"},\"bgcolor\":\"#E5ECF6\",\"radialaxis\":{\"gridcolor\":\"white\",\"linecolor\":\"white\",\"ticks\":\"\"}},\"scene\":{\"xaxis\":{\"backgroundcolor\":\"#E5ECF6\",\"gridcolor\":\"white\",\"gridwidth\":2,\"linecolor\":\"white\",\"showbackground\":true,\"ticks\":\"\",\"zerolinecolor\":\"white\"},\"yaxis\":{\"backgroundcolor\":\"#E5ECF6\",\"gridcolor\":\"white\",\"gridwidth\":2,\"linecolor\":\"white\",\"showbackground\":true,\"ticks\":\"\",\"zerolinecolor\":\"white\"},\"zaxis\":{\"backgroundcolor\":\"#E5ECF6\",\"gridcolor\":\"white\",\"gridwidth\":2,\"linecolor\":\"white\",\"showbackground\":true,\"ticks\":\"\",\"zerolinecolor\":\"white\"}},\"shapedefaults\":{\"line\":{\"color\":\"#2a3f5f\"}},\"ternary\":{\"aaxis\":{\"gridcolor\":\"white\",\"linecolor\":\"white\",\"ticks\":\"\"},\"baxis\":{\"gridcolor\":\"white\",\"linecolor\":\"white\",\"ticks\":\"\"},\"bgcolor\":\"#E5ECF6\",\"caxis\":{\"gridcolor\":\"white\",\"linecolor\":\"white\",\"ticks\":\"\"}},\"title\":{\"x\":0.05},\"xaxis\":{\"automargin\":true,\"gridcolor\":\"white\",\"linecolor\":\"white\",\"ticks\":\"\",\"title\":{\"standoff\":15},\"zerolinecolor\":\"white\",\"zerolinewidth\":2},\"yaxis\":{\"automargin\":true,\"gridcolor\":\"white\",\"linecolor\":\"white\",\"ticks\":\"\",\"title\":{\"standoff\":15},\"zerolinecolor\":\"white\",\"zerolinewidth\":2}}},\"title\":{\"font\":{\"color\":\"#4D5663\"}},\"xaxis\":{\"gridcolor\":\"#E1E5ED\",\"showgrid\":true,\"tickfont\":{\"color\":\"#4D5663\"},\"title\":{\"font\":{\"color\":\"#4D5663\"},\"text\":\"\"},\"zerolinecolor\":\"#E1E5ED\"},\"yaxis\":{\"gridcolor\":\"#E1E5ED\",\"showgrid\":true,\"tickfont\":{\"color\":\"#4D5663\"},\"title\":{\"font\":{\"color\":\"#4D5663\"},\"text\":\"\"},\"zerolinecolor\":\"#E1E5ED\"}},                        {\"showLink\": true, \"linkText\": \"Export to plot.ly\", \"plotlyServerURL\": \"https://plot.ly\", \"responsive\": true}                    ).then(function(){\n",
       "                            \n",
       "var gd = document.getElementById('a09fd0c2-16d1-4160-8048-a9a0cb40c369');\n",
       "var x = new MutationObserver(function (mutations, observer) {{\n",
       "        var display = window.getComputedStyle(gd).display;\n",
       "        if (!display || display === 'none') {{\n",
       "            console.log([gd, 'removed!']);\n",
       "            Plotly.purge(gd);\n",
       "            observer.disconnect();\n",
       "        }}\n",
       "}});\n",
       "\n",
       "// Listen for the removal of the full notebook cells\n",
       "var notebookContainer = gd.closest('#notebook-container');\n",
       "if (notebookContainer) {{\n",
       "    x.observe(notebookContainer, {childList: true});\n",
       "}}\n",
       "\n",
       "// Listen for the clearing of the current output cell\n",
       "var outputEl = gd.closest('.output');\n",
       "if (outputEl) {{\n",
       "    x.observe(outputEl, {childList: true});\n",
       "}}\n",
       "\n",
       "                        })                };                });            </script>        </div>"
      ]
     },
     "metadata": {},
     "output_type": "display_data"
    }
   ],
   "source": [
    "df.iplot(kind=\"bubble\", x=\"A\", y=\"B\", size=\"C\", colorscale=\"rdylbu\")"
   ]
  },
  {
   "cell_type": "code",
   "execution_count": 33,
   "id": "b05fd678",
   "metadata": {},
   "outputs": [
    {
     "data": {
      "application/vnd.plotly.v1+json": {
       "config": {
        "linkText": "Export to plot.ly",
        "plotlyServerURL": "https://plot.ly",
        "showLink": true
       },
       "data": [
        {
         "histfunc": "count",
         "histnorm": "",
         "marker": {
          "color": "rgba(255, 153, 51, 1.0)",
          "line": {
           "color": "#4D5663",
           "width": 1.3
          }
         },
         "name": "A",
         "nbinsx": 10,
         "opacity": 0.8,
         "orientation": "v",
         "type": "histogram",
         "x": [
          -0.629400460736606,
          -0.3902511837428377,
          -0.5591700478406222,
          -0.5015750659259559,
          -0.6028247757790585,
          -1.7552895707056984,
          0.3728303295489695,
          -0.9949058872060896,
          1.383786061209142,
          -0.7478723956059203,
          0.06816934594778336,
          0.3141341819011735,
          -1.4434647152951174,
          0.4279880196945129,
          -2.7094890740900803,
          0.13506963265460648,
          -0.3362772326824624,
          -1.003162479173856,
          -0.9417909848304834,
          0.12809221322659364,
          -0.9761844606375003,
          0.851597093857289,
          -0.2174753543117878,
          0.16923231361532318,
          -1.196108833893656,
          -1.4490166364502461,
          -0.43386109420639013,
          1.097856069838825,
          -0.3105310538314359,
          -0.3169866600355245,
          1.592962498055057,
          0.9758423831858871,
          -1.3671182139924076,
          0.7817958007205139,
          -1.3911274721075122,
          0.12975350981883296,
          1.13847634366471,
          1.8672274817233254,
          -0.7504577680021094,
          1.7846896247177337,
          1.0793488689838349,
          -1.0844765858716827,
          -0.3516404570166523,
          0.9227502103917912,
          0.3755932851618663,
          0.3778890996717057,
          1.680119511266985,
          -0.4599735982942427,
          1.5985393735185909,
          1.0563349091055834,
          -1.0911352575440694,
          1.7417271070535496,
          -1.3100266243771161,
          -0.3876135929450466,
          0.9025719152875156,
          1.401243501430797,
          -1.2969497206273086,
          -1.2048928883655137,
          1.3573070492269648,
          0.05766322435151034,
          0.29981192742332086,
          1.5170818674960982,
          2.155478704025667,
          0.8024742835998596,
          0.40266903970292495,
          -1.3623380036310104,
          -0.9347835030015103,
          -0.023410056738022517,
          -1.072457943276233,
          0.8831066668343588,
          1.8136193860509642,
          -0.18934701060634257,
          -0.7986253409908879,
          1.6043882256104582,
          -1.3412563333112506,
          -1.5577062645161655,
          -1.3566037510986833,
          0.04005495647472767,
          0.2708046082479397,
          -0.9634981045226241,
          0.8583993616190417,
          -0.6470050959406236,
          -0.5512575986366849,
          2.071338692577119,
          1.5052688721826468,
          -0.617246691643328,
          1.4552686037187066,
          0.5720417545278373,
          -1.1152513286714432,
          1.7410978052511834,
          0.8914819708996335,
          -0.6908395795783034,
          1.414032221853257,
          -1.2057589945974467,
          0.6833974114014549,
          -1.2187494324750037,
          0.025605567304754343,
          -0.6574804043471983,
          0.04405104857084567,
          1.33018346090302
         ],
         "xaxis": "x",
         "yaxis": "y"
        },
        {
         "line": {
          "color": "rgba(128, 128, 128, 1.0)",
          "dash": "solid",
          "shape": "linear",
          "width": 1.3
         },
         "marker": {
          "size": 2,
          "symbol": "circle"
         },
         "mode": "markers",
         "name": "A",
         "text": "",
         "type": "scatter",
         "x": [
          0.4103450482823756,
          -0.23277879634899593,
          -0.45086136540875726,
          -0.08376735759564617,
          0.013872231247996124,
          -0.07072690859130389,
          0.30681170864600404,
          1.2902872300683392,
          -0.3265296450613535,
          0.10747041706050438,
          -0.4891966860282878,
          0.1321546966645771,
          2.2002266533209984,
          2.827921795219644,
          1.4213390904822027,
          -0.40481684699662795,
          0.8777377019046946,
          -0.5915210626668627,
          0.23237752609932294,
          0.10802408268723265,
          -0.4989964964726072,
          -0.17693190406338596,
          0.31980787789478055,
          0.8585326836819313,
          -1.5714924413997264,
          -0.5285087993679705,
          0.4446605522951421,
          -0.4261044334302472,
          0.04041835504896138,
          -0.2102461439854402,
          0.8853158428254773,
          -0.9926023261355174,
          0.7837779223912771,
          1.6207142996018502,
          -0.31222240376226895,
          0.21669648190985635,
          -0.005778545670522539,
          0.2424273620179277,
          1.0604864388343094,
          0.5405949217925212,
          -0.028827349523677923,
          -0.19992850944368576,
          -0.07932311155494266,
          -1.487415209783587,
          0.25772607668232306,
          0.659067678454487,
          0.7764559512979428,
          1.1811473518576816,
          1.269253528510618,
          -0.10593976314056446,
          -2.2033948416823987,
          -0.26099399205439405,
          -0.035842618820022584,
          -0.436740003503195,
          -0.7347854957866872,
          -1.474470346831659,
          0.2856744360831367,
          -0.6987609147597583,
          0.25012931898644164,
          -1.3175865204408947,
          0.09478695458135028,
          1.8709144399634727,
          0.26797206469934276,
          -1.3953358629453787,
          -0.6945329566849582,
          1.555621068767977,
          0.8283772246580962,
          -0.8420550563881509,
          0.805777476671103,
          -1.1529198884152143,
          -0.13563746306624466,
          -0.24579363705319546,
          -0.846884195632001,
          -0.6643522082710484,
          0.7052085498958576,
          -1.6877108081600287,
          0.020389419260974217,
          -0.41756781346012556,
          -0.8676788986975928,
          -2.5653389961604987,
          -0.34799695926298335,
          0.7409356257488319,
          0.4199756934089848,
          -0.18905296451511472,
          -0.7275775921980504,
          -1.7658346002170116,
          -0.8494415212511488,
          0.06516189570040587,
          -1.0812781607038502,
          1.182463220527681,
          -0.1828465609009514,
          -1.6925573120184574,
          0.2528746913720982,
          1.2151401118568756,
          -0.49604662980129016,
          -1.1333482603578835,
          -1.2871159652833557,
          1.2333219879816024,
          0.2863728726007531,
          -0.4379191310630423
         ],
         "xaxis": "x2",
         "y": [
          -0.629400460736606,
          -0.3902511837428377,
          -0.5591700478406222,
          -0.5015750659259559,
          -0.6028247757790585,
          -1.7552895707056984,
          0.3728303295489695,
          -0.9949058872060896,
          1.383786061209142,
          -0.7478723956059203,
          0.06816934594778336,
          0.3141341819011735,
          -1.4434647152951174,
          0.4279880196945129,
          -2.7094890740900803,
          0.13506963265460648,
          -0.3362772326824624,
          -1.003162479173856,
          -0.9417909848304834,
          0.12809221322659364,
          -0.9761844606375003,
          0.851597093857289,
          -0.2174753543117878,
          0.16923231361532318,
          -1.196108833893656,
          -1.4490166364502461,
          -0.43386109420639013,
          1.097856069838825,
          -0.3105310538314359,
          -0.3169866600355245,
          1.592962498055057,
          0.9758423831858871,
          -1.3671182139924076,
          0.7817958007205139,
          -1.3911274721075122,
          0.12975350981883296,
          1.13847634366471,
          1.8672274817233254,
          -0.7504577680021094,
          1.7846896247177337,
          1.0793488689838349,
          -1.0844765858716827,
          -0.3516404570166523,
          0.9227502103917912,
          0.3755932851618663,
          0.3778890996717057,
          1.680119511266985,
          -0.4599735982942427,
          1.5985393735185909,
          1.0563349091055834,
          -1.0911352575440694,
          1.7417271070535496,
          -1.3100266243771161,
          -0.3876135929450466,
          0.9025719152875156,
          1.401243501430797,
          -1.2969497206273086,
          -1.2048928883655137,
          1.3573070492269648,
          0.05766322435151034,
          0.29981192742332086,
          1.5170818674960982,
          2.155478704025667,
          0.8024742835998596,
          0.40266903970292495,
          -1.3623380036310104,
          -0.9347835030015103,
          -0.023410056738022517,
          -1.072457943276233,
          0.8831066668343588,
          1.8136193860509642,
          -0.18934701060634257,
          -0.7986253409908879,
          1.6043882256104582,
          -1.3412563333112506,
          -1.5577062645161655,
          -1.3566037510986833,
          0.04005495647472767,
          0.2708046082479397,
          -0.9634981045226241,
          0.8583993616190417,
          -0.6470050959406236,
          -0.5512575986366849,
          2.071338692577119,
          1.5052688721826468,
          -0.617246691643328,
          1.4552686037187066,
          0.5720417545278373,
          -1.1152513286714432,
          1.7410978052511834,
          0.8914819708996335,
          -0.6908395795783034,
          1.414032221853257,
          -1.2057589945974467,
          0.6833974114014549,
          -1.2187494324750037,
          0.025605567304754343,
          -0.6574804043471983,
          0.04405104857084567,
          1.33018346090302
         ],
         "yaxis": "y2"
        },
        {
         "line": {
          "color": "rgba(128, 128, 128, 1.0)",
          "dash": "solid",
          "shape": "linear",
          "width": 1.3
         },
         "marker": {
          "size": 2,
          "symbol": "circle"
         },
         "mode": "markers",
         "name": "A",
         "text": "",
         "type": "scatter",
         "x": [
          -0.32674355923381754,
          0.40244699964955477,
          0.24482868903319657,
          -0.49374567931671604,
          -1.2201447433844579,
          0.004506024629842515,
          0.46367005451863835,
          -1.0189990787588659,
          -0.7441279603914729,
          0.06579240859254595,
          0.4655232330710052,
          -1.7397582276065648,
          -0.2680109999716551,
          -0.3121280084283826,
          2.2147166613040756,
          -0.776459612467547,
          1.1866613499014753,
          0.5712085818037482,
          0.10230286214004662,
          -1.7717736504597807,
          -0.12369375914161404,
          -0.8700598280752807,
          1.2674112450150417,
          -0.5544308562984243,
          -0.1848548987667389,
          1.2423846567498795,
          1.5067794217195456,
          0.6044283478894678,
          0.5880033731238098,
          -0.8437357875998986,
          -0.48697936309314555,
          -0.40532845113414234,
          -0.35649858635655013,
          -1.5837522177192378,
          0.03464395879348093,
          -0.8460718105545953,
          0.27952688155005845,
          0.4487023136210964,
          0.00013119227840028668,
          -0.5948524567042549,
          -0.4705775864489385,
          -0.2739885585266081,
          0.6160535978917444,
          -0.48980496576238214,
          0.3956075539415357,
          -1.8405778475632646,
          -1.2020297526725154,
          -0.7863386287429571,
          -0.21712607454468716,
          -0.816518832493915,
          -0.4436876464865272,
          0.5008123594560738,
          -1.838178531281376,
          0.9422468116083216,
          1.4317527648889325,
          0.922568449925848,
          1.7661596286173802,
          0.31113001181453587,
          0.8908248687621048,
          0.7280432707682472,
          -0.8572117637594926,
          1.084921920807178,
          0.43600039278421254,
          -0.5641287287786603,
          -0.8257443812945842,
          0.054357982486677524,
          0.04225146811206106,
          -1.6548714332099215,
          -1.2128389576271554,
          0.11233504238923263,
          -0.6533567187978976,
          -0.9782158093971358,
          0.6045335366695211,
          -0.05072076055391424,
          -2.0447571350618263,
          0.7009592840678283,
          -0.5151150469908776,
          -1.1337579775447795,
          0.14115564681136036,
          0.5153883494625351,
          -0.54532985350259,
          0.36943192519387225,
          -0.07295208056302716,
          -0.30623678841089497,
          0.7594892264036471,
          -1.1681466459046683,
          0.9721186394715218,
          0.23729676333646912,
          -1.3664005827427874,
          0.5225651257445344,
          -0.18443991163904327,
          -0.048962793929122485,
          0.614506295484835,
          -0.5004874102520577,
          -1.7507953222473616,
          0.15042534555901244,
          -0.65915182204999,
          -2.4101607041387823,
          -0.1596363821821437,
          -0.9858044319691249
         ],
         "xaxis": "x3",
         "y": [
          -0.629400460736606,
          -0.3902511837428377,
          -0.5591700478406222,
          -0.5015750659259559,
          -0.6028247757790585,
          -1.7552895707056984,
          0.3728303295489695,
          -0.9949058872060896,
          1.383786061209142,
          -0.7478723956059203,
          0.06816934594778336,
          0.3141341819011735,
          -1.4434647152951174,
          0.4279880196945129,
          -2.7094890740900803,
          0.13506963265460648,
          -0.3362772326824624,
          -1.003162479173856,
          -0.9417909848304834,
          0.12809221322659364,
          -0.9761844606375003,
          0.851597093857289,
          -0.2174753543117878,
          0.16923231361532318,
          -1.196108833893656,
          -1.4490166364502461,
          -0.43386109420639013,
          1.097856069838825,
          -0.3105310538314359,
          -0.3169866600355245,
          1.592962498055057,
          0.9758423831858871,
          -1.3671182139924076,
          0.7817958007205139,
          -1.3911274721075122,
          0.12975350981883296,
          1.13847634366471,
          1.8672274817233254,
          -0.7504577680021094,
          1.7846896247177337,
          1.0793488689838349,
          -1.0844765858716827,
          -0.3516404570166523,
          0.9227502103917912,
          0.3755932851618663,
          0.3778890996717057,
          1.680119511266985,
          -0.4599735982942427,
          1.5985393735185909,
          1.0563349091055834,
          -1.0911352575440694,
          1.7417271070535496,
          -1.3100266243771161,
          -0.3876135929450466,
          0.9025719152875156,
          1.401243501430797,
          -1.2969497206273086,
          -1.2048928883655137,
          1.3573070492269648,
          0.05766322435151034,
          0.29981192742332086,
          1.5170818674960982,
          2.155478704025667,
          0.8024742835998596,
          0.40266903970292495,
          -1.3623380036310104,
          -0.9347835030015103,
          -0.023410056738022517,
          -1.072457943276233,
          0.8831066668343588,
          1.8136193860509642,
          -0.18934701060634257,
          -0.7986253409908879,
          1.6043882256104582,
          -1.3412563333112506,
          -1.5577062645161655,
          -1.3566037510986833,
          0.04005495647472767,
          0.2708046082479397,
          -0.9634981045226241,
          0.8583993616190417,
          -0.6470050959406236,
          -0.5512575986366849,
          2.071338692577119,
          1.5052688721826468,
          -0.617246691643328,
          1.4552686037187066,
          0.5720417545278373,
          -1.1152513286714432,
          1.7410978052511834,
          0.8914819708996335,
          -0.6908395795783034,
          1.414032221853257,
          -1.2057589945974467,
          0.6833974114014549,
          -1.2187494324750037,
          0.025605567304754343,
          -0.6574804043471983,
          0.04405104857084567,
          1.33018346090302
         ],
         "yaxis": "y3"
        },
        {
         "line": {
          "color": "rgba(128, 128, 128, 1.0)",
          "dash": "solid",
          "shape": "linear",
          "width": 1.3
         },
         "marker": {
          "size": 2,
          "symbol": "circle"
         },
         "mode": "markers",
         "name": "A",
         "text": "",
         "type": "scatter",
         "x": [
          -0.42495632416362067,
          0.8325265519810885,
          -0.41911791103881446,
          2.1290907938799504,
          0.12068143333495143,
          0.012221910404676036,
          0.29031810331831925,
          0.34096729779845786,
          -0.24302774524268406,
          0.2869729181989335,
          1.6372132871706904,
          -1.4226195793051388,
          1.0971494402220232,
          0.67966288456736,
          0.5339049910679026,
          0.45736271376769905,
          -0.45510419902580557,
          -0.3932393616156436,
          0.466817139923934,
          1.497844827168445,
          -1.325521570597829,
          -0.1871898889980444,
          -0.03110727076174676,
          -0.2169289706021411,
          0.07352116798930584,
          0.5616097558817075,
          -2.2758808751813464,
          -1.6843647156809265,
          -0.053626659142203804,
          0.8285297602516946,
          0.5031952908874641,
          0.7742611547280526,
          0.30977601097773005,
          -0.6448182416719543,
          0.41134042999485876,
          1.297968755471327,
          0.6481172912799048,
          1.453504381327387,
          -1.3076413654255914,
          1.0480380260485127,
          0.032755979578507725,
          -0.0677724367996154,
          0.9656416477754153,
          -0.7513501377357203,
          0.5538732260110499,
          -1.1817042441457228,
          -0.07720356053801292,
          1.1598514163895763,
          -0.5819603985102525,
          -0.4679887971599426,
          -0.1818053718793275,
          1.2482551283645513,
          -0.25725743625096636,
          0.36756810684167657,
          0.0860336525121043,
          1.168205440899212,
          1.5959072680011253,
          -0.15628615314286387,
          -1.5325700210053528,
          0.5950529492192775,
          3.519062056532625,
          0.013355969831628805,
          -1.7606935657195237,
          -0.9810601023543031,
          -2.057710067188469,
          0.34580856858318654,
          -0.5166413986754491,
          0.141205377598102,
          -1.4421536872936562,
          -1.0227308885560844,
          -2.402020244041431,
          -0.6930406350102891,
          -0.28910592124451034,
          0.748899899221347,
          0.1907017121982691,
          0.49364605950994267,
          -0.2542607308582154,
          0.6439407866406093,
          1.8687980965623137,
          1.2634599379249947,
          -0.37411373333150033,
          -0.47044775439277026,
          0.5867185909149113,
          -0.11819802264236594,
          -1.2575413955158006,
          0.9866017815001976,
          2.2323248886734457,
          -0.677751749884955,
          -1.1775958410438587,
          0.10565606367106475,
          0.06620888178107337,
          0.13527616449929697,
          -2.753218828512755,
          -0.6727188261875051,
          0.7129879960144745,
          0.34402673656226707,
          -1.1529829205657744,
          0.9509513233287092,
          -1.6356655017467705,
          -0.4259335595602935
         ],
         "xaxis": "x4",
         "y": [
          -0.629400460736606,
          -0.3902511837428377,
          -0.5591700478406222,
          -0.5015750659259559,
          -0.6028247757790585,
          -1.7552895707056984,
          0.3728303295489695,
          -0.9949058872060896,
          1.383786061209142,
          -0.7478723956059203,
          0.06816934594778336,
          0.3141341819011735,
          -1.4434647152951174,
          0.4279880196945129,
          -2.7094890740900803,
          0.13506963265460648,
          -0.3362772326824624,
          -1.003162479173856,
          -0.9417909848304834,
          0.12809221322659364,
          -0.9761844606375003,
          0.851597093857289,
          -0.2174753543117878,
          0.16923231361532318,
          -1.196108833893656,
          -1.4490166364502461,
          -0.43386109420639013,
          1.097856069838825,
          -0.3105310538314359,
          -0.3169866600355245,
          1.592962498055057,
          0.9758423831858871,
          -1.3671182139924076,
          0.7817958007205139,
          -1.3911274721075122,
          0.12975350981883296,
          1.13847634366471,
          1.8672274817233254,
          -0.7504577680021094,
          1.7846896247177337,
          1.0793488689838349,
          -1.0844765858716827,
          -0.3516404570166523,
          0.9227502103917912,
          0.3755932851618663,
          0.3778890996717057,
          1.680119511266985,
          -0.4599735982942427,
          1.5985393735185909,
          1.0563349091055834,
          -1.0911352575440694,
          1.7417271070535496,
          -1.3100266243771161,
          -0.3876135929450466,
          0.9025719152875156,
          1.401243501430797,
          -1.2969497206273086,
          -1.2048928883655137,
          1.3573070492269648,
          0.05766322435151034,
          0.29981192742332086,
          1.5170818674960982,
          2.155478704025667,
          0.8024742835998596,
          0.40266903970292495,
          -1.3623380036310104,
          -0.9347835030015103,
          -0.023410056738022517,
          -1.072457943276233,
          0.8831066668343588,
          1.8136193860509642,
          -0.18934701060634257,
          -0.7986253409908879,
          1.6043882256104582,
          -1.3412563333112506,
          -1.5577062645161655,
          -1.3566037510986833,
          0.04005495647472767,
          0.2708046082479397,
          -0.9634981045226241,
          0.8583993616190417,
          -0.6470050959406236,
          -0.5512575986366849,
          2.071338692577119,
          1.5052688721826468,
          -0.617246691643328,
          1.4552686037187066,
          0.5720417545278373,
          -1.1152513286714432,
          1.7410978052511834,
          0.8914819708996335,
          -0.6908395795783034,
          1.414032221853257,
          -1.2057589945974467,
          0.6833974114014549,
          -1.2187494324750037,
          0.025605567304754343,
          -0.6574804043471983,
          0.04405104857084567,
          1.33018346090302
         ],
         "yaxis": "y4"
        },
        {
         "line": {
          "color": "rgba(128, 128, 128, 1.0)",
          "dash": "solid",
          "shape": "linear",
          "width": 1.3
         },
         "marker": {
          "size": 2,
          "symbol": "circle"
         },
         "mode": "markers",
         "name": "B",
         "text": "",
         "type": "scatter",
         "x": [
          -0.629400460736606,
          -0.3902511837428377,
          -0.5591700478406222,
          -0.5015750659259559,
          -0.6028247757790585,
          -1.7552895707056984,
          0.3728303295489695,
          -0.9949058872060896,
          1.383786061209142,
          -0.7478723956059203,
          0.06816934594778336,
          0.3141341819011735,
          -1.4434647152951174,
          0.4279880196945129,
          -2.7094890740900803,
          0.13506963265460648,
          -0.3362772326824624,
          -1.003162479173856,
          -0.9417909848304834,
          0.12809221322659364,
          -0.9761844606375003,
          0.851597093857289,
          -0.2174753543117878,
          0.16923231361532318,
          -1.196108833893656,
          -1.4490166364502461,
          -0.43386109420639013,
          1.097856069838825,
          -0.3105310538314359,
          -0.3169866600355245,
          1.592962498055057,
          0.9758423831858871,
          -1.3671182139924076,
          0.7817958007205139,
          -1.3911274721075122,
          0.12975350981883296,
          1.13847634366471,
          1.8672274817233254,
          -0.7504577680021094,
          1.7846896247177337,
          1.0793488689838349,
          -1.0844765858716827,
          -0.3516404570166523,
          0.9227502103917912,
          0.3755932851618663,
          0.3778890996717057,
          1.680119511266985,
          -0.4599735982942427,
          1.5985393735185909,
          1.0563349091055834,
          -1.0911352575440694,
          1.7417271070535496,
          -1.3100266243771161,
          -0.3876135929450466,
          0.9025719152875156,
          1.401243501430797,
          -1.2969497206273086,
          -1.2048928883655137,
          1.3573070492269648,
          0.05766322435151034,
          0.29981192742332086,
          1.5170818674960982,
          2.155478704025667,
          0.8024742835998596,
          0.40266903970292495,
          -1.3623380036310104,
          -0.9347835030015103,
          -0.023410056738022517,
          -1.072457943276233,
          0.8831066668343588,
          1.8136193860509642,
          -0.18934701060634257,
          -0.7986253409908879,
          1.6043882256104582,
          -1.3412563333112506,
          -1.5577062645161655,
          -1.3566037510986833,
          0.04005495647472767,
          0.2708046082479397,
          -0.9634981045226241,
          0.8583993616190417,
          -0.6470050959406236,
          -0.5512575986366849,
          2.071338692577119,
          1.5052688721826468,
          -0.617246691643328,
          1.4552686037187066,
          0.5720417545278373,
          -1.1152513286714432,
          1.7410978052511834,
          0.8914819708996335,
          -0.6908395795783034,
          1.414032221853257,
          -1.2057589945974467,
          0.6833974114014549,
          -1.2187494324750037,
          0.025605567304754343,
          -0.6574804043471983,
          0.04405104857084567,
          1.33018346090302
         ],
         "xaxis": "x5",
         "y": [
          0.4103450482823756,
          -0.23277879634899593,
          -0.45086136540875726,
          -0.08376735759564617,
          0.013872231247996124,
          -0.07072690859130389,
          0.30681170864600404,
          1.2902872300683392,
          -0.3265296450613535,
          0.10747041706050438,
          -0.4891966860282878,
          0.1321546966645771,
          2.2002266533209984,
          2.827921795219644,
          1.4213390904822027,
          -0.40481684699662795,
          0.8777377019046946,
          -0.5915210626668627,
          0.23237752609932294,
          0.10802408268723265,
          -0.4989964964726072,
          -0.17693190406338596,
          0.31980787789478055,
          0.8585326836819313,
          -1.5714924413997264,
          -0.5285087993679705,
          0.4446605522951421,
          -0.4261044334302472,
          0.04041835504896138,
          -0.2102461439854402,
          0.8853158428254773,
          -0.9926023261355174,
          0.7837779223912771,
          1.6207142996018502,
          -0.31222240376226895,
          0.21669648190985635,
          -0.005778545670522539,
          0.2424273620179277,
          1.0604864388343094,
          0.5405949217925212,
          -0.028827349523677923,
          -0.19992850944368576,
          -0.07932311155494266,
          -1.487415209783587,
          0.25772607668232306,
          0.659067678454487,
          0.7764559512979428,
          1.1811473518576816,
          1.269253528510618,
          -0.10593976314056446,
          -2.2033948416823987,
          -0.26099399205439405,
          -0.035842618820022584,
          -0.436740003503195,
          -0.7347854957866872,
          -1.474470346831659,
          0.2856744360831367,
          -0.6987609147597583,
          0.25012931898644164,
          -1.3175865204408947,
          0.09478695458135028,
          1.8709144399634727,
          0.26797206469934276,
          -1.3953358629453787,
          -0.6945329566849582,
          1.555621068767977,
          0.8283772246580962,
          -0.8420550563881509,
          0.805777476671103,
          -1.1529198884152143,
          -0.13563746306624466,
          -0.24579363705319546,
          -0.846884195632001,
          -0.6643522082710484,
          0.7052085498958576,
          -1.6877108081600287,
          0.020389419260974217,
          -0.41756781346012556,
          -0.8676788986975928,
          -2.5653389961604987,
          -0.34799695926298335,
          0.7409356257488319,
          0.4199756934089848,
          -0.18905296451511472,
          -0.7275775921980504,
          -1.7658346002170116,
          -0.8494415212511488,
          0.06516189570040587,
          -1.0812781607038502,
          1.182463220527681,
          -0.1828465609009514,
          -1.6925573120184574,
          0.2528746913720982,
          1.2151401118568756,
          -0.49604662980129016,
          -1.1333482603578835,
          -1.2871159652833557,
          1.2333219879816024,
          0.2863728726007531,
          -0.4379191310630423
         ],
         "yaxis": "y5"
        },
        {
         "histfunc": "count",
         "histnorm": "",
         "marker": {
          "color": "rgba(55, 128, 191, 1.0)",
          "line": {
           "color": "#4D5663",
           "width": 1.3
          }
         },
         "name": "B",
         "nbinsx": 10,
         "opacity": 0.8,
         "orientation": "v",
         "type": "histogram",
         "x": [
          0.4103450482823756,
          -0.23277879634899593,
          -0.45086136540875726,
          -0.08376735759564617,
          0.013872231247996124,
          -0.07072690859130389,
          0.30681170864600404,
          1.2902872300683392,
          -0.3265296450613535,
          0.10747041706050438,
          -0.4891966860282878,
          0.1321546966645771,
          2.2002266533209984,
          2.827921795219644,
          1.4213390904822027,
          -0.40481684699662795,
          0.8777377019046946,
          -0.5915210626668627,
          0.23237752609932294,
          0.10802408268723265,
          -0.4989964964726072,
          -0.17693190406338596,
          0.31980787789478055,
          0.8585326836819313,
          -1.5714924413997264,
          -0.5285087993679705,
          0.4446605522951421,
          -0.4261044334302472,
          0.04041835504896138,
          -0.2102461439854402,
          0.8853158428254773,
          -0.9926023261355174,
          0.7837779223912771,
          1.6207142996018502,
          -0.31222240376226895,
          0.21669648190985635,
          -0.005778545670522539,
          0.2424273620179277,
          1.0604864388343094,
          0.5405949217925212,
          -0.028827349523677923,
          -0.19992850944368576,
          -0.07932311155494266,
          -1.487415209783587,
          0.25772607668232306,
          0.659067678454487,
          0.7764559512979428,
          1.1811473518576816,
          1.269253528510618,
          -0.10593976314056446,
          -2.2033948416823987,
          -0.26099399205439405,
          -0.035842618820022584,
          -0.436740003503195,
          -0.7347854957866872,
          -1.474470346831659,
          0.2856744360831367,
          -0.6987609147597583,
          0.25012931898644164,
          -1.3175865204408947,
          0.09478695458135028,
          1.8709144399634727,
          0.26797206469934276,
          -1.3953358629453787,
          -0.6945329566849582,
          1.555621068767977,
          0.8283772246580962,
          -0.8420550563881509,
          0.805777476671103,
          -1.1529198884152143,
          -0.13563746306624466,
          -0.24579363705319546,
          -0.846884195632001,
          -0.6643522082710484,
          0.7052085498958576,
          -1.6877108081600287,
          0.020389419260974217,
          -0.41756781346012556,
          -0.8676788986975928,
          -2.5653389961604987,
          -0.34799695926298335,
          0.7409356257488319,
          0.4199756934089848,
          -0.18905296451511472,
          -0.7275775921980504,
          -1.7658346002170116,
          -0.8494415212511488,
          0.06516189570040587,
          -1.0812781607038502,
          1.182463220527681,
          -0.1828465609009514,
          -1.6925573120184574,
          0.2528746913720982,
          1.2151401118568756,
          -0.49604662980129016,
          -1.1333482603578835,
          -1.2871159652833557,
          1.2333219879816024,
          0.2863728726007531,
          -0.4379191310630423
         ],
         "xaxis": "x6",
         "yaxis": "y6"
        },
        {
         "line": {
          "color": "rgba(128, 128, 128, 1.0)",
          "dash": "solid",
          "shape": "linear",
          "width": 1.3
         },
         "marker": {
          "size": 2,
          "symbol": "circle"
         },
         "mode": "markers",
         "name": "B",
         "text": "",
         "type": "scatter",
         "x": [
          -0.32674355923381754,
          0.40244699964955477,
          0.24482868903319657,
          -0.49374567931671604,
          -1.2201447433844579,
          0.004506024629842515,
          0.46367005451863835,
          -1.0189990787588659,
          -0.7441279603914729,
          0.06579240859254595,
          0.4655232330710052,
          -1.7397582276065648,
          -0.2680109999716551,
          -0.3121280084283826,
          2.2147166613040756,
          -0.776459612467547,
          1.1866613499014753,
          0.5712085818037482,
          0.10230286214004662,
          -1.7717736504597807,
          -0.12369375914161404,
          -0.8700598280752807,
          1.2674112450150417,
          -0.5544308562984243,
          -0.1848548987667389,
          1.2423846567498795,
          1.5067794217195456,
          0.6044283478894678,
          0.5880033731238098,
          -0.8437357875998986,
          -0.48697936309314555,
          -0.40532845113414234,
          -0.35649858635655013,
          -1.5837522177192378,
          0.03464395879348093,
          -0.8460718105545953,
          0.27952688155005845,
          0.4487023136210964,
          0.00013119227840028668,
          -0.5948524567042549,
          -0.4705775864489385,
          -0.2739885585266081,
          0.6160535978917444,
          -0.48980496576238214,
          0.3956075539415357,
          -1.8405778475632646,
          -1.2020297526725154,
          -0.7863386287429571,
          -0.21712607454468716,
          -0.816518832493915,
          -0.4436876464865272,
          0.5008123594560738,
          -1.838178531281376,
          0.9422468116083216,
          1.4317527648889325,
          0.922568449925848,
          1.7661596286173802,
          0.31113001181453587,
          0.8908248687621048,
          0.7280432707682472,
          -0.8572117637594926,
          1.084921920807178,
          0.43600039278421254,
          -0.5641287287786603,
          -0.8257443812945842,
          0.054357982486677524,
          0.04225146811206106,
          -1.6548714332099215,
          -1.2128389576271554,
          0.11233504238923263,
          -0.6533567187978976,
          -0.9782158093971358,
          0.6045335366695211,
          -0.05072076055391424,
          -2.0447571350618263,
          0.7009592840678283,
          -0.5151150469908776,
          -1.1337579775447795,
          0.14115564681136036,
          0.5153883494625351,
          -0.54532985350259,
          0.36943192519387225,
          -0.07295208056302716,
          -0.30623678841089497,
          0.7594892264036471,
          -1.1681466459046683,
          0.9721186394715218,
          0.23729676333646912,
          -1.3664005827427874,
          0.5225651257445344,
          -0.18443991163904327,
          -0.048962793929122485,
          0.614506295484835,
          -0.5004874102520577,
          -1.7507953222473616,
          0.15042534555901244,
          -0.65915182204999,
          -2.4101607041387823,
          -0.1596363821821437,
          -0.9858044319691249
         ],
         "xaxis": "x7",
         "y": [
          0.4103450482823756,
          -0.23277879634899593,
          -0.45086136540875726,
          -0.08376735759564617,
          0.013872231247996124,
          -0.07072690859130389,
          0.30681170864600404,
          1.2902872300683392,
          -0.3265296450613535,
          0.10747041706050438,
          -0.4891966860282878,
          0.1321546966645771,
          2.2002266533209984,
          2.827921795219644,
          1.4213390904822027,
          -0.40481684699662795,
          0.8777377019046946,
          -0.5915210626668627,
          0.23237752609932294,
          0.10802408268723265,
          -0.4989964964726072,
          -0.17693190406338596,
          0.31980787789478055,
          0.8585326836819313,
          -1.5714924413997264,
          -0.5285087993679705,
          0.4446605522951421,
          -0.4261044334302472,
          0.04041835504896138,
          -0.2102461439854402,
          0.8853158428254773,
          -0.9926023261355174,
          0.7837779223912771,
          1.6207142996018502,
          -0.31222240376226895,
          0.21669648190985635,
          -0.005778545670522539,
          0.2424273620179277,
          1.0604864388343094,
          0.5405949217925212,
          -0.028827349523677923,
          -0.19992850944368576,
          -0.07932311155494266,
          -1.487415209783587,
          0.25772607668232306,
          0.659067678454487,
          0.7764559512979428,
          1.1811473518576816,
          1.269253528510618,
          -0.10593976314056446,
          -2.2033948416823987,
          -0.26099399205439405,
          -0.035842618820022584,
          -0.436740003503195,
          -0.7347854957866872,
          -1.474470346831659,
          0.2856744360831367,
          -0.6987609147597583,
          0.25012931898644164,
          -1.3175865204408947,
          0.09478695458135028,
          1.8709144399634727,
          0.26797206469934276,
          -1.3953358629453787,
          -0.6945329566849582,
          1.555621068767977,
          0.8283772246580962,
          -0.8420550563881509,
          0.805777476671103,
          -1.1529198884152143,
          -0.13563746306624466,
          -0.24579363705319546,
          -0.846884195632001,
          -0.6643522082710484,
          0.7052085498958576,
          -1.6877108081600287,
          0.020389419260974217,
          -0.41756781346012556,
          -0.8676788986975928,
          -2.5653389961604987,
          -0.34799695926298335,
          0.7409356257488319,
          0.4199756934089848,
          -0.18905296451511472,
          -0.7275775921980504,
          -1.7658346002170116,
          -0.8494415212511488,
          0.06516189570040587,
          -1.0812781607038502,
          1.182463220527681,
          -0.1828465609009514,
          -1.6925573120184574,
          0.2528746913720982,
          1.2151401118568756,
          -0.49604662980129016,
          -1.1333482603578835,
          -1.2871159652833557,
          1.2333219879816024,
          0.2863728726007531,
          -0.4379191310630423
         ],
         "yaxis": "y7"
        },
        {
         "line": {
          "color": "rgba(128, 128, 128, 1.0)",
          "dash": "solid",
          "shape": "linear",
          "width": 1.3
         },
         "marker": {
          "size": 2,
          "symbol": "circle"
         },
         "mode": "markers",
         "name": "B",
         "text": "",
         "type": "scatter",
         "x": [
          -0.42495632416362067,
          0.8325265519810885,
          -0.41911791103881446,
          2.1290907938799504,
          0.12068143333495143,
          0.012221910404676036,
          0.29031810331831925,
          0.34096729779845786,
          -0.24302774524268406,
          0.2869729181989335,
          1.6372132871706904,
          -1.4226195793051388,
          1.0971494402220232,
          0.67966288456736,
          0.5339049910679026,
          0.45736271376769905,
          -0.45510419902580557,
          -0.3932393616156436,
          0.466817139923934,
          1.497844827168445,
          -1.325521570597829,
          -0.1871898889980444,
          -0.03110727076174676,
          -0.2169289706021411,
          0.07352116798930584,
          0.5616097558817075,
          -2.2758808751813464,
          -1.6843647156809265,
          -0.053626659142203804,
          0.8285297602516946,
          0.5031952908874641,
          0.7742611547280526,
          0.30977601097773005,
          -0.6448182416719543,
          0.41134042999485876,
          1.297968755471327,
          0.6481172912799048,
          1.453504381327387,
          -1.3076413654255914,
          1.0480380260485127,
          0.032755979578507725,
          -0.0677724367996154,
          0.9656416477754153,
          -0.7513501377357203,
          0.5538732260110499,
          -1.1817042441457228,
          -0.07720356053801292,
          1.1598514163895763,
          -0.5819603985102525,
          -0.4679887971599426,
          -0.1818053718793275,
          1.2482551283645513,
          -0.25725743625096636,
          0.36756810684167657,
          0.0860336525121043,
          1.168205440899212,
          1.5959072680011253,
          -0.15628615314286387,
          -1.5325700210053528,
          0.5950529492192775,
          3.519062056532625,
          0.013355969831628805,
          -1.7606935657195237,
          -0.9810601023543031,
          -2.057710067188469,
          0.34580856858318654,
          -0.5166413986754491,
          0.141205377598102,
          -1.4421536872936562,
          -1.0227308885560844,
          -2.402020244041431,
          -0.6930406350102891,
          -0.28910592124451034,
          0.748899899221347,
          0.1907017121982691,
          0.49364605950994267,
          -0.2542607308582154,
          0.6439407866406093,
          1.8687980965623137,
          1.2634599379249947,
          -0.37411373333150033,
          -0.47044775439277026,
          0.5867185909149113,
          -0.11819802264236594,
          -1.2575413955158006,
          0.9866017815001976,
          2.2323248886734457,
          -0.677751749884955,
          -1.1775958410438587,
          0.10565606367106475,
          0.06620888178107337,
          0.13527616449929697,
          -2.753218828512755,
          -0.6727188261875051,
          0.7129879960144745,
          0.34402673656226707,
          -1.1529829205657744,
          0.9509513233287092,
          -1.6356655017467705,
          -0.4259335595602935
         ],
         "xaxis": "x8",
         "y": [
          0.4103450482823756,
          -0.23277879634899593,
          -0.45086136540875726,
          -0.08376735759564617,
          0.013872231247996124,
          -0.07072690859130389,
          0.30681170864600404,
          1.2902872300683392,
          -0.3265296450613535,
          0.10747041706050438,
          -0.4891966860282878,
          0.1321546966645771,
          2.2002266533209984,
          2.827921795219644,
          1.4213390904822027,
          -0.40481684699662795,
          0.8777377019046946,
          -0.5915210626668627,
          0.23237752609932294,
          0.10802408268723265,
          -0.4989964964726072,
          -0.17693190406338596,
          0.31980787789478055,
          0.8585326836819313,
          -1.5714924413997264,
          -0.5285087993679705,
          0.4446605522951421,
          -0.4261044334302472,
          0.04041835504896138,
          -0.2102461439854402,
          0.8853158428254773,
          -0.9926023261355174,
          0.7837779223912771,
          1.6207142996018502,
          -0.31222240376226895,
          0.21669648190985635,
          -0.005778545670522539,
          0.2424273620179277,
          1.0604864388343094,
          0.5405949217925212,
          -0.028827349523677923,
          -0.19992850944368576,
          -0.07932311155494266,
          -1.487415209783587,
          0.25772607668232306,
          0.659067678454487,
          0.7764559512979428,
          1.1811473518576816,
          1.269253528510618,
          -0.10593976314056446,
          -2.2033948416823987,
          -0.26099399205439405,
          -0.035842618820022584,
          -0.436740003503195,
          -0.7347854957866872,
          -1.474470346831659,
          0.2856744360831367,
          -0.6987609147597583,
          0.25012931898644164,
          -1.3175865204408947,
          0.09478695458135028,
          1.8709144399634727,
          0.26797206469934276,
          -1.3953358629453787,
          -0.6945329566849582,
          1.555621068767977,
          0.8283772246580962,
          -0.8420550563881509,
          0.805777476671103,
          -1.1529198884152143,
          -0.13563746306624466,
          -0.24579363705319546,
          -0.846884195632001,
          -0.6643522082710484,
          0.7052085498958576,
          -1.6877108081600287,
          0.020389419260974217,
          -0.41756781346012556,
          -0.8676788986975928,
          -2.5653389961604987,
          -0.34799695926298335,
          0.7409356257488319,
          0.4199756934089848,
          -0.18905296451511472,
          -0.7275775921980504,
          -1.7658346002170116,
          -0.8494415212511488,
          0.06516189570040587,
          -1.0812781607038502,
          1.182463220527681,
          -0.1828465609009514,
          -1.6925573120184574,
          0.2528746913720982,
          1.2151401118568756,
          -0.49604662980129016,
          -1.1333482603578835,
          -1.2871159652833557,
          1.2333219879816024,
          0.2863728726007531,
          -0.4379191310630423
         ],
         "yaxis": "y8"
        },
        {
         "line": {
          "color": "rgba(128, 128, 128, 1.0)",
          "dash": "solid",
          "shape": "linear",
          "width": 1.3
         },
         "marker": {
          "size": 2,
          "symbol": "circle"
         },
         "mode": "markers",
         "name": "C",
         "text": "",
         "type": "scatter",
         "x": [
          -0.629400460736606,
          -0.3902511837428377,
          -0.5591700478406222,
          -0.5015750659259559,
          -0.6028247757790585,
          -1.7552895707056984,
          0.3728303295489695,
          -0.9949058872060896,
          1.383786061209142,
          -0.7478723956059203,
          0.06816934594778336,
          0.3141341819011735,
          -1.4434647152951174,
          0.4279880196945129,
          -2.7094890740900803,
          0.13506963265460648,
          -0.3362772326824624,
          -1.003162479173856,
          -0.9417909848304834,
          0.12809221322659364,
          -0.9761844606375003,
          0.851597093857289,
          -0.2174753543117878,
          0.16923231361532318,
          -1.196108833893656,
          -1.4490166364502461,
          -0.43386109420639013,
          1.097856069838825,
          -0.3105310538314359,
          -0.3169866600355245,
          1.592962498055057,
          0.9758423831858871,
          -1.3671182139924076,
          0.7817958007205139,
          -1.3911274721075122,
          0.12975350981883296,
          1.13847634366471,
          1.8672274817233254,
          -0.7504577680021094,
          1.7846896247177337,
          1.0793488689838349,
          -1.0844765858716827,
          -0.3516404570166523,
          0.9227502103917912,
          0.3755932851618663,
          0.3778890996717057,
          1.680119511266985,
          -0.4599735982942427,
          1.5985393735185909,
          1.0563349091055834,
          -1.0911352575440694,
          1.7417271070535496,
          -1.3100266243771161,
          -0.3876135929450466,
          0.9025719152875156,
          1.401243501430797,
          -1.2969497206273086,
          -1.2048928883655137,
          1.3573070492269648,
          0.05766322435151034,
          0.29981192742332086,
          1.5170818674960982,
          2.155478704025667,
          0.8024742835998596,
          0.40266903970292495,
          -1.3623380036310104,
          -0.9347835030015103,
          -0.023410056738022517,
          -1.072457943276233,
          0.8831066668343588,
          1.8136193860509642,
          -0.18934701060634257,
          -0.7986253409908879,
          1.6043882256104582,
          -1.3412563333112506,
          -1.5577062645161655,
          -1.3566037510986833,
          0.04005495647472767,
          0.2708046082479397,
          -0.9634981045226241,
          0.8583993616190417,
          -0.6470050959406236,
          -0.5512575986366849,
          2.071338692577119,
          1.5052688721826468,
          -0.617246691643328,
          1.4552686037187066,
          0.5720417545278373,
          -1.1152513286714432,
          1.7410978052511834,
          0.8914819708996335,
          -0.6908395795783034,
          1.414032221853257,
          -1.2057589945974467,
          0.6833974114014549,
          -1.2187494324750037,
          0.025605567304754343,
          -0.6574804043471983,
          0.04405104857084567,
          1.33018346090302
         ],
         "xaxis": "x9",
         "y": [
          -0.32674355923381754,
          0.40244699964955477,
          0.24482868903319657,
          -0.49374567931671604,
          -1.2201447433844579,
          0.004506024629842515,
          0.46367005451863835,
          -1.0189990787588659,
          -0.7441279603914729,
          0.06579240859254595,
          0.4655232330710052,
          -1.7397582276065648,
          -0.2680109999716551,
          -0.3121280084283826,
          2.2147166613040756,
          -0.776459612467547,
          1.1866613499014753,
          0.5712085818037482,
          0.10230286214004662,
          -1.7717736504597807,
          -0.12369375914161404,
          -0.8700598280752807,
          1.2674112450150417,
          -0.5544308562984243,
          -0.1848548987667389,
          1.2423846567498795,
          1.5067794217195456,
          0.6044283478894678,
          0.5880033731238098,
          -0.8437357875998986,
          -0.48697936309314555,
          -0.40532845113414234,
          -0.35649858635655013,
          -1.5837522177192378,
          0.03464395879348093,
          -0.8460718105545953,
          0.27952688155005845,
          0.4487023136210964,
          0.00013119227840028668,
          -0.5948524567042549,
          -0.4705775864489385,
          -0.2739885585266081,
          0.6160535978917444,
          -0.48980496576238214,
          0.3956075539415357,
          -1.8405778475632646,
          -1.2020297526725154,
          -0.7863386287429571,
          -0.21712607454468716,
          -0.816518832493915,
          -0.4436876464865272,
          0.5008123594560738,
          -1.838178531281376,
          0.9422468116083216,
          1.4317527648889325,
          0.922568449925848,
          1.7661596286173802,
          0.31113001181453587,
          0.8908248687621048,
          0.7280432707682472,
          -0.8572117637594926,
          1.084921920807178,
          0.43600039278421254,
          -0.5641287287786603,
          -0.8257443812945842,
          0.054357982486677524,
          0.04225146811206106,
          -1.6548714332099215,
          -1.2128389576271554,
          0.11233504238923263,
          -0.6533567187978976,
          -0.9782158093971358,
          0.6045335366695211,
          -0.05072076055391424,
          -2.0447571350618263,
          0.7009592840678283,
          -0.5151150469908776,
          -1.1337579775447795,
          0.14115564681136036,
          0.5153883494625351,
          -0.54532985350259,
          0.36943192519387225,
          -0.07295208056302716,
          -0.30623678841089497,
          0.7594892264036471,
          -1.1681466459046683,
          0.9721186394715218,
          0.23729676333646912,
          -1.3664005827427874,
          0.5225651257445344,
          -0.18443991163904327,
          -0.048962793929122485,
          0.614506295484835,
          -0.5004874102520577,
          -1.7507953222473616,
          0.15042534555901244,
          -0.65915182204999,
          -2.4101607041387823,
          -0.1596363821821437,
          -0.9858044319691249
         ],
         "yaxis": "y9"
        },
        {
         "line": {
          "color": "rgba(128, 128, 128, 1.0)",
          "dash": "solid",
          "shape": "linear",
          "width": 1.3
         },
         "marker": {
          "size": 2,
          "symbol": "circle"
         },
         "mode": "markers",
         "name": "C",
         "text": "",
         "type": "scatter",
         "x": [
          0.4103450482823756,
          -0.23277879634899593,
          -0.45086136540875726,
          -0.08376735759564617,
          0.013872231247996124,
          -0.07072690859130389,
          0.30681170864600404,
          1.2902872300683392,
          -0.3265296450613535,
          0.10747041706050438,
          -0.4891966860282878,
          0.1321546966645771,
          2.2002266533209984,
          2.827921795219644,
          1.4213390904822027,
          -0.40481684699662795,
          0.8777377019046946,
          -0.5915210626668627,
          0.23237752609932294,
          0.10802408268723265,
          -0.4989964964726072,
          -0.17693190406338596,
          0.31980787789478055,
          0.8585326836819313,
          -1.5714924413997264,
          -0.5285087993679705,
          0.4446605522951421,
          -0.4261044334302472,
          0.04041835504896138,
          -0.2102461439854402,
          0.8853158428254773,
          -0.9926023261355174,
          0.7837779223912771,
          1.6207142996018502,
          -0.31222240376226895,
          0.21669648190985635,
          -0.005778545670522539,
          0.2424273620179277,
          1.0604864388343094,
          0.5405949217925212,
          -0.028827349523677923,
          -0.19992850944368576,
          -0.07932311155494266,
          -1.487415209783587,
          0.25772607668232306,
          0.659067678454487,
          0.7764559512979428,
          1.1811473518576816,
          1.269253528510618,
          -0.10593976314056446,
          -2.2033948416823987,
          -0.26099399205439405,
          -0.035842618820022584,
          -0.436740003503195,
          -0.7347854957866872,
          -1.474470346831659,
          0.2856744360831367,
          -0.6987609147597583,
          0.25012931898644164,
          -1.3175865204408947,
          0.09478695458135028,
          1.8709144399634727,
          0.26797206469934276,
          -1.3953358629453787,
          -0.6945329566849582,
          1.555621068767977,
          0.8283772246580962,
          -0.8420550563881509,
          0.805777476671103,
          -1.1529198884152143,
          -0.13563746306624466,
          -0.24579363705319546,
          -0.846884195632001,
          -0.6643522082710484,
          0.7052085498958576,
          -1.6877108081600287,
          0.020389419260974217,
          -0.41756781346012556,
          -0.8676788986975928,
          -2.5653389961604987,
          -0.34799695926298335,
          0.7409356257488319,
          0.4199756934089848,
          -0.18905296451511472,
          -0.7275775921980504,
          -1.7658346002170116,
          -0.8494415212511488,
          0.06516189570040587,
          -1.0812781607038502,
          1.182463220527681,
          -0.1828465609009514,
          -1.6925573120184574,
          0.2528746913720982,
          1.2151401118568756,
          -0.49604662980129016,
          -1.1333482603578835,
          -1.2871159652833557,
          1.2333219879816024,
          0.2863728726007531,
          -0.4379191310630423
         ],
         "xaxis": "x10",
         "y": [
          -0.32674355923381754,
          0.40244699964955477,
          0.24482868903319657,
          -0.49374567931671604,
          -1.2201447433844579,
          0.004506024629842515,
          0.46367005451863835,
          -1.0189990787588659,
          -0.7441279603914729,
          0.06579240859254595,
          0.4655232330710052,
          -1.7397582276065648,
          -0.2680109999716551,
          -0.3121280084283826,
          2.2147166613040756,
          -0.776459612467547,
          1.1866613499014753,
          0.5712085818037482,
          0.10230286214004662,
          -1.7717736504597807,
          -0.12369375914161404,
          -0.8700598280752807,
          1.2674112450150417,
          -0.5544308562984243,
          -0.1848548987667389,
          1.2423846567498795,
          1.5067794217195456,
          0.6044283478894678,
          0.5880033731238098,
          -0.8437357875998986,
          -0.48697936309314555,
          -0.40532845113414234,
          -0.35649858635655013,
          -1.5837522177192378,
          0.03464395879348093,
          -0.8460718105545953,
          0.27952688155005845,
          0.4487023136210964,
          0.00013119227840028668,
          -0.5948524567042549,
          -0.4705775864489385,
          -0.2739885585266081,
          0.6160535978917444,
          -0.48980496576238214,
          0.3956075539415357,
          -1.8405778475632646,
          -1.2020297526725154,
          -0.7863386287429571,
          -0.21712607454468716,
          -0.816518832493915,
          -0.4436876464865272,
          0.5008123594560738,
          -1.838178531281376,
          0.9422468116083216,
          1.4317527648889325,
          0.922568449925848,
          1.7661596286173802,
          0.31113001181453587,
          0.8908248687621048,
          0.7280432707682472,
          -0.8572117637594926,
          1.084921920807178,
          0.43600039278421254,
          -0.5641287287786603,
          -0.8257443812945842,
          0.054357982486677524,
          0.04225146811206106,
          -1.6548714332099215,
          -1.2128389576271554,
          0.11233504238923263,
          -0.6533567187978976,
          -0.9782158093971358,
          0.6045335366695211,
          -0.05072076055391424,
          -2.0447571350618263,
          0.7009592840678283,
          -0.5151150469908776,
          -1.1337579775447795,
          0.14115564681136036,
          0.5153883494625351,
          -0.54532985350259,
          0.36943192519387225,
          -0.07295208056302716,
          -0.30623678841089497,
          0.7594892264036471,
          -1.1681466459046683,
          0.9721186394715218,
          0.23729676333646912,
          -1.3664005827427874,
          0.5225651257445344,
          -0.18443991163904327,
          -0.048962793929122485,
          0.614506295484835,
          -0.5004874102520577,
          -1.7507953222473616,
          0.15042534555901244,
          -0.65915182204999,
          -2.4101607041387823,
          -0.1596363821821437,
          -0.9858044319691249
         ],
         "yaxis": "y10"
        },
        {
         "histfunc": "count",
         "histnorm": "",
         "marker": {
          "color": "rgba(50, 171, 96, 1.0)",
          "line": {
           "color": "#4D5663",
           "width": 1.3
          }
         },
         "name": "C",
         "nbinsx": 10,
         "opacity": 0.8,
         "orientation": "v",
         "type": "histogram",
         "x": [
          -0.32674355923381754,
          0.40244699964955477,
          0.24482868903319657,
          -0.49374567931671604,
          -1.2201447433844579,
          0.004506024629842515,
          0.46367005451863835,
          -1.0189990787588659,
          -0.7441279603914729,
          0.06579240859254595,
          0.4655232330710052,
          -1.7397582276065648,
          -0.2680109999716551,
          -0.3121280084283826,
          2.2147166613040756,
          -0.776459612467547,
          1.1866613499014753,
          0.5712085818037482,
          0.10230286214004662,
          -1.7717736504597807,
          -0.12369375914161404,
          -0.8700598280752807,
          1.2674112450150417,
          -0.5544308562984243,
          -0.1848548987667389,
          1.2423846567498795,
          1.5067794217195456,
          0.6044283478894678,
          0.5880033731238098,
          -0.8437357875998986,
          -0.48697936309314555,
          -0.40532845113414234,
          -0.35649858635655013,
          -1.5837522177192378,
          0.03464395879348093,
          -0.8460718105545953,
          0.27952688155005845,
          0.4487023136210964,
          0.00013119227840028668,
          -0.5948524567042549,
          -0.4705775864489385,
          -0.2739885585266081,
          0.6160535978917444,
          -0.48980496576238214,
          0.3956075539415357,
          -1.8405778475632646,
          -1.2020297526725154,
          -0.7863386287429571,
          -0.21712607454468716,
          -0.816518832493915,
          -0.4436876464865272,
          0.5008123594560738,
          -1.838178531281376,
          0.9422468116083216,
          1.4317527648889325,
          0.922568449925848,
          1.7661596286173802,
          0.31113001181453587,
          0.8908248687621048,
          0.7280432707682472,
          -0.8572117637594926,
          1.084921920807178,
          0.43600039278421254,
          -0.5641287287786603,
          -0.8257443812945842,
          0.054357982486677524,
          0.04225146811206106,
          -1.6548714332099215,
          -1.2128389576271554,
          0.11233504238923263,
          -0.6533567187978976,
          -0.9782158093971358,
          0.6045335366695211,
          -0.05072076055391424,
          -2.0447571350618263,
          0.7009592840678283,
          -0.5151150469908776,
          -1.1337579775447795,
          0.14115564681136036,
          0.5153883494625351,
          -0.54532985350259,
          0.36943192519387225,
          -0.07295208056302716,
          -0.30623678841089497,
          0.7594892264036471,
          -1.1681466459046683,
          0.9721186394715218,
          0.23729676333646912,
          -1.3664005827427874,
          0.5225651257445344,
          -0.18443991163904327,
          -0.048962793929122485,
          0.614506295484835,
          -0.5004874102520577,
          -1.7507953222473616,
          0.15042534555901244,
          -0.65915182204999,
          -2.4101607041387823,
          -0.1596363821821437,
          -0.9858044319691249
         ],
         "xaxis": "x11",
         "yaxis": "y11"
        },
        {
         "line": {
          "color": "rgba(128, 128, 128, 1.0)",
          "dash": "solid",
          "shape": "linear",
          "width": 1.3
         },
         "marker": {
          "size": 2,
          "symbol": "circle"
         },
         "mode": "markers",
         "name": "C",
         "text": "",
         "type": "scatter",
         "x": [
          -0.42495632416362067,
          0.8325265519810885,
          -0.41911791103881446,
          2.1290907938799504,
          0.12068143333495143,
          0.012221910404676036,
          0.29031810331831925,
          0.34096729779845786,
          -0.24302774524268406,
          0.2869729181989335,
          1.6372132871706904,
          -1.4226195793051388,
          1.0971494402220232,
          0.67966288456736,
          0.5339049910679026,
          0.45736271376769905,
          -0.45510419902580557,
          -0.3932393616156436,
          0.466817139923934,
          1.497844827168445,
          -1.325521570597829,
          -0.1871898889980444,
          -0.03110727076174676,
          -0.2169289706021411,
          0.07352116798930584,
          0.5616097558817075,
          -2.2758808751813464,
          -1.6843647156809265,
          -0.053626659142203804,
          0.8285297602516946,
          0.5031952908874641,
          0.7742611547280526,
          0.30977601097773005,
          -0.6448182416719543,
          0.41134042999485876,
          1.297968755471327,
          0.6481172912799048,
          1.453504381327387,
          -1.3076413654255914,
          1.0480380260485127,
          0.032755979578507725,
          -0.0677724367996154,
          0.9656416477754153,
          -0.7513501377357203,
          0.5538732260110499,
          -1.1817042441457228,
          -0.07720356053801292,
          1.1598514163895763,
          -0.5819603985102525,
          -0.4679887971599426,
          -0.1818053718793275,
          1.2482551283645513,
          -0.25725743625096636,
          0.36756810684167657,
          0.0860336525121043,
          1.168205440899212,
          1.5959072680011253,
          -0.15628615314286387,
          -1.5325700210053528,
          0.5950529492192775,
          3.519062056532625,
          0.013355969831628805,
          -1.7606935657195237,
          -0.9810601023543031,
          -2.057710067188469,
          0.34580856858318654,
          -0.5166413986754491,
          0.141205377598102,
          -1.4421536872936562,
          -1.0227308885560844,
          -2.402020244041431,
          -0.6930406350102891,
          -0.28910592124451034,
          0.748899899221347,
          0.1907017121982691,
          0.49364605950994267,
          -0.2542607308582154,
          0.6439407866406093,
          1.8687980965623137,
          1.2634599379249947,
          -0.37411373333150033,
          -0.47044775439277026,
          0.5867185909149113,
          -0.11819802264236594,
          -1.2575413955158006,
          0.9866017815001976,
          2.2323248886734457,
          -0.677751749884955,
          -1.1775958410438587,
          0.10565606367106475,
          0.06620888178107337,
          0.13527616449929697,
          -2.753218828512755,
          -0.6727188261875051,
          0.7129879960144745,
          0.34402673656226707,
          -1.1529829205657744,
          0.9509513233287092,
          -1.6356655017467705,
          -0.4259335595602935
         ],
         "xaxis": "x12",
         "y": [
          -0.32674355923381754,
          0.40244699964955477,
          0.24482868903319657,
          -0.49374567931671604,
          -1.2201447433844579,
          0.004506024629842515,
          0.46367005451863835,
          -1.0189990787588659,
          -0.7441279603914729,
          0.06579240859254595,
          0.4655232330710052,
          -1.7397582276065648,
          -0.2680109999716551,
          -0.3121280084283826,
          2.2147166613040756,
          -0.776459612467547,
          1.1866613499014753,
          0.5712085818037482,
          0.10230286214004662,
          -1.7717736504597807,
          -0.12369375914161404,
          -0.8700598280752807,
          1.2674112450150417,
          -0.5544308562984243,
          -0.1848548987667389,
          1.2423846567498795,
          1.5067794217195456,
          0.6044283478894678,
          0.5880033731238098,
          -0.8437357875998986,
          -0.48697936309314555,
          -0.40532845113414234,
          -0.35649858635655013,
          -1.5837522177192378,
          0.03464395879348093,
          -0.8460718105545953,
          0.27952688155005845,
          0.4487023136210964,
          0.00013119227840028668,
          -0.5948524567042549,
          -0.4705775864489385,
          -0.2739885585266081,
          0.6160535978917444,
          -0.48980496576238214,
          0.3956075539415357,
          -1.8405778475632646,
          -1.2020297526725154,
          -0.7863386287429571,
          -0.21712607454468716,
          -0.816518832493915,
          -0.4436876464865272,
          0.5008123594560738,
          -1.838178531281376,
          0.9422468116083216,
          1.4317527648889325,
          0.922568449925848,
          1.7661596286173802,
          0.31113001181453587,
          0.8908248687621048,
          0.7280432707682472,
          -0.8572117637594926,
          1.084921920807178,
          0.43600039278421254,
          -0.5641287287786603,
          -0.8257443812945842,
          0.054357982486677524,
          0.04225146811206106,
          -1.6548714332099215,
          -1.2128389576271554,
          0.11233504238923263,
          -0.6533567187978976,
          -0.9782158093971358,
          0.6045335366695211,
          -0.05072076055391424,
          -2.0447571350618263,
          0.7009592840678283,
          -0.5151150469908776,
          -1.1337579775447795,
          0.14115564681136036,
          0.5153883494625351,
          -0.54532985350259,
          0.36943192519387225,
          -0.07295208056302716,
          -0.30623678841089497,
          0.7594892264036471,
          -1.1681466459046683,
          0.9721186394715218,
          0.23729676333646912,
          -1.3664005827427874,
          0.5225651257445344,
          -0.18443991163904327,
          -0.048962793929122485,
          0.614506295484835,
          -0.5004874102520577,
          -1.7507953222473616,
          0.15042534555901244,
          -0.65915182204999,
          -2.4101607041387823,
          -0.1596363821821437,
          -0.9858044319691249
         ],
         "yaxis": "y12"
        },
        {
         "line": {
          "color": "rgba(128, 128, 128, 1.0)",
          "dash": "solid",
          "shape": "linear",
          "width": 1.3
         },
         "marker": {
          "size": 2,
          "symbol": "circle"
         },
         "mode": "markers",
         "name": "D",
         "text": "",
         "type": "scatter",
         "x": [
          -0.629400460736606,
          -0.3902511837428377,
          -0.5591700478406222,
          -0.5015750659259559,
          -0.6028247757790585,
          -1.7552895707056984,
          0.3728303295489695,
          -0.9949058872060896,
          1.383786061209142,
          -0.7478723956059203,
          0.06816934594778336,
          0.3141341819011735,
          -1.4434647152951174,
          0.4279880196945129,
          -2.7094890740900803,
          0.13506963265460648,
          -0.3362772326824624,
          -1.003162479173856,
          -0.9417909848304834,
          0.12809221322659364,
          -0.9761844606375003,
          0.851597093857289,
          -0.2174753543117878,
          0.16923231361532318,
          -1.196108833893656,
          -1.4490166364502461,
          -0.43386109420639013,
          1.097856069838825,
          -0.3105310538314359,
          -0.3169866600355245,
          1.592962498055057,
          0.9758423831858871,
          -1.3671182139924076,
          0.7817958007205139,
          -1.3911274721075122,
          0.12975350981883296,
          1.13847634366471,
          1.8672274817233254,
          -0.7504577680021094,
          1.7846896247177337,
          1.0793488689838349,
          -1.0844765858716827,
          -0.3516404570166523,
          0.9227502103917912,
          0.3755932851618663,
          0.3778890996717057,
          1.680119511266985,
          -0.4599735982942427,
          1.5985393735185909,
          1.0563349091055834,
          -1.0911352575440694,
          1.7417271070535496,
          -1.3100266243771161,
          -0.3876135929450466,
          0.9025719152875156,
          1.401243501430797,
          -1.2969497206273086,
          -1.2048928883655137,
          1.3573070492269648,
          0.05766322435151034,
          0.29981192742332086,
          1.5170818674960982,
          2.155478704025667,
          0.8024742835998596,
          0.40266903970292495,
          -1.3623380036310104,
          -0.9347835030015103,
          -0.023410056738022517,
          -1.072457943276233,
          0.8831066668343588,
          1.8136193860509642,
          -0.18934701060634257,
          -0.7986253409908879,
          1.6043882256104582,
          -1.3412563333112506,
          -1.5577062645161655,
          -1.3566037510986833,
          0.04005495647472767,
          0.2708046082479397,
          -0.9634981045226241,
          0.8583993616190417,
          -0.6470050959406236,
          -0.5512575986366849,
          2.071338692577119,
          1.5052688721826468,
          -0.617246691643328,
          1.4552686037187066,
          0.5720417545278373,
          -1.1152513286714432,
          1.7410978052511834,
          0.8914819708996335,
          -0.6908395795783034,
          1.414032221853257,
          -1.2057589945974467,
          0.6833974114014549,
          -1.2187494324750037,
          0.025605567304754343,
          -0.6574804043471983,
          0.04405104857084567,
          1.33018346090302
         ],
         "xaxis": "x13",
         "y": [
          -0.42495632416362067,
          0.8325265519810885,
          -0.41911791103881446,
          2.1290907938799504,
          0.12068143333495143,
          0.012221910404676036,
          0.29031810331831925,
          0.34096729779845786,
          -0.24302774524268406,
          0.2869729181989335,
          1.6372132871706904,
          -1.4226195793051388,
          1.0971494402220232,
          0.67966288456736,
          0.5339049910679026,
          0.45736271376769905,
          -0.45510419902580557,
          -0.3932393616156436,
          0.466817139923934,
          1.497844827168445,
          -1.325521570597829,
          -0.1871898889980444,
          -0.03110727076174676,
          -0.2169289706021411,
          0.07352116798930584,
          0.5616097558817075,
          -2.2758808751813464,
          -1.6843647156809265,
          -0.053626659142203804,
          0.8285297602516946,
          0.5031952908874641,
          0.7742611547280526,
          0.30977601097773005,
          -0.6448182416719543,
          0.41134042999485876,
          1.297968755471327,
          0.6481172912799048,
          1.453504381327387,
          -1.3076413654255914,
          1.0480380260485127,
          0.032755979578507725,
          -0.0677724367996154,
          0.9656416477754153,
          -0.7513501377357203,
          0.5538732260110499,
          -1.1817042441457228,
          -0.07720356053801292,
          1.1598514163895763,
          -0.5819603985102525,
          -0.4679887971599426,
          -0.1818053718793275,
          1.2482551283645513,
          -0.25725743625096636,
          0.36756810684167657,
          0.0860336525121043,
          1.168205440899212,
          1.5959072680011253,
          -0.15628615314286387,
          -1.5325700210053528,
          0.5950529492192775,
          3.519062056532625,
          0.013355969831628805,
          -1.7606935657195237,
          -0.9810601023543031,
          -2.057710067188469,
          0.34580856858318654,
          -0.5166413986754491,
          0.141205377598102,
          -1.4421536872936562,
          -1.0227308885560844,
          -2.402020244041431,
          -0.6930406350102891,
          -0.28910592124451034,
          0.748899899221347,
          0.1907017121982691,
          0.49364605950994267,
          -0.2542607308582154,
          0.6439407866406093,
          1.8687980965623137,
          1.2634599379249947,
          -0.37411373333150033,
          -0.47044775439277026,
          0.5867185909149113,
          -0.11819802264236594,
          -1.2575413955158006,
          0.9866017815001976,
          2.2323248886734457,
          -0.677751749884955,
          -1.1775958410438587,
          0.10565606367106475,
          0.06620888178107337,
          0.13527616449929697,
          -2.753218828512755,
          -0.6727188261875051,
          0.7129879960144745,
          0.34402673656226707,
          -1.1529829205657744,
          0.9509513233287092,
          -1.6356655017467705,
          -0.4259335595602935
         ],
         "yaxis": "y13"
        },
        {
         "line": {
          "color": "rgba(128, 128, 128, 1.0)",
          "dash": "solid",
          "shape": "linear",
          "width": 1.3
         },
         "marker": {
          "size": 2,
          "symbol": "circle"
         },
         "mode": "markers",
         "name": "D",
         "text": "",
         "type": "scatter",
         "x": [
          0.4103450482823756,
          -0.23277879634899593,
          -0.45086136540875726,
          -0.08376735759564617,
          0.013872231247996124,
          -0.07072690859130389,
          0.30681170864600404,
          1.2902872300683392,
          -0.3265296450613535,
          0.10747041706050438,
          -0.4891966860282878,
          0.1321546966645771,
          2.2002266533209984,
          2.827921795219644,
          1.4213390904822027,
          -0.40481684699662795,
          0.8777377019046946,
          -0.5915210626668627,
          0.23237752609932294,
          0.10802408268723265,
          -0.4989964964726072,
          -0.17693190406338596,
          0.31980787789478055,
          0.8585326836819313,
          -1.5714924413997264,
          -0.5285087993679705,
          0.4446605522951421,
          -0.4261044334302472,
          0.04041835504896138,
          -0.2102461439854402,
          0.8853158428254773,
          -0.9926023261355174,
          0.7837779223912771,
          1.6207142996018502,
          -0.31222240376226895,
          0.21669648190985635,
          -0.005778545670522539,
          0.2424273620179277,
          1.0604864388343094,
          0.5405949217925212,
          -0.028827349523677923,
          -0.19992850944368576,
          -0.07932311155494266,
          -1.487415209783587,
          0.25772607668232306,
          0.659067678454487,
          0.7764559512979428,
          1.1811473518576816,
          1.269253528510618,
          -0.10593976314056446,
          -2.2033948416823987,
          -0.26099399205439405,
          -0.035842618820022584,
          -0.436740003503195,
          -0.7347854957866872,
          -1.474470346831659,
          0.2856744360831367,
          -0.6987609147597583,
          0.25012931898644164,
          -1.3175865204408947,
          0.09478695458135028,
          1.8709144399634727,
          0.26797206469934276,
          -1.3953358629453787,
          -0.6945329566849582,
          1.555621068767977,
          0.8283772246580962,
          -0.8420550563881509,
          0.805777476671103,
          -1.1529198884152143,
          -0.13563746306624466,
          -0.24579363705319546,
          -0.846884195632001,
          -0.6643522082710484,
          0.7052085498958576,
          -1.6877108081600287,
          0.020389419260974217,
          -0.41756781346012556,
          -0.8676788986975928,
          -2.5653389961604987,
          -0.34799695926298335,
          0.7409356257488319,
          0.4199756934089848,
          -0.18905296451511472,
          -0.7275775921980504,
          -1.7658346002170116,
          -0.8494415212511488,
          0.06516189570040587,
          -1.0812781607038502,
          1.182463220527681,
          -0.1828465609009514,
          -1.6925573120184574,
          0.2528746913720982,
          1.2151401118568756,
          -0.49604662980129016,
          -1.1333482603578835,
          -1.2871159652833557,
          1.2333219879816024,
          0.2863728726007531,
          -0.4379191310630423
         ],
         "xaxis": "x14",
         "y": [
          -0.42495632416362067,
          0.8325265519810885,
          -0.41911791103881446,
          2.1290907938799504,
          0.12068143333495143,
          0.012221910404676036,
          0.29031810331831925,
          0.34096729779845786,
          -0.24302774524268406,
          0.2869729181989335,
          1.6372132871706904,
          -1.4226195793051388,
          1.0971494402220232,
          0.67966288456736,
          0.5339049910679026,
          0.45736271376769905,
          -0.45510419902580557,
          -0.3932393616156436,
          0.466817139923934,
          1.497844827168445,
          -1.325521570597829,
          -0.1871898889980444,
          -0.03110727076174676,
          -0.2169289706021411,
          0.07352116798930584,
          0.5616097558817075,
          -2.2758808751813464,
          -1.6843647156809265,
          -0.053626659142203804,
          0.8285297602516946,
          0.5031952908874641,
          0.7742611547280526,
          0.30977601097773005,
          -0.6448182416719543,
          0.41134042999485876,
          1.297968755471327,
          0.6481172912799048,
          1.453504381327387,
          -1.3076413654255914,
          1.0480380260485127,
          0.032755979578507725,
          -0.0677724367996154,
          0.9656416477754153,
          -0.7513501377357203,
          0.5538732260110499,
          -1.1817042441457228,
          -0.07720356053801292,
          1.1598514163895763,
          -0.5819603985102525,
          -0.4679887971599426,
          -0.1818053718793275,
          1.2482551283645513,
          -0.25725743625096636,
          0.36756810684167657,
          0.0860336525121043,
          1.168205440899212,
          1.5959072680011253,
          -0.15628615314286387,
          -1.5325700210053528,
          0.5950529492192775,
          3.519062056532625,
          0.013355969831628805,
          -1.7606935657195237,
          -0.9810601023543031,
          -2.057710067188469,
          0.34580856858318654,
          -0.5166413986754491,
          0.141205377598102,
          -1.4421536872936562,
          -1.0227308885560844,
          -2.402020244041431,
          -0.6930406350102891,
          -0.28910592124451034,
          0.748899899221347,
          0.1907017121982691,
          0.49364605950994267,
          -0.2542607308582154,
          0.6439407866406093,
          1.8687980965623137,
          1.2634599379249947,
          -0.37411373333150033,
          -0.47044775439277026,
          0.5867185909149113,
          -0.11819802264236594,
          -1.2575413955158006,
          0.9866017815001976,
          2.2323248886734457,
          -0.677751749884955,
          -1.1775958410438587,
          0.10565606367106475,
          0.06620888178107337,
          0.13527616449929697,
          -2.753218828512755,
          -0.6727188261875051,
          0.7129879960144745,
          0.34402673656226707,
          -1.1529829205657744,
          0.9509513233287092,
          -1.6356655017467705,
          -0.4259335595602935
         ],
         "yaxis": "y14"
        },
        {
         "line": {
          "color": "rgba(128, 128, 128, 1.0)",
          "dash": "solid",
          "shape": "linear",
          "width": 1.3
         },
         "marker": {
          "size": 2,
          "symbol": "circle"
         },
         "mode": "markers",
         "name": "D",
         "text": "",
         "type": "scatter",
         "x": [
          -0.32674355923381754,
          0.40244699964955477,
          0.24482868903319657,
          -0.49374567931671604,
          -1.2201447433844579,
          0.004506024629842515,
          0.46367005451863835,
          -1.0189990787588659,
          -0.7441279603914729,
          0.06579240859254595,
          0.4655232330710052,
          -1.7397582276065648,
          -0.2680109999716551,
          -0.3121280084283826,
          2.2147166613040756,
          -0.776459612467547,
          1.1866613499014753,
          0.5712085818037482,
          0.10230286214004662,
          -1.7717736504597807,
          -0.12369375914161404,
          -0.8700598280752807,
          1.2674112450150417,
          -0.5544308562984243,
          -0.1848548987667389,
          1.2423846567498795,
          1.5067794217195456,
          0.6044283478894678,
          0.5880033731238098,
          -0.8437357875998986,
          -0.48697936309314555,
          -0.40532845113414234,
          -0.35649858635655013,
          -1.5837522177192378,
          0.03464395879348093,
          -0.8460718105545953,
          0.27952688155005845,
          0.4487023136210964,
          0.00013119227840028668,
          -0.5948524567042549,
          -0.4705775864489385,
          -0.2739885585266081,
          0.6160535978917444,
          -0.48980496576238214,
          0.3956075539415357,
          -1.8405778475632646,
          -1.2020297526725154,
          -0.7863386287429571,
          -0.21712607454468716,
          -0.816518832493915,
          -0.4436876464865272,
          0.5008123594560738,
          -1.838178531281376,
          0.9422468116083216,
          1.4317527648889325,
          0.922568449925848,
          1.7661596286173802,
          0.31113001181453587,
          0.8908248687621048,
          0.7280432707682472,
          -0.8572117637594926,
          1.084921920807178,
          0.43600039278421254,
          -0.5641287287786603,
          -0.8257443812945842,
          0.054357982486677524,
          0.04225146811206106,
          -1.6548714332099215,
          -1.2128389576271554,
          0.11233504238923263,
          -0.6533567187978976,
          -0.9782158093971358,
          0.6045335366695211,
          -0.05072076055391424,
          -2.0447571350618263,
          0.7009592840678283,
          -0.5151150469908776,
          -1.1337579775447795,
          0.14115564681136036,
          0.5153883494625351,
          -0.54532985350259,
          0.36943192519387225,
          -0.07295208056302716,
          -0.30623678841089497,
          0.7594892264036471,
          -1.1681466459046683,
          0.9721186394715218,
          0.23729676333646912,
          -1.3664005827427874,
          0.5225651257445344,
          -0.18443991163904327,
          -0.048962793929122485,
          0.614506295484835,
          -0.5004874102520577,
          -1.7507953222473616,
          0.15042534555901244,
          -0.65915182204999,
          -2.4101607041387823,
          -0.1596363821821437,
          -0.9858044319691249
         ],
         "xaxis": "x15",
         "y": [
          -0.42495632416362067,
          0.8325265519810885,
          -0.41911791103881446,
          2.1290907938799504,
          0.12068143333495143,
          0.012221910404676036,
          0.29031810331831925,
          0.34096729779845786,
          -0.24302774524268406,
          0.2869729181989335,
          1.6372132871706904,
          -1.4226195793051388,
          1.0971494402220232,
          0.67966288456736,
          0.5339049910679026,
          0.45736271376769905,
          -0.45510419902580557,
          -0.3932393616156436,
          0.466817139923934,
          1.497844827168445,
          -1.325521570597829,
          -0.1871898889980444,
          -0.03110727076174676,
          -0.2169289706021411,
          0.07352116798930584,
          0.5616097558817075,
          -2.2758808751813464,
          -1.6843647156809265,
          -0.053626659142203804,
          0.8285297602516946,
          0.5031952908874641,
          0.7742611547280526,
          0.30977601097773005,
          -0.6448182416719543,
          0.41134042999485876,
          1.297968755471327,
          0.6481172912799048,
          1.453504381327387,
          -1.3076413654255914,
          1.0480380260485127,
          0.032755979578507725,
          -0.0677724367996154,
          0.9656416477754153,
          -0.7513501377357203,
          0.5538732260110499,
          -1.1817042441457228,
          -0.07720356053801292,
          1.1598514163895763,
          -0.5819603985102525,
          -0.4679887971599426,
          -0.1818053718793275,
          1.2482551283645513,
          -0.25725743625096636,
          0.36756810684167657,
          0.0860336525121043,
          1.168205440899212,
          1.5959072680011253,
          -0.15628615314286387,
          -1.5325700210053528,
          0.5950529492192775,
          3.519062056532625,
          0.013355969831628805,
          -1.7606935657195237,
          -0.9810601023543031,
          -2.057710067188469,
          0.34580856858318654,
          -0.5166413986754491,
          0.141205377598102,
          -1.4421536872936562,
          -1.0227308885560844,
          -2.402020244041431,
          -0.6930406350102891,
          -0.28910592124451034,
          0.748899899221347,
          0.1907017121982691,
          0.49364605950994267,
          -0.2542607308582154,
          0.6439407866406093,
          1.8687980965623137,
          1.2634599379249947,
          -0.37411373333150033,
          -0.47044775439277026,
          0.5867185909149113,
          -0.11819802264236594,
          -1.2575413955158006,
          0.9866017815001976,
          2.2323248886734457,
          -0.677751749884955,
          -1.1775958410438587,
          0.10565606367106475,
          0.06620888178107337,
          0.13527616449929697,
          -2.753218828512755,
          -0.6727188261875051,
          0.7129879960144745,
          0.34402673656226707,
          -1.1529829205657744,
          0.9509513233287092,
          -1.6356655017467705,
          -0.4259335595602935
         ],
         "yaxis": "y15"
        },
        {
         "histfunc": "count",
         "histnorm": "",
         "marker": {
          "color": "rgba(128, 0, 128, 1.0)",
          "line": {
           "color": "#4D5663",
           "width": 1.3
          }
         },
         "name": "D",
         "nbinsx": 10,
         "opacity": 0.8,
         "orientation": "v",
         "type": "histogram",
         "x": [
          -0.42495632416362067,
          0.8325265519810885,
          -0.41911791103881446,
          2.1290907938799504,
          0.12068143333495143,
          0.012221910404676036,
          0.29031810331831925,
          0.34096729779845786,
          -0.24302774524268406,
          0.2869729181989335,
          1.6372132871706904,
          -1.4226195793051388,
          1.0971494402220232,
          0.67966288456736,
          0.5339049910679026,
          0.45736271376769905,
          -0.45510419902580557,
          -0.3932393616156436,
          0.466817139923934,
          1.497844827168445,
          -1.325521570597829,
          -0.1871898889980444,
          -0.03110727076174676,
          -0.2169289706021411,
          0.07352116798930584,
          0.5616097558817075,
          -2.2758808751813464,
          -1.6843647156809265,
          -0.053626659142203804,
          0.8285297602516946,
          0.5031952908874641,
          0.7742611547280526,
          0.30977601097773005,
          -0.6448182416719543,
          0.41134042999485876,
          1.297968755471327,
          0.6481172912799048,
          1.453504381327387,
          -1.3076413654255914,
          1.0480380260485127,
          0.032755979578507725,
          -0.0677724367996154,
          0.9656416477754153,
          -0.7513501377357203,
          0.5538732260110499,
          -1.1817042441457228,
          -0.07720356053801292,
          1.1598514163895763,
          -0.5819603985102525,
          -0.4679887971599426,
          -0.1818053718793275,
          1.2482551283645513,
          -0.25725743625096636,
          0.36756810684167657,
          0.0860336525121043,
          1.168205440899212,
          1.5959072680011253,
          -0.15628615314286387,
          -1.5325700210053528,
          0.5950529492192775,
          3.519062056532625,
          0.013355969831628805,
          -1.7606935657195237,
          -0.9810601023543031,
          -2.057710067188469,
          0.34580856858318654,
          -0.5166413986754491,
          0.141205377598102,
          -1.4421536872936562,
          -1.0227308885560844,
          -2.402020244041431,
          -0.6930406350102891,
          -0.28910592124451034,
          0.748899899221347,
          0.1907017121982691,
          0.49364605950994267,
          -0.2542607308582154,
          0.6439407866406093,
          1.8687980965623137,
          1.2634599379249947,
          -0.37411373333150033,
          -0.47044775439277026,
          0.5867185909149113,
          -0.11819802264236594,
          -1.2575413955158006,
          0.9866017815001976,
          2.2323248886734457,
          -0.677751749884955,
          -1.1775958410438587,
          0.10565606367106475,
          0.06620888178107337,
          0.13527616449929697,
          -2.753218828512755,
          -0.6727188261875051,
          0.7129879960144745,
          0.34402673656226707,
          -1.1529829205657744,
          0.9509513233287092,
          -1.6356655017467705,
          -0.4259335595602935
         ],
         "xaxis": "x16",
         "yaxis": "y16"
        }
       ],
       "layout": {
        "bargap": 0.02,
        "legend": {
         "bgcolor": "#F5F6F9",
         "font": {
          "color": "#4D5663"
         }
        },
        "paper_bgcolor": "#F5F6F9",
        "plot_bgcolor": "#F5F6F9",
        "showlegend": false,
        "template": {
         "data": {
          "bar": [
           {
            "error_x": {
             "color": "#2a3f5f"
            },
            "error_y": {
             "color": "#2a3f5f"
            },
            "marker": {
             "line": {
              "color": "#E5ECF6",
              "width": 0.5
             },
             "pattern": {
              "fillmode": "overlay",
              "size": 10,
              "solidity": 0.2
             }
            },
            "type": "bar"
           }
          ],
          "barpolar": [
           {
            "marker": {
             "line": {
              "color": "#E5ECF6",
              "width": 0.5
             },
             "pattern": {
              "fillmode": "overlay",
              "size": 10,
              "solidity": 0.2
             }
            },
            "type": "barpolar"
           }
          ],
          "carpet": [
           {
            "aaxis": {
             "endlinecolor": "#2a3f5f",
             "gridcolor": "white",
             "linecolor": "white",
             "minorgridcolor": "white",
             "startlinecolor": "#2a3f5f"
            },
            "baxis": {
             "endlinecolor": "#2a3f5f",
             "gridcolor": "white",
             "linecolor": "white",
             "minorgridcolor": "white",
             "startlinecolor": "#2a3f5f"
            },
            "type": "carpet"
           }
          ],
          "choropleth": [
           {
            "colorbar": {
             "outlinewidth": 0,
             "ticks": ""
            },
            "type": "choropleth"
           }
          ],
          "contour": [
           {
            "colorbar": {
             "outlinewidth": 0,
             "ticks": ""
            },
            "colorscale": [
             [
              0,
              "#0d0887"
             ],
             [
              0.1111111111111111,
              "#46039f"
             ],
             [
              0.2222222222222222,
              "#7201a8"
             ],
             [
              0.3333333333333333,
              "#9c179e"
             ],
             [
              0.4444444444444444,
              "#bd3786"
             ],
             [
              0.5555555555555556,
              "#d8576b"
             ],
             [
              0.6666666666666666,
              "#ed7953"
             ],
             [
              0.7777777777777778,
              "#fb9f3a"
             ],
             [
              0.8888888888888888,
              "#fdca26"
             ],
             [
              1,
              "#f0f921"
             ]
            ],
            "type": "contour"
           }
          ],
          "contourcarpet": [
           {
            "colorbar": {
             "outlinewidth": 0,
             "ticks": ""
            },
            "type": "contourcarpet"
           }
          ],
          "heatmap": [
           {
            "colorbar": {
             "outlinewidth": 0,
             "ticks": ""
            },
            "colorscale": [
             [
              0,
              "#0d0887"
             ],
             [
              0.1111111111111111,
              "#46039f"
             ],
             [
              0.2222222222222222,
              "#7201a8"
             ],
             [
              0.3333333333333333,
              "#9c179e"
             ],
             [
              0.4444444444444444,
              "#bd3786"
             ],
             [
              0.5555555555555556,
              "#d8576b"
             ],
             [
              0.6666666666666666,
              "#ed7953"
             ],
             [
              0.7777777777777778,
              "#fb9f3a"
             ],
             [
              0.8888888888888888,
              "#fdca26"
             ],
             [
              1,
              "#f0f921"
             ]
            ],
            "type": "heatmap"
           }
          ],
          "heatmapgl": [
           {
            "colorbar": {
             "outlinewidth": 0,
             "ticks": ""
            },
            "colorscale": [
             [
              0,
              "#0d0887"
             ],
             [
              0.1111111111111111,
              "#46039f"
             ],
             [
              0.2222222222222222,
              "#7201a8"
             ],
             [
              0.3333333333333333,
              "#9c179e"
             ],
             [
              0.4444444444444444,
              "#bd3786"
             ],
             [
              0.5555555555555556,
              "#d8576b"
             ],
             [
              0.6666666666666666,
              "#ed7953"
             ],
             [
              0.7777777777777778,
              "#fb9f3a"
             ],
             [
              0.8888888888888888,
              "#fdca26"
             ],
             [
              1,
              "#f0f921"
             ]
            ],
            "type": "heatmapgl"
           }
          ],
          "histogram": [
           {
            "marker": {
             "pattern": {
              "fillmode": "overlay",
              "size": 10,
              "solidity": 0.2
             }
            },
            "type": "histogram"
           }
          ],
          "histogram2d": [
           {
            "colorbar": {
             "outlinewidth": 0,
             "ticks": ""
            },
            "colorscale": [
             [
              0,
              "#0d0887"
             ],
             [
              0.1111111111111111,
              "#46039f"
             ],
             [
              0.2222222222222222,
              "#7201a8"
             ],
             [
              0.3333333333333333,
              "#9c179e"
             ],
             [
              0.4444444444444444,
              "#bd3786"
             ],
             [
              0.5555555555555556,
              "#d8576b"
             ],
             [
              0.6666666666666666,
              "#ed7953"
             ],
             [
              0.7777777777777778,
              "#fb9f3a"
             ],
             [
              0.8888888888888888,
              "#fdca26"
             ],
             [
              1,
              "#f0f921"
             ]
            ],
            "type": "histogram2d"
           }
          ],
          "histogram2dcontour": [
           {
            "colorbar": {
             "outlinewidth": 0,
             "ticks": ""
            },
            "colorscale": [
             [
              0,
              "#0d0887"
             ],
             [
              0.1111111111111111,
              "#46039f"
             ],
             [
              0.2222222222222222,
              "#7201a8"
             ],
             [
              0.3333333333333333,
              "#9c179e"
             ],
             [
              0.4444444444444444,
              "#bd3786"
             ],
             [
              0.5555555555555556,
              "#d8576b"
             ],
             [
              0.6666666666666666,
              "#ed7953"
             ],
             [
              0.7777777777777778,
              "#fb9f3a"
             ],
             [
              0.8888888888888888,
              "#fdca26"
             ],
             [
              1,
              "#f0f921"
             ]
            ],
            "type": "histogram2dcontour"
           }
          ],
          "mesh3d": [
           {
            "colorbar": {
             "outlinewidth": 0,
             "ticks": ""
            },
            "type": "mesh3d"
           }
          ],
          "parcoords": [
           {
            "line": {
             "colorbar": {
              "outlinewidth": 0,
              "ticks": ""
             }
            },
            "type": "parcoords"
           }
          ],
          "pie": [
           {
            "automargin": true,
            "type": "pie"
           }
          ],
          "scatter": [
           {
            "fillpattern": {
             "fillmode": "overlay",
             "size": 10,
             "solidity": 0.2
            },
            "type": "scatter"
           }
          ],
          "scatter3d": [
           {
            "line": {
             "colorbar": {
              "outlinewidth": 0,
              "ticks": ""
             }
            },
            "marker": {
             "colorbar": {
              "outlinewidth": 0,
              "ticks": ""
             }
            },
            "type": "scatter3d"
           }
          ],
          "scattercarpet": [
           {
            "marker": {
             "colorbar": {
              "outlinewidth": 0,
              "ticks": ""
             }
            },
            "type": "scattercarpet"
           }
          ],
          "scattergeo": [
           {
            "marker": {
             "colorbar": {
              "outlinewidth": 0,
              "ticks": ""
             }
            },
            "type": "scattergeo"
           }
          ],
          "scattergl": [
           {
            "marker": {
             "colorbar": {
              "outlinewidth": 0,
              "ticks": ""
             }
            },
            "type": "scattergl"
           }
          ],
          "scattermapbox": [
           {
            "marker": {
             "colorbar": {
              "outlinewidth": 0,
              "ticks": ""
             }
            },
            "type": "scattermapbox"
           }
          ],
          "scatterpolar": [
           {
            "marker": {
             "colorbar": {
              "outlinewidth": 0,
              "ticks": ""
             }
            },
            "type": "scatterpolar"
           }
          ],
          "scatterpolargl": [
           {
            "marker": {
             "colorbar": {
              "outlinewidth": 0,
              "ticks": ""
             }
            },
            "type": "scatterpolargl"
           }
          ],
          "scatterternary": [
           {
            "marker": {
             "colorbar": {
              "outlinewidth": 0,
              "ticks": ""
             }
            },
            "type": "scatterternary"
           }
          ],
          "surface": [
           {
            "colorbar": {
             "outlinewidth": 0,
             "ticks": ""
            },
            "colorscale": [
             [
              0,
              "#0d0887"
             ],
             [
              0.1111111111111111,
              "#46039f"
             ],
             [
              0.2222222222222222,
              "#7201a8"
             ],
             [
              0.3333333333333333,
              "#9c179e"
             ],
             [
              0.4444444444444444,
              "#bd3786"
             ],
             [
              0.5555555555555556,
              "#d8576b"
             ],
             [
              0.6666666666666666,
              "#ed7953"
             ],
             [
              0.7777777777777778,
              "#fb9f3a"
             ],
             [
              0.8888888888888888,
              "#fdca26"
             ],
             [
              1,
              "#f0f921"
             ]
            ],
            "type": "surface"
           }
          ],
          "table": [
           {
            "cells": {
             "fill": {
              "color": "#EBF0F8"
             },
             "line": {
              "color": "white"
             }
            },
            "header": {
             "fill": {
              "color": "#C8D4E3"
             },
             "line": {
              "color": "white"
             }
            },
            "type": "table"
           }
          ]
         },
         "layout": {
          "annotationdefaults": {
           "arrowcolor": "#2a3f5f",
           "arrowhead": 0,
           "arrowwidth": 1
          },
          "autotypenumbers": "strict",
          "coloraxis": {
           "colorbar": {
            "outlinewidth": 0,
            "ticks": ""
           }
          },
          "colorscale": {
           "diverging": [
            [
             0,
             "#8e0152"
            ],
            [
             0.1,
             "#c51b7d"
            ],
            [
             0.2,
             "#de77ae"
            ],
            [
             0.3,
             "#f1b6da"
            ],
            [
             0.4,
             "#fde0ef"
            ],
            [
             0.5,
             "#f7f7f7"
            ],
            [
             0.6,
             "#e6f5d0"
            ],
            [
             0.7,
             "#b8e186"
            ],
            [
             0.8,
             "#7fbc41"
            ],
            [
             0.9,
             "#4d9221"
            ],
            [
             1,
             "#276419"
            ]
           ],
           "sequential": [
            [
             0,
             "#0d0887"
            ],
            [
             0.1111111111111111,
             "#46039f"
            ],
            [
             0.2222222222222222,
             "#7201a8"
            ],
            [
             0.3333333333333333,
             "#9c179e"
            ],
            [
             0.4444444444444444,
             "#bd3786"
            ],
            [
             0.5555555555555556,
             "#d8576b"
            ],
            [
             0.6666666666666666,
             "#ed7953"
            ],
            [
             0.7777777777777778,
             "#fb9f3a"
            ],
            [
             0.8888888888888888,
             "#fdca26"
            ],
            [
             1,
             "#f0f921"
            ]
           ],
           "sequentialminus": [
            [
             0,
             "#0d0887"
            ],
            [
             0.1111111111111111,
             "#46039f"
            ],
            [
             0.2222222222222222,
             "#7201a8"
            ],
            [
             0.3333333333333333,
             "#9c179e"
            ],
            [
             0.4444444444444444,
             "#bd3786"
            ],
            [
             0.5555555555555556,
             "#d8576b"
            ],
            [
             0.6666666666666666,
             "#ed7953"
            ],
            [
             0.7777777777777778,
             "#fb9f3a"
            ],
            [
             0.8888888888888888,
             "#fdca26"
            ],
            [
             1,
             "#f0f921"
            ]
           ]
          },
          "colorway": [
           "#636efa",
           "#EF553B",
           "#00cc96",
           "#ab63fa",
           "#FFA15A",
           "#19d3f3",
           "#FF6692",
           "#B6E880",
           "#FF97FF",
           "#FECB52"
          ],
          "font": {
           "color": "#2a3f5f"
          },
          "geo": {
           "bgcolor": "white",
           "lakecolor": "white",
           "landcolor": "#E5ECF6",
           "showlakes": true,
           "showland": true,
           "subunitcolor": "white"
          },
          "hoverlabel": {
           "align": "left"
          },
          "hovermode": "closest",
          "mapbox": {
           "style": "light"
          },
          "paper_bgcolor": "white",
          "plot_bgcolor": "#E5ECF6",
          "polar": {
           "angularaxis": {
            "gridcolor": "white",
            "linecolor": "white",
            "ticks": ""
           },
           "bgcolor": "#E5ECF6",
           "radialaxis": {
            "gridcolor": "white",
            "linecolor": "white",
            "ticks": ""
           }
          },
          "scene": {
           "xaxis": {
            "backgroundcolor": "#E5ECF6",
            "gridcolor": "white",
            "gridwidth": 2,
            "linecolor": "white",
            "showbackground": true,
            "ticks": "",
            "zerolinecolor": "white"
           },
           "yaxis": {
            "backgroundcolor": "#E5ECF6",
            "gridcolor": "white",
            "gridwidth": 2,
            "linecolor": "white",
            "showbackground": true,
            "ticks": "",
            "zerolinecolor": "white"
           },
           "zaxis": {
            "backgroundcolor": "#E5ECF6",
            "gridcolor": "white",
            "gridwidth": 2,
            "linecolor": "white",
            "showbackground": true,
            "ticks": "",
            "zerolinecolor": "white"
           }
          },
          "shapedefaults": {
           "line": {
            "color": "#2a3f5f"
           }
          },
          "ternary": {
           "aaxis": {
            "gridcolor": "white",
            "linecolor": "white",
            "ticks": ""
           },
           "baxis": {
            "gridcolor": "white",
            "linecolor": "white",
            "ticks": ""
           },
           "bgcolor": "#E5ECF6",
           "caxis": {
            "gridcolor": "white",
            "linecolor": "white",
            "ticks": ""
           }
          },
          "title": {
           "x": 0.05
          },
          "xaxis": {
           "automargin": true,
           "gridcolor": "white",
           "linecolor": "white",
           "ticks": "",
           "title": {
            "standoff": 15
           },
           "zerolinecolor": "white",
           "zerolinewidth": 2
          },
          "yaxis": {
           "automargin": true,
           "gridcolor": "white",
           "linecolor": "white",
           "ticks": "",
           "title": {
            "standoff": 15
           },
           "zerolinecolor": "white",
           "zerolinewidth": 2
          }
         }
        },
        "title": {
         "font": {
          "color": "#4D5663"
         }
        },
        "xaxis": {
         "anchor": "y",
         "domain": [
          0,
          0.2125
         ],
         "gridcolor": "#E1E5ED",
         "showgrid": false,
         "tickfont": {
          "color": "#4D5663"
         },
         "title": {
          "font": {
           "color": "#4D5663"
          },
          "text": ""
         },
         "zerolinecolor": "#E1E5ED"
        },
        "xaxis10": {
         "anchor": "y10",
         "domain": [
          0.2625,
          0.475
         ],
         "gridcolor": "#E1E5ED",
         "showgrid": false,
         "tickfont": {
          "color": "#4D5663"
         },
         "title": {
          "font": {
           "color": "#4D5663"
          },
          "text": ""
         },
         "zerolinecolor": "#E1E5ED"
        },
        "xaxis11": {
         "anchor": "y11",
         "domain": [
          0.525,
          0.7375
         ],
         "gridcolor": "#E1E5ED",
         "showgrid": false,
         "tickfont": {
          "color": "#4D5663"
         },
         "title": {
          "font": {
           "color": "#4D5663"
          },
          "text": ""
         },
         "zerolinecolor": "#E1E5ED"
        },
        "xaxis12": {
         "anchor": "y12",
         "domain": [
          0.7875,
          1
         ],
         "gridcolor": "#E1E5ED",
         "showgrid": false,
         "tickfont": {
          "color": "#4D5663"
         },
         "title": {
          "font": {
           "color": "#4D5663"
          },
          "text": ""
         },
         "zerolinecolor": "#E1E5ED"
        },
        "xaxis13": {
         "anchor": "y13",
         "domain": [
          0,
          0.2125
         ],
         "gridcolor": "#E1E5ED",
         "showgrid": false,
         "tickfont": {
          "color": "#4D5663"
         },
         "title": {
          "font": {
           "color": "#4D5663"
          },
          "text": ""
         },
         "zerolinecolor": "#E1E5ED"
        },
        "xaxis14": {
         "anchor": "y14",
         "domain": [
          0.2625,
          0.475
         ],
         "gridcolor": "#E1E5ED",
         "showgrid": false,
         "tickfont": {
          "color": "#4D5663"
         },
         "title": {
          "font": {
           "color": "#4D5663"
          },
          "text": ""
         },
         "zerolinecolor": "#E1E5ED"
        },
        "xaxis15": {
         "anchor": "y15",
         "domain": [
          0.525,
          0.7375
         ],
         "gridcolor": "#E1E5ED",
         "showgrid": false,
         "tickfont": {
          "color": "#4D5663"
         },
         "title": {
          "font": {
           "color": "#4D5663"
          },
          "text": ""
         },
         "zerolinecolor": "#E1E5ED"
        },
        "xaxis16": {
         "anchor": "y16",
         "domain": [
          0.7875,
          1
         ],
         "gridcolor": "#E1E5ED",
         "showgrid": false,
         "tickfont": {
          "color": "#4D5663"
         },
         "title": {
          "font": {
           "color": "#4D5663"
          },
          "text": ""
         },
         "zerolinecolor": "#E1E5ED"
        },
        "xaxis2": {
         "anchor": "y2",
         "domain": [
          0.2625,
          0.475
         ],
         "gridcolor": "#E1E5ED",
         "showgrid": false,
         "tickfont": {
          "color": "#4D5663"
         },
         "title": {
          "font": {
           "color": "#4D5663"
          },
          "text": ""
         },
         "zerolinecolor": "#E1E5ED"
        },
        "xaxis3": {
         "anchor": "y3",
         "domain": [
          0.525,
          0.7375
         ],
         "gridcolor": "#E1E5ED",
         "showgrid": false,
         "tickfont": {
          "color": "#4D5663"
         },
         "title": {
          "font": {
           "color": "#4D5663"
          },
          "text": ""
         },
         "zerolinecolor": "#E1E5ED"
        },
        "xaxis4": {
         "anchor": "y4",
         "domain": [
          0.7875,
          1
         ],
         "gridcolor": "#E1E5ED",
         "showgrid": false,
         "tickfont": {
          "color": "#4D5663"
         },
         "title": {
          "font": {
           "color": "#4D5663"
          },
          "text": ""
         },
         "zerolinecolor": "#E1E5ED"
        },
        "xaxis5": {
         "anchor": "y5",
         "domain": [
          0,
          0.2125
         ],
         "gridcolor": "#E1E5ED",
         "showgrid": false,
         "tickfont": {
          "color": "#4D5663"
         },
         "title": {
          "font": {
           "color": "#4D5663"
          },
          "text": ""
         },
         "zerolinecolor": "#E1E5ED"
        },
        "xaxis6": {
         "anchor": "y6",
         "domain": [
          0.2625,
          0.475
         ],
         "gridcolor": "#E1E5ED",
         "showgrid": false,
         "tickfont": {
          "color": "#4D5663"
         },
         "title": {
          "font": {
           "color": "#4D5663"
          },
          "text": ""
         },
         "zerolinecolor": "#E1E5ED"
        },
        "xaxis7": {
         "anchor": "y7",
         "domain": [
          0.525,
          0.7375
         ],
         "gridcolor": "#E1E5ED",
         "showgrid": false,
         "tickfont": {
          "color": "#4D5663"
         },
         "title": {
          "font": {
           "color": "#4D5663"
          },
          "text": ""
         },
         "zerolinecolor": "#E1E5ED"
        },
        "xaxis8": {
         "anchor": "y8",
         "domain": [
          0.7875,
          1
         ],
         "gridcolor": "#E1E5ED",
         "showgrid": false,
         "tickfont": {
          "color": "#4D5663"
         },
         "title": {
          "font": {
           "color": "#4D5663"
          },
          "text": ""
         },
         "zerolinecolor": "#E1E5ED"
        },
        "xaxis9": {
         "anchor": "y9",
         "domain": [
          0,
          0.2125
         ],
         "gridcolor": "#E1E5ED",
         "showgrid": false,
         "tickfont": {
          "color": "#4D5663"
         },
         "title": {
          "font": {
           "color": "#4D5663"
          },
          "text": ""
         },
         "zerolinecolor": "#E1E5ED"
        },
        "yaxis": {
         "anchor": "x",
         "domain": [
          0.8025,
          1
         ],
         "gridcolor": "#E1E5ED",
         "showgrid": false,
         "tickfont": {
          "color": "#4D5663"
         },
         "title": {
          "font": {
           "color": "#4D5663"
          },
          "text": ""
         },
         "zerolinecolor": "#E1E5ED"
        },
        "yaxis10": {
         "anchor": "x10",
         "domain": [
          0.2675,
          0.465
         ],
         "gridcolor": "#E1E5ED",
         "showgrid": false,
         "tickfont": {
          "color": "#4D5663"
         },
         "title": {
          "font": {
           "color": "#4D5663"
          },
          "text": ""
         },
         "zerolinecolor": "#E1E5ED"
        },
        "yaxis11": {
         "anchor": "x11",
         "domain": [
          0.2675,
          0.465
         ],
         "gridcolor": "#E1E5ED",
         "showgrid": false,
         "tickfont": {
          "color": "#4D5663"
         },
         "title": {
          "font": {
           "color": "#4D5663"
          },
          "text": ""
         },
         "zerolinecolor": "#E1E5ED"
        },
        "yaxis12": {
         "anchor": "x12",
         "domain": [
          0.2675,
          0.465
         ],
         "gridcolor": "#E1E5ED",
         "showgrid": false,
         "tickfont": {
          "color": "#4D5663"
         },
         "title": {
          "font": {
           "color": "#4D5663"
          },
          "text": ""
         },
         "zerolinecolor": "#E1E5ED"
        },
        "yaxis13": {
         "anchor": "x13",
         "domain": [
          0,
          0.1975
         ],
         "gridcolor": "#E1E5ED",
         "showgrid": false,
         "tickfont": {
          "color": "#4D5663"
         },
         "title": {
          "font": {
           "color": "#4D5663"
          },
          "text": ""
         },
         "zerolinecolor": "#E1E5ED"
        },
        "yaxis14": {
         "anchor": "x14",
         "domain": [
          0,
          0.1975
         ],
         "gridcolor": "#E1E5ED",
         "showgrid": false,
         "tickfont": {
          "color": "#4D5663"
         },
         "title": {
          "font": {
           "color": "#4D5663"
          },
          "text": ""
         },
         "zerolinecolor": "#E1E5ED"
        },
        "yaxis15": {
         "anchor": "x15",
         "domain": [
          0,
          0.1975
         ],
         "gridcolor": "#E1E5ED",
         "showgrid": false,
         "tickfont": {
          "color": "#4D5663"
         },
         "title": {
          "font": {
           "color": "#4D5663"
          },
          "text": ""
         },
         "zerolinecolor": "#E1E5ED"
        },
        "yaxis16": {
         "anchor": "x16",
         "domain": [
          0,
          0.1975
         ],
         "gridcolor": "#E1E5ED",
         "showgrid": false,
         "tickfont": {
          "color": "#4D5663"
         },
         "title": {
          "font": {
           "color": "#4D5663"
          },
          "text": ""
         },
         "zerolinecolor": "#E1E5ED"
        },
        "yaxis2": {
         "anchor": "x2",
         "domain": [
          0.8025,
          1
         ],
         "gridcolor": "#E1E5ED",
         "showgrid": false,
         "tickfont": {
          "color": "#4D5663"
         },
         "title": {
          "font": {
           "color": "#4D5663"
          },
          "text": ""
         },
         "zerolinecolor": "#E1E5ED"
        },
        "yaxis3": {
         "anchor": "x3",
         "domain": [
          0.8025,
          1
         ],
         "gridcolor": "#E1E5ED",
         "showgrid": false,
         "tickfont": {
          "color": "#4D5663"
         },
         "title": {
          "font": {
           "color": "#4D5663"
          },
          "text": ""
         },
         "zerolinecolor": "#E1E5ED"
        },
        "yaxis4": {
         "anchor": "x4",
         "domain": [
          0.8025,
          1
         ],
         "gridcolor": "#E1E5ED",
         "showgrid": false,
         "tickfont": {
          "color": "#4D5663"
         },
         "title": {
          "font": {
           "color": "#4D5663"
          },
          "text": ""
         },
         "zerolinecolor": "#E1E5ED"
        },
        "yaxis5": {
         "anchor": "x5",
         "domain": [
          0.535,
          0.7325
         ],
         "gridcolor": "#E1E5ED",
         "showgrid": false,
         "tickfont": {
          "color": "#4D5663"
         },
         "title": {
          "font": {
           "color": "#4D5663"
          },
          "text": ""
         },
         "zerolinecolor": "#E1E5ED"
        },
        "yaxis6": {
         "anchor": "x6",
         "domain": [
          0.535,
          0.7325
         ],
         "gridcolor": "#E1E5ED",
         "showgrid": false,
         "tickfont": {
          "color": "#4D5663"
         },
         "title": {
          "font": {
           "color": "#4D5663"
          },
          "text": ""
         },
         "zerolinecolor": "#E1E5ED"
        },
        "yaxis7": {
         "anchor": "x7",
         "domain": [
          0.535,
          0.7325
         ],
         "gridcolor": "#E1E5ED",
         "showgrid": false,
         "tickfont": {
          "color": "#4D5663"
         },
         "title": {
          "font": {
           "color": "#4D5663"
          },
          "text": ""
         },
         "zerolinecolor": "#E1E5ED"
        },
        "yaxis8": {
         "anchor": "x8",
         "domain": [
          0.535,
          0.7325
         ],
         "gridcolor": "#E1E5ED",
         "showgrid": false,
         "tickfont": {
          "color": "#4D5663"
         },
         "title": {
          "font": {
           "color": "#4D5663"
          },
          "text": ""
         },
         "zerolinecolor": "#E1E5ED"
        },
        "yaxis9": {
         "anchor": "x9",
         "domain": [
          0.2675,
          0.465
         ],
         "gridcolor": "#E1E5ED",
         "showgrid": false,
         "tickfont": {
          "color": "#4D5663"
         },
         "title": {
          "font": {
           "color": "#4D5663"
          },
          "text": ""
         },
         "zerolinecolor": "#E1E5ED"
        }
       }
      },
      "text/html": [
       "<div>                            <div id=\"d906f827-58f0-4227-a1f6-b5afcef957eb\" class=\"plotly-graph-div\" style=\"height:525px; width:100%;\"></div>            <script type=\"text/javascript\">                require([\"plotly\"], function(Plotly) {                    window.PLOTLYENV=window.PLOTLYENV || {};\n",
       "                    window.PLOTLYENV.BASE_URL='https://plot.ly';                                    if (document.getElementById(\"d906f827-58f0-4227-a1f6-b5afcef957eb\")) {                    Plotly.newPlot(                        \"d906f827-58f0-4227-a1f6-b5afcef957eb\",                        [{\"histfunc\":\"count\",\"histnorm\":\"\",\"marker\":{\"color\":\"rgba(255, 153, 51, 1.0)\",\"line\":{\"color\":\"#4D5663\",\"width\":1.3}},\"name\":\"A\",\"nbinsx\":10,\"opacity\":0.8,\"orientation\":\"v\",\"x\":[-0.629400460736606,-0.3902511837428377,-0.5591700478406222,-0.5015750659259559,-0.6028247757790585,-1.7552895707056984,0.3728303295489695,-0.9949058872060896,1.383786061209142,-0.7478723956059203,0.06816934594778336,0.3141341819011735,-1.4434647152951174,0.4279880196945129,-2.7094890740900803,0.13506963265460648,-0.3362772326824624,-1.003162479173856,-0.9417909848304834,0.12809221322659364,-0.9761844606375003,0.851597093857289,-0.2174753543117878,0.16923231361532318,-1.196108833893656,-1.4490166364502461,-0.43386109420639013,1.097856069838825,-0.3105310538314359,-0.3169866600355245,1.592962498055057,0.9758423831858871,-1.3671182139924076,0.7817958007205139,-1.3911274721075122,0.12975350981883296,1.13847634366471,1.8672274817233254,-0.7504577680021094,1.7846896247177337,1.0793488689838349,-1.0844765858716827,-0.3516404570166523,0.9227502103917912,0.3755932851618663,0.3778890996717057,1.680119511266985,-0.4599735982942427,1.5985393735185909,1.0563349091055834,-1.0911352575440694,1.7417271070535496,-1.3100266243771161,-0.3876135929450466,0.9025719152875156,1.401243501430797,-1.2969497206273086,-1.2048928883655137,1.3573070492269648,0.05766322435151034,0.29981192742332086,1.5170818674960982,2.155478704025667,0.8024742835998596,0.40266903970292495,-1.3623380036310104,-0.9347835030015103,-0.023410056738022517,-1.072457943276233,0.8831066668343588,1.8136193860509642,-0.18934701060634257,-0.7986253409908879,1.6043882256104582,-1.3412563333112506,-1.5577062645161655,-1.3566037510986833,0.04005495647472767,0.2708046082479397,-0.9634981045226241,0.8583993616190417,-0.6470050959406236,-0.5512575986366849,2.071338692577119,1.5052688721826468,-0.617246691643328,1.4552686037187066,0.5720417545278373,-1.1152513286714432,1.7410978052511834,0.8914819708996335,-0.6908395795783034,1.414032221853257,-1.2057589945974467,0.6833974114014549,-1.2187494324750037,0.025605567304754343,-0.6574804043471983,0.04405104857084567,1.33018346090302],\"xaxis\":\"x\",\"yaxis\":\"y\",\"type\":\"histogram\"},{\"line\":{\"color\":\"rgba(128, 128, 128, 1.0)\",\"dash\":\"solid\",\"shape\":\"linear\",\"width\":1.3},\"marker\":{\"size\":2,\"symbol\":\"circle\"},\"mode\":\"markers\",\"name\":\"A\",\"text\":\"\",\"x\":[0.4103450482823756,-0.23277879634899593,-0.45086136540875726,-0.08376735759564617,0.013872231247996124,-0.07072690859130389,0.30681170864600404,1.2902872300683392,-0.3265296450613535,0.10747041706050438,-0.4891966860282878,0.1321546966645771,2.2002266533209984,2.827921795219644,1.4213390904822027,-0.40481684699662795,0.8777377019046946,-0.5915210626668627,0.23237752609932294,0.10802408268723265,-0.4989964964726072,-0.17693190406338596,0.31980787789478055,0.8585326836819313,-1.5714924413997264,-0.5285087993679705,0.4446605522951421,-0.4261044334302472,0.04041835504896138,-0.2102461439854402,0.8853158428254773,-0.9926023261355174,0.7837779223912771,1.6207142996018502,-0.31222240376226895,0.21669648190985635,-0.005778545670522539,0.2424273620179277,1.0604864388343094,0.5405949217925212,-0.028827349523677923,-0.19992850944368576,-0.07932311155494266,-1.487415209783587,0.25772607668232306,0.659067678454487,0.7764559512979428,1.1811473518576816,1.269253528510618,-0.10593976314056446,-2.2033948416823987,-0.26099399205439405,-0.035842618820022584,-0.436740003503195,-0.7347854957866872,-1.474470346831659,0.2856744360831367,-0.6987609147597583,0.25012931898644164,-1.3175865204408947,0.09478695458135028,1.8709144399634727,0.26797206469934276,-1.3953358629453787,-0.6945329566849582,1.555621068767977,0.8283772246580962,-0.8420550563881509,0.805777476671103,-1.1529198884152143,-0.13563746306624466,-0.24579363705319546,-0.846884195632001,-0.6643522082710484,0.7052085498958576,-1.6877108081600287,0.020389419260974217,-0.41756781346012556,-0.8676788986975928,-2.5653389961604987,-0.34799695926298335,0.7409356257488319,0.4199756934089848,-0.18905296451511472,-0.7275775921980504,-1.7658346002170116,-0.8494415212511488,0.06516189570040587,-1.0812781607038502,1.182463220527681,-0.1828465609009514,-1.6925573120184574,0.2528746913720982,1.2151401118568756,-0.49604662980129016,-1.1333482603578835,-1.2871159652833557,1.2333219879816024,0.2863728726007531,-0.4379191310630423],\"xaxis\":\"x2\",\"y\":[-0.629400460736606,-0.3902511837428377,-0.5591700478406222,-0.5015750659259559,-0.6028247757790585,-1.7552895707056984,0.3728303295489695,-0.9949058872060896,1.383786061209142,-0.7478723956059203,0.06816934594778336,0.3141341819011735,-1.4434647152951174,0.4279880196945129,-2.7094890740900803,0.13506963265460648,-0.3362772326824624,-1.003162479173856,-0.9417909848304834,0.12809221322659364,-0.9761844606375003,0.851597093857289,-0.2174753543117878,0.16923231361532318,-1.196108833893656,-1.4490166364502461,-0.43386109420639013,1.097856069838825,-0.3105310538314359,-0.3169866600355245,1.592962498055057,0.9758423831858871,-1.3671182139924076,0.7817958007205139,-1.3911274721075122,0.12975350981883296,1.13847634366471,1.8672274817233254,-0.7504577680021094,1.7846896247177337,1.0793488689838349,-1.0844765858716827,-0.3516404570166523,0.9227502103917912,0.3755932851618663,0.3778890996717057,1.680119511266985,-0.4599735982942427,1.5985393735185909,1.0563349091055834,-1.0911352575440694,1.7417271070535496,-1.3100266243771161,-0.3876135929450466,0.9025719152875156,1.401243501430797,-1.2969497206273086,-1.2048928883655137,1.3573070492269648,0.05766322435151034,0.29981192742332086,1.5170818674960982,2.155478704025667,0.8024742835998596,0.40266903970292495,-1.3623380036310104,-0.9347835030015103,-0.023410056738022517,-1.072457943276233,0.8831066668343588,1.8136193860509642,-0.18934701060634257,-0.7986253409908879,1.6043882256104582,-1.3412563333112506,-1.5577062645161655,-1.3566037510986833,0.04005495647472767,0.2708046082479397,-0.9634981045226241,0.8583993616190417,-0.6470050959406236,-0.5512575986366849,2.071338692577119,1.5052688721826468,-0.617246691643328,1.4552686037187066,0.5720417545278373,-1.1152513286714432,1.7410978052511834,0.8914819708996335,-0.6908395795783034,1.414032221853257,-1.2057589945974467,0.6833974114014549,-1.2187494324750037,0.025605567304754343,-0.6574804043471983,0.04405104857084567,1.33018346090302],\"yaxis\":\"y2\",\"type\":\"scatter\"},{\"line\":{\"color\":\"rgba(128, 128, 128, 1.0)\",\"dash\":\"solid\",\"shape\":\"linear\",\"width\":1.3},\"marker\":{\"size\":2,\"symbol\":\"circle\"},\"mode\":\"markers\",\"name\":\"A\",\"text\":\"\",\"x\":[-0.32674355923381754,0.40244699964955477,0.24482868903319657,-0.49374567931671604,-1.2201447433844579,0.004506024629842515,0.46367005451863835,-1.0189990787588659,-0.7441279603914729,0.06579240859254595,0.4655232330710052,-1.7397582276065648,-0.2680109999716551,-0.3121280084283826,2.2147166613040756,-0.776459612467547,1.1866613499014753,0.5712085818037482,0.10230286214004662,-1.7717736504597807,-0.12369375914161404,-0.8700598280752807,1.2674112450150417,-0.5544308562984243,-0.1848548987667389,1.2423846567498795,1.5067794217195456,0.6044283478894678,0.5880033731238098,-0.8437357875998986,-0.48697936309314555,-0.40532845113414234,-0.35649858635655013,-1.5837522177192378,0.03464395879348093,-0.8460718105545953,0.27952688155005845,0.4487023136210964,0.00013119227840028668,-0.5948524567042549,-0.4705775864489385,-0.2739885585266081,0.6160535978917444,-0.48980496576238214,0.3956075539415357,-1.8405778475632646,-1.2020297526725154,-0.7863386287429571,-0.21712607454468716,-0.816518832493915,-0.4436876464865272,0.5008123594560738,-1.838178531281376,0.9422468116083216,1.4317527648889325,0.922568449925848,1.7661596286173802,0.31113001181453587,0.8908248687621048,0.7280432707682472,-0.8572117637594926,1.084921920807178,0.43600039278421254,-0.5641287287786603,-0.8257443812945842,0.054357982486677524,0.04225146811206106,-1.6548714332099215,-1.2128389576271554,0.11233504238923263,-0.6533567187978976,-0.9782158093971358,0.6045335366695211,-0.05072076055391424,-2.0447571350618263,0.7009592840678283,-0.5151150469908776,-1.1337579775447795,0.14115564681136036,0.5153883494625351,-0.54532985350259,0.36943192519387225,-0.07295208056302716,-0.30623678841089497,0.7594892264036471,-1.1681466459046683,0.9721186394715218,0.23729676333646912,-1.3664005827427874,0.5225651257445344,-0.18443991163904327,-0.048962793929122485,0.614506295484835,-0.5004874102520577,-1.7507953222473616,0.15042534555901244,-0.65915182204999,-2.4101607041387823,-0.1596363821821437,-0.9858044319691249],\"xaxis\":\"x3\",\"y\":[-0.629400460736606,-0.3902511837428377,-0.5591700478406222,-0.5015750659259559,-0.6028247757790585,-1.7552895707056984,0.3728303295489695,-0.9949058872060896,1.383786061209142,-0.7478723956059203,0.06816934594778336,0.3141341819011735,-1.4434647152951174,0.4279880196945129,-2.7094890740900803,0.13506963265460648,-0.3362772326824624,-1.003162479173856,-0.9417909848304834,0.12809221322659364,-0.9761844606375003,0.851597093857289,-0.2174753543117878,0.16923231361532318,-1.196108833893656,-1.4490166364502461,-0.43386109420639013,1.097856069838825,-0.3105310538314359,-0.3169866600355245,1.592962498055057,0.9758423831858871,-1.3671182139924076,0.7817958007205139,-1.3911274721075122,0.12975350981883296,1.13847634366471,1.8672274817233254,-0.7504577680021094,1.7846896247177337,1.0793488689838349,-1.0844765858716827,-0.3516404570166523,0.9227502103917912,0.3755932851618663,0.3778890996717057,1.680119511266985,-0.4599735982942427,1.5985393735185909,1.0563349091055834,-1.0911352575440694,1.7417271070535496,-1.3100266243771161,-0.3876135929450466,0.9025719152875156,1.401243501430797,-1.2969497206273086,-1.2048928883655137,1.3573070492269648,0.05766322435151034,0.29981192742332086,1.5170818674960982,2.155478704025667,0.8024742835998596,0.40266903970292495,-1.3623380036310104,-0.9347835030015103,-0.023410056738022517,-1.072457943276233,0.8831066668343588,1.8136193860509642,-0.18934701060634257,-0.7986253409908879,1.6043882256104582,-1.3412563333112506,-1.5577062645161655,-1.3566037510986833,0.04005495647472767,0.2708046082479397,-0.9634981045226241,0.8583993616190417,-0.6470050959406236,-0.5512575986366849,2.071338692577119,1.5052688721826468,-0.617246691643328,1.4552686037187066,0.5720417545278373,-1.1152513286714432,1.7410978052511834,0.8914819708996335,-0.6908395795783034,1.414032221853257,-1.2057589945974467,0.6833974114014549,-1.2187494324750037,0.025605567304754343,-0.6574804043471983,0.04405104857084567,1.33018346090302],\"yaxis\":\"y3\",\"type\":\"scatter\"},{\"line\":{\"color\":\"rgba(128, 128, 128, 1.0)\",\"dash\":\"solid\",\"shape\":\"linear\",\"width\":1.3},\"marker\":{\"size\":2,\"symbol\":\"circle\"},\"mode\":\"markers\",\"name\":\"A\",\"text\":\"\",\"x\":[-0.42495632416362067,0.8325265519810885,-0.41911791103881446,2.1290907938799504,0.12068143333495143,0.012221910404676036,0.29031810331831925,0.34096729779845786,-0.24302774524268406,0.2869729181989335,1.6372132871706904,-1.4226195793051388,1.0971494402220232,0.67966288456736,0.5339049910679026,0.45736271376769905,-0.45510419902580557,-0.3932393616156436,0.466817139923934,1.497844827168445,-1.325521570597829,-0.1871898889980444,-0.03110727076174676,-0.2169289706021411,0.07352116798930584,0.5616097558817075,-2.2758808751813464,-1.6843647156809265,-0.053626659142203804,0.8285297602516946,0.5031952908874641,0.7742611547280526,0.30977601097773005,-0.6448182416719543,0.41134042999485876,1.297968755471327,0.6481172912799048,1.453504381327387,-1.3076413654255914,1.0480380260485127,0.032755979578507725,-0.0677724367996154,0.9656416477754153,-0.7513501377357203,0.5538732260110499,-1.1817042441457228,-0.07720356053801292,1.1598514163895763,-0.5819603985102525,-0.4679887971599426,-0.1818053718793275,1.2482551283645513,-0.25725743625096636,0.36756810684167657,0.0860336525121043,1.168205440899212,1.5959072680011253,-0.15628615314286387,-1.5325700210053528,0.5950529492192775,3.519062056532625,0.013355969831628805,-1.7606935657195237,-0.9810601023543031,-2.057710067188469,0.34580856858318654,-0.5166413986754491,0.141205377598102,-1.4421536872936562,-1.0227308885560844,-2.402020244041431,-0.6930406350102891,-0.28910592124451034,0.748899899221347,0.1907017121982691,0.49364605950994267,-0.2542607308582154,0.6439407866406093,1.8687980965623137,1.2634599379249947,-0.37411373333150033,-0.47044775439277026,0.5867185909149113,-0.11819802264236594,-1.2575413955158006,0.9866017815001976,2.2323248886734457,-0.677751749884955,-1.1775958410438587,0.10565606367106475,0.06620888178107337,0.13527616449929697,-2.753218828512755,-0.6727188261875051,0.7129879960144745,0.34402673656226707,-1.1529829205657744,0.9509513233287092,-1.6356655017467705,-0.4259335595602935],\"xaxis\":\"x4\",\"y\":[-0.629400460736606,-0.3902511837428377,-0.5591700478406222,-0.5015750659259559,-0.6028247757790585,-1.7552895707056984,0.3728303295489695,-0.9949058872060896,1.383786061209142,-0.7478723956059203,0.06816934594778336,0.3141341819011735,-1.4434647152951174,0.4279880196945129,-2.7094890740900803,0.13506963265460648,-0.3362772326824624,-1.003162479173856,-0.9417909848304834,0.12809221322659364,-0.9761844606375003,0.851597093857289,-0.2174753543117878,0.16923231361532318,-1.196108833893656,-1.4490166364502461,-0.43386109420639013,1.097856069838825,-0.3105310538314359,-0.3169866600355245,1.592962498055057,0.9758423831858871,-1.3671182139924076,0.7817958007205139,-1.3911274721075122,0.12975350981883296,1.13847634366471,1.8672274817233254,-0.7504577680021094,1.7846896247177337,1.0793488689838349,-1.0844765858716827,-0.3516404570166523,0.9227502103917912,0.3755932851618663,0.3778890996717057,1.680119511266985,-0.4599735982942427,1.5985393735185909,1.0563349091055834,-1.0911352575440694,1.7417271070535496,-1.3100266243771161,-0.3876135929450466,0.9025719152875156,1.401243501430797,-1.2969497206273086,-1.2048928883655137,1.3573070492269648,0.05766322435151034,0.29981192742332086,1.5170818674960982,2.155478704025667,0.8024742835998596,0.40266903970292495,-1.3623380036310104,-0.9347835030015103,-0.023410056738022517,-1.072457943276233,0.8831066668343588,1.8136193860509642,-0.18934701060634257,-0.7986253409908879,1.6043882256104582,-1.3412563333112506,-1.5577062645161655,-1.3566037510986833,0.04005495647472767,0.2708046082479397,-0.9634981045226241,0.8583993616190417,-0.6470050959406236,-0.5512575986366849,2.071338692577119,1.5052688721826468,-0.617246691643328,1.4552686037187066,0.5720417545278373,-1.1152513286714432,1.7410978052511834,0.8914819708996335,-0.6908395795783034,1.414032221853257,-1.2057589945974467,0.6833974114014549,-1.2187494324750037,0.025605567304754343,-0.6574804043471983,0.04405104857084567,1.33018346090302],\"yaxis\":\"y4\",\"type\":\"scatter\"},{\"line\":{\"color\":\"rgba(128, 128, 128, 1.0)\",\"dash\":\"solid\",\"shape\":\"linear\",\"width\":1.3},\"marker\":{\"size\":2,\"symbol\":\"circle\"},\"mode\":\"markers\",\"name\":\"B\",\"text\":\"\",\"x\":[-0.629400460736606,-0.3902511837428377,-0.5591700478406222,-0.5015750659259559,-0.6028247757790585,-1.7552895707056984,0.3728303295489695,-0.9949058872060896,1.383786061209142,-0.7478723956059203,0.06816934594778336,0.3141341819011735,-1.4434647152951174,0.4279880196945129,-2.7094890740900803,0.13506963265460648,-0.3362772326824624,-1.003162479173856,-0.9417909848304834,0.12809221322659364,-0.9761844606375003,0.851597093857289,-0.2174753543117878,0.16923231361532318,-1.196108833893656,-1.4490166364502461,-0.43386109420639013,1.097856069838825,-0.3105310538314359,-0.3169866600355245,1.592962498055057,0.9758423831858871,-1.3671182139924076,0.7817958007205139,-1.3911274721075122,0.12975350981883296,1.13847634366471,1.8672274817233254,-0.7504577680021094,1.7846896247177337,1.0793488689838349,-1.0844765858716827,-0.3516404570166523,0.9227502103917912,0.3755932851618663,0.3778890996717057,1.680119511266985,-0.4599735982942427,1.5985393735185909,1.0563349091055834,-1.0911352575440694,1.7417271070535496,-1.3100266243771161,-0.3876135929450466,0.9025719152875156,1.401243501430797,-1.2969497206273086,-1.2048928883655137,1.3573070492269648,0.05766322435151034,0.29981192742332086,1.5170818674960982,2.155478704025667,0.8024742835998596,0.40266903970292495,-1.3623380036310104,-0.9347835030015103,-0.023410056738022517,-1.072457943276233,0.8831066668343588,1.8136193860509642,-0.18934701060634257,-0.7986253409908879,1.6043882256104582,-1.3412563333112506,-1.5577062645161655,-1.3566037510986833,0.04005495647472767,0.2708046082479397,-0.9634981045226241,0.8583993616190417,-0.6470050959406236,-0.5512575986366849,2.071338692577119,1.5052688721826468,-0.617246691643328,1.4552686037187066,0.5720417545278373,-1.1152513286714432,1.7410978052511834,0.8914819708996335,-0.6908395795783034,1.414032221853257,-1.2057589945974467,0.6833974114014549,-1.2187494324750037,0.025605567304754343,-0.6574804043471983,0.04405104857084567,1.33018346090302],\"xaxis\":\"x5\",\"y\":[0.4103450482823756,-0.23277879634899593,-0.45086136540875726,-0.08376735759564617,0.013872231247996124,-0.07072690859130389,0.30681170864600404,1.2902872300683392,-0.3265296450613535,0.10747041706050438,-0.4891966860282878,0.1321546966645771,2.2002266533209984,2.827921795219644,1.4213390904822027,-0.40481684699662795,0.8777377019046946,-0.5915210626668627,0.23237752609932294,0.10802408268723265,-0.4989964964726072,-0.17693190406338596,0.31980787789478055,0.8585326836819313,-1.5714924413997264,-0.5285087993679705,0.4446605522951421,-0.4261044334302472,0.04041835504896138,-0.2102461439854402,0.8853158428254773,-0.9926023261355174,0.7837779223912771,1.6207142996018502,-0.31222240376226895,0.21669648190985635,-0.005778545670522539,0.2424273620179277,1.0604864388343094,0.5405949217925212,-0.028827349523677923,-0.19992850944368576,-0.07932311155494266,-1.487415209783587,0.25772607668232306,0.659067678454487,0.7764559512979428,1.1811473518576816,1.269253528510618,-0.10593976314056446,-2.2033948416823987,-0.26099399205439405,-0.035842618820022584,-0.436740003503195,-0.7347854957866872,-1.474470346831659,0.2856744360831367,-0.6987609147597583,0.25012931898644164,-1.3175865204408947,0.09478695458135028,1.8709144399634727,0.26797206469934276,-1.3953358629453787,-0.6945329566849582,1.555621068767977,0.8283772246580962,-0.8420550563881509,0.805777476671103,-1.1529198884152143,-0.13563746306624466,-0.24579363705319546,-0.846884195632001,-0.6643522082710484,0.7052085498958576,-1.6877108081600287,0.020389419260974217,-0.41756781346012556,-0.8676788986975928,-2.5653389961604987,-0.34799695926298335,0.7409356257488319,0.4199756934089848,-0.18905296451511472,-0.7275775921980504,-1.7658346002170116,-0.8494415212511488,0.06516189570040587,-1.0812781607038502,1.182463220527681,-0.1828465609009514,-1.6925573120184574,0.2528746913720982,1.2151401118568756,-0.49604662980129016,-1.1333482603578835,-1.2871159652833557,1.2333219879816024,0.2863728726007531,-0.4379191310630423],\"yaxis\":\"y5\",\"type\":\"scatter\"},{\"histfunc\":\"count\",\"histnorm\":\"\",\"marker\":{\"color\":\"rgba(55, 128, 191, 1.0)\",\"line\":{\"color\":\"#4D5663\",\"width\":1.3}},\"name\":\"B\",\"nbinsx\":10,\"opacity\":0.8,\"orientation\":\"v\",\"x\":[0.4103450482823756,-0.23277879634899593,-0.45086136540875726,-0.08376735759564617,0.013872231247996124,-0.07072690859130389,0.30681170864600404,1.2902872300683392,-0.3265296450613535,0.10747041706050438,-0.4891966860282878,0.1321546966645771,2.2002266533209984,2.827921795219644,1.4213390904822027,-0.40481684699662795,0.8777377019046946,-0.5915210626668627,0.23237752609932294,0.10802408268723265,-0.4989964964726072,-0.17693190406338596,0.31980787789478055,0.8585326836819313,-1.5714924413997264,-0.5285087993679705,0.4446605522951421,-0.4261044334302472,0.04041835504896138,-0.2102461439854402,0.8853158428254773,-0.9926023261355174,0.7837779223912771,1.6207142996018502,-0.31222240376226895,0.21669648190985635,-0.005778545670522539,0.2424273620179277,1.0604864388343094,0.5405949217925212,-0.028827349523677923,-0.19992850944368576,-0.07932311155494266,-1.487415209783587,0.25772607668232306,0.659067678454487,0.7764559512979428,1.1811473518576816,1.269253528510618,-0.10593976314056446,-2.2033948416823987,-0.26099399205439405,-0.035842618820022584,-0.436740003503195,-0.7347854957866872,-1.474470346831659,0.2856744360831367,-0.6987609147597583,0.25012931898644164,-1.3175865204408947,0.09478695458135028,1.8709144399634727,0.26797206469934276,-1.3953358629453787,-0.6945329566849582,1.555621068767977,0.8283772246580962,-0.8420550563881509,0.805777476671103,-1.1529198884152143,-0.13563746306624466,-0.24579363705319546,-0.846884195632001,-0.6643522082710484,0.7052085498958576,-1.6877108081600287,0.020389419260974217,-0.41756781346012556,-0.8676788986975928,-2.5653389961604987,-0.34799695926298335,0.7409356257488319,0.4199756934089848,-0.18905296451511472,-0.7275775921980504,-1.7658346002170116,-0.8494415212511488,0.06516189570040587,-1.0812781607038502,1.182463220527681,-0.1828465609009514,-1.6925573120184574,0.2528746913720982,1.2151401118568756,-0.49604662980129016,-1.1333482603578835,-1.2871159652833557,1.2333219879816024,0.2863728726007531,-0.4379191310630423],\"xaxis\":\"x6\",\"yaxis\":\"y6\",\"type\":\"histogram\"},{\"line\":{\"color\":\"rgba(128, 128, 128, 1.0)\",\"dash\":\"solid\",\"shape\":\"linear\",\"width\":1.3},\"marker\":{\"size\":2,\"symbol\":\"circle\"},\"mode\":\"markers\",\"name\":\"B\",\"text\":\"\",\"x\":[-0.32674355923381754,0.40244699964955477,0.24482868903319657,-0.49374567931671604,-1.2201447433844579,0.004506024629842515,0.46367005451863835,-1.0189990787588659,-0.7441279603914729,0.06579240859254595,0.4655232330710052,-1.7397582276065648,-0.2680109999716551,-0.3121280084283826,2.2147166613040756,-0.776459612467547,1.1866613499014753,0.5712085818037482,0.10230286214004662,-1.7717736504597807,-0.12369375914161404,-0.8700598280752807,1.2674112450150417,-0.5544308562984243,-0.1848548987667389,1.2423846567498795,1.5067794217195456,0.6044283478894678,0.5880033731238098,-0.8437357875998986,-0.48697936309314555,-0.40532845113414234,-0.35649858635655013,-1.5837522177192378,0.03464395879348093,-0.8460718105545953,0.27952688155005845,0.4487023136210964,0.00013119227840028668,-0.5948524567042549,-0.4705775864489385,-0.2739885585266081,0.6160535978917444,-0.48980496576238214,0.3956075539415357,-1.8405778475632646,-1.2020297526725154,-0.7863386287429571,-0.21712607454468716,-0.816518832493915,-0.4436876464865272,0.5008123594560738,-1.838178531281376,0.9422468116083216,1.4317527648889325,0.922568449925848,1.7661596286173802,0.31113001181453587,0.8908248687621048,0.7280432707682472,-0.8572117637594926,1.084921920807178,0.43600039278421254,-0.5641287287786603,-0.8257443812945842,0.054357982486677524,0.04225146811206106,-1.6548714332099215,-1.2128389576271554,0.11233504238923263,-0.6533567187978976,-0.9782158093971358,0.6045335366695211,-0.05072076055391424,-2.0447571350618263,0.7009592840678283,-0.5151150469908776,-1.1337579775447795,0.14115564681136036,0.5153883494625351,-0.54532985350259,0.36943192519387225,-0.07295208056302716,-0.30623678841089497,0.7594892264036471,-1.1681466459046683,0.9721186394715218,0.23729676333646912,-1.3664005827427874,0.5225651257445344,-0.18443991163904327,-0.048962793929122485,0.614506295484835,-0.5004874102520577,-1.7507953222473616,0.15042534555901244,-0.65915182204999,-2.4101607041387823,-0.1596363821821437,-0.9858044319691249],\"xaxis\":\"x7\",\"y\":[0.4103450482823756,-0.23277879634899593,-0.45086136540875726,-0.08376735759564617,0.013872231247996124,-0.07072690859130389,0.30681170864600404,1.2902872300683392,-0.3265296450613535,0.10747041706050438,-0.4891966860282878,0.1321546966645771,2.2002266533209984,2.827921795219644,1.4213390904822027,-0.40481684699662795,0.8777377019046946,-0.5915210626668627,0.23237752609932294,0.10802408268723265,-0.4989964964726072,-0.17693190406338596,0.31980787789478055,0.8585326836819313,-1.5714924413997264,-0.5285087993679705,0.4446605522951421,-0.4261044334302472,0.04041835504896138,-0.2102461439854402,0.8853158428254773,-0.9926023261355174,0.7837779223912771,1.6207142996018502,-0.31222240376226895,0.21669648190985635,-0.005778545670522539,0.2424273620179277,1.0604864388343094,0.5405949217925212,-0.028827349523677923,-0.19992850944368576,-0.07932311155494266,-1.487415209783587,0.25772607668232306,0.659067678454487,0.7764559512979428,1.1811473518576816,1.269253528510618,-0.10593976314056446,-2.2033948416823987,-0.26099399205439405,-0.035842618820022584,-0.436740003503195,-0.7347854957866872,-1.474470346831659,0.2856744360831367,-0.6987609147597583,0.25012931898644164,-1.3175865204408947,0.09478695458135028,1.8709144399634727,0.26797206469934276,-1.3953358629453787,-0.6945329566849582,1.555621068767977,0.8283772246580962,-0.8420550563881509,0.805777476671103,-1.1529198884152143,-0.13563746306624466,-0.24579363705319546,-0.846884195632001,-0.6643522082710484,0.7052085498958576,-1.6877108081600287,0.020389419260974217,-0.41756781346012556,-0.8676788986975928,-2.5653389961604987,-0.34799695926298335,0.7409356257488319,0.4199756934089848,-0.18905296451511472,-0.7275775921980504,-1.7658346002170116,-0.8494415212511488,0.06516189570040587,-1.0812781607038502,1.182463220527681,-0.1828465609009514,-1.6925573120184574,0.2528746913720982,1.2151401118568756,-0.49604662980129016,-1.1333482603578835,-1.2871159652833557,1.2333219879816024,0.2863728726007531,-0.4379191310630423],\"yaxis\":\"y7\",\"type\":\"scatter\"},{\"line\":{\"color\":\"rgba(128, 128, 128, 1.0)\",\"dash\":\"solid\",\"shape\":\"linear\",\"width\":1.3},\"marker\":{\"size\":2,\"symbol\":\"circle\"},\"mode\":\"markers\",\"name\":\"B\",\"text\":\"\",\"x\":[-0.42495632416362067,0.8325265519810885,-0.41911791103881446,2.1290907938799504,0.12068143333495143,0.012221910404676036,0.29031810331831925,0.34096729779845786,-0.24302774524268406,0.2869729181989335,1.6372132871706904,-1.4226195793051388,1.0971494402220232,0.67966288456736,0.5339049910679026,0.45736271376769905,-0.45510419902580557,-0.3932393616156436,0.466817139923934,1.497844827168445,-1.325521570597829,-0.1871898889980444,-0.03110727076174676,-0.2169289706021411,0.07352116798930584,0.5616097558817075,-2.2758808751813464,-1.6843647156809265,-0.053626659142203804,0.8285297602516946,0.5031952908874641,0.7742611547280526,0.30977601097773005,-0.6448182416719543,0.41134042999485876,1.297968755471327,0.6481172912799048,1.453504381327387,-1.3076413654255914,1.0480380260485127,0.032755979578507725,-0.0677724367996154,0.9656416477754153,-0.7513501377357203,0.5538732260110499,-1.1817042441457228,-0.07720356053801292,1.1598514163895763,-0.5819603985102525,-0.4679887971599426,-0.1818053718793275,1.2482551283645513,-0.25725743625096636,0.36756810684167657,0.0860336525121043,1.168205440899212,1.5959072680011253,-0.15628615314286387,-1.5325700210053528,0.5950529492192775,3.519062056532625,0.013355969831628805,-1.7606935657195237,-0.9810601023543031,-2.057710067188469,0.34580856858318654,-0.5166413986754491,0.141205377598102,-1.4421536872936562,-1.0227308885560844,-2.402020244041431,-0.6930406350102891,-0.28910592124451034,0.748899899221347,0.1907017121982691,0.49364605950994267,-0.2542607308582154,0.6439407866406093,1.8687980965623137,1.2634599379249947,-0.37411373333150033,-0.47044775439277026,0.5867185909149113,-0.11819802264236594,-1.2575413955158006,0.9866017815001976,2.2323248886734457,-0.677751749884955,-1.1775958410438587,0.10565606367106475,0.06620888178107337,0.13527616449929697,-2.753218828512755,-0.6727188261875051,0.7129879960144745,0.34402673656226707,-1.1529829205657744,0.9509513233287092,-1.6356655017467705,-0.4259335595602935],\"xaxis\":\"x8\",\"y\":[0.4103450482823756,-0.23277879634899593,-0.45086136540875726,-0.08376735759564617,0.013872231247996124,-0.07072690859130389,0.30681170864600404,1.2902872300683392,-0.3265296450613535,0.10747041706050438,-0.4891966860282878,0.1321546966645771,2.2002266533209984,2.827921795219644,1.4213390904822027,-0.40481684699662795,0.8777377019046946,-0.5915210626668627,0.23237752609932294,0.10802408268723265,-0.4989964964726072,-0.17693190406338596,0.31980787789478055,0.8585326836819313,-1.5714924413997264,-0.5285087993679705,0.4446605522951421,-0.4261044334302472,0.04041835504896138,-0.2102461439854402,0.8853158428254773,-0.9926023261355174,0.7837779223912771,1.6207142996018502,-0.31222240376226895,0.21669648190985635,-0.005778545670522539,0.2424273620179277,1.0604864388343094,0.5405949217925212,-0.028827349523677923,-0.19992850944368576,-0.07932311155494266,-1.487415209783587,0.25772607668232306,0.659067678454487,0.7764559512979428,1.1811473518576816,1.269253528510618,-0.10593976314056446,-2.2033948416823987,-0.26099399205439405,-0.035842618820022584,-0.436740003503195,-0.7347854957866872,-1.474470346831659,0.2856744360831367,-0.6987609147597583,0.25012931898644164,-1.3175865204408947,0.09478695458135028,1.8709144399634727,0.26797206469934276,-1.3953358629453787,-0.6945329566849582,1.555621068767977,0.8283772246580962,-0.8420550563881509,0.805777476671103,-1.1529198884152143,-0.13563746306624466,-0.24579363705319546,-0.846884195632001,-0.6643522082710484,0.7052085498958576,-1.6877108081600287,0.020389419260974217,-0.41756781346012556,-0.8676788986975928,-2.5653389961604987,-0.34799695926298335,0.7409356257488319,0.4199756934089848,-0.18905296451511472,-0.7275775921980504,-1.7658346002170116,-0.8494415212511488,0.06516189570040587,-1.0812781607038502,1.182463220527681,-0.1828465609009514,-1.6925573120184574,0.2528746913720982,1.2151401118568756,-0.49604662980129016,-1.1333482603578835,-1.2871159652833557,1.2333219879816024,0.2863728726007531,-0.4379191310630423],\"yaxis\":\"y8\",\"type\":\"scatter\"},{\"line\":{\"color\":\"rgba(128, 128, 128, 1.0)\",\"dash\":\"solid\",\"shape\":\"linear\",\"width\":1.3},\"marker\":{\"size\":2,\"symbol\":\"circle\"},\"mode\":\"markers\",\"name\":\"C\",\"text\":\"\",\"x\":[-0.629400460736606,-0.3902511837428377,-0.5591700478406222,-0.5015750659259559,-0.6028247757790585,-1.7552895707056984,0.3728303295489695,-0.9949058872060896,1.383786061209142,-0.7478723956059203,0.06816934594778336,0.3141341819011735,-1.4434647152951174,0.4279880196945129,-2.7094890740900803,0.13506963265460648,-0.3362772326824624,-1.003162479173856,-0.9417909848304834,0.12809221322659364,-0.9761844606375003,0.851597093857289,-0.2174753543117878,0.16923231361532318,-1.196108833893656,-1.4490166364502461,-0.43386109420639013,1.097856069838825,-0.3105310538314359,-0.3169866600355245,1.592962498055057,0.9758423831858871,-1.3671182139924076,0.7817958007205139,-1.3911274721075122,0.12975350981883296,1.13847634366471,1.8672274817233254,-0.7504577680021094,1.7846896247177337,1.0793488689838349,-1.0844765858716827,-0.3516404570166523,0.9227502103917912,0.3755932851618663,0.3778890996717057,1.680119511266985,-0.4599735982942427,1.5985393735185909,1.0563349091055834,-1.0911352575440694,1.7417271070535496,-1.3100266243771161,-0.3876135929450466,0.9025719152875156,1.401243501430797,-1.2969497206273086,-1.2048928883655137,1.3573070492269648,0.05766322435151034,0.29981192742332086,1.5170818674960982,2.155478704025667,0.8024742835998596,0.40266903970292495,-1.3623380036310104,-0.9347835030015103,-0.023410056738022517,-1.072457943276233,0.8831066668343588,1.8136193860509642,-0.18934701060634257,-0.7986253409908879,1.6043882256104582,-1.3412563333112506,-1.5577062645161655,-1.3566037510986833,0.04005495647472767,0.2708046082479397,-0.9634981045226241,0.8583993616190417,-0.6470050959406236,-0.5512575986366849,2.071338692577119,1.5052688721826468,-0.617246691643328,1.4552686037187066,0.5720417545278373,-1.1152513286714432,1.7410978052511834,0.8914819708996335,-0.6908395795783034,1.414032221853257,-1.2057589945974467,0.6833974114014549,-1.2187494324750037,0.025605567304754343,-0.6574804043471983,0.04405104857084567,1.33018346090302],\"xaxis\":\"x9\",\"y\":[-0.32674355923381754,0.40244699964955477,0.24482868903319657,-0.49374567931671604,-1.2201447433844579,0.004506024629842515,0.46367005451863835,-1.0189990787588659,-0.7441279603914729,0.06579240859254595,0.4655232330710052,-1.7397582276065648,-0.2680109999716551,-0.3121280084283826,2.2147166613040756,-0.776459612467547,1.1866613499014753,0.5712085818037482,0.10230286214004662,-1.7717736504597807,-0.12369375914161404,-0.8700598280752807,1.2674112450150417,-0.5544308562984243,-0.1848548987667389,1.2423846567498795,1.5067794217195456,0.6044283478894678,0.5880033731238098,-0.8437357875998986,-0.48697936309314555,-0.40532845113414234,-0.35649858635655013,-1.5837522177192378,0.03464395879348093,-0.8460718105545953,0.27952688155005845,0.4487023136210964,0.00013119227840028668,-0.5948524567042549,-0.4705775864489385,-0.2739885585266081,0.6160535978917444,-0.48980496576238214,0.3956075539415357,-1.8405778475632646,-1.2020297526725154,-0.7863386287429571,-0.21712607454468716,-0.816518832493915,-0.4436876464865272,0.5008123594560738,-1.838178531281376,0.9422468116083216,1.4317527648889325,0.922568449925848,1.7661596286173802,0.31113001181453587,0.8908248687621048,0.7280432707682472,-0.8572117637594926,1.084921920807178,0.43600039278421254,-0.5641287287786603,-0.8257443812945842,0.054357982486677524,0.04225146811206106,-1.6548714332099215,-1.2128389576271554,0.11233504238923263,-0.6533567187978976,-0.9782158093971358,0.6045335366695211,-0.05072076055391424,-2.0447571350618263,0.7009592840678283,-0.5151150469908776,-1.1337579775447795,0.14115564681136036,0.5153883494625351,-0.54532985350259,0.36943192519387225,-0.07295208056302716,-0.30623678841089497,0.7594892264036471,-1.1681466459046683,0.9721186394715218,0.23729676333646912,-1.3664005827427874,0.5225651257445344,-0.18443991163904327,-0.048962793929122485,0.614506295484835,-0.5004874102520577,-1.7507953222473616,0.15042534555901244,-0.65915182204999,-2.4101607041387823,-0.1596363821821437,-0.9858044319691249],\"yaxis\":\"y9\",\"type\":\"scatter\"},{\"line\":{\"color\":\"rgba(128, 128, 128, 1.0)\",\"dash\":\"solid\",\"shape\":\"linear\",\"width\":1.3},\"marker\":{\"size\":2,\"symbol\":\"circle\"},\"mode\":\"markers\",\"name\":\"C\",\"text\":\"\",\"x\":[0.4103450482823756,-0.23277879634899593,-0.45086136540875726,-0.08376735759564617,0.013872231247996124,-0.07072690859130389,0.30681170864600404,1.2902872300683392,-0.3265296450613535,0.10747041706050438,-0.4891966860282878,0.1321546966645771,2.2002266533209984,2.827921795219644,1.4213390904822027,-0.40481684699662795,0.8777377019046946,-0.5915210626668627,0.23237752609932294,0.10802408268723265,-0.4989964964726072,-0.17693190406338596,0.31980787789478055,0.8585326836819313,-1.5714924413997264,-0.5285087993679705,0.4446605522951421,-0.4261044334302472,0.04041835504896138,-0.2102461439854402,0.8853158428254773,-0.9926023261355174,0.7837779223912771,1.6207142996018502,-0.31222240376226895,0.21669648190985635,-0.005778545670522539,0.2424273620179277,1.0604864388343094,0.5405949217925212,-0.028827349523677923,-0.19992850944368576,-0.07932311155494266,-1.487415209783587,0.25772607668232306,0.659067678454487,0.7764559512979428,1.1811473518576816,1.269253528510618,-0.10593976314056446,-2.2033948416823987,-0.26099399205439405,-0.035842618820022584,-0.436740003503195,-0.7347854957866872,-1.474470346831659,0.2856744360831367,-0.6987609147597583,0.25012931898644164,-1.3175865204408947,0.09478695458135028,1.8709144399634727,0.26797206469934276,-1.3953358629453787,-0.6945329566849582,1.555621068767977,0.8283772246580962,-0.8420550563881509,0.805777476671103,-1.1529198884152143,-0.13563746306624466,-0.24579363705319546,-0.846884195632001,-0.6643522082710484,0.7052085498958576,-1.6877108081600287,0.020389419260974217,-0.41756781346012556,-0.8676788986975928,-2.5653389961604987,-0.34799695926298335,0.7409356257488319,0.4199756934089848,-0.18905296451511472,-0.7275775921980504,-1.7658346002170116,-0.8494415212511488,0.06516189570040587,-1.0812781607038502,1.182463220527681,-0.1828465609009514,-1.6925573120184574,0.2528746913720982,1.2151401118568756,-0.49604662980129016,-1.1333482603578835,-1.2871159652833557,1.2333219879816024,0.2863728726007531,-0.4379191310630423],\"xaxis\":\"x10\",\"y\":[-0.32674355923381754,0.40244699964955477,0.24482868903319657,-0.49374567931671604,-1.2201447433844579,0.004506024629842515,0.46367005451863835,-1.0189990787588659,-0.7441279603914729,0.06579240859254595,0.4655232330710052,-1.7397582276065648,-0.2680109999716551,-0.3121280084283826,2.2147166613040756,-0.776459612467547,1.1866613499014753,0.5712085818037482,0.10230286214004662,-1.7717736504597807,-0.12369375914161404,-0.8700598280752807,1.2674112450150417,-0.5544308562984243,-0.1848548987667389,1.2423846567498795,1.5067794217195456,0.6044283478894678,0.5880033731238098,-0.8437357875998986,-0.48697936309314555,-0.40532845113414234,-0.35649858635655013,-1.5837522177192378,0.03464395879348093,-0.8460718105545953,0.27952688155005845,0.4487023136210964,0.00013119227840028668,-0.5948524567042549,-0.4705775864489385,-0.2739885585266081,0.6160535978917444,-0.48980496576238214,0.3956075539415357,-1.8405778475632646,-1.2020297526725154,-0.7863386287429571,-0.21712607454468716,-0.816518832493915,-0.4436876464865272,0.5008123594560738,-1.838178531281376,0.9422468116083216,1.4317527648889325,0.922568449925848,1.7661596286173802,0.31113001181453587,0.8908248687621048,0.7280432707682472,-0.8572117637594926,1.084921920807178,0.43600039278421254,-0.5641287287786603,-0.8257443812945842,0.054357982486677524,0.04225146811206106,-1.6548714332099215,-1.2128389576271554,0.11233504238923263,-0.6533567187978976,-0.9782158093971358,0.6045335366695211,-0.05072076055391424,-2.0447571350618263,0.7009592840678283,-0.5151150469908776,-1.1337579775447795,0.14115564681136036,0.5153883494625351,-0.54532985350259,0.36943192519387225,-0.07295208056302716,-0.30623678841089497,0.7594892264036471,-1.1681466459046683,0.9721186394715218,0.23729676333646912,-1.3664005827427874,0.5225651257445344,-0.18443991163904327,-0.048962793929122485,0.614506295484835,-0.5004874102520577,-1.7507953222473616,0.15042534555901244,-0.65915182204999,-2.4101607041387823,-0.1596363821821437,-0.9858044319691249],\"yaxis\":\"y10\",\"type\":\"scatter\"},{\"histfunc\":\"count\",\"histnorm\":\"\",\"marker\":{\"color\":\"rgba(50, 171, 96, 1.0)\",\"line\":{\"color\":\"#4D5663\",\"width\":1.3}},\"name\":\"C\",\"nbinsx\":10,\"opacity\":0.8,\"orientation\":\"v\",\"x\":[-0.32674355923381754,0.40244699964955477,0.24482868903319657,-0.49374567931671604,-1.2201447433844579,0.004506024629842515,0.46367005451863835,-1.0189990787588659,-0.7441279603914729,0.06579240859254595,0.4655232330710052,-1.7397582276065648,-0.2680109999716551,-0.3121280084283826,2.2147166613040756,-0.776459612467547,1.1866613499014753,0.5712085818037482,0.10230286214004662,-1.7717736504597807,-0.12369375914161404,-0.8700598280752807,1.2674112450150417,-0.5544308562984243,-0.1848548987667389,1.2423846567498795,1.5067794217195456,0.6044283478894678,0.5880033731238098,-0.8437357875998986,-0.48697936309314555,-0.40532845113414234,-0.35649858635655013,-1.5837522177192378,0.03464395879348093,-0.8460718105545953,0.27952688155005845,0.4487023136210964,0.00013119227840028668,-0.5948524567042549,-0.4705775864489385,-0.2739885585266081,0.6160535978917444,-0.48980496576238214,0.3956075539415357,-1.8405778475632646,-1.2020297526725154,-0.7863386287429571,-0.21712607454468716,-0.816518832493915,-0.4436876464865272,0.5008123594560738,-1.838178531281376,0.9422468116083216,1.4317527648889325,0.922568449925848,1.7661596286173802,0.31113001181453587,0.8908248687621048,0.7280432707682472,-0.8572117637594926,1.084921920807178,0.43600039278421254,-0.5641287287786603,-0.8257443812945842,0.054357982486677524,0.04225146811206106,-1.6548714332099215,-1.2128389576271554,0.11233504238923263,-0.6533567187978976,-0.9782158093971358,0.6045335366695211,-0.05072076055391424,-2.0447571350618263,0.7009592840678283,-0.5151150469908776,-1.1337579775447795,0.14115564681136036,0.5153883494625351,-0.54532985350259,0.36943192519387225,-0.07295208056302716,-0.30623678841089497,0.7594892264036471,-1.1681466459046683,0.9721186394715218,0.23729676333646912,-1.3664005827427874,0.5225651257445344,-0.18443991163904327,-0.048962793929122485,0.614506295484835,-0.5004874102520577,-1.7507953222473616,0.15042534555901244,-0.65915182204999,-2.4101607041387823,-0.1596363821821437,-0.9858044319691249],\"xaxis\":\"x11\",\"yaxis\":\"y11\",\"type\":\"histogram\"},{\"line\":{\"color\":\"rgba(128, 128, 128, 1.0)\",\"dash\":\"solid\",\"shape\":\"linear\",\"width\":1.3},\"marker\":{\"size\":2,\"symbol\":\"circle\"},\"mode\":\"markers\",\"name\":\"C\",\"text\":\"\",\"x\":[-0.42495632416362067,0.8325265519810885,-0.41911791103881446,2.1290907938799504,0.12068143333495143,0.012221910404676036,0.29031810331831925,0.34096729779845786,-0.24302774524268406,0.2869729181989335,1.6372132871706904,-1.4226195793051388,1.0971494402220232,0.67966288456736,0.5339049910679026,0.45736271376769905,-0.45510419902580557,-0.3932393616156436,0.466817139923934,1.497844827168445,-1.325521570597829,-0.1871898889980444,-0.03110727076174676,-0.2169289706021411,0.07352116798930584,0.5616097558817075,-2.2758808751813464,-1.6843647156809265,-0.053626659142203804,0.8285297602516946,0.5031952908874641,0.7742611547280526,0.30977601097773005,-0.6448182416719543,0.41134042999485876,1.297968755471327,0.6481172912799048,1.453504381327387,-1.3076413654255914,1.0480380260485127,0.032755979578507725,-0.0677724367996154,0.9656416477754153,-0.7513501377357203,0.5538732260110499,-1.1817042441457228,-0.07720356053801292,1.1598514163895763,-0.5819603985102525,-0.4679887971599426,-0.1818053718793275,1.2482551283645513,-0.25725743625096636,0.36756810684167657,0.0860336525121043,1.168205440899212,1.5959072680011253,-0.15628615314286387,-1.5325700210053528,0.5950529492192775,3.519062056532625,0.013355969831628805,-1.7606935657195237,-0.9810601023543031,-2.057710067188469,0.34580856858318654,-0.5166413986754491,0.141205377598102,-1.4421536872936562,-1.0227308885560844,-2.402020244041431,-0.6930406350102891,-0.28910592124451034,0.748899899221347,0.1907017121982691,0.49364605950994267,-0.2542607308582154,0.6439407866406093,1.8687980965623137,1.2634599379249947,-0.37411373333150033,-0.47044775439277026,0.5867185909149113,-0.11819802264236594,-1.2575413955158006,0.9866017815001976,2.2323248886734457,-0.677751749884955,-1.1775958410438587,0.10565606367106475,0.06620888178107337,0.13527616449929697,-2.753218828512755,-0.6727188261875051,0.7129879960144745,0.34402673656226707,-1.1529829205657744,0.9509513233287092,-1.6356655017467705,-0.4259335595602935],\"xaxis\":\"x12\",\"y\":[-0.32674355923381754,0.40244699964955477,0.24482868903319657,-0.49374567931671604,-1.2201447433844579,0.004506024629842515,0.46367005451863835,-1.0189990787588659,-0.7441279603914729,0.06579240859254595,0.4655232330710052,-1.7397582276065648,-0.2680109999716551,-0.3121280084283826,2.2147166613040756,-0.776459612467547,1.1866613499014753,0.5712085818037482,0.10230286214004662,-1.7717736504597807,-0.12369375914161404,-0.8700598280752807,1.2674112450150417,-0.5544308562984243,-0.1848548987667389,1.2423846567498795,1.5067794217195456,0.6044283478894678,0.5880033731238098,-0.8437357875998986,-0.48697936309314555,-0.40532845113414234,-0.35649858635655013,-1.5837522177192378,0.03464395879348093,-0.8460718105545953,0.27952688155005845,0.4487023136210964,0.00013119227840028668,-0.5948524567042549,-0.4705775864489385,-0.2739885585266081,0.6160535978917444,-0.48980496576238214,0.3956075539415357,-1.8405778475632646,-1.2020297526725154,-0.7863386287429571,-0.21712607454468716,-0.816518832493915,-0.4436876464865272,0.5008123594560738,-1.838178531281376,0.9422468116083216,1.4317527648889325,0.922568449925848,1.7661596286173802,0.31113001181453587,0.8908248687621048,0.7280432707682472,-0.8572117637594926,1.084921920807178,0.43600039278421254,-0.5641287287786603,-0.8257443812945842,0.054357982486677524,0.04225146811206106,-1.6548714332099215,-1.2128389576271554,0.11233504238923263,-0.6533567187978976,-0.9782158093971358,0.6045335366695211,-0.05072076055391424,-2.0447571350618263,0.7009592840678283,-0.5151150469908776,-1.1337579775447795,0.14115564681136036,0.5153883494625351,-0.54532985350259,0.36943192519387225,-0.07295208056302716,-0.30623678841089497,0.7594892264036471,-1.1681466459046683,0.9721186394715218,0.23729676333646912,-1.3664005827427874,0.5225651257445344,-0.18443991163904327,-0.048962793929122485,0.614506295484835,-0.5004874102520577,-1.7507953222473616,0.15042534555901244,-0.65915182204999,-2.4101607041387823,-0.1596363821821437,-0.9858044319691249],\"yaxis\":\"y12\",\"type\":\"scatter\"},{\"line\":{\"color\":\"rgba(128, 128, 128, 1.0)\",\"dash\":\"solid\",\"shape\":\"linear\",\"width\":1.3},\"marker\":{\"size\":2,\"symbol\":\"circle\"},\"mode\":\"markers\",\"name\":\"D\",\"text\":\"\",\"x\":[-0.629400460736606,-0.3902511837428377,-0.5591700478406222,-0.5015750659259559,-0.6028247757790585,-1.7552895707056984,0.3728303295489695,-0.9949058872060896,1.383786061209142,-0.7478723956059203,0.06816934594778336,0.3141341819011735,-1.4434647152951174,0.4279880196945129,-2.7094890740900803,0.13506963265460648,-0.3362772326824624,-1.003162479173856,-0.9417909848304834,0.12809221322659364,-0.9761844606375003,0.851597093857289,-0.2174753543117878,0.16923231361532318,-1.196108833893656,-1.4490166364502461,-0.43386109420639013,1.097856069838825,-0.3105310538314359,-0.3169866600355245,1.592962498055057,0.9758423831858871,-1.3671182139924076,0.7817958007205139,-1.3911274721075122,0.12975350981883296,1.13847634366471,1.8672274817233254,-0.7504577680021094,1.7846896247177337,1.0793488689838349,-1.0844765858716827,-0.3516404570166523,0.9227502103917912,0.3755932851618663,0.3778890996717057,1.680119511266985,-0.4599735982942427,1.5985393735185909,1.0563349091055834,-1.0911352575440694,1.7417271070535496,-1.3100266243771161,-0.3876135929450466,0.9025719152875156,1.401243501430797,-1.2969497206273086,-1.2048928883655137,1.3573070492269648,0.05766322435151034,0.29981192742332086,1.5170818674960982,2.155478704025667,0.8024742835998596,0.40266903970292495,-1.3623380036310104,-0.9347835030015103,-0.023410056738022517,-1.072457943276233,0.8831066668343588,1.8136193860509642,-0.18934701060634257,-0.7986253409908879,1.6043882256104582,-1.3412563333112506,-1.5577062645161655,-1.3566037510986833,0.04005495647472767,0.2708046082479397,-0.9634981045226241,0.8583993616190417,-0.6470050959406236,-0.5512575986366849,2.071338692577119,1.5052688721826468,-0.617246691643328,1.4552686037187066,0.5720417545278373,-1.1152513286714432,1.7410978052511834,0.8914819708996335,-0.6908395795783034,1.414032221853257,-1.2057589945974467,0.6833974114014549,-1.2187494324750037,0.025605567304754343,-0.6574804043471983,0.04405104857084567,1.33018346090302],\"xaxis\":\"x13\",\"y\":[-0.42495632416362067,0.8325265519810885,-0.41911791103881446,2.1290907938799504,0.12068143333495143,0.012221910404676036,0.29031810331831925,0.34096729779845786,-0.24302774524268406,0.2869729181989335,1.6372132871706904,-1.4226195793051388,1.0971494402220232,0.67966288456736,0.5339049910679026,0.45736271376769905,-0.45510419902580557,-0.3932393616156436,0.466817139923934,1.497844827168445,-1.325521570597829,-0.1871898889980444,-0.03110727076174676,-0.2169289706021411,0.07352116798930584,0.5616097558817075,-2.2758808751813464,-1.6843647156809265,-0.053626659142203804,0.8285297602516946,0.5031952908874641,0.7742611547280526,0.30977601097773005,-0.6448182416719543,0.41134042999485876,1.297968755471327,0.6481172912799048,1.453504381327387,-1.3076413654255914,1.0480380260485127,0.032755979578507725,-0.0677724367996154,0.9656416477754153,-0.7513501377357203,0.5538732260110499,-1.1817042441457228,-0.07720356053801292,1.1598514163895763,-0.5819603985102525,-0.4679887971599426,-0.1818053718793275,1.2482551283645513,-0.25725743625096636,0.36756810684167657,0.0860336525121043,1.168205440899212,1.5959072680011253,-0.15628615314286387,-1.5325700210053528,0.5950529492192775,3.519062056532625,0.013355969831628805,-1.7606935657195237,-0.9810601023543031,-2.057710067188469,0.34580856858318654,-0.5166413986754491,0.141205377598102,-1.4421536872936562,-1.0227308885560844,-2.402020244041431,-0.6930406350102891,-0.28910592124451034,0.748899899221347,0.1907017121982691,0.49364605950994267,-0.2542607308582154,0.6439407866406093,1.8687980965623137,1.2634599379249947,-0.37411373333150033,-0.47044775439277026,0.5867185909149113,-0.11819802264236594,-1.2575413955158006,0.9866017815001976,2.2323248886734457,-0.677751749884955,-1.1775958410438587,0.10565606367106475,0.06620888178107337,0.13527616449929697,-2.753218828512755,-0.6727188261875051,0.7129879960144745,0.34402673656226707,-1.1529829205657744,0.9509513233287092,-1.6356655017467705,-0.4259335595602935],\"yaxis\":\"y13\",\"type\":\"scatter\"},{\"line\":{\"color\":\"rgba(128, 128, 128, 1.0)\",\"dash\":\"solid\",\"shape\":\"linear\",\"width\":1.3},\"marker\":{\"size\":2,\"symbol\":\"circle\"},\"mode\":\"markers\",\"name\":\"D\",\"text\":\"\",\"x\":[0.4103450482823756,-0.23277879634899593,-0.45086136540875726,-0.08376735759564617,0.013872231247996124,-0.07072690859130389,0.30681170864600404,1.2902872300683392,-0.3265296450613535,0.10747041706050438,-0.4891966860282878,0.1321546966645771,2.2002266533209984,2.827921795219644,1.4213390904822027,-0.40481684699662795,0.8777377019046946,-0.5915210626668627,0.23237752609932294,0.10802408268723265,-0.4989964964726072,-0.17693190406338596,0.31980787789478055,0.8585326836819313,-1.5714924413997264,-0.5285087993679705,0.4446605522951421,-0.4261044334302472,0.04041835504896138,-0.2102461439854402,0.8853158428254773,-0.9926023261355174,0.7837779223912771,1.6207142996018502,-0.31222240376226895,0.21669648190985635,-0.005778545670522539,0.2424273620179277,1.0604864388343094,0.5405949217925212,-0.028827349523677923,-0.19992850944368576,-0.07932311155494266,-1.487415209783587,0.25772607668232306,0.659067678454487,0.7764559512979428,1.1811473518576816,1.269253528510618,-0.10593976314056446,-2.2033948416823987,-0.26099399205439405,-0.035842618820022584,-0.436740003503195,-0.7347854957866872,-1.474470346831659,0.2856744360831367,-0.6987609147597583,0.25012931898644164,-1.3175865204408947,0.09478695458135028,1.8709144399634727,0.26797206469934276,-1.3953358629453787,-0.6945329566849582,1.555621068767977,0.8283772246580962,-0.8420550563881509,0.805777476671103,-1.1529198884152143,-0.13563746306624466,-0.24579363705319546,-0.846884195632001,-0.6643522082710484,0.7052085498958576,-1.6877108081600287,0.020389419260974217,-0.41756781346012556,-0.8676788986975928,-2.5653389961604987,-0.34799695926298335,0.7409356257488319,0.4199756934089848,-0.18905296451511472,-0.7275775921980504,-1.7658346002170116,-0.8494415212511488,0.06516189570040587,-1.0812781607038502,1.182463220527681,-0.1828465609009514,-1.6925573120184574,0.2528746913720982,1.2151401118568756,-0.49604662980129016,-1.1333482603578835,-1.2871159652833557,1.2333219879816024,0.2863728726007531,-0.4379191310630423],\"xaxis\":\"x14\",\"y\":[-0.42495632416362067,0.8325265519810885,-0.41911791103881446,2.1290907938799504,0.12068143333495143,0.012221910404676036,0.29031810331831925,0.34096729779845786,-0.24302774524268406,0.2869729181989335,1.6372132871706904,-1.4226195793051388,1.0971494402220232,0.67966288456736,0.5339049910679026,0.45736271376769905,-0.45510419902580557,-0.3932393616156436,0.466817139923934,1.497844827168445,-1.325521570597829,-0.1871898889980444,-0.03110727076174676,-0.2169289706021411,0.07352116798930584,0.5616097558817075,-2.2758808751813464,-1.6843647156809265,-0.053626659142203804,0.8285297602516946,0.5031952908874641,0.7742611547280526,0.30977601097773005,-0.6448182416719543,0.41134042999485876,1.297968755471327,0.6481172912799048,1.453504381327387,-1.3076413654255914,1.0480380260485127,0.032755979578507725,-0.0677724367996154,0.9656416477754153,-0.7513501377357203,0.5538732260110499,-1.1817042441457228,-0.07720356053801292,1.1598514163895763,-0.5819603985102525,-0.4679887971599426,-0.1818053718793275,1.2482551283645513,-0.25725743625096636,0.36756810684167657,0.0860336525121043,1.168205440899212,1.5959072680011253,-0.15628615314286387,-1.5325700210053528,0.5950529492192775,3.519062056532625,0.013355969831628805,-1.7606935657195237,-0.9810601023543031,-2.057710067188469,0.34580856858318654,-0.5166413986754491,0.141205377598102,-1.4421536872936562,-1.0227308885560844,-2.402020244041431,-0.6930406350102891,-0.28910592124451034,0.748899899221347,0.1907017121982691,0.49364605950994267,-0.2542607308582154,0.6439407866406093,1.8687980965623137,1.2634599379249947,-0.37411373333150033,-0.47044775439277026,0.5867185909149113,-0.11819802264236594,-1.2575413955158006,0.9866017815001976,2.2323248886734457,-0.677751749884955,-1.1775958410438587,0.10565606367106475,0.06620888178107337,0.13527616449929697,-2.753218828512755,-0.6727188261875051,0.7129879960144745,0.34402673656226707,-1.1529829205657744,0.9509513233287092,-1.6356655017467705,-0.4259335595602935],\"yaxis\":\"y14\",\"type\":\"scatter\"},{\"line\":{\"color\":\"rgba(128, 128, 128, 1.0)\",\"dash\":\"solid\",\"shape\":\"linear\",\"width\":1.3},\"marker\":{\"size\":2,\"symbol\":\"circle\"},\"mode\":\"markers\",\"name\":\"D\",\"text\":\"\",\"x\":[-0.32674355923381754,0.40244699964955477,0.24482868903319657,-0.49374567931671604,-1.2201447433844579,0.004506024629842515,0.46367005451863835,-1.0189990787588659,-0.7441279603914729,0.06579240859254595,0.4655232330710052,-1.7397582276065648,-0.2680109999716551,-0.3121280084283826,2.2147166613040756,-0.776459612467547,1.1866613499014753,0.5712085818037482,0.10230286214004662,-1.7717736504597807,-0.12369375914161404,-0.8700598280752807,1.2674112450150417,-0.5544308562984243,-0.1848548987667389,1.2423846567498795,1.5067794217195456,0.6044283478894678,0.5880033731238098,-0.8437357875998986,-0.48697936309314555,-0.40532845113414234,-0.35649858635655013,-1.5837522177192378,0.03464395879348093,-0.8460718105545953,0.27952688155005845,0.4487023136210964,0.00013119227840028668,-0.5948524567042549,-0.4705775864489385,-0.2739885585266081,0.6160535978917444,-0.48980496576238214,0.3956075539415357,-1.8405778475632646,-1.2020297526725154,-0.7863386287429571,-0.21712607454468716,-0.816518832493915,-0.4436876464865272,0.5008123594560738,-1.838178531281376,0.9422468116083216,1.4317527648889325,0.922568449925848,1.7661596286173802,0.31113001181453587,0.8908248687621048,0.7280432707682472,-0.8572117637594926,1.084921920807178,0.43600039278421254,-0.5641287287786603,-0.8257443812945842,0.054357982486677524,0.04225146811206106,-1.6548714332099215,-1.2128389576271554,0.11233504238923263,-0.6533567187978976,-0.9782158093971358,0.6045335366695211,-0.05072076055391424,-2.0447571350618263,0.7009592840678283,-0.5151150469908776,-1.1337579775447795,0.14115564681136036,0.5153883494625351,-0.54532985350259,0.36943192519387225,-0.07295208056302716,-0.30623678841089497,0.7594892264036471,-1.1681466459046683,0.9721186394715218,0.23729676333646912,-1.3664005827427874,0.5225651257445344,-0.18443991163904327,-0.048962793929122485,0.614506295484835,-0.5004874102520577,-1.7507953222473616,0.15042534555901244,-0.65915182204999,-2.4101607041387823,-0.1596363821821437,-0.9858044319691249],\"xaxis\":\"x15\",\"y\":[-0.42495632416362067,0.8325265519810885,-0.41911791103881446,2.1290907938799504,0.12068143333495143,0.012221910404676036,0.29031810331831925,0.34096729779845786,-0.24302774524268406,0.2869729181989335,1.6372132871706904,-1.4226195793051388,1.0971494402220232,0.67966288456736,0.5339049910679026,0.45736271376769905,-0.45510419902580557,-0.3932393616156436,0.466817139923934,1.497844827168445,-1.325521570597829,-0.1871898889980444,-0.03110727076174676,-0.2169289706021411,0.07352116798930584,0.5616097558817075,-2.2758808751813464,-1.6843647156809265,-0.053626659142203804,0.8285297602516946,0.5031952908874641,0.7742611547280526,0.30977601097773005,-0.6448182416719543,0.41134042999485876,1.297968755471327,0.6481172912799048,1.453504381327387,-1.3076413654255914,1.0480380260485127,0.032755979578507725,-0.0677724367996154,0.9656416477754153,-0.7513501377357203,0.5538732260110499,-1.1817042441457228,-0.07720356053801292,1.1598514163895763,-0.5819603985102525,-0.4679887971599426,-0.1818053718793275,1.2482551283645513,-0.25725743625096636,0.36756810684167657,0.0860336525121043,1.168205440899212,1.5959072680011253,-0.15628615314286387,-1.5325700210053528,0.5950529492192775,3.519062056532625,0.013355969831628805,-1.7606935657195237,-0.9810601023543031,-2.057710067188469,0.34580856858318654,-0.5166413986754491,0.141205377598102,-1.4421536872936562,-1.0227308885560844,-2.402020244041431,-0.6930406350102891,-0.28910592124451034,0.748899899221347,0.1907017121982691,0.49364605950994267,-0.2542607308582154,0.6439407866406093,1.8687980965623137,1.2634599379249947,-0.37411373333150033,-0.47044775439277026,0.5867185909149113,-0.11819802264236594,-1.2575413955158006,0.9866017815001976,2.2323248886734457,-0.677751749884955,-1.1775958410438587,0.10565606367106475,0.06620888178107337,0.13527616449929697,-2.753218828512755,-0.6727188261875051,0.7129879960144745,0.34402673656226707,-1.1529829205657744,0.9509513233287092,-1.6356655017467705,-0.4259335595602935],\"yaxis\":\"y15\",\"type\":\"scatter\"},{\"histfunc\":\"count\",\"histnorm\":\"\",\"marker\":{\"color\":\"rgba(128, 0, 128, 1.0)\",\"line\":{\"color\":\"#4D5663\",\"width\":1.3}},\"name\":\"D\",\"nbinsx\":10,\"opacity\":0.8,\"orientation\":\"v\",\"x\":[-0.42495632416362067,0.8325265519810885,-0.41911791103881446,2.1290907938799504,0.12068143333495143,0.012221910404676036,0.29031810331831925,0.34096729779845786,-0.24302774524268406,0.2869729181989335,1.6372132871706904,-1.4226195793051388,1.0971494402220232,0.67966288456736,0.5339049910679026,0.45736271376769905,-0.45510419902580557,-0.3932393616156436,0.466817139923934,1.497844827168445,-1.325521570597829,-0.1871898889980444,-0.03110727076174676,-0.2169289706021411,0.07352116798930584,0.5616097558817075,-2.2758808751813464,-1.6843647156809265,-0.053626659142203804,0.8285297602516946,0.5031952908874641,0.7742611547280526,0.30977601097773005,-0.6448182416719543,0.41134042999485876,1.297968755471327,0.6481172912799048,1.453504381327387,-1.3076413654255914,1.0480380260485127,0.032755979578507725,-0.0677724367996154,0.9656416477754153,-0.7513501377357203,0.5538732260110499,-1.1817042441457228,-0.07720356053801292,1.1598514163895763,-0.5819603985102525,-0.4679887971599426,-0.1818053718793275,1.2482551283645513,-0.25725743625096636,0.36756810684167657,0.0860336525121043,1.168205440899212,1.5959072680011253,-0.15628615314286387,-1.5325700210053528,0.5950529492192775,3.519062056532625,0.013355969831628805,-1.7606935657195237,-0.9810601023543031,-2.057710067188469,0.34580856858318654,-0.5166413986754491,0.141205377598102,-1.4421536872936562,-1.0227308885560844,-2.402020244041431,-0.6930406350102891,-0.28910592124451034,0.748899899221347,0.1907017121982691,0.49364605950994267,-0.2542607308582154,0.6439407866406093,1.8687980965623137,1.2634599379249947,-0.37411373333150033,-0.47044775439277026,0.5867185909149113,-0.11819802264236594,-1.2575413955158006,0.9866017815001976,2.2323248886734457,-0.677751749884955,-1.1775958410438587,0.10565606367106475,0.06620888178107337,0.13527616449929697,-2.753218828512755,-0.6727188261875051,0.7129879960144745,0.34402673656226707,-1.1529829205657744,0.9509513233287092,-1.6356655017467705,-0.4259335595602935],\"xaxis\":\"x16\",\"yaxis\":\"y16\",\"type\":\"histogram\"}],                        {\"bargap\":0.02,\"legend\":{\"bgcolor\":\"#F5F6F9\",\"font\":{\"color\":\"#4D5663\"}},\"paper_bgcolor\":\"#F5F6F9\",\"plot_bgcolor\":\"#F5F6F9\",\"showlegend\":false,\"template\":{\"data\":{\"barpolar\":[{\"marker\":{\"line\":{\"color\":\"#E5ECF6\",\"width\":0.5},\"pattern\":{\"fillmode\":\"overlay\",\"size\":10,\"solidity\":0.2}},\"type\":\"barpolar\"}],\"bar\":[{\"error_x\":{\"color\":\"#2a3f5f\"},\"error_y\":{\"color\":\"#2a3f5f\"},\"marker\":{\"line\":{\"color\":\"#E5ECF6\",\"width\":0.5},\"pattern\":{\"fillmode\":\"overlay\",\"size\":10,\"solidity\":0.2}},\"type\":\"bar\"}],\"carpet\":[{\"aaxis\":{\"endlinecolor\":\"#2a3f5f\",\"gridcolor\":\"white\",\"linecolor\":\"white\",\"minorgridcolor\":\"white\",\"startlinecolor\":\"#2a3f5f\"},\"baxis\":{\"endlinecolor\":\"#2a3f5f\",\"gridcolor\":\"white\",\"linecolor\":\"white\",\"minorgridcolor\":\"white\",\"startlinecolor\":\"#2a3f5f\"},\"type\":\"carpet\"}],\"choropleth\":[{\"colorbar\":{\"outlinewidth\":0,\"ticks\":\"\"},\"type\":\"choropleth\"}],\"contourcarpet\":[{\"colorbar\":{\"outlinewidth\":0,\"ticks\":\"\"},\"type\":\"contourcarpet\"}],\"contour\":[{\"colorbar\":{\"outlinewidth\":0,\"ticks\":\"\"},\"colorscale\":[[0.0,\"#0d0887\"],[0.1111111111111111,\"#46039f\"],[0.2222222222222222,\"#7201a8\"],[0.3333333333333333,\"#9c179e\"],[0.4444444444444444,\"#bd3786\"],[0.5555555555555556,\"#d8576b\"],[0.6666666666666666,\"#ed7953\"],[0.7777777777777778,\"#fb9f3a\"],[0.8888888888888888,\"#fdca26\"],[1.0,\"#f0f921\"]],\"type\":\"contour\"}],\"heatmapgl\":[{\"colorbar\":{\"outlinewidth\":0,\"ticks\":\"\"},\"colorscale\":[[0.0,\"#0d0887\"],[0.1111111111111111,\"#46039f\"],[0.2222222222222222,\"#7201a8\"],[0.3333333333333333,\"#9c179e\"],[0.4444444444444444,\"#bd3786\"],[0.5555555555555556,\"#d8576b\"],[0.6666666666666666,\"#ed7953\"],[0.7777777777777778,\"#fb9f3a\"],[0.8888888888888888,\"#fdca26\"],[1.0,\"#f0f921\"]],\"type\":\"heatmapgl\"}],\"heatmap\":[{\"colorbar\":{\"outlinewidth\":0,\"ticks\":\"\"},\"colorscale\":[[0.0,\"#0d0887\"],[0.1111111111111111,\"#46039f\"],[0.2222222222222222,\"#7201a8\"],[0.3333333333333333,\"#9c179e\"],[0.4444444444444444,\"#bd3786\"],[0.5555555555555556,\"#d8576b\"],[0.6666666666666666,\"#ed7953\"],[0.7777777777777778,\"#fb9f3a\"],[0.8888888888888888,\"#fdca26\"],[1.0,\"#f0f921\"]],\"type\":\"heatmap\"}],\"histogram2dcontour\":[{\"colorbar\":{\"outlinewidth\":0,\"ticks\":\"\"},\"colorscale\":[[0.0,\"#0d0887\"],[0.1111111111111111,\"#46039f\"],[0.2222222222222222,\"#7201a8\"],[0.3333333333333333,\"#9c179e\"],[0.4444444444444444,\"#bd3786\"],[0.5555555555555556,\"#d8576b\"],[0.6666666666666666,\"#ed7953\"],[0.7777777777777778,\"#fb9f3a\"],[0.8888888888888888,\"#fdca26\"],[1.0,\"#f0f921\"]],\"type\":\"histogram2dcontour\"}],\"histogram2d\":[{\"colorbar\":{\"outlinewidth\":0,\"ticks\":\"\"},\"colorscale\":[[0.0,\"#0d0887\"],[0.1111111111111111,\"#46039f\"],[0.2222222222222222,\"#7201a8\"],[0.3333333333333333,\"#9c179e\"],[0.4444444444444444,\"#bd3786\"],[0.5555555555555556,\"#d8576b\"],[0.6666666666666666,\"#ed7953\"],[0.7777777777777778,\"#fb9f3a\"],[0.8888888888888888,\"#fdca26\"],[1.0,\"#f0f921\"]],\"type\":\"histogram2d\"}],\"histogram\":[{\"marker\":{\"pattern\":{\"fillmode\":\"overlay\",\"size\":10,\"solidity\":0.2}},\"type\":\"histogram\"}],\"mesh3d\":[{\"colorbar\":{\"outlinewidth\":0,\"ticks\":\"\"},\"type\":\"mesh3d\"}],\"parcoords\":[{\"line\":{\"colorbar\":{\"outlinewidth\":0,\"ticks\":\"\"}},\"type\":\"parcoords\"}],\"pie\":[{\"automargin\":true,\"type\":\"pie\"}],\"scatter3d\":[{\"line\":{\"colorbar\":{\"outlinewidth\":0,\"ticks\":\"\"}},\"marker\":{\"colorbar\":{\"outlinewidth\":0,\"ticks\":\"\"}},\"type\":\"scatter3d\"}],\"scattercarpet\":[{\"marker\":{\"colorbar\":{\"outlinewidth\":0,\"ticks\":\"\"}},\"type\":\"scattercarpet\"}],\"scattergeo\":[{\"marker\":{\"colorbar\":{\"outlinewidth\":0,\"ticks\":\"\"}},\"type\":\"scattergeo\"}],\"scattergl\":[{\"marker\":{\"colorbar\":{\"outlinewidth\":0,\"ticks\":\"\"}},\"type\":\"scattergl\"}],\"scattermapbox\":[{\"marker\":{\"colorbar\":{\"outlinewidth\":0,\"ticks\":\"\"}},\"type\":\"scattermapbox\"}],\"scatterpolargl\":[{\"marker\":{\"colorbar\":{\"outlinewidth\":0,\"ticks\":\"\"}},\"type\":\"scatterpolargl\"}],\"scatterpolar\":[{\"marker\":{\"colorbar\":{\"outlinewidth\":0,\"ticks\":\"\"}},\"type\":\"scatterpolar\"}],\"scatter\":[{\"fillpattern\":{\"fillmode\":\"overlay\",\"size\":10,\"solidity\":0.2},\"type\":\"scatter\"}],\"scatterternary\":[{\"marker\":{\"colorbar\":{\"outlinewidth\":0,\"ticks\":\"\"}},\"type\":\"scatterternary\"}],\"surface\":[{\"colorbar\":{\"outlinewidth\":0,\"ticks\":\"\"},\"colorscale\":[[0.0,\"#0d0887\"],[0.1111111111111111,\"#46039f\"],[0.2222222222222222,\"#7201a8\"],[0.3333333333333333,\"#9c179e\"],[0.4444444444444444,\"#bd3786\"],[0.5555555555555556,\"#d8576b\"],[0.6666666666666666,\"#ed7953\"],[0.7777777777777778,\"#fb9f3a\"],[0.8888888888888888,\"#fdca26\"],[1.0,\"#f0f921\"]],\"type\":\"surface\"}],\"table\":[{\"cells\":{\"fill\":{\"color\":\"#EBF0F8\"},\"line\":{\"color\":\"white\"}},\"header\":{\"fill\":{\"color\":\"#C8D4E3\"},\"line\":{\"color\":\"white\"}},\"type\":\"table\"}]},\"layout\":{\"annotationdefaults\":{\"arrowcolor\":\"#2a3f5f\",\"arrowhead\":0,\"arrowwidth\":1},\"autotypenumbers\":\"strict\",\"coloraxis\":{\"colorbar\":{\"outlinewidth\":0,\"ticks\":\"\"}},\"colorscale\":{\"diverging\":[[0,\"#8e0152\"],[0.1,\"#c51b7d\"],[0.2,\"#de77ae\"],[0.3,\"#f1b6da\"],[0.4,\"#fde0ef\"],[0.5,\"#f7f7f7\"],[0.6,\"#e6f5d0\"],[0.7,\"#b8e186\"],[0.8,\"#7fbc41\"],[0.9,\"#4d9221\"],[1,\"#276419\"]],\"sequential\":[[0.0,\"#0d0887\"],[0.1111111111111111,\"#46039f\"],[0.2222222222222222,\"#7201a8\"],[0.3333333333333333,\"#9c179e\"],[0.4444444444444444,\"#bd3786\"],[0.5555555555555556,\"#d8576b\"],[0.6666666666666666,\"#ed7953\"],[0.7777777777777778,\"#fb9f3a\"],[0.8888888888888888,\"#fdca26\"],[1.0,\"#f0f921\"]],\"sequentialminus\":[[0.0,\"#0d0887\"],[0.1111111111111111,\"#46039f\"],[0.2222222222222222,\"#7201a8\"],[0.3333333333333333,\"#9c179e\"],[0.4444444444444444,\"#bd3786\"],[0.5555555555555556,\"#d8576b\"],[0.6666666666666666,\"#ed7953\"],[0.7777777777777778,\"#fb9f3a\"],[0.8888888888888888,\"#fdca26\"],[1.0,\"#f0f921\"]]},\"colorway\":[\"#636efa\",\"#EF553B\",\"#00cc96\",\"#ab63fa\",\"#FFA15A\",\"#19d3f3\",\"#FF6692\",\"#B6E880\",\"#FF97FF\",\"#FECB52\"],\"font\":{\"color\":\"#2a3f5f\"},\"geo\":{\"bgcolor\":\"white\",\"lakecolor\":\"white\",\"landcolor\":\"#E5ECF6\",\"showlakes\":true,\"showland\":true,\"subunitcolor\":\"white\"},\"hoverlabel\":{\"align\":\"left\"},\"hovermode\":\"closest\",\"mapbox\":{\"style\":\"light\"},\"paper_bgcolor\":\"white\",\"plot_bgcolor\":\"#E5ECF6\",\"polar\":{\"angularaxis\":{\"gridcolor\":\"white\",\"linecolor\":\"white\",\"ticks\":\"\"},\"bgcolor\":\"#E5ECF6\",\"radialaxis\":{\"gridcolor\":\"white\",\"linecolor\":\"white\",\"ticks\":\"\"}},\"scene\":{\"xaxis\":{\"backgroundcolor\":\"#E5ECF6\",\"gridcolor\":\"white\",\"gridwidth\":2,\"linecolor\":\"white\",\"showbackground\":true,\"ticks\":\"\",\"zerolinecolor\":\"white\"},\"yaxis\":{\"backgroundcolor\":\"#E5ECF6\",\"gridcolor\":\"white\",\"gridwidth\":2,\"linecolor\":\"white\",\"showbackground\":true,\"ticks\":\"\",\"zerolinecolor\":\"white\"},\"zaxis\":{\"backgroundcolor\":\"#E5ECF6\",\"gridcolor\":\"white\",\"gridwidth\":2,\"linecolor\":\"white\",\"showbackground\":true,\"ticks\":\"\",\"zerolinecolor\":\"white\"}},\"shapedefaults\":{\"line\":{\"color\":\"#2a3f5f\"}},\"ternary\":{\"aaxis\":{\"gridcolor\":\"white\",\"linecolor\":\"white\",\"ticks\":\"\"},\"baxis\":{\"gridcolor\":\"white\",\"linecolor\":\"white\",\"ticks\":\"\"},\"bgcolor\":\"#E5ECF6\",\"caxis\":{\"gridcolor\":\"white\",\"linecolor\":\"white\",\"ticks\":\"\"}},\"title\":{\"x\":0.05},\"xaxis\":{\"automargin\":true,\"gridcolor\":\"white\",\"linecolor\":\"white\",\"ticks\":\"\",\"title\":{\"standoff\":15},\"zerolinecolor\":\"white\",\"zerolinewidth\":2},\"yaxis\":{\"automargin\":true,\"gridcolor\":\"white\",\"linecolor\":\"white\",\"ticks\":\"\",\"title\":{\"standoff\":15},\"zerolinecolor\":\"white\",\"zerolinewidth\":2}}},\"title\":{\"font\":{\"color\":\"#4D5663\"}},\"xaxis\":{\"anchor\":\"y\",\"domain\":[0.0,0.2125],\"gridcolor\":\"#E1E5ED\",\"showgrid\":false,\"tickfont\":{\"color\":\"#4D5663\"},\"title\":{\"font\":{\"color\":\"#4D5663\"},\"text\":\"\"},\"zerolinecolor\":\"#E1E5ED\"},\"yaxis\":{\"anchor\":\"x\",\"domain\":[0.8025,1.0],\"gridcolor\":\"#E1E5ED\",\"showgrid\":false,\"tickfont\":{\"color\":\"#4D5663\"},\"title\":{\"font\":{\"color\":\"#4D5663\"},\"text\":\"\"},\"zerolinecolor\":\"#E1E5ED\"},\"xaxis2\":{\"anchor\":\"y2\",\"domain\":[0.2625,0.475],\"gridcolor\":\"#E1E5ED\",\"showgrid\":false,\"tickfont\":{\"color\":\"#4D5663\"},\"title\":{\"font\":{\"color\":\"#4D5663\"},\"text\":\"\"},\"zerolinecolor\":\"#E1E5ED\"},\"yaxis2\":{\"anchor\":\"x2\",\"domain\":[0.8025,1.0],\"gridcolor\":\"#E1E5ED\",\"showgrid\":false,\"tickfont\":{\"color\":\"#4D5663\"},\"title\":{\"font\":{\"color\":\"#4D5663\"},\"text\":\"\"},\"zerolinecolor\":\"#E1E5ED\"},\"xaxis3\":{\"anchor\":\"y3\",\"domain\":[0.525,0.7375],\"gridcolor\":\"#E1E5ED\",\"showgrid\":false,\"tickfont\":{\"color\":\"#4D5663\"},\"title\":{\"font\":{\"color\":\"#4D5663\"},\"text\":\"\"},\"zerolinecolor\":\"#E1E5ED\"},\"yaxis3\":{\"anchor\":\"x3\",\"domain\":[0.8025,1.0],\"gridcolor\":\"#E1E5ED\",\"showgrid\":false,\"tickfont\":{\"color\":\"#4D5663\"},\"title\":{\"font\":{\"color\":\"#4D5663\"},\"text\":\"\"},\"zerolinecolor\":\"#E1E5ED\"},\"xaxis4\":{\"anchor\":\"y4\",\"domain\":[0.7875,1.0],\"gridcolor\":\"#E1E5ED\",\"showgrid\":false,\"tickfont\":{\"color\":\"#4D5663\"},\"title\":{\"font\":{\"color\":\"#4D5663\"},\"text\":\"\"},\"zerolinecolor\":\"#E1E5ED\"},\"yaxis4\":{\"anchor\":\"x4\",\"domain\":[0.8025,1.0],\"gridcolor\":\"#E1E5ED\",\"showgrid\":false,\"tickfont\":{\"color\":\"#4D5663\"},\"title\":{\"font\":{\"color\":\"#4D5663\"},\"text\":\"\"},\"zerolinecolor\":\"#E1E5ED\"},\"xaxis5\":{\"anchor\":\"y5\",\"domain\":[0.0,0.2125],\"gridcolor\":\"#E1E5ED\",\"showgrid\":false,\"tickfont\":{\"color\":\"#4D5663\"},\"title\":{\"font\":{\"color\":\"#4D5663\"},\"text\":\"\"},\"zerolinecolor\":\"#E1E5ED\"},\"yaxis5\":{\"anchor\":\"x5\",\"domain\":[0.535,0.7325],\"gridcolor\":\"#E1E5ED\",\"showgrid\":false,\"tickfont\":{\"color\":\"#4D5663\"},\"title\":{\"font\":{\"color\":\"#4D5663\"},\"text\":\"\"},\"zerolinecolor\":\"#E1E5ED\"},\"xaxis6\":{\"anchor\":\"y6\",\"domain\":[0.2625,0.475],\"gridcolor\":\"#E1E5ED\",\"showgrid\":false,\"tickfont\":{\"color\":\"#4D5663\"},\"title\":{\"font\":{\"color\":\"#4D5663\"},\"text\":\"\"},\"zerolinecolor\":\"#E1E5ED\"},\"yaxis6\":{\"anchor\":\"x6\",\"domain\":[0.535,0.7325],\"gridcolor\":\"#E1E5ED\",\"showgrid\":false,\"tickfont\":{\"color\":\"#4D5663\"},\"title\":{\"font\":{\"color\":\"#4D5663\"},\"text\":\"\"},\"zerolinecolor\":\"#E1E5ED\"},\"xaxis7\":{\"anchor\":\"y7\",\"domain\":[0.525,0.7375],\"gridcolor\":\"#E1E5ED\",\"showgrid\":false,\"tickfont\":{\"color\":\"#4D5663\"},\"title\":{\"font\":{\"color\":\"#4D5663\"},\"text\":\"\"},\"zerolinecolor\":\"#E1E5ED\"},\"yaxis7\":{\"anchor\":\"x7\",\"domain\":[0.535,0.7325],\"gridcolor\":\"#E1E5ED\",\"showgrid\":false,\"tickfont\":{\"color\":\"#4D5663\"},\"title\":{\"font\":{\"color\":\"#4D5663\"},\"text\":\"\"},\"zerolinecolor\":\"#E1E5ED\"},\"xaxis8\":{\"anchor\":\"y8\",\"domain\":[0.7875,1.0],\"gridcolor\":\"#E1E5ED\",\"showgrid\":false,\"tickfont\":{\"color\":\"#4D5663\"},\"title\":{\"font\":{\"color\":\"#4D5663\"},\"text\":\"\"},\"zerolinecolor\":\"#E1E5ED\"},\"yaxis8\":{\"anchor\":\"x8\",\"domain\":[0.535,0.7325],\"gridcolor\":\"#E1E5ED\",\"showgrid\":false,\"tickfont\":{\"color\":\"#4D5663\"},\"title\":{\"font\":{\"color\":\"#4D5663\"},\"text\":\"\"},\"zerolinecolor\":\"#E1E5ED\"},\"xaxis9\":{\"anchor\":\"y9\",\"domain\":[0.0,0.2125],\"gridcolor\":\"#E1E5ED\",\"showgrid\":false,\"tickfont\":{\"color\":\"#4D5663\"},\"title\":{\"font\":{\"color\":\"#4D5663\"},\"text\":\"\"},\"zerolinecolor\":\"#E1E5ED\"},\"yaxis9\":{\"anchor\":\"x9\",\"domain\":[0.2675,0.465],\"gridcolor\":\"#E1E5ED\",\"showgrid\":false,\"tickfont\":{\"color\":\"#4D5663\"},\"title\":{\"font\":{\"color\":\"#4D5663\"},\"text\":\"\"},\"zerolinecolor\":\"#E1E5ED\"},\"xaxis10\":{\"anchor\":\"y10\",\"domain\":[0.2625,0.475],\"gridcolor\":\"#E1E5ED\",\"showgrid\":false,\"tickfont\":{\"color\":\"#4D5663\"},\"title\":{\"font\":{\"color\":\"#4D5663\"},\"text\":\"\"},\"zerolinecolor\":\"#E1E5ED\"},\"yaxis10\":{\"anchor\":\"x10\",\"domain\":[0.2675,0.465],\"gridcolor\":\"#E1E5ED\",\"showgrid\":false,\"tickfont\":{\"color\":\"#4D5663\"},\"title\":{\"font\":{\"color\":\"#4D5663\"},\"text\":\"\"},\"zerolinecolor\":\"#E1E5ED\"},\"xaxis11\":{\"anchor\":\"y11\",\"domain\":[0.525,0.7375],\"gridcolor\":\"#E1E5ED\",\"showgrid\":false,\"tickfont\":{\"color\":\"#4D5663\"},\"title\":{\"font\":{\"color\":\"#4D5663\"},\"text\":\"\"},\"zerolinecolor\":\"#E1E5ED\"},\"yaxis11\":{\"anchor\":\"x11\",\"domain\":[0.2675,0.465],\"gridcolor\":\"#E1E5ED\",\"showgrid\":false,\"tickfont\":{\"color\":\"#4D5663\"},\"title\":{\"font\":{\"color\":\"#4D5663\"},\"text\":\"\"},\"zerolinecolor\":\"#E1E5ED\"},\"xaxis12\":{\"anchor\":\"y12\",\"domain\":[0.7875,1.0],\"gridcolor\":\"#E1E5ED\",\"showgrid\":false,\"tickfont\":{\"color\":\"#4D5663\"},\"title\":{\"font\":{\"color\":\"#4D5663\"},\"text\":\"\"},\"zerolinecolor\":\"#E1E5ED\"},\"yaxis12\":{\"anchor\":\"x12\",\"domain\":[0.2675,0.465],\"gridcolor\":\"#E1E5ED\",\"showgrid\":false,\"tickfont\":{\"color\":\"#4D5663\"},\"title\":{\"font\":{\"color\":\"#4D5663\"},\"text\":\"\"},\"zerolinecolor\":\"#E1E5ED\"},\"xaxis13\":{\"anchor\":\"y13\",\"domain\":[0.0,0.2125],\"gridcolor\":\"#E1E5ED\",\"showgrid\":false,\"tickfont\":{\"color\":\"#4D5663\"},\"title\":{\"font\":{\"color\":\"#4D5663\"},\"text\":\"\"},\"zerolinecolor\":\"#E1E5ED\"},\"yaxis13\":{\"anchor\":\"x13\",\"domain\":[0.0,0.1975],\"gridcolor\":\"#E1E5ED\",\"showgrid\":false,\"tickfont\":{\"color\":\"#4D5663\"},\"title\":{\"font\":{\"color\":\"#4D5663\"},\"text\":\"\"},\"zerolinecolor\":\"#E1E5ED\"},\"xaxis14\":{\"anchor\":\"y14\",\"domain\":[0.2625,0.475],\"gridcolor\":\"#E1E5ED\",\"showgrid\":false,\"tickfont\":{\"color\":\"#4D5663\"},\"title\":{\"font\":{\"color\":\"#4D5663\"},\"text\":\"\"},\"zerolinecolor\":\"#E1E5ED\"},\"yaxis14\":{\"anchor\":\"x14\",\"domain\":[0.0,0.1975],\"gridcolor\":\"#E1E5ED\",\"showgrid\":false,\"tickfont\":{\"color\":\"#4D5663\"},\"title\":{\"font\":{\"color\":\"#4D5663\"},\"text\":\"\"},\"zerolinecolor\":\"#E1E5ED\"},\"xaxis15\":{\"anchor\":\"y15\",\"domain\":[0.525,0.7375],\"gridcolor\":\"#E1E5ED\",\"showgrid\":false,\"tickfont\":{\"color\":\"#4D5663\"},\"title\":{\"font\":{\"color\":\"#4D5663\"},\"text\":\"\"},\"zerolinecolor\":\"#E1E5ED\"},\"yaxis15\":{\"anchor\":\"x15\",\"domain\":[0.0,0.1975],\"gridcolor\":\"#E1E5ED\",\"showgrid\":false,\"tickfont\":{\"color\":\"#4D5663\"},\"title\":{\"font\":{\"color\":\"#4D5663\"},\"text\":\"\"},\"zerolinecolor\":\"#E1E5ED\"},\"xaxis16\":{\"anchor\":\"y16\",\"domain\":[0.7875,1.0],\"gridcolor\":\"#E1E5ED\",\"showgrid\":false,\"tickfont\":{\"color\":\"#4D5663\"},\"title\":{\"font\":{\"color\":\"#4D5663\"},\"text\":\"\"},\"zerolinecolor\":\"#E1E5ED\"},\"yaxis16\":{\"anchor\":\"x16\",\"domain\":[0.0,0.1975],\"gridcolor\":\"#E1E5ED\",\"showgrid\":false,\"tickfont\":{\"color\":\"#4D5663\"},\"title\":{\"font\":{\"color\":\"#4D5663\"},\"text\":\"\"},\"zerolinecolor\":\"#E1E5ED\"}},                        {\"showLink\": true, \"linkText\": \"Export to plot.ly\", \"plotlyServerURL\": \"https://plot.ly\", \"responsive\": true}                    ).then(function(){\n",
       "                            \n",
       "var gd = document.getElementById('d906f827-58f0-4227-a1f6-b5afcef957eb');\n",
       "var x = new MutationObserver(function (mutations, observer) {{\n",
       "        var display = window.getComputedStyle(gd).display;\n",
       "        if (!display || display === 'none') {{\n",
       "            console.log([gd, 'removed!']);\n",
       "            Plotly.purge(gd);\n",
       "            observer.disconnect();\n",
       "        }}\n",
       "}});\n",
       "\n",
       "// Listen for the removal of the full notebook cells\n",
       "var notebookContainer = gd.closest('#notebook-container');\n",
       "if (notebookContainer) {{\n",
       "    x.observe(notebookContainer, {childList: true});\n",
       "}}\n",
       "\n",
       "// Listen for the clearing of the current output cell\n",
       "var outputEl = gd.closest('.output');\n",
       "if (outputEl) {{\n",
       "    x.observe(outputEl, {childList: true});\n",
       "}}\n",
       "\n",
       "                        })                };                });            </script>        </div>"
      ]
     },
     "metadata": {},
     "output_type": "display_data"
    }
   ],
   "source": [
    "df.scatter_matrix()"
   ]
  },
  {
   "cell_type": "code",
   "execution_count": null,
   "id": "71c3d628",
   "metadata": {},
   "outputs": [],
   "source": []
  }
 ],
 "metadata": {
  "kernelspec": {
   "display_name": "Python 3 (ipykernel)",
   "language": "python",
   "name": "python3"
  },
  "language_info": {
   "codemirror_mode": {
    "name": "ipython",
    "version": 3
   },
   "file_extension": ".py",
   "mimetype": "text/x-python",
   "name": "python",
   "nbconvert_exporter": "python",
   "pygments_lexer": "ipython3",
   "version": "3.9.13"
  }
 },
 "nbformat": 4,
 "nbformat_minor": 5
}
